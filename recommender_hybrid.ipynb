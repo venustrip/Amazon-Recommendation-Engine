{
 "cells": [
  {
   "cell_type": "markdown",
   "metadata": {},
   "source": [
    "<h1><center>Hybrid Method - Amazon Beauty Products</center></h1>"
   ]
  },
  {
   "cell_type": "markdown",
   "metadata": {},
   "source": [
    "A hybrid recommender system is one that combines multiple recommendation techniques together to produce its output. \n",
    "\n",
    "It could mean hybridizing multiple different techniques of the same type, for instance, two different content-based recommenders could be combined. There are lots of examples of real-world systems that try to combine the strengths of the two  approaches, usually to deal with the cold-start problems.\n",
    "\n",
    "This can be done in a number of ways:\n",
    "\n",
    "Combine the predictions of a content-based system and a collaborative system.\n",
    "\n",
    "1. Incorporate content-based techniques into a collaborative approach.\n",
    "2. Incorporarte collaborative techniques into a content-based approach.\n",
    "\n",
    "The unifying model can be highly effective and successful."
   ]
  },
  {
   "cell_type": "code",
   "execution_count": 1,
   "metadata": {},
   "outputs": [],
   "source": [
    "import pandas as pd\n",
    "import numpy as np\n",
    "import surprise as sp\n",
    "\n",
    "pd.set_option('display.max_columns', None)  \n",
    "pd.set_option('display.expand_frame_repr', False)\n",
    "pd.set_option('max_colwidth', -1)\n",
    "\n",
    "%matplotlib inline\n",
    "import matplotlib.pyplot as plt\n",
    "import warnings \n",
    "warnings.filterwarnings('ignore')\n",
    "\n",
    "import gc"
   ]
  },
  {
   "cell_type": "code",
   "execution_count": 2,
   "metadata": {},
   "outputs": [],
   "source": [
    "from sklearn.preprocessing import LabelEncoder, MinMaxScaler\n",
    "from sklearn.neighbors import KNeighborsClassifier\n",
    "from sklearn.decomposition import NMF"
   ]
  },
  {
   "cell_type": "markdown",
   "metadata": {},
   "source": [
    "Read the cleaned file into dataframes."
   ]
  },
  {
   "cell_type": "code",
   "execution_count": 3,
   "metadata": {},
   "outputs": [],
   "source": [
    "meta = pd.read_csv('cleaned_metadata.csv',index_col=0)\n",
    "reviews = pd.read_csv('cleaned_reviews.csv',index_col=0)"
   ]
  },
  {
   "cell_type": "code",
   "execution_count": 4,
   "metadata": {},
   "outputs": [
    {
     "data": {
      "text/html": [
       "<div>\n",
       "<style scoped>\n",
       "    .dataframe tbody tr th:only-of-type {\n",
       "        vertical-align: middle;\n",
       "    }\n",
       "\n",
       "    .dataframe tbody tr th {\n",
       "        vertical-align: top;\n",
       "    }\n",
       "\n",
       "    .dataframe thead th {\n",
       "        text-align: right;\n",
       "    }\n",
       "</style>\n",
       "<table border=\"1\" class=\"dataframe\">\n",
       "  <thead>\n",
       "    <tr style=\"text-align: right;\">\n",
       "      <th></th>\n",
       "      <th>reviewerID</th>\n",
       "      <th>asin</th>\n",
       "      <th>overall</th>\n",
       "      <th>reviewTime</th>\n",
       "      <th>review</th>\n",
       "      <th>upvotes</th>\n",
       "      <th>downvotes</th>\n",
       "      <th>word_count</th>\n",
       "      <th>polarity</th>\n",
       "    </tr>\n",
       "  </thead>\n",
       "  <tbody>\n",
       "    <tr>\n",
       "      <th>1360701</th>\n",
       "      <td>A1LF7KGH427GYC</td>\n",
       "      <td>B00552467Q</td>\n",
       "      <td>5</td>\n",
       "      <td>2014-07-08</td>\n",
       "      <td>NaN</td>\n",
       "      <td>0</td>\n",
       "      <td>0</td>\n",
       "      <td>2</td>\n",
       "      <td>0.0</td>\n",
       "    </tr>\n",
       "    <tr>\n",
       "      <th>1467181</th>\n",
       "      <td>AUII249W6FBZY</td>\n",
       "      <td>B00604MV0C</td>\n",
       "      <td>3</td>\n",
       "      <td>2013-01-11</td>\n",
       "      <td>NaN</td>\n",
       "      <td>0</td>\n",
       "      <td>0</td>\n",
       "      <td>2</td>\n",
       "      <td>0.0</td>\n",
       "    </tr>\n",
       "    <tr>\n",
       "      <th>1784718</th>\n",
       "      <td>A3BX2SSKN9SFRV</td>\n",
       "      <td>B00ADXZ9LY</td>\n",
       "      <td>1</td>\n",
       "      <td>2014-07-03</td>\n",
       "      <td>NaN</td>\n",
       "      <td>0</td>\n",
       "      <td>0</td>\n",
       "      <td>4</td>\n",
       "      <td>0.0</td>\n",
       "    </tr>\n",
       "  </tbody>\n",
       "</table>\n",
       "</div>"
      ],
      "text/plain": [
       "             reviewerID        asin  overall  reviewTime review  upvotes  downvotes  word_count  polarity\n",
       "1360701  A1LF7KGH427GYC  B00552467Q  5        2014-07-08  NaN    0        0          2           0.0     \n",
       "1467181  AUII249W6FBZY   B00604MV0C  3        2013-01-11  NaN    0        0          2           0.0     \n",
       "1784718  A3BX2SSKN9SFRV  B00ADXZ9LY  1        2014-07-03  NaN    0        0          4           0.0     "
      ]
     },
     "execution_count": 4,
     "metadata": {},
     "output_type": "execute_result"
    }
   ],
   "source": [
    "reviews[reviews['review'].isnull()]"
   ]
  },
  {
   "cell_type": "code",
   "execution_count": 5,
   "metadata": {},
   "outputs": [],
   "source": [
    "d = {5: \"Excellent\", 4:\"Very Good\", 3: \"Good\", 2:\"Not Good\", 1: \"Bad\"}\n",
    "s = reviews.overall.map(d)\n",
    "reviews['review'] = reviews['review'].combine_first(s)"
   ]
  },
  {
   "cell_type": "code",
   "execution_count": 6,
   "metadata": {},
   "outputs": [],
   "source": [
    "d=None\n",
    "s=None"
   ]
  },
  {
   "cell_type": "code",
   "execution_count": 7,
   "metadata": {},
   "outputs": [],
   "source": [
    "reviews['review'] = reviews['review'].str.strip()"
   ]
  },
  {
   "cell_type": "code",
   "execution_count": 8,
   "metadata": {},
   "outputs": [],
   "source": [
    "meta['description'] = meta['description'].fillna(meta['main_cat'])\n",
    "meta['brand_title'] = meta['brand_title'].fillna(meta['main_cat'])\n",
    "meta['price'] = meta['price'].fillna(0)"
   ]
  },
  {
   "cell_type": "code",
   "execution_count": 9,
   "metadata": {},
   "outputs": [
    {
     "data": {
      "text/html": [
       "<div>\n",
       "<style scoped>\n",
       "    .dataframe tbody tr th:only-of-type {\n",
       "        vertical-align: middle;\n",
       "    }\n",
       "\n",
       "    .dataframe tbody tr th {\n",
       "        vertical-align: top;\n",
       "    }\n",
       "\n",
       "    .dataframe thead th {\n",
       "        text-align: right;\n",
       "    }\n",
       "</style>\n",
       "<table border=\"1\" class=\"dataframe\">\n",
       "  <thead>\n",
       "    <tr style=\"text-align: right;\">\n",
       "      <th></th>\n",
       "      <th>reviewerID</th>\n",
       "      <th>asin</th>\n",
       "      <th>overall</th>\n",
       "      <th>reviewTime</th>\n",
       "      <th>review</th>\n",
       "      <th>upvotes</th>\n",
       "      <th>downvotes</th>\n",
       "      <th>word_count</th>\n",
       "      <th>polarity</th>\n",
       "    </tr>\n",
       "  </thead>\n",
       "  <tbody>\n",
       "    <tr>\n",
       "      <th>0</th>\n",
       "      <td>A39HTATAQ9V7YF</td>\n",
       "      <td>0205616461</td>\n",
       "      <td>5</td>\n",
       "      <td>2013-05-28</td>\n",
       "      <td>bioactive antiaging serum love moisturizer would recommend someone dry skin fine lines wrinkles using brand day night serum</td>\n",
       "      <td>0</td>\n",
       "      <td>0</td>\n",
       "      <td>34</td>\n",
       "      <td>0.283333</td>\n",
       "    </tr>\n",
       "    <tr>\n",
       "      <th>1</th>\n",
       "      <td>A3JM6GV9MNOF9X</td>\n",
       "      <td>0558925278</td>\n",
       "      <td>3</td>\n",
       "      <td>2012-12-14</td>\n",
       "      <td>product ok im use baby kabuki moment received product deadlinei tested baby kabuki quality material best packaging cute love itthe fibers smell soft</td>\n",
       "      <td>0</td>\n",
       "      <td>1</td>\n",
       "      <td>44</td>\n",
       "      <td>0.520000</td>\n",
       "    </tr>\n",
       "  </tbody>\n",
       "</table>\n",
       "</div>"
      ],
      "text/plain": [
       "       reviewerID        asin  overall  reviewTime                                                                                                                                                review  upvotes  downvotes  word_count  polarity\n",
       "0  A39HTATAQ9V7YF  0205616461  5        2013-05-28  bioactive antiaging serum love moisturizer would recommend someone dry skin fine lines wrinkles using brand day night serum                           0        0          34          0.283333\n",
       "1  A3JM6GV9MNOF9X  0558925278  3        2012-12-14  product ok im use baby kabuki moment received product deadlinei tested baby kabuki quality material best packaging cute love itthe fibers smell soft  0        1          44          0.520000"
      ]
     },
     "execution_count": 9,
     "metadata": {},
     "output_type": "execute_result"
    }
   ],
   "source": [
    "reviews.head(2)"
   ]
  },
  {
   "cell_type": "markdown",
   "metadata": {},
   "source": [
    "### There are 7 different types of hybrid methods:\n",
    "\n",
    "• Weighted: The score of different recommendation components are combined numerically. \n",
    "\n",
    "• Switching: The system chooses among recommendation components and applies the selected one. \n",
    "\n",
    "• Feature Combination: Features derived from different knowledge sources are combined together and given to a single recommendation algorithm. \n",
    "\n",
    "• Mixed: Recommendations from different recommenders are presented together. \n",
    "\n",
    "• Feature Augmentation: One recommendation technique is used to compute a feature or set of features, which is then part of the input to the next technique. \n",
    "\n",
    "• Cascade: Recommenders are given strict priority, with the lower priority ones breaking ties in the scoring of the higher ones. \n",
    "\n",
    "• Meta-level: One recommendation technique is applied and produces some sort of model, which is then the input used by the next technique.   \n",
    "\n",
    "We will explore the first 3 types with our datasets."
   ]
  },
  {
   "cell_type": "code",
   "execution_count": 10,
   "metadata": {},
   "outputs": [],
   "source": [
    "data = meta.merge(reviews, on='asin')"
   ]
  },
  {
   "cell_type": "code",
   "execution_count": 11,
   "metadata": {},
   "outputs": [
    {
     "data": {
      "text/html": [
       "<div>\n",
       "<style scoped>\n",
       "    .dataframe tbody tr th:only-of-type {\n",
       "        vertical-align: middle;\n",
       "    }\n",
       "\n",
       "    .dataframe tbody tr th {\n",
       "        vertical-align: top;\n",
       "    }\n",
       "\n",
       "    .dataframe thead th {\n",
       "        text-align: right;\n",
       "    }\n",
       "</style>\n",
       "<table border=\"1\" class=\"dataframe\">\n",
       "  <thead>\n",
       "    <tr style=\"text-align: right;\">\n",
       "      <th></th>\n",
       "      <th>asin</th>\n",
       "      <th>description</th>\n",
       "      <th>price</th>\n",
       "      <th>brand_title</th>\n",
       "      <th>health_personal_care</th>\n",
       "      <th>beauty</th>\n",
       "      <th>main_cat</th>\n",
       "      <th>sub_cat</th>\n",
       "      <th>related_count</th>\n",
       "      <th>reviewerID</th>\n",
       "      <th>overall</th>\n",
       "      <th>reviewTime</th>\n",
       "      <th>review</th>\n",
       "      <th>upvotes</th>\n",
       "      <th>downvotes</th>\n",
       "      <th>word_count</th>\n",
       "      <th>polarity</th>\n",
       "    </tr>\n",
       "  </thead>\n",
       "  <tbody>\n",
       "    <tr>\n",
       "      <th>908114</th>\n",
       "      <td>B002QGJX6I</td>\n",
       "      <td>medium hold antifrizz antihumidity volumizer plumps thickens creating instant body nanoionic complex emits natural negative ions leaving hair soft  shiny keeping hair color vibrant suitable normal fine hair</td>\n",
       "      <td>8.79</td>\n",
       "      <td>Bio Ionic Bio Ionic Thermal Active Bodifying Blow</td>\n",
       "      <td>-1.0</td>\n",
       "      <td>84572.0</td>\n",
       "      <td>Hair Care</td>\n",
       "      <td>Styling Products</td>\n",
       "      <td>72.0</td>\n",
       "      <td>A2HSO93J235USY</td>\n",
       "      <td>3</td>\n",
       "      <td>2014-03-11</td>\n",
       "      <td>im using curling spray noticed real brought curl hair using days dont blow dry leave curly didnt give noticeable volume blow dry</td>\n",
       "      <td>0</td>\n",
       "      <td>0</td>\n",
       "      <td>43</td>\n",
       "      <td>0.022222</td>\n",
       "    </tr>\n",
       "    <tr>\n",
       "      <th>908115</th>\n",
       "      <td>B002QGJX6I</td>\n",
       "      <td>medium hold antifrizz antihumidity volumizer plumps thickens creating instant body nanoionic complex emits natural negative ions leaving hair soft  shiny keeping hair color vibrant suitable normal fine hair</td>\n",
       "      <td>8.79</td>\n",
       "      <td>Bio Ionic Bio Ionic Thermal Active Bodifying Blow</td>\n",
       "      <td>-1.0</td>\n",
       "      <td>84572.0</td>\n",
       "      <td>Hair Care</td>\n",
       "      <td>Styling Products</td>\n",
       "      <td>72.0</td>\n",
       "      <td>A21QM9WMBTSHWW</td>\n",
       "      <td>1</td>\n",
       "      <td>2014-06-15</td>\n",
       "      <td>sticky messy like product ended throwing away recommend purchasing product</td>\n",
       "      <td>0</td>\n",
       "      <td>1</td>\n",
       "      <td>25</td>\n",
       "      <td>-0.200000</td>\n",
       "    </tr>\n",
       "    <tr>\n",
       "      <th>908116</th>\n",
       "      <td>B002QGJX6I</td>\n",
       "      <td>medium hold antifrizz antihumidity volumizer plumps thickens creating instant body nanoionic complex emits natural negative ions leaving hair soft  shiny keeping hair color vibrant suitable normal fine hair</td>\n",
       "      <td>8.79</td>\n",
       "      <td>Bio Ionic Bio Ionic Thermal Active Bodifying Blow</td>\n",
       "      <td>-1.0</td>\n",
       "      <td>84572.0</td>\n",
       "      <td>Hair Care</td>\n",
       "      <td>Styling Products</td>\n",
       "      <td>72.0</td>\n",
       "      <td>A1MTSRKTBRTGJP</td>\n",
       "      <td>5</td>\n",
       "      <td>2013-07-01</td>\n",
       "      <td>volume love fact gives thin hair body purchased multiple times amazon amazing prompt shipping definitely notice difference body shine improved use first introduced hairdresser</td>\n",
       "      <td>0</td>\n",
       "      <td>0</td>\n",
       "      <td>45</td>\n",
       "      <td>0.158333</td>\n",
       "    </tr>\n",
       "    <tr>\n",
       "      <th>908117</th>\n",
       "      <td>B002QGJX6I</td>\n",
       "      <td>medium hold antifrizz antihumidity volumizer plumps thickens creating instant body nanoionic complex emits natural negative ions leaving hair soft  shiny keeping hair color vibrant suitable normal fine hair</td>\n",
       "      <td>8.79</td>\n",
       "      <td>Bio Ionic Bio Ionic Thermal Active Bodifying Blow</td>\n",
       "      <td>-1.0</td>\n",
       "      <td>84572.0</td>\n",
       "      <td>Hair Care</td>\n",
       "      <td>Styling Products</td>\n",
       "      <td>72.0</td>\n",
       "      <td>A3V3WCIJ4JS4QS</td>\n",
       "      <td>5</td>\n",
       "      <td>2010-01-30</td>\n",
       "      <td>great body purchased product bio ionic hairdryer work great together fact get much body lift hair need learn tame little</td>\n",
       "      <td>1</td>\n",
       "      <td>1</td>\n",
       "      <td>40</td>\n",
       "      <td>0.279167</td>\n",
       "    </tr>\n",
       "    <tr>\n",
       "      <th>908118</th>\n",
       "      <td>B002QGJX6I</td>\n",
       "      <td>medium hold antifrizz antihumidity volumizer plumps thickens creating instant body nanoionic complex emits natural negative ions leaving hair soft  shiny keeping hair color vibrant suitable normal fine hair</td>\n",
       "      <td>8.79</td>\n",
       "      <td>Bio Ionic Bio Ionic Thermal Active Bodifying Blow</td>\n",
       "      <td>-1.0</td>\n",
       "      <td>84572.0</td>\n",
       "      <td>Hair Care</td>\n",
       "      <td>Styling Products</td>\n",
       "      <td>72.0</td>\n",
       "      <td>A3G7JVWVQ6UET2</td>\n",
       "      <td>5</td>\n",
       "      <td>2012-12-25</td>\n",
       "      <td>great adding volume must use blow dryer hair salon recommended shampoo days dont use volume shampoo spray works well though must used round brush blow dryer work best volume</td>\n",
       "      <td>2</td>\n",
       "      <td>2</td>\n",
       "      <td>46</td>\n",
       "      <td>0.533333</td>\n",
       "    </tr>\n",
       "  </tbody>\n",
       "</table>\n",
       "</div>"
      ],
      "text/plain": [
       "              asin                                                                                                                                                                                                     description  price                                         brand_title  health_personal_care   beauty   main_cat           sub_cat  related_count      reviewerID  overall  reviewTime                                                                                                                                                                           review  upvotes  downvotes  word_count  polarity\n",
       "908114  B002QGJX6I  medium hold antifrizz antihumidity volumizer plumps thickens creating instant body nanoionic complex emits natural negative ions leaving hair soft  shiny keeping hair color vibrant suitable normal fine hair  8.79   Bio Ionic Bio Ionic Thermal Active Bodifying Blow  -1.0                   84572.0  Hair Care  Styling Products  72.0           A2HSO93J235USY  3        2014-03-11  im using curling spray noticed real brought curl hair using days dont blow dry leave curly didnt give noticeable volume blow dry                                                 0        0          43          0.022222\n",
       "908115  B002QGJX6I  medium hold antifrizz antihumidity volumizer plumps thickens creating instant body nanoionic complex emits natural negative ions leaving hair soft  shiny keeping hair color vibrant suitable normal fine hair  8.79   Bio Ionic Bio Ionic Thermal Active Bodifying Blow  -1.0                   84572.0  Hair Care  Styling Products  72.0           A21QM9WMBTSHWW  1        2014-06-15  sticky messy like product ended throwing away recommend purchasing product                                                                                                       0        1          25         -0.200000\n",
       "908116  B002QGJX6I  medium hold antifrizz antihumidity volumizer plumps thickens creating instant body nanoionic complex emits natural negative ions leaving hair soft  shiny keeping hair color vibrant suitable normal fine hair  8.79   Bio Ionic Bio Ionic Thermal Active Bodifying Blow  -1.0                   84572.0  Hair Care  Styling Products  72.0           A1MTSRKTBRTGJP  5        2013-07-01  volume love fact gives thin hair body purchased multiple times amazon amazing prompt shipping definitely notice difference body shine improved use first introduced hairdresser  0        0          45          0.158333\n",
       "908117  B002QGJX6I  medium hold antifrizz antihumidity volumizer plumps thickens creating instant body nanoionic complex emits natural negative ions leaving hair soft  shiny keeping hair color vibrant suitable normal fine hair  8.79   Bio Ionic Bio Ionic Thermal Active Bodifying Blow  -1.0                   84572.0  Hair Care  Styling Products  72.0           A3V3WCIJ4JS4QS  5        2010-01-30  great body purchased product bio ionic hairdryer work great together fact get much body lift hair need learn tame little                                                         1        1          40          0.279167\n",
       "908118  B002QGJX6I  medium hold antifrizz antihumidity volumizer plumps thickens creating instant body nanoionic complex emits natural negative ions leaving hair soft  shiny keeping hair color vibrant suitable normal fine hair  8.79   Bio Ionic Bio Ionic Thermal Active Bodifying Blow  -1.0                   84572.0  Hair Care  Styling Products  72.0           A3G7JVWVQ6UET2  5        2012-12-25  great adding volume must use blow dryer hair salon recommended shampoo days dont use volume shampoo spray works well though must used round brush blow dryer work best volume    2        2          46          0.533333"
      ]
     },
     "execution_count": 11,
     "metadata": {},
     "output_type": "execute_result"
    }
   ],
   "source": [
    "data[data['asin']=='B002QGJX6I'][:5]"
   ]
  },
  {
   "cell_type": "code",
   "execution_count": 12,
   "metadata": {},
   "outputs": [
    {
     "name": "stdout",
     "output_type": "stream",
     "text": [
      "(2023070, 17)\n"
     ]
    }
   ],
   "source": [
    "#data.loc[data['asin'] == 'B0055MYJ0U', 'reviewerID'].unique()\n",
    "print (data.shape)"
   ]
  },
  {
   "cell_type": "code",
   "execution_count": 13,
   "metadata": {},
   "outputs": [],
   "source": [
    "usersperasin = data['asin'].value_counts()\n",
    "asinsperuser = data['reviewerID'].value_counts()"
   ]
  },
  {
   "cell_type": "code",
   "execution_count": 14,
   "metadata": {},
   "outputs": [],
   "source": [
    "data_s = data[data['asin'].isin(usersperasin[usersperasin>5].index) & data['reviewerID'].isin(asinsperuser[asinsperuser>5].index)]\n",
    "\n",
    "#data_s = reviews[reviews['asin'].isin(usersperasin[usersperasin>10].index)]"
   ]
  },
  {
   "cell_type": "code",
   "execution_count": 15,
   "metadata": {},
   "outputs": [],
   "source": [
    "data_s.reset_index(inplace=True)"
   ]
  },
  {
   "cell_type": "code",
   "execution_count": 16,
   "metadata": {},
   "outputs": [
    {
     "data": {
      "text/html": [
       "<div>\n",
       "<style scoped>\n",
       "    .dataframe tbody tr th:only-of-type {\n",
       "        vertical-align: middle;\n",
       "    }\n",
       "\n",
       "    .dataframe tbody tr th {\n",
       "        vertical-align: top;\n",
       "    }\n",
       "\n",
       "    .dataframe thead th {\n",
       "        text-align: right;\n",
       "    }\n",
       "</style>\n",
       "<table border=\"1\" class=\"dataframe\">\n",
       "  <thead>\n",
       "    <tr style=\"text-align: right;\">\n",
       "      <th></th>\n",
       "      <th>index</th>\n",
       "      <th>asin</th>\n",
       "      <th>description</th>\n",
       "      <th>price</th>\n",
       "      <th>brand_title</th>\n",
       "      <th>health_personal_care</th>\n",
       "      <th>beauty</th>\n",
       "      <th>main_cat</th>\n",
       "      <th>sub_cat</th>\n",
       "      <th>related_count</th>\n",
       "      <th>reviewerID</th>\n",
       "      <th>overall</th>\n",
       "      <th>reviewTime</th>\n",
       "      <th>review</th>\n",
       "      <th>upvotes</th>\n",
       "      <th>downvotes</th>\n",
       "      <th>word_count</th>\n",
       "      <th>polarity</th>\n",
       "    </tr>\n",
       "  </thead>\n",
       "  <tbody>\n",
       "    <tr>\n",
       "      <th>0</th>\n",
       "      <td>34</td>\n",
       "      <td>1304351475</td>\n",
       "      <td>too faced natural eyes shadow palette colors include heaven silk teddy nude beach velvet revolver pushup honey pot sexspresso erotica cocoa puff collectible tin version new box full size</td>\n",
       "      <td>33.99</td>\n",
       "      <td>Omagazee NEW EUROPEAN COLLECTION Too Faced Natural</td>\n",
       "      <td>-1.0</td>\n",
       "      <td>15567.0</td>\n",
       "      <td>Makeup</td>\n",
       "      <td>Eyes</td>\n",
       "      <td>309.0</td>\n",
       "      <td>A274NIJWOQWE30</td>\n",
       "      <td>5</td>\n",
       "      <td>2013-11-24</td>\n",
       "      <td>thank best price ever love pallet buying natural eye faced year love colors one use best price ever seen listed pallet kind comes mirror awesome buy</td>\n",
       "      <td>2</td>\n",
       "      <td>3</td>\n",
       "      <td>67</td>\n",
       "      <td>0.671429</td>\n",
       "    </tr>\n",
       "  </tbody>\n",
       "</table>\n",
       "</div>"
      ],
      "text/plain": [
       "   index        asin                                                                                                                                                                                 description  price                                         brand_title  health_personal_care   beauty main_cat sub_cat  related_count      reviewerID  overall  reviewTime                                                                                                                                                review  upvotes  downvotes  word_count  polarity\n",
       "0  34     1304351475  too faced natural eyes shadow palette colors include heaven silk teddy nude beach velvet revolver pushup honey pot sexspresso erotica cocoa puff collectible tin version new box full size  33.99  Omagazee NEW EUROPEAN COLLECTION Too Faced Natural -1.0                   15567.0  Makeup   Eyes    309.0          A274NIJWOQWE30  5        2013-11-24  thank best price ever love pallet buying natural eye faced year love colors one use best price ever seen listed pallet kind comes mirror awesome buy  2        3          67          0.671429"
      ]
     },
     "execution_count": 16,
     "metadata": {},
     "output_type": "execute_result"
    }
   ],
   "source": [
    "data_s.head(1)"
   ]
  },
  {
   "cell_type": "code",
   "execution_count": 17,
   "metadata": {},
   "outputs": [
    {
     "name": "stdout",
     "output_type": "stream",
     "text": [
      "(318158, 18)\n",
      "36065\n",
      "48267\n"
     ]
    }
   ],
   "source": [
    "print (data_s.shape)\n",
    "print (data_s.reviewerID.nunique())\n",
    "print (data_s.asin.nunique())"
   ]
  },
  {
   "cell_type": "code",
   "execution_count": 18,
   "metadata": {},
   "outputs": [
    {
     "data": {
      "text/plain": [
       "Index(['asin', 'reviewerID', 'overall'], dtype='object')"
      ]
     },
     "execution_count": 18,
     "metadata": {},
     "output_type": "execute_result"
    }
   ],
   "source": [
    "review_s = data_s[['asin', 'reviewerID', 'overall']].copy()\n",
    "review_s.columns"
   ]
  },
  {
   "cell_type": "code",
   "execution_count": 19,
   "metadata": {},
   "outputs": [
    {
     "name": "stdout",
     "output_type": "stream",
     "text": [
      "(318158, 3)\n",
      "36065\n"
     ]
    }
   ],
   "source": [
    "print (review_s.shape)\n",
    "print (review_s.reviewerID.nunique())"
   ]
  },
  {
   "cell_type": "code",
   "execution_count": 20,
   "metadata": {},
   "outputs": [],
   "source": [
    "# Collaborative Filtering\n",
    "\n",
    "def predict_cf(userid, itemid):\n",
    "    is_target = (data_s['reviewerID'] == userid) & (data_s['asin'] == itemid)\n",
    "    target = data_s[is_target].iloc[0]\n",
    "    \n",
    "    train_set = sp.Dataset.load_from_df(\n",
    "        data_s[~is_target][['reviewerID', 'asin', 'overall']], \n",
    "        sp.Reader(rating_scale=(1,5))\n",
    "    ).build_full_trainset()\n",
    "\n",
    "    algo = sp.KNNBasic(verbose=False)\n",
    "    algo.fit(train_set)\n",
    "    prediction = algo.predict(target['reviewerID'], target['asin'], verbose=False)\n",
    "    return prediction.est, prediction.est - target['overall'], target['overall']"
   ]
  },
  {
   "cell_type": "code",
   "execution_count": 21,
   "metadata": {},
   "outputs": [],
   "source": [
    "# Content-Based\n",
    "\n",
    "def predict_cn(df, userid, itemid):\n",
    "    user_ratings = review_s[review_s['reviewerID'] == userid].join(df.set_index('asin'), on='asin')\n",
    "    is_target = (user_ratings['asin'] == itemid)\n",
    "    \n",
    "    features = pd.get_dummies(user_ratings.drop(columns=['overall']))\n",
    "    train_features = features[~is_target]\n",
    "    target_features = features[is_target]\n",
    "    \n",
    "    encoder = LabelEncoder()\n",
    "    train_labels = encoder.fit_transform(user_ratings[~is_target]['overall'])\n",
    "    target_label = user_ratings[is_target]['overall'].iloc[0]\n",
    "\n",
    "    clf = KNeighborsClassifier(n_neighbors=1)\n",
    "    clf.fit(np.nan_to_num(train_features), train_labels)\n",
    "    prediction = encoder.inverse_transform(clf.predict(target_features))[0]\n",
    "    return prediction, prediction - target_label, target_label"
   ]
  },
  {
   "cell_type": "code",
   "execution_count": 22,
   "metadata": {},
   "outputs": [],
   "source": [
    "def test_classifier(user, item):\n",
    "    pred_cf, error_cf, truth = predict_cf(user, item)\n",
    "    pred_cn, error_cn, truth = predict_cn(meta, user, item)\n",
    "    print(\"Results for {} on wine with id {}:\".format(user, item))\n",
    "    print(\"Collaborative Filtering: \\t prediction: {:.5f} \\t error: {:.5f}\".format(pred_cf, error_cf))\n",
    "    print(\"Content-Based: \\t\\t\\t prediction: {:.5f} \\t error: {:.5f}\".format(pred_cn, error_cn))"
   ]
  },
  {
   "cell_type": "code",
   "execution_count": null,
   "metadata": {},
   "outputs": [],
   "source": [
    "is_target = (data_s['reviewerID'] == 'A274NIJWOQWE30') & (data_s['asin'] == '1304351475')"
   ]
  },
  {
   "cell_type": "code",
   "execution_count": null,
   "metadata": {},
   "outputs": [],
   "source": [
    "data_s[is_target]"
   ]
  },
  {
   "cell_type": "code",
   "execution_count": 23,
   "metadata": {},
   "outputs": [
    {
     "name": "stdout",
     "output_type": "stream",
     "text": [
      "Results for A274NIJWOQWE30 on wine with id 1304351475:\n",
      "Collaborative Filtering: \t prediction: 4.19354 \t error: -0.80646\n",
      "Content-Based: \t\t\t prediction: 5.00000 \t error: 0.00000\n"
     ]
    }
   ],
   "source": [
    "test_classifier(user='A274NIJWOQWE30', item='1304351475')"
   ]
  },
  {
   "cell_type": "code",
   "execution_count": 24,
   "metadata": {},
   "outputs": [
    {
     "data": {
      "text/plain": [
       "(58941, 18)"
      ]
     },
     "execution_count": 24,
     "metadata": {},
     "output_type": "execute_result"
    }
   ],
   "source": [
    "data_s = data[data['asin'].isin(usersperasin[usersperasin>20].index) & data['reviewerID'].isin(asinsperuser[asinsperuser>20].index)]\n",
    "data_s.reset_index(inplace=True)\n",
    "data_s.shape"
   ]
  },
  {
   "cell_type": "code",
   "execution_count": 25,
   "metadata": {},
   "outputs": [
    {
     "data": {
      "text/html": [
       "<div>\n",
       "<style scoped>\n",
       "    .dataframe tbody tr th:only-of-type {\n",
       "        vertical-align: middle;\n",
       "    }\n",
       "\n",
       "    .dataframe tbody tr th {\n",
       "        vertical-align: top;\n",
       "    }\n",
       "\n",
       "    .dataframe thead th {\n",
       "        text-align: right;\n",
       "    }\n",
       "</style>\n",
       "<table border=\"1\" class=\"dataframe\">\n",
       "  <thead>\n",
       "    <tr style=\"text-align: right;\">\n",
       "      <th></th>\n",
       "      <th>index</th>\n",
       "      <th>asin</th>\n",
       "      <th>description</th>\n",
       "      <th>price</th>\n",
       "      <th>brand_title</th>\n",
       "      <th>health_personal_care</th>\n",
       "      <th>beauty</th>\n",
       "      <th>main_cat</th>\n",
       "      <th>sub_cat</th>\n",
       "      <th>related_count</th>\n",
       "      <th>reviewerID</th>\n",
       "      <th>overall</th>\n",
       "      <th>reviewTime</th>\n",
       "      <th>review</th>\n",
       "      <th>upvotes</th>\n",
       "      <th>downvotes</th>\n",
       "      <th>word_count</th>\n",
       "      <th>polarity</th>\n",
       "    </tr>\n",
       "  </thead>\n",
       "  <tbody>\n",
       "    <tr>\n",
       "      <th>0</th>\n",
       "      <td>365</td>\n",
       "      <td>7806397051</td>\n",
       "      <td>an extensive range 15 multiple vibrant long wear concealer colour different skin tones create 10000 amazing looks using commonly applied shades ensures best skin colour match guarantees traceless natural finish enabling layering mixing provides total camouflage almost skin problem including blemishes scars birthmarks black circles it also suitable use bronzer the light colour suitable redness acne on the medium colour perfect dark shadows undereye area the dark colour provides exceptional camouflage adheres well skin silky glossy colour high quality ingredients together care skin around last day long it perfect professional salon wedding party home use size 154 x 102 x 13cm each diameter 26cm concealer 15 color concealer</td>\n",
       "      <td>5.04</td>\n",
       "      <td>COKA WAWO 15 Color Professionl Makeup Eyeshadow Ca</td>\n",
       "      <td>-1.0</td>\n",
       "      <td>10486.0</td>\n",
       "      <td>Makeup</td>\n",
       "      <td>Face</td>\n",
       "      <td>219.0</td>\n",
       "      <td>A3BTN14HIZET6Z</td>\n",
       "      <td>5</td>\n",
       "      <td>2013-04-15</td>\n",
       "      <td>nice palette happy get palette wish offered subscription form like makeup use daily unnamed set lot blending sculpting highlighting concealing product nicely pigmented smooth applies well blends beautifully normal dry skin im 59 years works wonderfully foundation also use silicone based primerwhich works well skin type give fresh dewy look loveyou get good amount product money well worth cost say one willing repurchase product says mere words</td>\n",
       "      <td>1</td>\n",
       "      <td>2</td>\n",
       "      <td>137</td>\n",
       "      <td>0.348718</td>\n",
       "    </tr>\n",
       "    <tr>\n",
       "      <th>1</th>\n",
       "      <td>488</td>\n",
       "      <td>9746427962</td>\n",
       "      <td>with age skin loses ability produce energy deep within skins cells as result wrinkles appear deeper wrinkles accentuated product action now 100 q10 ever part high performing antiwrinkle system nivea visage antiwrinkle q10plus night care activates skins energy metabolism within thereby continuously fighting wrinkles deeper layers skin during night skin receptive moisture intake intensively moisturizing formula replenishes  regenerates skin effectively daily stress soft  supple skin morning how use after cleansing face apply cream face neck every night</td>\n",
       "      <td>12.99</td>\n",
       "      <td>Nivea Nivea Visage Q10 Plus Anti Wrinkle Night Car</td>\n",
       "      <td>-1.0</td>\n",
       "      <td>7082.0</td>\n",
       "      <td>Skin Care</td>\n",
       "      <td>Face</td>\n",
       "      <td>124.0</td>\n",
       "      <td>A18M9192WX98HP</td>\n",
       "      <td>5</td>\n",
       "      <td>2014-04-14</td>\n",
       "      <td>love stuff used buy made usa really liked missed able use regret order cream think worth skin really likes product seems work better anything smooth lines nothing gets rid makes appear less think makes skin improve time ill keep ordering unless nivea starts selling us</td>\n",
       "      <td>1</td>\n",
       "      <td>1</td>\n",
       "      <td>87</td>\n",
       "      <td>0.259259</td>\n",
       "    </tr>\n",
       "  </tbody>\n",
       "</table>\n",
       "</div>"
      ],
      "text/plain": [
       "   index        asin                                                                                                                                                                                                                                                                                                                                                                                                                                                                                                                                                                                                                                                                                                                                                 description  price                                         brand_title  health_personal_care   beauty   main_cat sub_cat  related_count      reviewerID  overall  reviewTime                                                                                                                                                                                                                                                                                                                                                                                                                                                          review  upvotes  downvotes  word_count  polarity\n",
       "0  365    7806397051  an extensive range 15 multiple vibrant long wear concealer colour different skin tones create 10000 amazing looks using commonly applied shades ensures best skin colour match guarantees traceless natural finish enabling layering mixing provides total camouflage almost skin problem including blemishes scars birthmarks black circles it also suitable use bronzer the light colour suitable redness acne on the medium colour perfect dark shadows undereye area the dark colour provides exceptional camouflage adheres well skin silky glossy colour high quality ingredients together care skin around last day long it perfect professional salon wedding party home use size 154 x 102 x 13cm each diameter 26cm concealer 15 color concealer  5.04   COKA WAWO 15 Color Professionl Makeup Eyeshadow Ca -1.0                   10486.0  Makeup     Face    219.0          A3BTN14HIZET6Z  5        2013-04-15  nice palette happy get palette wish offered subscription form like makeup use daily unnamed set lot blending sculpting highlighting concealing product nicely pigmented smooth applies well blends beautifully normal dry skin im 59 years works wonderfully foundation also use silicone based primerwhich works well skin type give fresh dewy look loveyou get good amount product money well worth cost say one willing repurchase product says mere words  1        2          137         0.348718\n",
       "1  488    9746427962  with age skin loses ability produce energy deep within skins cells as result wrinkles appear deeper wrinkles accentuated product action now 100 q10 ever part high performing antiwrinkle system nivea visage antiwrinkle q10plus night care activates skins energy metabolism within thereby continuously fighting wrinkles deeper layers skin during night skin receptive moisture intake intensively moisturizing formula replenishes  regenerates skin effectively daily stress soft  supple skin morning how use after cleansing face apply cream face neck every night                                                                                                                                                                                12.99  Nivea Nivea Visage Q10 Plus Anti Wrinkle Night Car -1.0                   7082.0   Skin Care  Face    124.0          A18M9192WX98HP  5        2014-04-14  love stuff used buy made usa really liked missed able use regret order cream think worth skin really likes product seems work better anything smooth lines nothing gets rid makes appear less think makes skin improve time ill keep ordering unless nivea starts selling us                                                                                                                                                                                    1        1          87          0.259259"
      ]
     },
     "execution_count": 25,
     "metadata": {},
     "output_type": "execute_result"
    }
   ],
   "source": [
    "data_s.head(2)"
   ]
  },
  {
   "cell_type": "markdown",
   "metadata": {},
   "source": [
    "### Weighted Recommender\n",
    "\n",
    "In this type, the outputs of the collaborative and content-based methods are combined using a linear weighting scheme. It is the simplest design for hybrid system. "
   ]
  },
  {
   "cell_type": "code",
   "execution_count": 26,
   "metadata": {},
   "outputs": [
    {
     "name": "stdout",
     "output_type": "stream",
     "text": [
      "Weighted Hybrid: \t prediction: 4.58907 \t error: -0.41093\n",
      "Weighted Hybrid: \t prediction: 4.58907 \t error: -0.41093\n"
     ]
    }
   ],
   "source": [
    "def predict_weighted(user, item):\n",
    "    prediction_cf, _, truth = predict_cf(user, item)\n",
    "    prediction_cn, _, truth = predict_cn(meta, user, item)\n",
    "    \n",
    "    # Weights can be chosen differently, depending on \n",
    "    # the (assumed) quality of the recommenders\n",
    "    prediction = 0.5 * prediction_cf + 0.5 * prediction_cn\n",
    "    error = prediction - truth\n",
    "    return prediction, error, truth\n",
    "\n",
    "pred_weighted, error_weighted, truth = predict_weighted(user='A3BTN14HIZET6Z', item='7806397051')\n",
    "print(\"Weighted Hybrid: \\t prediction: {:.5f} \\t error: {:.5f}\".format(pred_weighted, error_weighted))\n",
    "\n",
    "pred_weighted, error_weighted, truth = predict_weighted(user='A18M9192WX98HP', item='9746427962')\n",
    "print(\"Weighted Hybrid: \\t prediction: {:.5f} \\t error: {:.5f}\".format(pred_weighted, error_weighted))"
   ]
  },
  {
   "cell_type": "markdown",
   "metadata": {},
   "source": [
    "### Feature Combination\n",
    "\n",
    "The idea of feature combination is to inject features of one source (such as collaborative recommendation) into an algorithm designed to process data with a different source (such a content-based recommendation). This method is used to improve the data that is used by pedict_cn. The NMF class from sklearn.decomposition can be used to perform Matrix Factorization."
   ]
  },
  {
   "cell_type": "code",
   "execution_count": 27,
   "metadata": {},
   "outputs": [
    {
     "data": {
      "text/html": [
       "<div>\n",
       "<style scoped>\n",
       "    .dataframe tbody tr th:only-of-type {\n",
       "        vertical-align: middle;\n",
       "    }\n",
       "\n",
       "    .dataframe tbody tr th {\n",
       "        vertical-align: top;\n",
       "    }\n",
       "\n",
       "    .dataframe thead th {\n",
       "        text-align: right;\n",
       "    }\n",
       "</style>\n",
       "<table border=\"1\" class=\"dataframe\">\n",
       "  <thead>\n",
       "    <tr style=\"text-align: right;\">\n",
       "      <th></th>\n",
       "      <th>0</th>\n",
       "      <th>1</th>\n",
       "      <th>2</th>\n",
       "    </tr>\n",
       "  </thead>\n",
       "  <tbody>\n",
       "    <tr>\n",
       "      <th>0</th>\n",
       "      <td>1.518081</td>\n",
       "      <td>1.196979</td>\n",
       "      <td>1.103308</td>\n",
       "    </tr>\n",
       "    <tr>\n",
       "      <th>1</th>\n",
       "      <td>1.518095</td>\n",
       "      <td>1.197225</td>\n",
       "      <td>1.103086</td>\n",
       "    </tr>\n",
       "    <tr>\n",
       "      <th>2</th>\n",
       "      <td>1.518836</td>\n",
       "      <td>1.195393</td>\n",
       "      <td>1.103484</td>\n",
       "    </tr>\n",
       "    <tr>\n",
       "      <th>3</th>\n",
       "      <td>1.517373</td>\n",
       "      <td>1.195917</td>\n",
       "      <td>1.104289</td>\n",
       "    </tr>\n",
       "    <tr>\n",
       "      <th>4</th>\n",
       "      <td>1.516930</td>\n",
       "      <td>1.195497</td>\n",
       "      <td>1.106870</td>\n",
       "    </tr>\n",
       "    <tr>\n",
       "      <th>...</th>\n",
       "      <td>...</td>\n",
       "      <td>...</td>\n",
       "      <td>...</td>\n",
       "    </tr>\n",
       "    <tr>\n",
       "      <th>12580</th>\n",
       "      <td>1.519381</td>\n",
       "      <td>1.194704</td>\n",
       "      <td>1.105716</td>\n",
       "    </tr>\n",
       "    <tr>\n",
       "      <th>12581</th>\n",
       "      <td>1.518161</td>\n",
       "      <td>1.196824</td>\n",
       "      <td>1.103465</td>\n",
       "    </tr>\n",
       "    <tr>\n",
       "      <th>12582</th>\n",
       "      <td>1.518240</td>\n",
       "      <td>1.196049</td>\n",
       "      <td>1.104177</td>\n",
       "    </tr>\n",
       "    <tr>\n",
       "      <th>12583</th>\n",
       "      <td>1.518349</td>\n",
       "      <td>1.196672</td>\n",
       "      <td>1.103166</td>\n",
       "    </tr>\n",
       "    <tr>\n",
       "      <th>12584</th>\n",
       "      <td>1.517395</td>\n",
       "      <td>1.199159</td>\n",
       "      <td>1.103027</td>\n",
       "    </tr>\n",
       "  </tbody>\n",
       "</table>\n",
       "<p>12585 rows × 3 columns</p>\n",
       "</div>"
      ],
      "text/plain": [
       "              0         1         2\n",
       "0      1.518081  1.196979  1.103308\n",
       "1      1.518095  1.197225  1.103086\n",
       "2      1.518836  1.195393  1.103484\n",
       "3      1.517373  1.195917  1.104289\n",
       "4      1.516930  1.195497  1.106870\n",
       "...         ...       ...       ...\n",
       "12580  1.519381  1.194704  1.105716\n",
       "12581  1.518161  1.196824  1.103465\n",
       "12582  1.518240  1.196049  1.104177\n",
       "12583  1.518349  1.196672  1.103166\n",
       "12584  1.517395  1.199159  1.103027\n",
       "\n",
       "[12585 rows x 3 columns]"
      ]
     },
     "execution_count": 27,
     "metadata": {},
     "output_type": "execute_result"
    }
   ],
   "source": [
    "ratings_matrix = pd.pivot_table(data=data_s, values='overall', index='asin', columns='reviewerID')\n",
    "\n",
    "# NaN can be filld with the mean of either \n",
    "# the user's or the item's ratings.\n",
    "ratings_matrix = ratings_matrix.fillna(ratings_matrix.mean())\n",
    "\n",
    "model = NMF(n_components=3, init='random', random_state=0)\n",
    "\n",
    "W = model.fit_transform(ratings_matrix)\n",
    "\n",
    "asin_plus = pd.concat([meta, pd.DataFrame(W)], axis=1)\n",
    "\n",
    "pd.DataFrame(W)"
   ]
  },
  {
   "cell_type": "code",
   "execution_count": 28,
   "metadata": {},
   "outputs": [
    {
     "name": "stdout",
     "output_type": "stream",
     "text": [
      "Weighted Hybrid: \t prediction: 5.00000 \t error: 0.00000\n"
     ]
    }
   ],
   "source": [
    "pred_weighted, error_weighted, truth = predict_cn(asin_plus, 'A3BTN14HIZET6Z', '7806397051')\n",
    "print(\"Weighted Hybrid: \\t prediction: {:.5f} \\t error: {:.5f}\".format(pred_weighted, error_weighted))"
   ]
  },
  {
   "cell_type": "code",
   "execution_count": 29,
   "metadata": {},
   "outputs": [
    {
     "name": "stdout",
     "output_type": "stream",
     "text": [
      "Weighted Hybrid: \t prediction: 5.00000 \t error: 0.00000\n"
     ]
    }
   ],
   "source": [
    "pred_weighted, error_weighted, truth = predict_cn(asin_plus, 'A18M9192WX98HP', '9746427962')\n",
    "print(\"Weighted Hybrid: \\t prediction: {:.5f} \\t error: {:.5f}\".format(pred_weighted, error_weighted))"
   ]
  },
  {
   "cell_type": "markdown",
   "metadata": {},
   "source": [
    "This method improved the prediction of the content-based recommender and gave an accurate prediction."
   ]
  },
  {
   "cell_type": "markdown",
   "metadata": {},
   "source": [
    "### Switching Hybrid\n",
    "\n",
    "This method selects a single recommender from among its constituents based on the recommendation situation. Different recommenders might get chosen for different profiles. It begins the process by selecting one of its components as appropriate in the current situation, based on its switching criteria. Once that choice is made, the unchosen component has no role in the remaining recommendation process. "
   ]
  },
  {
   "cell_type": "code",
   "execution_count": 30,
   "metadata": {},
   "outputs": [
    {
     "name": "stdout",
     "output_type": "stream",
     "text": [
      "Using Content-Based recommender\n",
      "Switching Hybrid: \t prediction: 5.00000 \t error: 0.00000\n",
      "Using Collaborative Filtering recommender\n",
      "Switching Hybrid: \t prediction: 4.10532 \t error: 0.10532\n"
     ]
    }
   ],
   "source": [
    "def predict_switching(df, user, item):\n",
    "    # The selection of the recommender is done based on the \n",
    "    # number of ratings that have been recorded for the item.\n",
    "    num_ratings = len(data_s[data_s['asin'] == item])\n",
    "    if num_ratings > 3:\n",
    "        print('Using Collaborative Filtering recommender')\n",
    "        return predict_cf(user, item)\n",
    "    else:\n",
    "        print('Using Content-Based recommender')\n",
    "        return predict_cn(meta, user, item)\n",
    "\n",
    "\n",
    "pred, error, truth = predict_switching(meta, user='A274NIJWOQWE30', item='1304351475')\n",
    "print(\"Switching Hybrid: \\t prediction: {:.5f} \\t error: {:.5f}\".format(pred, error))\n",
    "\n",
    "pred, error, truth = predict_switching(meta, user='A2JAEZ0FMAMJVW', item='B009FKNGGQ')\n",
    "print(\"Switching Hybrid: \\t prediction: {:.5f} \\t error: {:.5f}\".format(pred, error))"
   ]
  },
  {
   "cell_type": "code",
   "execution_count": 31,
   "metadata": {},
   "outputs": [
    {
     "data": {
      "text/plain": [
       "array(['HSI PROFESSIONAL HSI PROFESSIONAL 1 CERAMIC TOURMA'], dtype=object)"
      ]
     },
     "execution_count": 31,
     "metadata": {},
     "output_type": "execute_result"
    }
   ],
   "source": [
    "data_s.loc[data_s['asin'] == 'B001MA0QY2', 'brand_title'].unique()  "
   ]
  },
  {
   "cell_type": "code",
   "execution_count": null,
   "metadata": {},
   "outputs": [],
   "source": []
  }
 ],
 "metadata": {
  "kernelspec": {
   "display_name": "Python 3",
   "language": "python",
   "name": "python3"
  },
  "language_info": {
   "codemirror_mode": {
    "name": "ipython",
    "version": 3
   },
   "file_extension": ".py",
   "mimetype": "text/x-python",
   "name": "python",
   "nbconvert_exporter": "python",
   "pygments_lexer": "ipython3",
   "version": "3.7.3"
  }
 },
 "nbformat": 4,
 "nbformat_minor": 2
}
