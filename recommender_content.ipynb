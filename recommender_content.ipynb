{
 "cells": [
  {
   "cell_type": "markdown",
   "metadata": {},
   "source": [
    "<h1><center>Content-based Filtering - Amazon Beauty Products</center></h1>"
   ]
  },
  {
   "cell_type": "code",
   "execution_count": 1,
   "metadata": {},
   "outputs": [],
   "source": [
    "import pandas as pd\n",
    "import numpy as np\n",
    "\n",
    "pd.set_option('display.max_columns', None)  \n",
    "pd.set_option('display.expand_frame_repr', False)\n",
    "pd.set_option('max_colwidth', -1)\n",
    "\n",
    "%matplotlib inline\n",
    "import matplotlib.pyplot as plt\n",
    "import seaborn as sns\n",
    "import warnings \n",
    "warnings.filterwarnings('ignore')\n",
    "\n",
    "import gc"
   ]
  },
  {
   "cell_type": "code",
   "execution_count": 2,
   "metadata": {},
   "outputs": [],
   "source": [
    "from nltk.corpus import stopwords\n",
    "from sklearn.model_selection import train_test_split\n",
    "from sklearn.feature_extraction.text import TfidfVectorizer, CountVectorizer\n",
    "from sklearn.metrics.pairwise import cosine_similarity, linear_kernel, euclidean_distances\n",
    "from scipy.stats import pearsonr"
   ]
  },
  {
   "cell_type": "markdown",
   "metadata": {},
   "source": [
    "Read the cleaned file into dataframes."
   ]
  },
  {
   "cell_type": "code",
   "execution_count": 3,
   "metadata": {},
   "outputs": [],
   "source": [
    "meta = pd.read_csv('cleaned_metadata.csv',index_col=0)\n",
    "reviews = pd.read_csv('cleaned_reviews.csv',index_col=0)"
   ]
  },
  {
   "cell_type": "code",
   "execution_count": 4,
   "metadata": {},
   "outputs": [
    {
     "data": {
      "text/html": [
       "<div>\n",
       "<style scoped>\n",
       "    .dataframe tbody tr th:only-of-type {\n",
       "        vertical-align: middle;\n",
       "    }\n",
       "\n",
       "    .dataframe tbody tr th {\n",
       "        vertical-align: top;\n",
       "    }\n",
       "\n",
       "    .dataframe thead th {\n",
       "        text-align: right;\n",
       "    }\n",
       "</style>\n",
       "<table border=\"1\" class=\"dataframe\">\n",
       "  <thead>\n",
       "    <tr style=\"text-align: right;\">\n",
       "      <th></th>\n",
       "      <th>asin</th>\n",
       "      <th>description</th>\n",
       "      <th>price</th>\n",
       "      <th>brand_title</th>\n",
       "      <th>health_personal_care</th>\n",
       "      <th>beauty</th>\n",
       "      <th>main_cat</th>\n",
       "      <th>sub_cat</th>\n",
       "      <th>related_count</th>\n",
       "    </tr>\n",
       "  </thead>\n",
       "  <tbody>\n",
       "    <tr>\n",
       "      <th>0</th>\n",
       "      <td>0205616461</td>\n",
       "      <td>as age youthful healthy skin succumbs enzymatic imbalance wears away cellular network resulting skin thinning aging combining best nature cosmetic biotechnology bioactive products formulated enzymes gently exfoliate skin stimulate regeneration youthful glow benefiting fertile orchards italian countryside bioactive formulas rich phytohormones flavonoids fatty acids active extracts apple pear seeds enzymatically modified developed especially care aging skin this repairing fluid helps nourish firm accelerating penetration delivery active principles skin giving youthful appearance advanced probiotic complex nourishing milk proteins regains skins natural equilibrium boosts immunities protects environmental biological stress peptides ceramides help firm regenerate skin stimulating collagen production strengthening epidermis a calming botanical complex hyaluronic acid wheat germ extract hydrates restores skins protective barriers a nutritive vitamin complex moisturizes protects skin damaging environmental factors paracress extract natural alternative cosmetic injections limits relaxes microcontractions create facial lines producing immediate longterm smoothing skin to use apply pumps apply pumps clean dried face neck dcollet</td>\n",
       "      <td>NaN</td>\n",
       "      <td>Bio-Active Anti-Aging Serum (Firming Ultra-Hydrati</td>\n",
       "      <td>461765.0</td>\n",
       "      <td>-1.0</td>\n",
       "      <td>Skin Care</td>\n",
       "      <td>Face</td>\n",
       "      <td>0.0</td>\n",
       "    </tr>\n",
       "    <tr>\n",
       "      <th>1</th>\n",
       "      <td>0558925278</td>\n",
       "      <td>mineral powder brushapply powder mineral foundation face circular buffing motion work inward towards nose concealer brushuse liquid mineral powder concealer coverage blemishes eyes eye shading brush expertly cut apply blend powder eye shadows baby kabuki buff powder areas need coverage cosmetic brush bag 55 hemp linen 45 cotton</td>\n",
       "      <td>NaN</td>\n",
       "      <td>Eco Friendly Ecotools Quality Natural Bamboo Cosme</td>\n",
       "      <td>-1.0</td>\n",
       "      <td>402875.0</td>\n",
       "      <td>Tools &amp; Accessories</td>\n",
       "      <td>Makeup Brushes &amp; Tools</td>\n",
       "      <td>0.0</td>\n",
       "    </tr>\n",
       "  </tbody>\n",
       "</table>\n",
       "</div>"
      ],
      "text/plain": [
       "         asin                                                                                                                                                                                                                                                                                                                                                                                                                                                                                                                                                                                                                                                                                                                                                                                                                                                                                                                                                                                                                                                                                                                                                                                                                                                                            description  price                                         brand_title  health_personal_care    beauty             main_cat                 sub_cat  related_count\n",
       "0  0205616461  as age youthful healthy skin succumbs enzymatic imbalance wears away cellular network resulting skin thinning aging combining best nature cosmetic biotechnology bioactive products formulated enzymes gently exfoliate skin stimulate regeneration youthful glow benefiting fertile orchards italian countryside bioactive formulas rich phytohormones flavonoids fatty acids active extracts apple pear seeds enzymatically modified developed especially care aging skin this repairing fluid helps nourish firm accelerating penetration delivery active principles skin giving youthful appearance advanced probiotic complex nourishing milk proteins regains skins natural equilibrium boosts immunities protects environmental biological stress peptides ceramides help firm regenerate skin stimulating collagen production strengthening epidermis a calming botanical complex hyaluronic acid wheat germ extract hydrates restores skins protective barriers a nutritive vitamin complex moisturizes protects skin damaging environmental factors paracress extract natural alternative cosmetic injections limits relaxes microcontractions create facial lines producing immediate longterm smoothing skin to use apply pumps apply pumps clean dried face neck dcollet NaN     Bio-Active Anti-Aging Serum (Firming Ultra-Hydrati  461765.0             -1.0       Skin Care            Face                    0.0          \n",
       "1  0558925278  mineral powder brushapply powder mineral foundation face circular buffing motion work inward towards nose concealer brushuse liquid mineral powder concealer coverage blemishes eyes eye shading brush expertly cut apply blend powder eye shadows baby kabuki buff powder areas need coverage cosmetic brush bag 55 hemp linen 45 cotton                                                                                                                                                                                                                                                                                                                                                                                                                                                                                                                                                                                                                                                                                                                                                                                                                                                                                                                                             NaN     Eco Friendly Ecotools Quality Natural Bamboo Cosme -1.0                   402875.0  Tools & Accessories  Makeup Brushes & Tools  0.0          "
      ]
     },
     "execution_count": 4,
     "metadata": {},
     "output_type": "execute_result"
    }
   ],
   "source": [
    "meta.head(2)"
   ]
  },
  {
   "cell_type": "code",
   "execution_count": 5,
   "metadata": {},
   "outputs": [
    {
     "data": {
      "text/html": [
       "<div>\n",
       "<style scoped>\n",
       "    .dataframe tbody tr th:only-of-type {\n",
       "        vertical-align: middle;\n",
       "    }\n",
       "\n",
       "    .dataframe tbody tr th {\n",
       "        vertical-align: top;\n",
       "    }\n",
       "\n",
       "    .dataframe thead th {\n",
       "        text-align: right;\n",
       "    }\n",
       "</style>\n",
       "<table border=\"1\" class=\"dataframe\">\n",
       "  <thead>\n",
       "    <tr style=\"text-align: right;\">\n",
       "      <th></th>\n",
       "      <th>reviewerID</th>\n",
       "      <th>asin</th>\n",
       "      <th>overall</th>\n",
       "      <th>reviewTime</th>\n",
       "      <th>review</th>\n",
       "      <th>upvotes</th>\n",
       "      <th>downvotes</th>\n",
       "      <th>word_count</th>\n",
       "      <th>polarity</th>\n",
       "    </tr>\n",
       "  </thead>\n",
       "  <tbody>\n",
       "    <tr>\n",
       "      <th>0</th>\n",
       "      <td>A39HTATAQ9V7YF</td>\n",
       "      <td>0205616461</td>\n",
       "      <td>5</td>\n",
       "      <td>2013-05-28</td>\n",
       "      <td>bioactive antiaging serum love moisturizer would recommend someone dry skin fine lines wrinkles using brand day night serum</td>\n",
       "      <td>0</td>\n",
       "      <td>0</td>\n",
       "      <td>34</td>\n",
       "      <td>0.283333</td>\n",
       "    </tr>\n",
       "    <tr>\n",
       "      <th>1</th>\n",
       "      <td>A3JM6GV9MNOF9X</td>\n",
       "      <td>0558925278</td>\n",
       "      <td>3</td>\n",
       "      <td>2012-12-14</td>\n",
       "      <td>product ok im use baby kabuki moment received product deadlinei tested baby kabuki quality material best packaging cute love itthe fibers smell soft</td>\n",
       "      <td>0</td>\n",
       "      <td>1</td>\n",
       "      <td>44</td>\n",
       "      <td>0.520000</td>\n",
       "    </tr>\n",
       "  </tbody>\n",
       "</table>\n",
       "</div>"
      ],
      "text/plain": [
       "       reviewerID        asin  overall  reviewTime                                                                                                                                                review  upvotes  downvotes  word_count  polarity\n",
       "0  A39HTATAQ9V7YF  0205616461  5        2013-05-28  bioactive antiaging serum love moisturizer would recommend someone dry skin fine lines wrinkles using brand day night serum                           0        0          34          0.283333\n",
       "1  A3JM6GV9MNOF9X  0558925278  3        2012-12-14  product ok im use baby kabuki moment received product deadlinei tested baby kabuki quality material best packaging cute love itthe fibers smell soft  0        1          44          0.520000"
      ]
     },
     "execution_count": 5,
     "metadata": {},
     "output_type": "execute_result"
    }
   ],
   "source": [
    "reviews.head(2)"
   ]
  },
  {
   "cell_type": "code",
   "execution_count": 6,
   "metadata": {},
   "outputs": [
    {
     "name": "stdout",
     "output_type": "stream",
     "text": [
      "Products: (259204, 9)\n",
      "Reviews: (2023070, 9)\n"
     ]
    }
   ],
   "source": [
    "print(\"Products:\",meta.shape)\n",
    "print(\"Reviews:\",reviews.shape)"
   ]
  },
  {
   "cell_type": "code",
   "execution_count": 7,
   "metadata": {},
   "outputs": [
    {
     "name": "stdout",
     "output_type": "stream",
     "text": [
      "<class 'pandas.core.frame.DataFrame'>\n",
      "Int64Index: 259204 entries, 0 to 259203\n",
      "Data columns (total 9 columns):\n",
      "asin                    259204 non-null object\n",
      "description             259137 non-null object\n",
      "price                   189930 non-null float64\n",
      "brand_title             258760 non-null object\n",
      "health_personal_care    259204 non-null float64\n",
      "beauty                  259204 non-null float64\n",
      "main_cat                259204 non-null object\n",
      "sub_cat                 259204 non-null object\n",
      "related_count           259204 non-null float64\n",
      "dtypes: float64(4), object(5)\n",
      "memory usage: 19.8+ MB\n"
     ]
    }
   ],
   "source": [
    "meta.info(null_counts=True)"
   ]
  },
  {
   "cell_type": "code",
   "execution_count": 8,
   "metadata": {},
   "outputs": [
    {
     "name": "stdout",
     "output_type": "stream",
     "text": [
      "<class 'pandas.core.frame.DataFrame'>\n",
      "Int64Index: 2023070 entries, 0 to 2023069\n",
      "Data columns (total 9 columns):\n",
      "reviewerID    2023070 non-null object\n",
      "asin          2023070 non-null object\n",
      "overall       2023070 non-null int64\n",
      "reviewTime    2023070 non-null object\n",
      "review        2023067 non-null object\n",
      "upvotes       2023070 non-null int64\n",
      "downvotes     2023070 non-null int64\n",
      "word_count    2023070 non-null int64\n",
      "polarity      2023070 non-null float64\n",
      "dtypes: float64(1), int64(4), object(4)\n",
      "memory usage: 154.3+ MB\n"
     ]
    }
   ],
   "source": [
    "reviews.info(null_counts=True)"
   ]
  },
  {
   "cell_type": "code",
   "execution_count": 9,
   "metadata": {},
   "outputs": [
    {
     "data": {
      "text/plain": [
       "nan"
      ]
     },
     "execution_count": 9,
     "metadata": {},
     "output_type": "execute_result"
    }
   ],
   "source": [
    "meta['description'][54107]"
   ]
  },
  {
   "cell_type": "code",
   "execution_count": 10,
   "metadata": {},
   "outputs": [],
   "source": [
    "meta['description'] = meta['description'].fillna(meta['main_cat'])\n",
    "meta['brand_title'] = meta['brand_title'].fillna(meta['main_cat'])\n",
    "meta['price'] = meta['price'].fillna(0)"
   ]
  },
  {
   "cell_type": "markdown",
   "metadata": {},
   "source": [
    "Since the product description field will be used extensively for filtering, we will lemmatize it."
   ]
  },
  {
   "cell_type": "code",
   "execution_count": 11,
   "metadata": {},
   "outputs": [],
   "source": [
    "from textblob import TextBlob, Word\n",
    "\n",
    "meta['description'] = meta['description'].apply(lambda x: \" \".join([w.lemmatize() for w in TextBlob(x).words]))\n",
    "#reviews['review'] = reviews['review'].apply(lambda x: \" \".join([w.lemmatize() for w in TextBlob(x).words]))"
   ]
  },
  {
   "cell_type": "code",
   "execution_count": 12,
   "metadata": {},
   "outputs": [
    {
     "data": {
      "text/html": [
       "<div>\n",
       "<style scoped>\n",
       "    .dataframe tbody tr th:only-of-type {\n",
       "        vertical-align: middle;\n",
       "    }\n",
       "\n",
       "    .dataframe tbody tr th {\n",
       "        vertical-align: top;\n",
       "    }\n",
       "\n",
       "    .dataframe thead th {\n",
       "        text-align: right;\n",
       "    }\n",
       "</style>\n",
       "<table border=\"1\" class=\"dataframe\">\n",
       "  <thead>\n",
       "    <tr style=\"text-align: right;\">\n",
       "      <th></th>\n",
       "      <th>asin</th>\n",
       "      <th>description</th>\n",
       "      <th>price</th>\n",
       "      <th>brand_title</th>\n",
       "      <th>health_personal_care</th>\n",
       "      <th>beauty</th>\n",
       "      <th>main_cat</th>\n",
       "      <th>sub_cat</th>\n",
       "      <th>related_count</th>\n",
       "    </tr>\n",
       "  </thead>\n",
       "  <tbody>\n",
       "    <tr>\n",
       "      <th>66896</th>\n",
       "      <td>B001MA0QY2</td>\n",
       "      <td>the proffesional hsi flat iron great transforming frizzy dull hair gorgeously straight sleek lock aside straightening proffesional hsi flat iron curl flip hair beautifully 1 plate giving maximum control hair type with flash quick heating swivel cord iron provides great style without making mess taking much time featuring new easier grip ergonomic design easier hold styler flat iron also versatile heat setting provide total control hairstyling need moist ceramic heat solid ceramic plate coil maintain even temperature</td>\n",
       "      <td>53.59</td>\n",
       "      <td>HSI PROFESSIONAL HSI PROFESSIONAL 1 CERAMIC TOURMA</td>\n",
       "      <td>-1.0</td>\n",
       "      <td>1.0</td>\n",
       "      <td>Hair Care</td>\n",
       "      <td>Styling Tools</td>\n",
       "      <td>0.0</td>\n",
       "    </tr>\n",
       "  </tbody>\n",
       "</table>\n",
       "</div>"
      ],
      "text/plain": [
       "             asin                                                                                                                                                                                                                                                                                                                                                                                                                                                                                                                                description  price                                         brand_title  health_personal_care  beauty   main_cat        sub_cat  related_count\n",
       "66896  B001MA0QY2  the proffesional hsi flat iron great transforming frizzy dull hair gorgeously straight sleek lock aside straightening proffesional hsi flat iron curl flip hair beautifully 1 plate giving maximum control hair type with flash quick heating swivel cord iron provides great style without making mess taking much time featuring new easier grip ergonomic design easier hold styler flat iron also versatile heat setting provide total control hairstyling need moist ceramic heat solid ceramic plate coil maintain even temperature  53.59  HSI PROFESSIONAL HSI PROFESSIONAL 1 CERAMIC TOURMA -1.0                   1.0     Hair Care  Styling Tools  0.0          "
      ]
     },
     "execution_count": 12,
     "metadata": {},
     "output_type": "execute_result"
    }
   ],
   "source": [
    "meta[meta['asin'] == 'B001MA0QY2']"
   ]
  },
  {
   "cell_type": "code",
   "execution_count": 13,
   "metadata": {},
   "outputs": [
    {
     "data": {
      "text/plain": [
       "array(['Skin Care', 'Tools & Accessories', 'Makeup', 'Hair Care',\n",
       "       'Bath & Body', 'Fragrance', 'Fragrance]', 'Makeup]', 'Skin Care]',\n",
       "       'Hair Care]', 'Tools & Accessories]', 'Fan Shop]', 'Bath & Body]',\n",
       "       'Snow Sports', 'Kitchen & Dining', 'Health Care',\n",
       "       'Stationery & Party Supplies', 'Storage & Organization]',\n",
       "       'Baby & Child Care]', 'Fan Shop', 'Personal Care',\n",
       "       'Household Supplies', 'Accessories', 'Hardware'], dtype=object)"
      ]
     },
     "execution_count": 13,
     "metadata": {},
     "output_type": "execute_result"
    }
   ],
   "source": [
    "meta.main_cat.unique()"
   ]
  },
  {
   "cell_type": "code",
   "execution_count": 14,
   "metadata": {},
   "outputs": [],
   "source": [
    "meta['main_cat'] = meta['main_cat'].str.replace(']','')"
   ]
  },
  {
   "cell_type": "code",
   "execution_count": 15,
   "metadata": {},
   "outputs": [],
   "source": [
    "meta['sub_cat'] = meta['sub_cat'].str.replace('\"','')"
   ]
  },
  {
   "cell_type": "markdown",
   "metadata": {},
   "source": [
    "### Content-based recommendation system"
   ]
  },
  {
   "cell_type": "markdown",
   "metadata": {},
   "source": [
    "Recommends an item based on its features and how similar they are to features of other items in the data set."
   ]
  },
  {
   "cell_type": "markdown",
   "metadata": {},
   "source": [
    "Using the nearest neighbor algorithm, which is an unsupervised classifier also known as memory based system. It memorizes instances and then recommends an item based on how quantitatively similar it is to a new incoming instance."
   ]
  },
  {
   "cell_type": "code",
   "execution_count": 16,
   "metadata": {},
   "outputs": [],
   "source": [
    "usersperasin = reviews['asin'].value_counts()\n",
    "#usersperasin"
   ]
  },
  {
   "cell_type": "code",
   "execution_count": 17,
   "metadata": {},
   "outputs": [],
   "source": [
    "meta_5 = meta[meta['asin'].isin(usersperasin[usersperasin>10].index) & meta['asin'].isin(usersperasin[usersperasin<7000].index)]"
   ]
  },
  {
   "cell_type": "code",
   "execution_count": 18,
   "metadata": {},
   "outputs": [
    {
     "data": {
      "text/html": [
       "<div>\n",
       "<style scoped>\n",
       "    .dataframe tbody tr th:only-of-type {\n",
       "        vertical-align: middle;\n",
       "    }\n",
       "\n",
       "    .dataframe tbody tr th {\n",
       "        vertical-align: top;\n",
       "    }\n",
       "\n",
       "    .dataframe thead th {\n",
       "        text-align: right;\n",
       "    }\n",
       "</style>\n",
       "<table border=\"1\" class=\"dataframe\">\n",
       "  <thead>\n",
       "    <tr style=\"text-align: right;\">\n",
       "      <th></th>\n",
       "      <th>asin</th>\n",
       "      <th>description</th>\n",
       "      <th>price</th>\n",
       "      <th>brand_title</th>\n",
       "      <th>health_personal_care</th>\n",
       "      <th>beauty</th>\n",
       "      <th>main_cat</th>\n",
       "      <th>sub_cat</th>\n",
       "      <th>related_count</th>\n",
       "    </tr>\n",
       "  </thead>\n",
       "  <tbody>\n",
       "    <tr>\n",
       "      <th>18</th>\n",
       "      <td>1304351475</td>\n",
       "      <td>too faced natural eye shadow palette color include heaven silk teddy nude beach velvet revolver pushup honey pot sexspresso erotica cocoa puff collectible tin version new box full size</td>\n",
       "      <td>33.99</td>\n",
       "      <td>Omagazee NEW EUROPEAN COLLECTION Too Faced Natural</td>\n",
       "      <td>-1.0</td>\n",
       "      <td>15567.0</td>\n",
       "      <td>Makeup</td>\n",
       "      <td>Eyes</td>\n",
       "      <td>309.0</td>\n",
       "    </tr>\n",
       "    <tr>\n",
       "      <th>51</th>\n",
       "      <td>1403790965</td>\n",
       "      <td>silkylight powder creates enhances look glowing sunkissed cheek brow bone brush evenly flawlesslooking finish</td>\n",
       "      <td>33.99</td>\n",
       "      <td>Arbonne Bronzer</td>\n",
       "      <td>-1.0</td>\n",
       "      <td>16280.0</td>\n",
       "      <td>Makeup</td>\n",
       "      <td>Face</td>\n",
       "      <td>27.0</td>\n",
       "    </tr>\n",
       "    <tr>\n",
       "      <th>61</th>\n",
       "      <td>3227001381</td>\n",
       "      <td>no description</td>\n",
       "      <td>0.00</td>\n",
       "      <td>Elemis Aromazing Shampoo - 300 mL</td>\n",
       "      <td>-1.0</td>\n",
       "      <td>168222.0</td>\n",
       "      <td>Hair Care</td>\n",
       "      <td>Shampoos</td>\n",
       "      <td>0.0</td>\n",
       "    </tr>\n",
       "    <tr>\n",
       "      <th>75</th>\n",
       "      <td>5357955948</td>\n",
       "      <td>add pliable firm hold texture</td>\n",
       "      <td>0.00</td>\n",
       "      <td>Kms California Hairplay Paste Up Spray, 6.4 Fluid</td>\n",
       "      <td>-1.0</td>\n",
       "      <td>77540.0</td>\n",
       "      <td>Hair Care</td>\n",
       "      <td>Styling Products</td>\n",
       "      <td>7.0</td>\n",
       "    </tr>\n",
       "    <tr>\n",
       "      <th>84</th>\n",
       "      <td>535795531X</td>\n",
       "      <td>maximum intensity cream using acidfree smoothing agent skin regenerators designed improve skin firmness texture a blend active botanical includes red seaweed rice extract soy protein phytoestrogens kukui nut licorice multivitamin feel difference immediately benefiting stronger resilient skin fragrance free</td>\n",
       "      <td>126.92</td>\n",
       "      <td>Dermalogica Dermalogica AGE Smart Power Rich (5 x</td>\n",
       "      <td>-1.0</td>\n",
       "      <td>16175.0</td>\n",
       "      <td>Skin Care</td>\n",
       "      <td>Face</td>\n",
       "      <td>140.0</td>\n",
       "    </tr>\n",
       "  </tbody>\n",
       "</table>\n",
       "</div>"
      ],
      "text/plain": [
       "          asin                                                                                                                                                                                                                                                                                                          description   price                                         brand_title  health_personal_care    beauty   main_cat           sub_cat  related_count\n",
       "18  1304351475  too faced natural eye shadow palette color include heaven silk teddy nude beach velvet revolver pushup honey pot sexspresso erotica cocoa puff collectible tin version new box full size                                                                                                                             33.99   Omagazee NEW EUROPEAN COLLECTION Too Faced Natural -1.0                   15567.0   Makeup     Eyes              309.0        \n",
       "51  1403790965  silkylight powder creates enhances look glowing sunkissed cheek brow bone brush evenly flawlesslooking finish                                                                                                                                                                                                        33.99   Arbonne Bronzer                                    -1.0                   16280.0   Makeup     Face              27.0         \n",
       "61  3227001381  no description                                                                                                                                                                                                                                                                                                       0.00    Elemis Aromazing Shampoo - 300 mL                  -1.0                   168222.0  Hair Care  Shampoos          0.0          \n",
       "75  5357955948  add pliable firm hold texture                                                                                                                                                                                                                                                                                        0.00    Kms California Hairplay Paste Up Spray, 6.4 Fluid  -1.0                   77540.0   Hair Care  Styling Products  7.0          \n",
       "84  535795531X  maximum intensity cream using acidfree smoothing agent skin regenerators designed improve skin firmness texture a blend active botanical includes red seaweed rice extract soy protein phytoestrogens kukui nut licorice multivitamin feel difference immediately benefiting stronger resilient skin fragrance free  126.92  Dermalogica Dermalogica AGE Smart Power Rich (5 x  -1.0                   16175.0   Skin Care  Face              140.0        "
      ]
     },
     "execution_count": 18,
     "metadata": {},
     "output_type": "execute_result"
    }
   ],
   "source": [
    "meta_5.head()"
   ]
  },
  {
   "cell_type": "code",
   "execution_count": 19,
   "metadata": {},
   "outputs": [
    {
     "data": {
      "text/plain": [
       "(33878, 9)"
      ]
     },
     "execution_count": 19,
     "metadata": {},
     "output_type": "execute_result"
    }
   ],
   "source": [
    "meta_5.shape"
   ]
  },
  {
   "cell_type": "code",
   "execution_count": 20,
   "metadata": {},
   "outputs": [],
   "source": [
    "meta_5 = meta_5.reset_index(drop=True)"
   ]
  },
  {
   "cell_type": "code",
   "execution_count": 21,
   "metadata": {},
   "outputs": [],
   "source": [
    "indices = pd.Series(meta_5['asin'].index)"
   ]
  },
  {
   "cell_type": "code",
   "execution_count": 22,
   "metadata": {},
   "outputs": [],
   "source": [
    "def recommend(index, method):\n",
    "    id = indices[index]\n",
    "    # Get the pairwise similarity scores of all products for this product\n",
    "    # sort and derive the top 5\n",
    "    similarity_scores = list(enumerate(method[id]))\n",
    "    similarity_scores = sorted(similarity_scores, key=lambda x: x[1], reverse=True)\n",
    "    similarity_scores = similarity_scores[1:6]\n",
    "    \n",
    "    # Get the product index\n",
    "    asin_index = [i[0] for i in similarity_scores]\n",
    "    \n",
    "    #Return the top 5 most similar products using integar-location based indexing (iloc)\n",
    "    return meta_5['brand_title'].iloc[asin_index]"
   ]
  },
  {
   "cell_type": "markdown",
   "metadata": {},
   "source": [
    "Merge the text fields that describe the item attributes into one field for easy conversion to vector form"
   ]
  },
  {
   "cell_type": "code",
   "execution_count": 23,
   "metadata": {},
   "outputs": [],
   "source": [
    "meta_5['all_content'] = meta_5['brand_title'] + meta_5['main_cat'] + meta_5['description'] + meta_5['sub_cat']"
   ]
  },
  {
   "cell_type": "markdown",
   "metadata": {},
   "source": [
    "Use TfidfVectorizer to convert the new attribute (all_content) into vector form. In TF-IDF, the occurrence of each word in a document is counted and the importance of each word is weighed. Based on this information, a score is calculated for that document."
   ]
  },
  {
   "cell_type": "code",
   "execution_count": 24,
   "metadata": {},
   "outputs": [],
   "source": [
    "vectorizer = TfidfVectorizer(analyzer='word', stop_words='english', ngram_range=(1, 2), max_features=1000)"
   ]
  },
  {
   "cell_type": "code",
   "execution_count": 25,
   "metadata": {},
   "outputs": [],
   "source": [
    "tfidf_all_content = vectorizer.fit_transform(meta_5['all_content'])"
   ]
  },
  {
   "cell_type": "markdown",
   "metadata": {},
   "source": [
    "To compute the similarity between item vectors, various methods can be used: Cosine Similarity, Euclidean Distance, Peason’s Correlation. Then the recommender gives recommendation based on the most similar items.\n",
    "\n",
    "First, we will use the linear_kernel to perform dot product of the vectors."
   ]
  },
  {
   "cell_type": "code",
   "execution_count": 26,
   "metadata": {},
   "outputs": [],
   "source": [
    "cos_sim_lk = linear_kernel(tfidf_all_content, tfidf_all_content)"
   ]
  },
  {
   "cell_type": "code",
   "execution_count": 27,
   "metadata": {},
   "outputs": [
    {
     "data": {
      "text/plain": [
       "('Hair Care', 'Shampoos', 'Elemis Aromazing Shampoo - 300 mL')"
      ]
     },
     "execution_count": 27,
     "metadata": {},
     "output_type": "execute_result"
    }
   ],
   "source": [
    "meta_5.iloc[2].main_cat, meta_5.iloc[2].sub_cat, meta_5.iloc[2].brand_title"
   ]
  },
  {
   "cell_type": "code",
   "execution_count": 28,
   "metadata": {},
   "outputs": [
    {
     "data": {
      "text/plain": [
       "2078     Nexxus Nexxus shampoo therappe, 33.8oz            \n",
       "16036    Suave Suave Professionals Shampoo, Rosemary Mint f\n",
       "25901    Suave Suave Professionals mens, shampoo/conditione\n",
       "28200    Nexxus promend shampoo, 33.8oz                    \n",
       "32687    Fekkai Fekkai Apple Cider Shampoo 236ml/8oz       \n",
       "Name: brand_title, dtype: object"
      ]
     },
     "execution_count": 28,
     "metadata": {},
     "output_type": "execute_result"
    }
   ],
   "source": [
    "recommend(2, cos_sim_lk)"
   ]
  },
  {
   "cell_type": "code",
   "execution_count": 29,
   "metadata": {},
   "outputs": [
    {
     "data": {
      "text/plain": [
       "asin                    3227001381                                                      \n",
       "description             no description                                                  \n",
       "price                   0                                                               \n",
       "brand_title             Elemis Aromazing Shampoo - 300 mL                               \n",
       "health_personal_care   -1                                                               \n",
       "beauty                  168222                                                          \n",
       "main_cat                Hair Care                                                       \n",
       "sub_cat                 Shampoos                                                        \n",
       "related_count           0                                                               \n",
       "all_content             Elemis Aromazing Shampoo - 300 mLHair Careno descriptionShampoos\n",
       "Name: 2, dtype: object"
      ]
     },
     "execution_count": 29,
     "metadata": {},
     "output_type": "execute_result"
    }
   ],
   "source": [
    "meta_5.iloc[2]"
   ]
  },
  {
   "cell_type": "code",
   "execution_count": 30,
   "metadata": {},
   "outputs": [],
   "source": [
    "#tfidf_all_content = None\n",
    "tfidf_feature_name = None\n",
    "cos_sim_lk = None"
   ]
  },
  {
   "cell_type": "markdown",
   "metadata": {},
   "source": [
    "CountVectorizer can also be used to convert a collection of text documents to a matrix of token counts. It builds a sparse representation of the counts using scipy.sparse.csr_matrix."
   ]
  },
  {
   "cell_type": "code",
   "execution_count": 31,
   "metadata": {},
   "outputs": [],
   "source": [
    "cv = CountVectorizer(analyzer='word', stop_words='english', ngram_range=(1, 2), max_features=1000)"
   ]
  },
  {
   "cell_type": "markdown",
   "metadata": {},
   "source": [
    "Cosine similarity is another way to measure the similarity between two non-zero vectors with n variables. If the cosine value of two vectors is close to 1, then it indicates that they are almost similar. A zero value indicates that they are dissimilar."
   ]
  },
  {
   "cell_type": "code",
   "execution_count": 32,
   "metadata": {},
   "outputs": [],
   "source": [
    "count_matrix = cv.fit_transform(meta_5['all_content'])\n",
    "cos_sim = cosine_similarity(count_matrix)"
   ]
  },
  {
   "cell_type": "code",
   "execution_count": 33,
   "metadata": {},
   "outputs": [
    {
     "data": {
      "text/plain": [
       "2078     Nexxus Nexxus shampoo therappe, 33.8oz            \n",
       "16036    Suave Suave Professionals Shampoo, Rosemary Mint f\n",
       "25901    Suave Suave Professionals mens, shampoo/conditione\n",
       "28200    Nexxus promend shampoo, 33.8oz                    \n",
       "32687    Fekkai Fekkai Apple Cider Shampoo 236ml/8oz       \n",
       "Name: brand_title, dtype: object"
      ]
     },
     "execution_count": 33,
     "metadata": {},
     "output_type": "execute_result"
    }
   ],
   "source": [
    "recommend(2, cos_sim)"
   ]
  },
  {
   "cell_type": "markdown",
   "metadata": {},
   "source": [
    "Results from using TfidfVectorizer and CountVectorizer are exactly the same for the item in index 2"
   ]
  },
  {
   "cell_type": "code",
   "execution_count": 34,
   "metadata": {},
   "outputs": [],
   "source": [
    "indices_n = pd.Series(meta_5['asin'])\n",
    "inddict = indices_n.to_dict()\n",
    "inddict = dict((v,k) for k,v in inddict.items())"
   ]
  },
  {
   "cell_type": "code",
   "execution_count": 35,
   "metadata": {},
   "outputs": [],
   "source": [
    "def recommend_cosine(asin):\n",
    "    id = inddict[asin]\n",
    "    # Get the pairwise similarity scores of all products for this product,\n",
    "    # sort and derive top 5\n",
    "    similarity_scores = list(enumerate(cos_sim[id]))\n",
    "    similarity_scores = sorted(similarity_scores, key=lambda x: x[1], reverse=True)\n",
    "    similarity_scores = similarity_scores[1:6]\n",
    "    \n",
    "    # Get the items index\n",
    "    asin_index = [i[0] for i in similarity_scores]\n",
    "    \n",
    "    # Return the top 5 most similar products using iloc\n",
    "    return meta_5.iloc[asin_index]"
   ]
  },
  {
   "cell_type": "code",
   "execution_count": 36,
   "metadata": {},
   "outputs": [
    {
     "data": {
      "text/html": [
       "<div>\n",
       "<style scoped>\n",
       "    .dataframe tbody tr th:only-of-type {\n",
       "        vertical-align: middle;\n",
       "    }\n",
       "\n",
       "    .dataframe tbody tr th {\n",
       "        vertical-align: top;\n",
       "    }\n",
       "\n",
       "    .dataframe thead th {\n",
       "        text-align: right;\n",
       "    }\n",
       "</style>\n",
       "<table border=\"1\" class=\"dataframe\">\n",
       "  <thead>\n",
       "    <tr style=\"text-align: right;\">\n",
       "      <th></th>\n",
       "      <th>asin</th>\n",
       "      <th>description</th>\n",
       "      <th>price</th>\n",
       "      <th>brand_title</th>\n",
       "      <th>health_personal_care</th>\n",
       "      <th>beauty</th>\n",
       "      <th>main_cat</th>\n",
       "      <th>sub_cat</th>\n",
       "      <th>related_count</th>\n",
       "      <th>all_content</th>\n",
       "    </tr>\n",
       "  </thead>\n",
       "  <tbody>\n",
       "    <tr>\n",
       "      <th>2078</th>\n",
       "      <td>B0009I4MKW</td>\n",
       "      <td>no description</td>\n",
       "      <td>21.00</td>\n",
       "      <td>Nexxus Nexxus shampoo therappe, 33.8oz</td>\n",
       "      <td>-1.0</td>\n",
       "      <td>895.0</td>\n",
       "      <td>Hair Care</td>\n",
       "      <td>Shampoos</td>\n",
       "      <td>235.0</td>\n",
       "      <td>Nexxus Nexxus shampoo therappe, 33.8ozHair Careno descriptionShampoos</td>\n",
       "    </tr>\n",
       "    <tr>\n",
       "      <th>16036</th>\n",
       "      <td>B002VA4FXA</td>\n",
       "      <td>no description</td>\n",
       "      <td>19.99</td>\n",
       "      <td>Suave Suave Professionals Shampoo, Rosemary Mint f</td>\n",
       "      <td>-1.0</td>\n",
       "      <td>177752.0</td>\n",
       "      <td>Hair Care</td>\n",
       "      <td>Shampoos</td>\n",
       "      <td>0.0</td>\n",
       "      <td>Suave Suave Professionals Shampoo, Rosemary Mint fHair Careno descriptionShampoos</td>\n",
       "    </tr>\n",
       "    <tr>\n",
       "      <th>25901</th>\n",
       "      <td>B006N9LWWW</td>\n",
       "      <td>no description</td>\n",
       "      <td>10.35</td>\n",
       "      <td>Suave Suave Professionals mens, shampoo/conditione</td>\n",
       "      <td>-1.0</td>\n",
       "      <td>24913.0</td>\n",
       "      <td>Hair Care</td>\n",
       "      <td>Shampoos</td>\n",
       "      <td>140.0</td>\n",
       "      <td>Suave Suave Professionals mens, shampoo/conditioneHair Careno descriptionShampoos</td>\n",
       "    </tr>\n",
       "    <tr>\n",
       "      <th>28200</th>\n",
       "      <td>B008AGWLJ4</td>\n",
       "      <td>no description</td>\n",
       "      <td>15.97</td>\n",
       "      <td>Nexxus promend shampoo, 33.8oz</td>\n",
       "      <td>-1.0</td>\n",
       "      <td>18581.0</td>\n",
       "      <td>Hair Care</td>\n",
       "      <td>Shampoos</td>\n",
       "      <td>111.0</td>\n",
       "      <td>Nexxus promend shampoo, 33.8ozHair Careno descriptionShampoos</td>\n",
       "    </tr>\n",
       "    <tr>\n",
       "      <th>32687</th>\n",
       "      <td>B00EYZY5TY</td>\n",
       "      <td>no description</td>\n",
       "      <td>10.90</td>\n",
       "      <td>Fekkai Fekkai Apple Cider Shampoo 236ml/8oz</td>\n",
       "      <td>37518.0</td>\n",
       "      <td>-1.0</td>\n",
       "      <td>Hair Care</td>\n",
       "      <td>Shampoos</td>\n",
       "      <td>175.0</td>\n",
       "      <td>Fekkai Fekkai Apple Cider Shampoo 236ml/8ozHair Careno descriptionShampoos</td>\n",
       "    </tr>\n",
       "  </tbody>\n",
       "</table>\n",
       "</div>"
      ],
      "text/plain": [
       "             asin     description  price                                         brand_title  health_personal_care    beauty   main_cat   sub_cat  related_count                                                                        all_content\n",
       "2078   B0009I4MKW  no description  21.00  Nexxus Nexxus shampoo therappe, 33.8oz             -1.0                   895.0     Hair Care  Shampoos  235.0          Nexxus Nexxus shampoo therappe, 33.8ozHair Careno descriptionShampoos            \n",
       "16036  B002VA4FXA  no description  19.99  Suave Suave Professionals Shampoo, Rosemary Mint f -1.0                   177752.0  Hair Care  Shampoos  0.0            Suave Suave Professionals Shampoo, Rosemary Mint fHair Careno descriptionShampoos\n",
       "25901  B006N9LWWW  no description  10.35  Suave Suave Professionals mens, shampoo/conditione -1.0                   24913.0   Hair Care  Shampoos  140.0          Suave Suave Professionals mens, shampoo/conditioneHair Careno descriptionShampoos\n",
       "28200  B008AGWLJ4  no description  15.97  Nexxus promend shampoo, 33.8oz                     -1.0                   18581.0   Hair Care  Shampoos  111.0          Nexxus promend shampoo, 33.8ozHair Careno descriptionShampoos                    \n",
       "32687  B00EYZY5TY  no description  10.90  Fekkai Fekkai Apple Cider Shampoo 236ml/8oz         37518.0              -1.0       Hair Care  Shampoos  175.0          Fekkai Fekkai Apple Cider Shampoo 236ml/8ozHair Careno descriptionShampoos       "
      ]
     },
     "execution_count": 36,
     "metadata": {},
     "output_type": "execute_result"
    }
   ],
   "source": [
    "recommend_cosine('3227001381')"
   ]
  },
  {
   "cell_type": "code",
   "execution_count": 37,
   "metadata": {},
   "outputs": [],
   "source": [
    "tfidf_content_array = tfidf_all_content.toarray()"
   ]
  },
  {
   "cell_type": "code",
   "execution_count": 38,
   "metadata": {},
   "outputs": [],
   "source": [
    "def recommend_pearson(asin):\n",
    "    ind = inddict[asin]\n",
    "    correlation = []\n",
    "    for i in range(len(tfidf_content_array)):\n",
    "        correlation.append(pearsonr(tfidf_content_array[ind], tfidf_content_array[i])[0])\n",
    "    correlation = list(enumerate(correlation))\n",
    "    sorted_corr = sorted(correlation, reverse=True, key=lambda x: x[1])[1:6]\n",
    "    asin_index = [i[0] for i in sorted_corr]\n",
    "    return meta_5.iloc[asin_index]"
   ]
  },
  {
   "cell_type": "code",
   "execution_count": 39,
   "metadata": {},
   "outputs": [
    {
     "data": {
      "text/html": [
       "<div>\n",
       "<style scoped>\n",
       "    .dataframe tbody tr th:only-of-type {\n",
       "        vertical-align: middle;\n",
       "    }\n",
       "\n",
       "    .dataframe tbody tr th {\n",
       "        vertical-align: top;\n",
       "    }\n",
       "\n",
       "    .dataframe thead th {\n",
       "        text-align: right;\n",
       "    }\n",
       "</style>\n",
       "<table border=\"1\" class=\"dataframe\">\n",
       "  <thead>\n",
       "    <tr style=\"text-align: right;\">\n",
       "      <th></th>\n",
       "      <th>asin</th>\n",
       "      <th>description</th>\n",
       "      <th>price</th>\n",
       "      <th>brand_title</th>\n",
       "      <th>health_personal_care</th>\n",
       "      <th>beauty</th>\n",
       "      <th>main_cat</th>\n",
       "      <th>sub_cat</th>\n",
       "      <th>related_count</th>\n",
       "      <th>all_content</th>\n",
       "    </tr>\n",
       "  </thead>\n",
       "  <tbody>\n",
       "    <tr>\n",
       "      <th>2078</th>\n",
       "      <td>B0009I4MKW</td>\n",
       "      <td>no description</td>\n",
       "      <td>21.00</td>\n",
       "      <td>Nexxus Nexxus shampoo therappe, 33.8oz</td>\n",
       "      <td>-1.0</td>\n",
       "      <td>895.0</td>\n",
       "      <td>Hair Care</td>\n",
       "      <td>Shampoos</td>\n",
       "      <td>235.0</td>\n",
       "      <td>Nexxus Nexxus shampoo therappe, 33.8ozHair Careno descriptionShampoos</td>\n",
       "    </tr>\n",
       "    <tr>\n",
       "      <th>11389</th>\n",
       "      <td>B001EO5WYU</td>\n",
       "      <td>no description</td>\n",
       "      <td>16.69</td>\n",
       "      <td>Nexxus Color Assure Shampoo, 33.8Ounce Bottle</td>\n",
       "      <td>-1.0</td>\n",
       "      <td>3507.0</td>\n",
       "      <td>Hair Care</td>\n",
       "      <td>Shampoos</td>\n",
       "      <td>0.0</td>\n",
       "      <td>Nexxus Color Assure Shampoo, 33.8Ounce BottleHair Careno descriptionShampoos</td>\n",
       "    </tr>\n",
       "    <tr>\n",
       "      <th>12988</th>\n",
       "      <td>B001P1ZEJK</td>\n",
       "      <td>no description</td>\n",
       "      <td>4.22</td>\n",
       "      <td>Suave Suave, shampoo, humectant moisture, 28oz</td>\n",
       "      <td>-1.0</td>\n",
       "      <td>82593.0</td>\n",
       "      <td>Hair Care</td>\n",
       "      <td>Shampoos</td>\n",
       "      <td>60.0</td>\n",
       "      <td>Suave Suave, shampoo, humectant moisture, 28ozHair Careno descriptionShampoos</td>\n",
       "    </tr>\n",
       "    <tr>\n",
       "      <th>176</th>\n",
       "      <td>B0000530LO</td>\n",
       "      <td>no description</td>\n",
       "      <td>6.85</td>\n",
       "      <td>Suave Suave Naturals Shampoo, Daily Clarifying - 2</td>\n",
       "      <td>-1.0</td>\n",
       "      <td>10144.0</td>\n",
       "      <td>Hair Care</td>\n",
       "      <td>Shampoos</td>\n",
       "      <td>0.0</td>\n",
       "      <td>Suave Suave Naturals Shampoo, Daily Clarifying - 2Hair Careno descriptionShampoos</td>\n",
       "    </tr>\n",
       "    <tr>\n",
       "      <th>13765</th>\n",
       "      <td>B0020122ZS</td>\n",
       "      <td>no description</td>\n",
       "      <td>5.16</td>\n",
       "      <td>Suave Suave Kids 2 in 1 Shampoo and Conditioner, C</td>\n",
       "      <td>-1.0</td>\n",
       "      <td>58864.0</td>\n",
       "      <td>Hair Care</td>\n",
       "      <td>Shampoos</td>\n",
       "      <td>0.0</td>\n",
       "      <td>Suave Suave Kids 2 in 1 Shampoo and Conditioner, CHair Careno descriptionShampoos</td>\n",
       "    </tr>\n",
       "  </tbody>\n",
       "</table>\n",
       "</div>"
      ],
      "text/plain": [
       "             asin     description  price                                         brand_title  health_personal_care   beauty   main_cat   sub_cat  related_count                                                                        all_content\n",
       "2078   B0009I4MKW  no description  21.00  Nexxus Nexxus shampoo therappe, 33.8oz             -1.0                   895.0    Hair Care  Shampoos  235.0          Nexxus Nexxus shampoo therappe, 33.8ozHair Careno descriptionShampoos            \n",
       "11389  B001EO5WYU  no description  16.69  Nexxus Color Assure Shampoo, 33.8Ounce Bottle      -1.0                   3507.0   Hair Care  Shampoos  0.0            Nexxus Color Assure Shampoo, 33.8Ounce BottleHair Careno descriptionShampoos     \n",
       "12988  B001P1ZEJK  no description  4.22   Suave Suave, shampoo, humectant moisture, 28oz     -1.0                   82593.0  Hair Care  Shampoos  60.0           Suave Suave, shampoo, humectant moisture, 28ozHair Careno descriptionShampoos    \n",
       "176    B0000530LO  no description  6.85   Suave Suave Naturals Shampoo, Daily Clarifying - 2 -1.0                   10144.0  Hair Care  Shampoos  0.0            Suave Suave Naturals Shampoo, Daily Clarifying - 2Hair Careno descriptionShampoos\n",
       "13765  B0020122ZS  no description  5.16   Suave Suave Kids 2 in 1 Shampoo and Conditioner, C -1.0                   58864.0  Hair Care  Shampoos  0.0            Suave Suave Kids 2 in 1 Shampoo and Conditioner, CHair Careno descriptionShampoos"
      ]
     },
     "execution_count": 39,
     "metadata": {},
     "output_type": "execute_result"
    }
   ],
   "source": [
    "recommend_pearson('3227001381')"
   ]
  },
  {
   "cell_type": "code",
   "execution_count": 40,
   "metadata": {},
   "outputs": [],
   "source": [
    "D = euclidean_distances(tfidf_all_content)"
   ]
  },
  {
   "cell_type": "code",
   "execution_count": 41,
   "metadata": {},
   "outputs": [],
   "source": [
    "def recommend_euclidean(asin):\n",
    "    ind = inddict[asin]\n",
    "    distance = list(enumerate(D[ind]))\n",
    "    distance = sorted(distance, key=lambda x: x[1])\n",
    "    distance = distance[1:6]\n",
    "    #Get the items index\n",
    "    asin_index = [i[0] for i in distance]\n",
    "\n",
    "    #Return the top 5 most similar items using integar-location based indexing (iloc)\n",
    "    return meta_5.iloc[asin_index]"
   ]
  },
  {
   "cell_type": "code",
   "execution_count": 42,
   "metadata": {},
   "outputs": [
    {
     "data": {
      "text/html": [
       "<div>\n",
       "<style scoped>\n",
       "    .dataframe tbody tr th:only-of-type {\n",
       "        vertical-align: middle;\n",
       "    }\n",
       "\n",
       "    .dataframe tbody tr th {\n",
       "        vertical-align: top;\n",
       "    }\n",
       "\n",
       "    .dataframe thead th {\n",
       "        text-align: right;\n",
       "    }\n",
       "</style>\n",
       "<table border=\"1\" class=\"dataframe\">\n",
       "  <thead>\n",
       "    <tr style=\"text-align: right;\">\n",
       "      <th></th>\n",
       "      <th>asin</th>\n",
       "      <th>description</th>\n",
       "      <th>price</th>\n",
       "      <th>brand_title</th>\n",
       "      <th>health_personal_care</th>\n",
       "      <th>beauty</th>\n",
       "      <th>main_cat</th>\n",
       "      <th>sub_cat</th>\n",
       "      <th>related_count</th>\n",
       "      <th>all_content</th>\n",
       "    </tr>\n",
       "  </thead>\n",
       "  <tbody>\n",
       "    <tr>\n",
       "      <th>2078</th>\n",
       "      <td>B0009I4MKW</td>\n",
       "      <td>no description</td>\n",
       "      <td>21.00</td>\n",
       "      <td>Nexxus Nexxus shampoo therappe, 33.8oz</td>\n",
       "      <td>-1.0</td>\n",
       "      <td>895.0</td>\n",
       "      <td>Hair Care</td>\n",
       "      <td>Shampoos</td>\n",
       "      <td>235.0</td>\n",
       "      <td>Nexxus Nexxus shampoo therappe, 33.8ozHair Careno descriptionShampoos</td>\n",
       "    </tr>\n",
       "    <tr>\n",
       "      <th>16036</th>\n",
       "      <td>B002VA4FXA</td>\n",
       "      <td>no description</td>\n",
       "      <td>19.99</td>\n",
       "      <td>Suave Suave Professionals Shampoo, Rosemary Mint f</td>\n",
       "      <td>-1.0</td>\n",
       "      <td>177752.0</td>\n",
       "      <td>Hair Care</td>\n",
       "      <td>Shampoos</td>\n",
       "      <td>0.0</td>\n",
       "      <td>Suave Suave Professionals Shampoo, Rosemary Mint fHair Careno descriptionShampoos</td>\n",
       "    </tr>\n",
       "    <tr>\n",
       "      <th>25901</th>\n",
       "      <td>B006N9LWWW</td>\n",
       "      <td>no description</td>\n",
       "      <td>10.35</td>\n",
       "      <td>Suave Suave Professionals mens, shampoo/conditione</td>\n",
       "      <td>-1.0</td>\n",
       "      <td>24913.0</td>\n",
       "      <td>Hair Care</td>\n",
       "      <td>Shampoos</td>\n",
       "      <td>140.0</td>\n",
       "      <td>Suave Suave Professionals mens, shampoo/conditioneHair Careno descriptionShampoos</td>\n",
       "    </tr>\n",
       "    <tr>\n",
       "      <th>28200</th>\n",
       "      <td>B008AGWLJ4</td>\n",
       "      <td>no description</td>\n",
       "      <td>15.97</td>\n",
       "      <td>Nexxus promend shampoo, 33.8oz</td>\n",
       "      <td>-1.0</td>\n",
       "      <td>18581.0</td>\n",
       "      <td>Hair Care</td>\n",
       "      <td>Shampoos</td>\n",
       "      <td>111.0</td>\n",
       "      <td>Nexxus promend shampoo, 33.8ozHair Careno descriptionShampoos</td>\n",
       "    </tr>\n",
       "    <tr>\n",
       "      <th>32687</th>\n",
       "      <td>B00EYZY5TY</td>\n",
       "      <td>no description</td>\n",
       "      <td>10.90</td>\n",
       "      <td>Fekkai Fekkai Apple Cider Shampoo 236ml/8oz</td>\n",
       "      <td>37518.0</td>\n",
       "      <td>-1.0</td>\n",
       "      <td>Hair Care</td>\n",
       "      <td>Shampoos</td>\n",
       "      <td>175.0</td>\n",
       "      <td>Fekkai Fekkai Apple Cider Shampoo 236ml/8ozHair Careno descriptionShampoos</td>\n",
       "    </tr>\n",
       "  </tbody>\n",
       "</table>\n",
       "</div>"
      ],
      "text/plain": [
       "             asin     description  price                                         brand_title  health_personal_care    beauty   main_cat   sub_cat  related_count                                                                        all_content\n",
       "2078   B0009I4MKW  no description  21.00  Nexxus Nexxus shampoo therappe, 33.8oz             -1.0                   895.0     Hair Care  Shampoos  235.0          Nexxus Nexxus shampoo therappe, 33.8ozHair Careno descriptionShampoos            \n",
       "16036  B002VA4FXA  no description  19.99  Suave Suave Professionals Shampoo, Rosemary Mint f -1.0                   177752.0  Hair Care  Shampoos  0.0            Suave Suave Professionals Shampoo, Rosemary Mint fHair Careno descriptionShampoos\n",
       "25901  B006N9LWWW  no description  10.35  Suave Suave Professionals mens, shampoo/conditione -1.0                   24913.0   Hair Care  Shampoos  140.0          Suave Suave Professionals mens, shampoo/conditioneHair Careno descriptionShampoos\n",
       "28200  B008AGWLJ4  no description  15.97  Nexxus promend shampoo, 33.8oz                     -1.0                   18581.0   Hair Care  Shampoos  111.0          Nexxus promend shampoo, 33.8ozHair Careno descriptionShampoos                    \n",
       "32687  B00EYZY5TY  no description  10.90  Fekkai Fekkai Apple Cider Shampoo 236ml/8oz         37518.0              -1.0       Hair Care  Shampoos  175.0          Fekkai Fekkai Apple Cider Shampoo 236ml/8ozHair Careno descriptionShampoos       "
      ]
     },
     "execution_count": 42,
     "metadata": {},
     "output_type": "execute_result"
    }
   ],
   "source": [
    "recommend_euclidean('3227001381')"
   ]
  },
  {
   "cell_type": "markdown",
   "metadata": {},
   "source": [
    "Convert reviewerid from string to int type so it can be used for regression analysis"
   ]
  },
  {
   "cell_type": "code",
   "execution_count": 43,
   "metadata": {},
   "outputs": [
    {
     "data": {
      "text/html": [
       "<div>\n",
       "<style scoped>\n",
       "    .dataframe tbody tr th:only-of-type {\n",
       "        vertical-align: middle;\n",
       "    }\n",
       "\n",
       "    .dataframe tbody tr th {\n",
       "        vertical-align: top;\n",
       "    }\n",
       "\n",
       "    .dataframe thead th {\n",
       "        text-align: right;\n",
       "    }\n",
       "</style>\n",
       "<table border=\"1\" class=\"dataframe\">\n",
       "  <thead>\n",
       "    <tr style=\"text-align: right;\">\n",
       "      <th></th>\n",
       "      <th>reviewerID</th>\n",
       "      <th>userid</th>\n",
       "    </tr>\n",
       "  </thead>\n",
       "  <tbody>\n",
       "    <tr>\n",
       "      <th>0</th>\n",
       "      <td>A39HTATAQ9V7YF</td>\n",
       "      <td>725046</td>\n",
       "    </tr>\n",
       "    <tr>\n",
       "      <th>1</th>\n",
       "      <td>A3JM6GV9MNOF9X</td>\n",
       "      <td>814606</td>\n",
       "    </tr>\n",
       "    <tr>\n",
       "      <th>2</th>\n",
       "      <td>A1Z513UWSAAO0F</td>\n",
       "      <td>313101</td>\n",
       "    </tr>\n",
       "    <tr>\n",
       "      <th>3</th>\n",
       "      <td>A1WMRR494NWEWV</td>\n",
       "      <td>291075</td>\n",
       "    </tr>\n",
       "    <tr>\n",
       "      <th>4</th>\n",
       "      <td>A3IAAVS479H7M7</td>\n",
       "      <td>802842</td>\n",
       "    </tr>\n",
       "    <tr>\n",
       "      <th>5</th>\n",
       "      <td>AKJHHD5VEH7VG</td>\n",
       "      <td>1073169</td>\n",
       "    </tr>\n",
       "    <tr>\n",
       "      <th>6</th>\n",
       "      <td>A1BG8QW55XHN6U</td>\n",
       "      <td>102756</td>\n",
       "    </tr>\n",
       "    <tr>\n",
       "      <th>7</th>\n",
       "      <td>A22VW0P4VZHDE3</td>\n",
       "      <td>346278</td>\n",
       "    </tr>\n",
       "    <tr>\n",
       "      <th>8</th>\n",
       "      <td>A3V3RE4132GKRO</td>\n",
       "      <td>916162</td>\n",
       "    </tr>\n",
       "    <tr>\n",
       "      <th>9</th>\n",
       "      <td>A327B0I7CYTEJC</td>\n",
       "      <td>660058</td>\n",
       "    </tr>\n",
       "    <tr>\n",
       "      <th>10</th>\n",
       "      <td>A1BG8QW55XHN6U</td>\n",
       "      <td>102756</td>\n",
       "    </tr>\n",
       "  </tbody>\n",
       "</table>\n",
       "</div>"
      ],
      "text/plain": [
       "        reviewerID   userid\n",
       "0   A39HTATAQ9V7YF  725046 \n",
       "1   A3JM6GV9MNOF9X  814606 \n",
       "2   A1Z513UWSAAO0F  313101 \n",
       "3   A1WMRR494NWEWV  291075 \n",
       "4   A3IAAVS479H7M7  802842 \n",
       "5   AKJHHD5VEH7VG   1073169\n",
       "6   A1BG8QW55XHN6U  102756 \n",
       "7   A22VW0P4VZHDE3  346278 \n",
       "8   A3V3RE4132GKRO  916162 \n",
       "9   A327B0I7CYTEJC  660058 \n",
       "10  A1BG8QW55XHN6U  102756 "
      ]
     },
     "execution_count": 43,
     "metadata": {},
     "output_type": "execute_result"
    }
   ],
   "source": [
    "from sklearn.preprocessing import LabelEncoder\n",
    "\n",
    "lb_user = LabelEncoder()\n",
    "reviews[\"userid\"] = lb_user.fit_transform(reviews[\"reviewerID\"])\n",
    "reviews[[\"reviewerID\", \"userid\"]].head(11)"
   ]
  },
  {
   "cell_type": "code",
   "execution_count": 44,
   "metadata": {},
   "outputs": [
    {
     "data": {
      "text/html": [
       "<div>\n",
       "<style scoped>\n",
       "    .dataframe tbody tr th:only-of-type {\n",
       "        vertical-align: middle;\n",
       "    }\n",
       "\n",
       "    .dataframe tbody tr th {\n",
       "        vertical-align: top;\n",
       "    }\n",
       "\n",
       "    .dataframe thead th {\n",
       "        text-align: right;\n",
       "    }\n",
       "</style>\n",
       "<table border=\"1\" class=\"dataframe\">\n",
       "  <thead>\n",
       "    <tr style=\"text-align: right;\">\n",
       "      <th></th>\n",
       "      <th>reviewerID</th>\n",
       "      <th>asin</th>\n",
       "      <th>overall</th>\n",
       "      <th>reviewTime</th>\n",
       "      <th>review</th>\n",
       "      <th>upvotes</th>\n",
       "      <th>downvotes</th>\n",
       "      <th>word_count</th>\n",
       "      <th>polarity</th>\n",
       "      <th>userid</th>\n",
       "    </tr>\n",
       "  </thead>\n",
       "  <tbody>\n",
       "    <tr>\n",
       "      <th>0</th>\n",
       "      <td>A39HTATAQ9V7YF</td>\n",
       "      <td>0205616461</td>\n",
       "      <td>5</td>\n",
       "      <td>2013-05-28</td>\n",
       "      <td>bioactive antiaging serum love moisturizer would recommend someone dry skin fine lines wrinkles using brand day night serum</td>\n",
       "      <td>0</td>\n",
       "      <td>0</td>\n",
       "      <td>34</td>\n",
       "      <td>0.283333</td>\n",
       "      <td>725046</td>\n",
       "    </tr>\n",
       "    <tr>\n",
       "      <th>899125</th>\n",
       "      <td>A39HTATAQ9V7YF</td>\n",
       "      <td>B002OVV7F0</td>\n",
       "      <td>3</td>\n",
       "      <td>2013-05-28</td>\n",
       "      <td>haute model nyx liked different colorsbut find stay longand little bit powderythanks letting express opinion</td>\n",
       "      <td>0</td>\n",
       "      <td>0</td>\n",
       "      <td>29</td>\n",
       "      <td>0.137500</td>\n",
       "      <td>725046</td>\n",
       "    </tr>\n",
       "    <tr>\n",
       "      <th>969482</th>\n",
       "      <td>A39HTATAQ9V7YF</td>\n",
       "      <td>B0031IH5FQ</td>\n",
       "      <td>5</td>\n",
       "      <td>2013-05-28</td>\n",
       "      <td>bioactive antiaging cream love product rich texture good dry skin like mine reduces fine lines wrinkles</td>\n",
       "      <td>0</td>\n",
       "      <td>0</td>\n",
       "      <td>26</td>\n",
       "      <td>0.385000</td>\n",
       "      <td>725046</td>\n",
       "    </tr>\n",
       "    <tr>\n",
       "      <th>1499680</th>\n",
       "      <td>A39HTATAQ9V7YF</td>\n",
       "      <td>B006GQPZ8E</td>\n",
       "      <td>4</td>\n",
       "      <td>2013-05-28</td>\n",
       "      <td>peach parfit revlon found color beautiful smooth lipsstaying power okay like lipstick would recomend others</td>\n",
       "      <td>0</td>\n",
       "      <td>0</td>\n",
       "      <td>29</td>\n",
       "      <td>0.583333</td>\n",
       "      <td>725046</td>\n",
       "    </tr>\n",
       "  </tbody>\n",
       "</table>\n",
       "</div>"
      ],
      "text/plain": [
       "             reviewerID        asin  overall  reviewTime                                                                                                                       review  upvotes  downvotes  word_count  polarity  userid\n",
       "0        A39HTATAQ9V7YF  0205616461  5        2013-05-28  bioactive antiaging serum love moisturizer would recommend someone dry skin fine lines wrinkles using brand day night serum  0        0          34          0.283333  725046\n",
       "899125   A39HTATAQ9V7YF  B002OVV7F0  3        2013-05-28  haute model nyx liked different colorsbut find stay longand little bit powderythanks letting express opinion                 0        0          29          0.137500  725046\n",
       "969482   A39HTATAQ9V7YF  B0031IH5FQ  5        2013-05-28  bioactive antiaging cream love product rich texture good dry skin like mine reduces fine lines wrinkles                      0        0          26          0.385000  725046\n",
       "1499680  A39HTATAQ9V7YF  B006GQPZ8E  4        2013-05-28  peach parfit revlon found color beautiful smooth lipsstaying power okay like lipstick would recomend others                  0        0          29          0.583333  725046"
      ]
     },
     "execution_count": 44,
     "metadata": {},
     "output_type": "execute_result"
    }
   ],
   "source": [
    "reviews[reviews['reviewerID'] == 'A39HTATAQ9V7YF']"
   ]
  },
  {
   "cell_type": "code",
   "execution_count": 45,
   "metadata": {},
   "outputs": [
    {
     "data": {
      "text/html": [
       "<div>\n",
       "<style scoped>\n",
       "    .dataframe tbody tr th:only-of-type {\n",
       "        vertical-align: middle;\n",
       "    }\n",
       "\n",
       "    .dataframe tbody tr th {\n",
       "        vertical-align: top;\n",
       "    }\n",
       "\n",
       "    .dataframe thead th {\n",
       "        text-align: right;\n",
       "    }\n",
       "</style>\n",
       "<table border=\"1\" class=\"dataframe\">\n",
       "  <thead>\n",
       "    <tr style=\"text-align: right;\">\n",
       "      <th></th>\n",
       "      <th>reviewerID</th>\n",
       "      <th>asin</th>\n",
       "      <th>overall</th>\n",
       "      <th>reviewTime</th>\n",
       "      <th>review</th>\n",
       "      <th>upvotes</th>\n",
       "      <th>downvotes</th>\n",
       "      <th>word_count</th>\n",
       "      <th>polarity</th>\n",
       "      <th>userid</th>\n",
       "    </tr>\n",
       "  </thead>\n",
       "  <tbody>\n",
       "    <tr>\n",
       "      <th>0</th>\n",
       "      <td>A39HTATAQ9V7YF</td>\n",
       "      <td>0205616461</td>\n",
       "      <td>5</td>\n",
       "      <td>2013-05-28</td>\n",
       "      <td>bioactive antiaging serum love moisturizer would recommend someone dry skin fine lines wrinkles using brand day night serum</td>\n",
       "      <td>0</td>\n",
       "      <td>0</td>\n",
       "      <td>34</td>\n",
       "      <td>0.283333</td>\n",
       "      <td>725046</td>\n",
       "    </tr>\n",
       "    <tr>\n",
       "      <th>1</th>\n",
       "      <td>A3JM6GV9MNOF9X</td>\n",
       "      <td>0558925278</td>\n",
       "      <td>3</td>\n",
       "      <td>2012-12-14</td>\n",
       "      <td>product ok im use baby kabuki moment received product deadlinei tested baby kabuki quality material best packaging cute love itthe fibers smell soft</td>\n",
       "      <td>0</td>\n",
       "      <td>1</td>\n",
       "      <td>44</td>\n",
       "      <td>0.520000</td>\n",
       "      <td>814606</td>\n",
       "    </tr>\n",
       "  </tbody>\n",
       "</table>\n",
       "</div>"
      ],
      "text/plain": [
       "       reviewerID        asin  overall  reviewTime                                                                                                                                                review  upvotes  downvotes  word_count  polarity  userid\n",
       "0  A39HTATAQ9V7YF  0205616461  5        2013-05-28  bioactive antiaging serum love moisturizer would recommend someone dry skin fine lines wrinkles using brand day night serum                           0        0          34          0.283333  725046\n",
       "1  A3JM6GV9MNOF9X  0558925278  3        2012-12-14  product ok im use baby kabuki moment received product deadlinei tested baby kabuki quality material best packaging cute love itthe fibers smell soft  0        1          44          0.520000  814606"
      ]
     },
     "execution_count": 45,
     "metadata": {},
     "output_type": "execute_result"
    }
   ],
   "source": [
    "reviews.head(2)"
   ]
  },
  {
   "cell_type": "code",
   "execution_count": 46,
   "metadata": {
    "scrolled": true
   },
   "outputs": [
    {
     "data": {
      "text/html": [
       "<div>\n",
       "<style scoped>\n",
       "    .dataframe tbody tr th:only-of-type {\n",
       "        vertical-align: middle;\n",
       "    }\n",
       "\n",
       "    .dataframe tbody tr th {\n",
       "        vertical-align: top;\n",
       "    }\n",
       "\n",
       "    .dataframe thead th {\n",
       "        text-align: right;\n",
       "    }\n",
       "</style>\n",
       "<table border=\"1\" class=\"dataframe\">\n",
       "  <thead>\n",
       "    <tr style=\"text-align: right;\">\n",
       "      <th></th>\n",
       "      <th>asin</th>\n",
       "      <th>description</th>\n",
       "      <th>price</th>\n",
       "      <th>brand_title</th>\n",
       "      <th>health_personal_care</th>\n",
       "      <th>beauty</th>\n",
       "      <th>main_cat</th>\n",
       "      <th>sub_cat</th>\n",
       "      <th>related_count</th>\n",
       "      <th>all_content</th>\n",
       "      <th>reviewerID</th>\n",
       "      <th>overall</th>\n",
       "      <th>reviewTime</th>\n",
       "      <th>review</th>\n",
       "      <th>upvotes</th>\n",
       "      <th>downvotes</th>\n",
       "      <th>word_count</th>\n",
       "      <th>polarity</th>\n",
       "      <th>userid</th>\n",
       "    </tr>\n",
       "  </thead>\n",
       "  <tbody>\n",
       "    <tr>\n",
       "      <th>0</th>\n",
       "      <td>1304351475</td>\n",
       "      <td>too faced natural eye shadow palette color include heaven silk teddy nude beach velvet revolver pushup honey pot sexspresso erotica cocoa puff collectible tin version new box full size</td>\n",
       "      <td>33.99</td>\n",
       "      <td>Omagazee NEW EUROPEAN COLLECTION Too Faced Natural</td>\n",
       "      <td>-1.0</td>\n",
       "      <td>15567.0</td>\n",
       "      <td>Makeup</td>\n",
       "      <td>Eyes</td>\n",
       "      <td>309.0</td>\n",
       "      <td>Omagazee NEW EUROPEAN COLLECTION Too Faced NaturalMakeuptoo faced natural eye shadow palette color include heaven silk teddy nude beach velvet revolver pushup honey pot sexspresso erotica cocoa puff collectible tin version new box full sizeEyes</td>\n",
       "      <td>A1RXI3A1E99112</td>\n",
       "      <td>5</td>\n",
       "      <td>2014-07-14</td>\n",
       "      <td>great product use almost every day well worth price lovetoo faced products go smooth last pretty long colors coordinated use lot different looks great product</td>\n",
       "      <td>0</td>\n",
       "      <td>0</td>\n",
       "      <td>45</td>\n",
       "      <td>0.312500</td>\n",
       "      <td>249303</td>\n",
       "    </tr>\n",
       "    <tr>\n",
       "      <th>1</th>\n",
       "      <td>1304351475</td>\n",
       "      <td>too faced natural eye shadow palette color include heaven silk teddy nude beach velvet revolver pushup honey pot sexspresso erotica cocoa puff collectible tin version new box full size</td>\n",
       "      <td>33.99</td>\n",
       "      <td>Omagazee NEW EUROPEAN COLLECTION Too Faced Natural</td>\n",
       "      <td>-1.0</td>\n",
       "      <td>15567.0</td>\n",
       "      <td>Makeup</td>\n",
       "      <td>Eyes</td>\n",
       "      <td>309.0</td>\n",
       "      <td>Omagazee NEW EUROPEAN COLLECTION Too Faced NaturalMakeuptoo faced natural eye shadow palette color include heaven silk teddy nude beach velvet revolver pushup honey pot sexspresso erotica cocoa puff collectible tin version new box full sizeEyes</td>\n",
       "      <td>A26QL1FBQO9C0E</td>\n",
       "      <td>5</td>\n",
       "      <td>2014-02-11</td>\n",
       "      <td>great palette colors really pigmented palette creates beautiful natural eye without eyes looking crazy love</td>\n",
       "      <td>0</td>\n",
       "      <td>0</td>\n",
       "      <td>24</td>\n",
       "      <td>0.308333</td>\n",
       "      <td>380136</td>\n",
       "    </tr>\n",
       "  </tbody>\n",
       "</table>\n",
       "</div>"
      ],
      "text/plain": [
       "         asin                                                                                                                                                                               description  price                                         brand_title  health_personal_care   beauty main_cat sub_cat  related_count                                                                                                                                                                                                                                           all_content      reviewerID  overall  reviewTime                                                                                                                                                          review  upvotes  downvotes  word_count  polarity  userid\n",
       "0  1304351475  too faced natural eye shadow palette color include heaven silk teddy nude beach velvet revolver pushup honey pot sexspresso erotica cocoa puff collectible tin version new box full size  33.99  Omagazee NEW EUROPEAN COLLECTION Too Faced Natural -1.0                   15567.0  Makeup   Eyes    309.0          Omagazee NEW EUROPEAN COLLECTION Too Faced NaturalMakeuptoo faced natural eye shadow palette color include heaven silk teddy nude beach velvet revolver pushup honey pot sexspresso erotica cocoa puff collectible tin version new box full sizeEyes  A1RXI3A1E99112  5        2014-07-14  great product use almost every day well worth price lovetoo faced products go smooth last pretty long colors coordinated use lot different looks great product  0        0          45          0.312500  249303\n",
       "1  1304351475  too faced natural eye shadow palette color include heaven silk teddy nude beach velvet revolver pushup honey pot sexspresso erotica cocoa puff collectible tin version new box full size  33.99  Omagazee NEW EUROPEAN COLLECTION Too Faced Natural -1.0                   15567.0  Makeup   Eyes    309.0          Omagazee NEW EUROPEAN COLLECTION Too Faced NaturalMakeuptoo faced natural eye shadow palette color include heaven silk teddy nude beach velvet revolver pushup honey pot sexspresso erotica cocoa puff collectible tin version new box full sizeEyes  A26QL1FBQO9C0E  5        2014-02-11  great palette colors really pigmented palette creates beautiful natural eye without eyes looking crazy love                                                     0        0          24          0.308333  380136"
      ]
     },
     "execution_count": 46,
     "metadata": {},
     "output_type": "execute_result"
    }
   ],
   "source": [
    "data = meta_5.merge(reviews, on='asin')\n",
    "data.head(2)"
   ]
  },
  {
   "cell_type": "markdown",
   "metadata": {},
   "source": [
    "Perform one-hot encoding for main_cat so it can be used in regression analysis as well"
   ]
  },
  {
   "cell_type": "code",
   "execution_count": 47,
   "metadata": {},
   "outputs": [],
   "source": [
    "maincat_df = pd.get_dummies(data['main_cat'])\n",
    "final_df = pd.concat([data, maincat_df], axis=1)"
   ]
  },
  {
   "cell_type": "code",
   "execution_count": 48,
   "metadata": {},
   "outputs": [
    {
     "data": {
      "text/html": [
       "<div>\n",
       "<style scoped>\n",
       "    .dataframe tbody tr th:only-of-type {\n",
       "        vertical-align: middle;\n",
       "    }\n",
       "\n",
       "    .dataframe tbody tr th {\n",
       "        vertical-align: top;\n",
       "    }\n",
       "\n",
       "    .dataframe thead th {\n",
       "        text-align: right;\n",
       "    }\n",
       "</style>\n",
       "<table border=\"1\" class=\"dataframe\">\n",
       "  <thead>\n",
       "    <tr style=\"text-align: right;\">\n",
       "      <th></th>\n",
       "      <th>asin</th>\n",
       "      <th>description</th>\n",
       "      <th>price</th>\n",
       "      <th>brand_title</th>\n",
       "      <th>health_personal_care</th>\n",
       "      <th>beauty</th>\n",
       "      <th>main_cat</th>\n",
       "      <th>sub_cat</th>\n",
       "      <th>related_count</th>\n",
       "      <th>all_content</th>\n",
       "      <th>reviewerID</th>\n",
       "      <th>overall</th>\n",
       "      <th>reviewTime</th>\n",
       "      <th>review</th>\n",
       "      <th>upvotes</th>\n",
       "      <th>downvotes</th>\n",
       "      <th>word_count</th>\n",
       "      <th>polarity</th>\n",
       "      <th>userid</th>\n",
       "      <th>Bath &amp; Body</th>\n",
       "      <th>Fragrance</th>\n",
       "      <th>Hair Care</th>\n",
       "      <th>Makeup</th>\n",
       "      <th>Personal Care</th>\n",
       "      <th>Skin Care</th>\n",
       "      <th>Tools &amp; Accessories</th>\n",
       "    </tr>\n",
       "  </thead>\n",
       "  <tbody>\n",
       "    <tr>\n",
       "      <th>0</th>\n",
       "      <td>1304351475</td>\n",
       "      <td>too faced natural eye shadow palette color include heaven silk teddy nude beach velvet revolver pushup honey pot sexspresso erotica cocoa puff collectible tin version new box full size</td>\n",
       "      <td>33.99</td>\n",
       "      <td>Omagazee NEW EUROPEAN COLLECTION Too Faced Natural</td>\n",
       "      <td>-1.0</td>\n",
       "      <td>15567.0</td>\n",
       "      <td>Makeup</td>\n",
       "      <td>Eyes</td>\n",
       "      <td>309.0</td>\n",
       "      <td>Omagazee NEW EUROPEAN COLLECTION Too Faced NaturalMakeuptoo faced natural eye shadow palette color include heaven silk teddy nude beach velvet revolver pushup honey pot sexspresso erotica cocoa puff collectible tin version new box full sizeEyes</td>\n",
       "      <td>A1RXI3A1E99112</td>\n",
       "      <td>5</td>\n",
       "      <td>2014-07-14</td>\n",
       "      <td>great product use almost every day well worth price lovetoo faced products go smooth last pretty long colors coordinated use lot different looks great product</td>\n",
       "      <td>0</td>\n",
       "      <td>0</td>\n",
       "      <td>45</td>\n",
       "      <td>0.312500</td>\n",
       "      <td>249303</td>\n",
       "      <td>0</td>\n",
       "      <td>0</td>\n",
       "      <td>0</td>\n",
       "      <td>1</td>\n",
       "      <td>0</td>\n",
       "      <td>0</td>\n",
       "      <td>0</td>\n",
       "    </tr>\n",
       "    <tr>\n",
       "      <th>1</th>\n",
       "      <td>1304351475</td>\n",
       "      <td>too faced natural eye shadow palette color include heaven silk teddy nude beach velvet revolver pushup honey pot sexspresso erotica cocoa puff collectible tin version new box full size</td>\n",
       "      <td>33.99</td>\n",
       "      <td>Omagazee NEW EUROPEAN COLLECTION Too Faced Natural</td>\n",
       "      <td>-1.0</td>\n",
       "      <td>15567.0</td>\n",
       "      <td>Makeup</td>\n",
       "      <td>Eyes</td>\n",
       "      <td>309.0</td>\n",
       "      <td>Omagazee NEW EUROPEAN COLLECTION Too Faced NaturalMakeuptoo faced natural eye shadow palette color include heaven silk teddy nude beach velvet revolver pushup honey pot sexspresso erotica cocoa puff collectible tin version new box full sizeEyes</td>\n",
       "      <td>A26QL1FBQO9C0E</td>\n",
       "      <td>5</td>\n",
       "      <td>2014-02-11</td>\n",
       "      <td>great palette colors really pigmented palette creates beautiful natural eye without eyes looking crazy love</td>\n",
       "      <td>0</td>\n",
       "      <td>0</td>\n",
       "      <td>24</td>\n",
       "      <td>0.308333</td>\n",
       "      <td>380136</td>\n",
       "      <td>0</td>\n",
       "      <td>0</td>\n",
       "      <td>0</td>\n",
       "      <td>1</td>\n",
       "      <td>0</td>\n",
       "      <td>0</td>\n",
       "      <td>0</td>\n",
       "    </tr>\n",
       "  </tbody>\n",
       "</table>\n",
       "</div>"
      ],
      "text/plain": [
       "         asin                                                                                                                                                                               description  price                                         brand_title  health_personal_care   beauty main_cat sub_cat  related_count                                                                                                                                                                                                                                           all_content      reviewerID  overall  reviewTime                                                                                                                                                          review  upvotes  downvotes  word_count  polarity  userid  Bath & Body  Fragrance  Hair Care  Makeup  Personal Care  Skin Care  Tools & Accessories\n",
       "0  1304351475  too faced natural eye shadow palette color include heaven silk teddy nude beach velvet revolver pushup honey pot sexspresso erotica cocoa puff collectible tin version new box full size  33.99  Omagazee NEW EUROPEAN COLLECTION Too Faced Natural -1.0                   15567.0  Makeup   Eyes    309.0          Omagazee NEW EUROPEAN COLLECTION Too Faced NaturalMakeuptoo faced natural eye shadow palette color include heaven silk teddy nude beach velvet revolver pushup honey pot sexspresso erotica cocoa puff collectible tin version new box full sizeEyes  A1RXI3A1E99112  5        2014-07-14  great product use almost every day well worth price lovetoo faced products go smooth last pretty long colors coordinated use lot different looks great product  0        0          45          0.312500  249303  0            0          0          1       0              0          0                  \n",
       "1  1304351475  too faced natural eye shadow palette color include heaven silk teddy nude beach velvet revolver pushup honey pot sexspresso erotica cocoa puff collectible tin version new box full size  33.99  Omagazee NEW EUROPEAN COLLECTION Too Faced Natural -1.0                   15567.0  Makeup   Eyes    309.0          Omagazee NEW EUROPEAN COLLECTION Too Faced NaturalMakeuptoo faced natural eye shadow palette color include heaven silk teddy nude beach velvet revolver pushup honey pot sexspresso erotica cocoa puff collectible tin version new box full sizeEyes  A26QL1FBQO9C0E  5        2014-02-11  great palette colors really pigmented palette creates beautiful natural eye without eyes looking crazy love                                                     0        0          24          0.308333  380136  0            0          0          1       0              0          0                  "
      ]
     },
     "execution_count": 48,
     "metadata": {},
     "output_type": "execute_result"
    }
   ],
   "source": [
    "final_df.head(2)"
   ]
  },
  {
   "cell_type": "code",
   "execution_count": 49,
   "metadata": {},
   "outputs": [
    {
     "data": {
      "text/html": [
       "<div>\n",
       "<style scoped>\n",
       "    .dataframe tbody tr th:only-of-type {\n",
       "        vertical-align: middle;\n",
       "    }\n",
       "\n",
       "    .dataframe tbody tr th {\n",
       "        vertical-align: top;\n",
       "    }\n",
       "\n",
       "    .dataframe thead th {\n",
       "        text-align: right;\n",
       "    }\n",
       "</style>\n",
       "<table border=\"1\" class=\"dataframe\">\n",
       "  <thead>\n",
       "    <tr style=\"text-align: right;\">\n",
       "      <th></th>\n",
       "      <th>asin</th>\n",
       "      <th>price</th>\n",
       "      <th>health_personal_care</th>\n",
       "      <th>beauty</th>\n",
       "      <th>related_count</th>\n",
       "      <th>overall</th>\n",
       "      <th>upvotes</th>\n",
       "      <th>downvotes</th>\n",
       "      <th>word_count</th>\n",
       "      <th>polarity</th>\n",
       "      <th>userid</th>\n",
       "      <th>Bath &amp; Body</th>\n",
       "      <th>Fragrance</th>\n",
       "      <th>Hair Care</th>\n",
       "      <th>Makeup</th>\n",
       "      <th>Personal Care</th>\n",
       "      <th>Skin Care</th>\n",
       "      <th>Tools &amp; Accessories</th>\n",
       "    </tr>\n",
       "  </thead>\n",
       "  <tbody>\n",
       "    <tr>\n",
       "      <th>0</th>\n",
       "      <td>1304351475</td>\n",
       "      <td>33.99</td>\n",
       "      <td>-1.0</td>\n",
       "      <td>15567.0</td>\n",
       "      <td>309.0</td>\n",
       "      <td>5</td>\n",
       "      <td>0</td>\n",
       "      <td>0</td>\n",
       "      <td>45</td>\n",
       "      <td>0.312500</td>\n",
       "      <td>249303</td>\n",
       "      <td>0</td>\n",
       "      <td>0</td>\n",
       "      <td>0</td>\n",
       "      <td>1</td>\n",
       "      <td>0</td>\n",
       "      <td>0</td>\n",
       "      <td>0</td>\n",
       "    </tr>\n",
       "    <tr>\n",
       "      <th>1</th>\n",
       "      <td>1304351475</td>\n",
       "      <td>33.99</td>\n",
       "      <td>-1.0</td>\n",
       "      <td>15567.0</td>\n",
       "      <td>309.0</td>\n",
       "      <td>5</td>\n",
       "      <td>0</td>\n",
       "      <td>0</td>\n",
       "      <td>24</td>\n",
       "      <td>0.308333</td>\n",
       "      <td>380136</td>\n",
       "      <td>0</td>\n",
       "      <td>0</td>\n",
       "      <td>0</td>\n",
       "      <td>1</td>\n",
       "      <td>0</td>\n",
       "      <td>0</td>\n",
       "      <td>0</td>\n",
       "    </tr>\n",
       "  </tbody>\n",
       "</table>\n",
       "</div>"
      ],
      "text/plain": [
       "         asin  price  health_personal_care   beauty  related_count  overall  upvotes  downvotes  word_count  polarity  userid  Bath & Body  Fragrance  Hair Care  Makeup  Personal Care  Skin Care  Tools & Accessories\n",
       "0  1304351475  33.99 -1.0                   15567.0  309.0          5        0        0          45          0.312500  249303  0            0          0          1       0              0          0                  \n",
       "1  1304351475  33.99 -1.0                   15567.0  309.0          5        0        0          24          0.308333  380136  0            0          0          1       0              0          0                  "
      ]
     },
     "execution_count": 49,
     "metadata": {},
     "output_type": "execute_result"
    }
   ],
   "source": [
    "final_df.drop(columns=['description','brand_title','main_cat','sub_cat','all_content'], axis=1, inplace=True)\n",
    "final_df.drop(columns=['reviewTime','review','reviewerID'], axis=1, inplace=True)\n",
    "final_df.head(2)"
   ]
  },
  {
   "cell_type": "markdown",
   "metadata": {},
   "source": [
    "Finally, let's create different regression models for rating predictions based on all numerical columns."
   ]
  },
  {
   "cell_type": "code",
   "execution_count": 50,
   "metadata": {},
   "outputs": [],
   "source": [
    "from sklearn.preprocessing import StandardScaler\n",
    "from sklearn.pipeline import Pipeline\n",
    "\n",
    "# import regression models and metrics\n",
    "from sklearn.linear_model import Lasso\n",
    "from sklearn.linear_model import Ridge\n",
    "from sklearn.ensemble import RandomForestRegressor\n",
    "from sklearn.ensemble import GradientBoostingRegressor \n",
    "from sklearn.metrics import r2_score, mean_squared_error"
   ]
  },
  {
   "cell_type": "code",
   "execution_count": 51,
   "metadata": {},
   "outputs": [],
   "source": [
    "trainset, testset = train_test_split(final_df, test_size=0.25)"
   ]
  },
  {
   "cell_type": "code",
   "execution_count": 52,
   "metadata": {},
   "outputs": [],
   "source": [
    "X_train, y_train = trainset.drop(['asin','overall'], axis=1), trainset.overall\n",
    "X_test, y_test = testset.drop(['asin','overall'], axis=1), testset.overall"
   ]
  },
  {
   "cell_type": "code",
   "execution_count": 53,
   "metadata": {},
   "outputs": [],
   "source": [
    "index = ['Lasso','Ridge','RandomForestRegressor','GradientBoostingRegressor']\n",
    "score_table = pd.DataFrame(index = index, columns= ['r2_train','mse_train','rmse_train','r2_test','mse_test','rmse_test'])"
   ]
  },
  {
   "cell_type": "code",
   "execution_count": 54,
   "metadata": {},
   "outputs": [],
   "source": [
    "def compute_log_result(algo, pred_train, pred_test):\n",
    "    r2_train = r2_score(y_train, pred_train)\n",
    "    r2_test = r2_score(y_test, pred_test)\n",
    "    mse_train = mean_squared_error(y_train, pred_train)\n",
    "    mse_test = mean_squared_error(y_test, pred_test)\n",
    "    rmse_train = np.sqrt(mse_train)\n",
    "    rmse_test = np.sqrt(mse_test)\n",
    "    score_table.loc[algo,:] = r2_train, mse_train, rmse_train, r2_test, mse_test, rmse_test"
   ]
  },
  {
   "cell_type": "code",
   "execution_count": 55,
   "metadata": {},
   "outputs": [],
   "source": [
    "lasso = Pipeline([('scaler', StandardScaler()),('lasso', Lasso(alpha=0.0015, max_iter=1000, selection='random'))])\n",
    "lasso.fit(X_train, y_train)\n",
    "pred_train = lasso.predict(X_train)\n",
    "pred_test = lasso.predict(X_test)\n",
    "compute_log_result(\"Lasso\", pred_train, pred_test)"
   ]
  },
  {
   "cell_type": "code",
   "execution_count": 56,
   "metadata": {},
   "outputs": [],
   "source": [
    "ridge = Pipeline([('scaler', StandardScaler()),('ridge',Ridge(alpha=100,max_iter=1000,tol=0.001))])\n",
    "ridge.fit(X_train, y_train)\n",
    "pred_train = ridge.predict(X_train)\n",
    "pred_test = ridge.predict(X_test)\n",
    "compute_log_result(\"Ridge\", pred_train, pred_test)"
   ]
  },
  {
   "cell_type": "code",
   "execution_count": 57,
   "metadata": {},
   "outputs": [],
   "source": [
    "rfr = Pipeline([('scaler', StandardScaler()),('rfr', RandomForestRegressor(n_estimators=70, max_features='log2'))])\n",
    "rfr.fit(X_train, y_train)\n",
    "pred_train = rfr.predict(X_train)\n",
    "pred_test = rfr.predict(X_test)\n",
    "compute_log_result(\"RandomForestRegressor\", pred_train, pred_test)"
   ]
  },
  {
   "cell_type": "code",
   "execution_count": 58,
   "metadata": {},
   "outputs": [],
   "source": [
    "gbr = Pipeline([('scaler', StandardScaler()),('gbr', GradientBoostingRegressor(n_estimators=400, max_features='log2'))])\n",
    "gbr.fit(X_train, y_train)\n",
    "pred_train = gbr.predict(X_train)\n",
    "pred_test = gbr.predict(X_test)\n",
    "compute_log_result(\"GradientBoostingRegressor\", pred_train, pred_test)"
   ]
  },
  {
   "cell_type": "code",
   "execution_count": 59,
   "metadata": {},
   "outputs": [
    {
     "data": {
      "text/html": [
       "<div>\n",
       "<style scoped>\n",
       "    .dataframe tbody tr th:only-of-type {\n",
       "        vertical-align: middle;\n",
       "    }\n",
       "\n",
       "    .dataframe tbody tr th {\n",
       "        vertical-align: top;\n",
       "    }\n",
       "\n",
       "    .dataframe thead th {\n",
       "        text-align: right;\n",
       "    }\n",
       "</style>\n",
       "<table border=\"1\" class=\"dataframe\">\n",
       "  <thead>\n",
       "    <tr style=\"text-align: right;\">\n",
       "      <th></th>\n",
       "      <th>r2_train</th>\n",
       "      <th>mse_train</th>\n",
       "      <th>rmse_train</th>\n",
       "      <th>r2_test</th>\n",
       "      <th>mse_test</th>\n",
       "      <th>rmse_test</th>\n",
       "    </tr>\n",
       "  </thead>\n",
       "  <tbody>\n",
       "    <tr>\n",
       "      <th>Lasso</th>\n",
       "      <td>0.236038</td>\n",
       "      <td>1.30334</td>\n",
       "      <td>1.14164</td>\n",
       "      <td>0.2372</td>\n",
       "      <td>1.29666</td>\n",
       "      <td>1.13871</td>\n",
       "    </tr>\n",
       "    <tr>\n",
       "      <th>Ridge</th>\n",
       "      <td>0.236289</td>\n",
       "      <td>1.30291</td>\n",
       "      <td>1.14145</td>\n",
       "      <td>0.237376</td>\n",
       "      <td>1.29636</td>\n",
       "      <td>1.13858</td>\n",
       "    </tr>\n",
       "    <tr>\n",
       "      <th>RandomForestRegressor</th>\n",
       "      <td>0.902064</td>\n",
       "      <td>0.167081</td>\n",
       "      <td>0.408756</td>\n",
       "      <td>0.313068</td>\n",
       "      <td>1.1677</td>\n",
       "      <td>1.0806</td>\n",
       "    </tr>\n",
       "    <tr>\n",
       "      <th>GradientBoostingRegressor</th>\n",
       "      <td>0.31845</td>\n",
       "      <td>1.16275</td>\n",
       "      <td>1.07831</td>\n",
       "      <td>0.318015</td>\n",
       "      <td>1.15929</td>\n",
       "      <td>1.0767</td>\n",
       "    </tr>\n",
       "  </tbody>\n",
       "</table>\n",
       "</div>"
      ],
      "text/plain": [
       "                           r2_train mse_train rmse_train   r2_test mse_test rmse_test\n",
       "Lasso                      0.236038  1.30334   1.14164    0.2372    1.29666  1.13871 \n",
       "Ridge                      0.236289  1.30291   1.14145    0.237376  1.29636  1.13858 \n",
       "RandomForestRegressor      0.902064  0.167081  0.408756   0.313068  1.1677   1.0806  \n",
       "GradientBoostingRegressor  0.31845   1.16275   1.07831    0.318015  1.15929  1.0767  "
      ]
     },
     "execution_count": 59,
     "metadata": {},
     "output_type": "execute_result"
    }
   ],
   "source": [
    "score_table"
   ]
  },
  {
   "cell_type": "markdown",
   "metadata": {},
   "source": [
    "#### Pros:\n",
    "\n",
    "1. If the items have sufficient descriptions, the new item problem can be avoided.\n",
    "\n",
    "2. This method has to only analyze the item profiles for making recommendations. It is independent of other users' profiles and ratings.\n",
    "\n",
    "#### Cons:\n",
    "\n",
    "1. Recommendations will not be precise if the items are not described precisely.\n",
    "\n",
    "2. There may not be much novelty in the recommendations made to a user. All recommended items will be similar to those that they have already rated."
   ]
  },
  {
   "cell_type": "code",
   "execution_count": null,
   "metadata": {},
   "outputs": [],
   "source": []
  }
 ],
 "metadata": {
  "kernelspec": {
   "display_name": "Python 3",
   "language": "python",
   "name": "python3"
  },
  "language_info": {
   "codemirror_mode": {
    "name": "ipython",
    "version": 3
   },
   "file_extension": ".py",
   "mimetype": "text/x-python",
   "name": "python",
   "nbconvert_exporter": "python",
   "pygments_lexer": "ipython3",
   "version": "3.7.3"
  }
 },
 "nbformat": 4,
 "nbformat_minor": 2
}
