{
 "cells": [
  {
   "cell_type": "markdown",
   "metadata": {},
   "source": [
    "<h1><center>Data Wrangling - Reviews File</center></h1>"
   ]
  },
  {
   "cell_type": "code",
   "execution_count": 1,
   "metadata": {},
   "outputs": [],
   "source": [
    "import pandas as pd\n",
    "import numpy as np"
   ]
  },
  {
   "cell_type": "markdown",
   "metadata": {},
   "source": [
    "Read the product reviews file into a dataframe"
   ]
  },
  {
   "cell_type": "code",
   "execution_count": 2,
   "metadata": {},
   "outputs": [
    {
     "data": {
      "text/html": [
       "<div>\n",
       "<style scoped>\n",
       "    .dataframe tbody tr th:only-of-type {\n",
       "        vertical-align: middle;\n",
       "    }\n",
       "\n",
       "    .dataframe tbody tr th {\n",
       "        vertical-align: top;\n",
       "    }\n",
       "\n",
       "    .dataframe thead th {\n",
       "        text-align: right;\n",
       "    }\n",
       "</style>\n",
       "<table border=\"1\" class=\"dataframe\">\n",
       "  <thead>\n",
       "    <tr style=\"text-align: right;\">\n",
       "      <th></th>\n",
       "      <th>Unnamed: 0</th>\n",
       "      <th>reviewerID</th>\n",
       "      <th>asin</th>\n",
       "      <th>reviewerName</th>\n",
       "      <th>helpful</th>\n",
       "      <th>reviewText</th>\n",
       "      <th>overall</th>\n",
       "      <th>summary</th>\n",
       "      <th>unixReviewTime</th>\n",
       "      <th>reviewTime</th>\n",
       "    </tr>\n",
       "  </thead>\n",
       "  <tbody>\n",
       "    <tr>\n",
       "      <th>0</th>\n",
       "      <td>0</td>\n",
       "      <td>A39HTATAQ9V7YF</td>\n",
       "      <td>0205616461</td>\n",
       "      <td>cheryl roberts</td>\n",
       "      <td>[0, 0]</td>\n",
       "      <td>i do love this moisturizer and would recommend...</td>\n",
       "      <td>5.0</td>\n",
       "      <td>bio-active anti-aging serum</td>\n",
       "      <td>1369699200</td>\n",
       "      <td>05 28, 2013</td>\n",
       "    </tr>\n",
       "    <tr>\n",
       "      <th>1</th>\n",
       "      <td>1</td>\n",
       "      <td>A3JM6GV9MNOF9X</td>\n",
       "      <td>0558925278</td>\n",
       "      <td>Patty</td>\n",
       "      <td>[0, 1]</td>\n",
       "      <td>I received this product before the deadline.I ...</td>\n",
       "      <td>3.0</td>\n",
       "      <td>This product is ok, I'm use Baby Kabuki in moment</td>\n",
       "      <td>1355443200</td>\n",
       "      <td>12 14, 2012</td>\n",
       "    </tr>\n",
       "  </tbody>\n",
       "</table>\n",
       "</div>"
      ],
      "text/plain": [
       "   Unnamed: 0      reviewerID        asin    reviewerName helpful  \\\n",
       "0           0  A39HTATAQ9V7YF  0205616461  cheryl roberts  [0, 0]   \n",
       "1           1  A3JM6GV9MNOF9X  0558925278           Patty  [0, 1]   \n",
       "\n",
       "                                          reviewText  overall  \\\n",
       "0  i do love this moisturizer and would recommend...      5.0   \n",
       "1  I received this product before the deadline.I ...      3.0   \n",
       "\n",
       "                                             summary  unixReviewTime  \\\n",
       "0                        bio-active anti-aging serum      1369699200   \n",
       "1  This product is ok, I'm use Baby Kabuki in moment      1355443200   \n",
       "\n",
       "    reviewTime  \n",
       "0  05 28, 2013  \n",
       "1  12 14, 2012  "
      ]
     },
     "execution_count": 2,
     "metadata": {},
     "output_type": "execute_result"
    }
   ],
   "source": [
    "reviews = pd.read_csv('reviews_beauty.csv')\n",
    "reviews.head(2)"
   ]
  },
  {
   "cell_type": "code",
   "execution_count": 3,
   "metadata": {},
   "outputs": [
    {
     "name": "stdout",
     "output_type": "stream",
     "text": [
      "<class 'pandas.core.frame.DataFrame'>\n",
      "RangeIndex: 2023070 entries, 0 to 2023069\n",
      "Data columns (total 10 columns):\n",
      "Unnamed: 0        2023070 non-null int64\n",
      "reviewerID        2023070 non-null object\n",
      "asin              2023070 non-null object\n",
      "reviewerName      2010822 non-null object\n",
      "helpful           2023070 non-null object\n",
      "reviewText        2022815 non-null object\n",
      "overall           2023070 non-null float64\n",
      "summary           2023056 non-null object\n",
      "unixReviewTime    2023070 non-null int64\n",
      "reviewTime        2023070 non-null object\n",
      "dtypes: float64(1), int64(2), object(7)\n",
      "memory usage: 154.3+ MB\n"
     ]
    }
   ],
   "source": [
    "reviews.info(null_counts=True)"
   ]
  },
  {
   "cell_type": "code",
   "execution_count": 4,
   "metadata": {},
   "outputs": [
    {
     "name": "stdout",
     "output_type": "stream",
     "text": [
      "(2023070, 10)\n",
      "Unnamed: 0          int64\n",
      "reviewerID         object\n",
      "asin               object\n",
      "reviewerName       object\n",
      "helpful            object\n",
      "reviewText         object\n",
      "overall           float64\n",
      "summary            object\n",
      "unixReviewTime      int64\n",
      "reviewTime         object\n",
      "dtype: object\n"
     ]
    }
   ],
   "source": [
    "print(reviews.shape)\n",
    "\n",
    "print(reviews.dtypes)"
   ]
  },
  {
   "cell_type": "code",
   "execution_count": 5,
   "metadata": {},
   "outputs": [
    {
     "data": {
      "text/plain": [
       "Unnamed: 0            0\n",
       "reviewerID            0\n",
       "asin                  0\n",
       "reviewerName      12248\n",
       "helpful               0\n",
       "reviewText          255\n",
       "overall               0\n",
       "summary              14\n",
       "unixReviewTime        0\n",
       "reviewTime            0\n",
       "dtype: int64"
      ]
     },
     "execution_count": 5,
     "metadata": {},
     "output_type": "execute_result"
    }
   ],
   "source": [
    "reviews.isnull().sum()"
   ]
  },
  {
   "cell_type": "markdown",
   "metadata": {},
   "source": [
    "12248 observations are missing the reviewerName values. Since we have the reviewerID, the name of reviewer will not be very helpful. Review time columns are also unimportant.\n",
    "\n",
    "Merge the reviewText and summary columns into review and then drop the individual columns. Fill the missing values with a space before merging the columns."
   ]
  },
  {
   "cell_type": "code",
   "execution_count": 6,
   "metadata": {},
   "outputs": [],
   "source": [
    "reviews['review'] = reviews['summary'].fillna('') + ' ' + reviews['reviewText'].fillna('')"
   ]
  },
  {
   "cell_type": "markdown",
   "metadata": {},
   "source": [
    "Convert \"reviewTime\" to datetime format."
   ]
  },
  {
   "cell_type": "code",
   "execution_count": 7,
   "metadata": {},
   "outputs": [],
   "source": [
    "reviews['reviewTime'] = pd.to_datetime(reviews['reviewTime'])                                    "
   ]
  },
  {
   "cell_type": "code",
   "execution_count": 8,
   "metadata": {},
   "outputs": [
    {
     "data": {
      "text/html": [
       "<div>\n",
       "<style scoped>\n",
       "    .dataframe tbody tr th:only-of-type {\n",
       "        vertical-align: middle;\n",
       "    }\n",
       "\n",
       "    .dataframe tbody tr th {\n",
       "        vertical-align: top;\n",
       "    }\n",
       "\n",
       "    .dataframe thead th {\n",
       "        text-align: right;\n",
       "    }\n",
       "</style>\n",
       "<table border=\"1\" class=\"dataframe\">\n",
       "  <thead>\n",
       "    <tr style=\"text-align: right;\">\n",
       "      <th></th>\n",
       "      <th>Unnamed: 0</th>\n",
       "      <th>reviewerID</th>\n",
       "      <th>asin</th>\n",
       "      <th>reviewerName</th>\n",
       "      <th>helpful</th>\n",
       "      <th>reviewText</th>\n",
       "      <th>overall</th>\n",
       "      <th>summary</th>\n",
       "      <th>unixReviewTime</th>\n",
       "      <th>reviewTime</th>\n",
       "      <th>review</th>\n",
       "    </tr>\n",
       "  </thead>\n",
       "  <tbody>\n",
       "    <tr>\n",
       "      <th>0</th>\n",
       "      <td>0</td>\n",
       "      <td>A39HTATAQ9V7YF</td>\n",
       "      <td>0205616461</td>\n",
       "      <td>cheryl roberts</td>\n",
       "      <td>[0, 0]</td>\n",
       "      <td>i do love this moisturizer and would recommend...</td>\n",
       "      <td>5.0</td>\n",
       "      <td>bio-active anti-aging serum</td>\n",
       "      <td>1369699200</td>\n",
       "      <td>2013-05-28</td>\n",
       "      <td>bio-active anti-aging serum i do love this moi...</td>\n",
       "    </tr>\n",
       "    <tr>\n",
       "      <th>1</th>\n",
       "      <td>1</td>\n",
       "      <td>A3JM6GV9MNOF9X</td>\n",
       "      <td>0558925278</td>\n",
       "      <td>Patty</td>\n",
       "      <td>[0, 1]</td>\n",
       "      <td>I received this product before the deadline.I ...</td>\n",
       "      <td>3.0</td>\n",
       "      <td>This product is ok, I'm use Baby Kabuki in moment</td>\n",
       "      <td>1355443200</td>\n",
       "      <td>2012-12-14</td>\n",
       "      <td>This product is ok, I'm use Baby Kabuki in mom...</td>\n",
       "    </tr>\n",
       "  </tbody>\n",
       "</table>\n",
       "</div>"
      ],
      "text/plain": [
       "   Unnamed: 0      reviewerID        asin    reviewerName helpful  \\\n",
       "0           0  A39HTATAQ9V7YF  0205616461  cheryl roberts  [0, 0]   \n",
       "1           1  A3JM6GV9MNOF9X  0558925278           Patty  [0, 1]   \n",
       "\n",
       "                                          reviewText  overall  \\\n",
       "0  i do love this moisturizer and would recommend...      5.0   \n",
       "1  I received this product before the deadline.I ...      3.0   \n",
       "\n",
       "                                             summary  unixReviewTime  \\\n",
       "0                        bio-active anti-aging serum      1369699200   \n",
       "1  This product is ok, I'm use Baby Kabuki in moment      1355443200   \n",
       "\n",
       "  reviewTime                                             review  \n",
       "0 2013-05-28  bio-active anti-aging serum i do love this moi...  \n",
       "1 2012-12-14  This product is ok, I'm use Baby Kabuki in mom...  "
      ]
     },
     "execution_count": 8,
     "metadata": {},
     "output_type": "execute_result"
    }
   ],
   "source": [
    "reviews.head(2)"
   ]
  },
  {
   "cell_type": "code",
   "execution_count": 9,
   "metadata": {},
   "outputs": [
    {
     "data": {
      "text/plain": [
       "reviewerID\n",
       "A2DG63DN704LOI    3\n",
       "A3X6BLPGK2ANW     2\n",
       "A2E8GMHH04T9JI    2\n",
       "A1RTSVWEXMKAR1    2\n",
       "A10YO33BWWWMFK    2\n",
       "Name: reviewerName, dtype: int64"
      ]
     },
     "execution_count": 9,
     "metadata": {},
     "output_type": "execute_result"
    }
   ],
   "source": [
    "df = reviews.groupby('reviewerID')['reviewerName'].nunique()\n",
    "df.sort_values(ascending=False).head(5)"
   ]
  },
  {
   "cell_type": "markdown",
   "metadata": {},
   "source": [
    "Some of the reviewerID have multiple reviewerName associated to them. Since we have the ID column, the name will not be very helpful. Review time columns are also unimportant. So let's drop all the irrelevant columns."
   ]
  },
  {
   "cell_type": "code",
   "execution_count": 10,
   "metadata": {},
   "outputs": [
    {
     "name": "stdout",
     "output_type": "stream",
     "text": [
      "Empty DataFrame\n",
      "Columns: [Unnamed: 0, reviewerID, asin, reviewerName, helpful, reviewText, overall, summary, unixReviewTime, reviewTime, review]\n",
      "Index: []\n"
     ]
    }
   ],
   "source": [
    "print(reviews[reviews['review'].isnull()])"
   ]
  },
  {
   "cell_type": "code",
   "execution_count": 11,
   "metadata": {},
   "outputs": [
    {
     "data": {
      "text/plain": [
       "array([5., 3., 4., 1., 2.])"
      ]
     },
     "execution_count": 11,
     "metadata": {},
     "output_type": "execute_result"
    }
   ],
   "source": [
    "reviews.overall.unique()"
   ]
  },
  {
   "cell_type": "markdown",
   "metadata": {},
   "source": [
    "Convert the overall column from float to int"
   ]
  },
  {
   "cell_type": "code",
   "execution_count": 12,
   "metadata": {},
   "outputs": [],
   "source": [
    "reviews['overall'] = reviews['overall'].apply(lambda x: int(x) if x == x else \"\")"
   ]
  },
  {
   "cell_type": "markdown",
   "metadata": {},
   "source": [
    "Split the helpful column into upvotes and downvotes"
   ]
  },
  {
   "cell_type": "code",
   "execution_count": 13,
   "metadata": {},
   "outputs": [],
   "source": [
    "reviews['votes'] = reviews['helpful'].str.strip('[]')\n",
    "\n",
    "reviews['upvotes'] = reviews.votes.str.split(',').str[0]\n",
    "reviews['downvotes'] = reviews.votes.str.split(',').str[1]"
   ]
  },
  {
   "cell_type": "markdown",
   "metadata": {},
   "source": [
    "Drop the irrelevant columns from the dataframe"
   ]
  },
  {
   "cell_type": "code",
   "execution_count": 14,
   "metadata": {},
   "outputs": [],
   "source": [
    "columns = ['Unnamed: 0', 'reviewerName', 'reviewText', 'summary', 'unixReviewTime', 'helpful', 'votes']\n",
    "reviews.drop(columns, inplace=True, axis=1)"
   ]
  },
  {
   "cell_type": "code",
   "execution_count": 15,
   "metadata": {},
   "outputs": [
    {
     "data": {
      "text/plain": [
       "('0', '99', ' 0', ' 99')"
      ]
     },
     "execution_count": 15,
     "metadata": {},
     "output_type": "execute_result"
    }
   ],
   "source": [
    "reviews['upvotes'].min(),reviews['upvotes'].max(),reviews['downvotes'].min(),reviews['downvotes'].max()"
   ]
  },
  {
   "cell_type": "code",
   "execution_count": 16,
   "metadata": {},
   "outputs": [
    {
     "data": {
      "text/html": [
       "<div>\n",
       "<style scoped>\n",
       "    .dataframe tbody tr th:only-of-type {\n",
       "        vertical-align: middle;\n",
       "    }\n",
       "\n",
       "    .dataframe tbody tr th {\n",
       "        vertical-align: top;\n",
       "    }\n",
       "\n",
       "    .dataframe thead th {\n",
       "        text-align: right;\n",
       "    }\n",
       "</style>\n",
       "<table border=\"1\" class=\"dataframe\">\n",
       "  <thead>\n",
       "    <tr style=\"text-align: right;\">\n",
       "      <th></th>\n",
       "      <th>reviewerID</th>\n",
       "      <th>asin</th>\n",
       "      <th>overall</th>\n",
       "      <th>reviewTime</th>\n",
       "      <th>review</th>\n",
       "      <th>upvotes</th>\n",
       "      <th>downvotes</th>\n",
       "    </tr>\n",
       "  </thead>\n",
       "  <tbody>\n",
       "    <tr>\n",
       "      <th>0</th>\n",
       "      <td>A39HTATAQ9V7YF</td>\n",
       "      <td>0205616461</td>\n",
       "      <td>5</td>\n",
       "      <td>2013-05-28</td>\n",
       "      <td>bio-active anti-aging serum i do love this moi...</td>\n",
       "      <td>0</td>\n",
       "      <td>0</td>\n",
       "    </tr>\n",
       "    <tr>\n",
       "      <th>1</th>\n",
       "      <td>A3JM6GV9MNOF9X</td>\n",
       "      <td>0558925278</td>\n",
       "      <td>3</td>\n",
       "      <td>2012-12-14</td>\n",
       "      <td>This product is ok, I'm use Baby Kabuki in mom...</td>\n",
       "      <td>0</td>\n",
       "      <td>1</td>\n",
       "    </tr>\n",
       "  </tbody>\n",
       "</table>\n",
       "</div>"
      ],
      "text/plain": [
       "       reviewerID        asin  overall reviewTime  \\\n",
       "0  A39HTATAQ9V7YF  0205616461        5 2013-05-28   \n",
       "1  A3JM6GV9MNOF9X  0558925278        3 2012-12-14   \n",
       "\n",
       "                                              review upvotes downvotes  \n",
       "0  bio-active anti-aging serum i do love this moi...       0         0  \n",
       "1  This product is ok, I'm use Baby Kabuki in mom...       0         1  "
      ]
     },
     "execution_count": 16,
     "metadata": {},
     "output_type": "execute_result"
    }
   ],
   "source": [
    "reviews.head(2)"
   ]
  },
  {
   "cell_type": "code",
   "execution_count": 17,
   "metadata": {},
   "outputs": [],
   "source": [
    "import re\n",
    "import nltk"
   ]
  },
  {
   "cell_type": "code",
   "execution_count": 18,
   "metadata": {},
   "outputs": [
    {
     "data": {
      "text/html": [
       "<div>\n",
       "<style scoped>\n",
       "    .dataframe tbody tr th:only-of-type {\n",
       "        vertical-align: middle;\n",
       "    }\n",
       "\n",
       "    .dataframe tbody tr th {\n",
       "        vertical-align: top;\n",
       "    }\n",
       "\n",
       "    .dataframe thead th {\n",
       "        text-align: right;\n",
       "    }\n",
       "</style>\n",
       "<table border=\"1\" class=\"dataframe\">\n",
       "  <thead>\n",
       "    <tr style=\"text-align: right;\">\n",
       "      <th></th>\n",
       "      <th>review</th>\n",
       "      <th>word_count</th>\n",
       "    </tr>\n",
       "  </thead>\n",
       "  <tbody>\n",
       "    <tr>\n",
       "      <th>0</th>\n",
       "      <td>bio-active anti-aging serum i do love this moi...</td>\n",
       "      <td>34</td>\n",
       "    </tr>\n",
       "    <tr>\n",
       "      <th>1</th>\n",
       "      <td>This product is ok, I'm use Baby Kabuki in mom...</td>\n",
       "      <td>44</td>\n",
       "    </tr>\n",
       "    <tr>\n",
       "      <th>2</th>\n",
       "      <td>I love this set I love this set. Great buy for...</td>\n",
       "      <td>31</td>\n",
       "    </tr>\n",
       "    <tr>\n",
       "      <th>3</th>\n",
       "      <td>Nice Moisturizer A nice moisturizer, all natur...</td>\n",
       "      <td>35</td>\n",
       "    </tr>\n",
       "    <tr>\n",
       "      <th>4</th>\n",
       "      <td>Fake MAC Please research the MAC Hello Kitty c...</td>\n",
       "      <td>45</td>\n",
       "    </tr>\n",
       "  </tbody>\n",
       "</table>\n",
       "</div>"
      ],
      "text/plain": [
       "                                              review  word_count\n",
       "0  bio-active anti-aging serum i do love this moi...          34\n",
       "1  This product is ok, I'm use Baby Kabuki in mom...          44\n",
       "2  I love this set I love this set. Great buy for...          31\n",
       "3  Nice Moisturizer A nice moisturizer, all natur...          35\n",
       "4  Fake MAC Please research the MAC Hello Kitty c...          45"
      ]
     },
     "execution_count": 18,
     "metadata": {},
     "output_type": "execute_result"
    }
   ],
   "source": [
    "reviews['word_count'] = reviews['review'].apply(lambda x: len(str(x).split(\" \")))\n",
    "reviews[['review','word_count']].head()"
   ]
  },
  {
   "cell_type": "markdown",
   "metadata": {},
   "source": [
    "Transform review text to lowercase to avoid having multiple versions of the same word"
   ]
  },
  {
   "cell_type": "code",
   "execution_count": 19,
   "metadata": {},
   "outputs": [
    {
     "data": {
      "text/plain": [
       "(2023070, 8)"
      ]
     },
     "execution_count": 19,
     "metadata": {},
     "output_type": "execute_result"
    }
   ],
   "source": [
    "reviews_new = reviews.dropna(subset=['review']) \n",
    "reviews_new.shape"
   ]
  },
  {
   "cell_type": "code",
   "execution_count": 20,
   "metadata": {},
   "outputs": [],
   "source": [
    "reviews_new['review'] = reviews_new['review'].apply(lambda x: \" \".join(x.lower() for x in x.split()))\n",
    "##reviews_new.head()"
   ]
  },
  {
   "cell_type": "code",
   "execution_count": 21,
   "metadata": {},
   "outputs": [
    {
     "name": "stdout",
     "output_type": "stream",
     "text": [
      "<class 'pandas.core.frame.DataFrame'>\n",
      "Int64Index: 2023070 entries, 0 to 2023069\n",
      "Data columns (total 8 columns):\n",
      "reviewerID    2023070 non-null object\n",
      "asin          2023070 non-null object\n",
      "overall       2023070 non-null int64\n",
      "reviewTime    2023070 non-null datetime64[ns]\n",
      "review        2023070 non-null object\n",
      "upvotes       2023070 non-null object\n",
      "downvotes     2023070 non-null object\n",
      "word_count    2023070 non-null int64\n",
      "dtypes: datetime64[ns](1), int64(2), object(5)\n",
      "memory usage: 138.9+ MB\n"
     ]
    }
   ],
   "source": [
    "reviews_new.info(null_counts=True)"
   ]
  },
  {
   "cell_type": "markdown",
   "metadata": {},
   "source": [
    "Remove punctuation as it doesn't add any extra value to process text data"
   ]
  },
  {
   "cell_type": "code",
   "execution_count": 22,
   "metadata": {},
   "outputs": [
    {
     "data": {
      "text/plain": [
       "0    bioactive antiaging serum i do love this moist...\n",
       "1    this product is ok im use baby kabuki in momen...\n",
       "2    i love this set i love this set great buy for ...\n",
       "3    nice moisturizer a nice moisturizer all natura...\n",
       "4    fake mac please research the mac hello kitty c...\n",
       "Name: review, dtype: object"
      ]
     },
     "execution_count": 22,
     "metadata": {},
     "output_type": "execute_result"
    }
   ],
   "source": [
    "reviews_new['review'] = reviews_new['review'].str.replace('[^\\w\\s]','')\n",
    "reviews_new['review'].head()"
   ]
  },
  {
   "cell_type": "markdown",
   "metadata": {},
   "source": [
    "Remove the stopwords"
   ]
  },
  {
   "cell_type": "code",
   "execution_count": 23,
   "metadata": {},
   "outputs": [
    {
     "data": {
      "text/plain": [
       "0    bioactive antiaging serum love moisturizer wou...\n",
       "1    product ok im use baby kabuki moment received ...\n",
       "2    love set love set great buy price dont wear ma...\n",
       "3    nice moisturizer nice moisturizer natural ingr...\n",
       "4    fake mac please research mac hello kitty colle...\n",
       "Name: review, dtype: object"
      ]
     },
     "execution_count": 23,
     "metadata": {},
     "output_type": "execute_result"
    }
   ],
   "source": [
    "from nltk.corpus import stopwords\n",
    "stop = stopwords.words('english')\n",
    "reviews_new['review'] = reviews_new['review'].apply(lambda x: \" \".join(x for x in x.split() if x not in stop))\n",
    "reviews_new['review'].head()"
   ]
  },
  {
   "cell_type": "markdown",
   "metadata": {},
   "source": [
    "Remove the 10 most common words"
   ]
  },
  {
   "cell_type": "code",
   "execution_count": null,
   "metadata": {},
   "outputs": [],
   "source": [
    "##freq = pd.Series(' '.join(reviews_new['reviewText']).split()).value_counts()[:10]\n",
    "##freq"
   ]
  },
  {
   "cell_type": "code",
   "execution_count": null,
   "metadata": {},
   "outputs": [],
   "source": [
    "##freq = list(freq.index)\n",
    "##reviews_new['reviewText'] = reviews_new['reviewText'].apply(lambda x: \" \".join(x for x in x.split() if x not in freq))\n",
    "##reviews_new['reviewText'].head()"
   ]
  },
  {
   "cell_type": "markdown",
   "metadata": {},
   "source": [
    "Remove the 50 most rare words"
   ]
  },
  {
   "cell_type": "code",
   "execution_count": 24,
   "metadata": {},
   "outputs": [
    {
     "data": {
      "text/plain": [
       "it626262                  1\n",
       "supplise                  1\n",
       "warrantyrepairand         1\n",
       "measureverify             1\n",
       "wwaaaaaaaaoo              1\n",
       "biodegradableconsnot      1\n",
       "addictivecheck            1\n",
       "162024                    1\n",
       "fingernailsconsthere      1\n",
       "mllightly                 1\n",
       "dispenserlast             1\n",
       "thicknessadds             1\n",
       "34poreminimizing34        1\n",
       "everythingeverythingto    1\n",
       "honeyquat                 1\n",
       "revitalashs               1\n",
       "toneusing                 1\n",
       "lighmedium                1\n",
       "4syringe                  1\n",
       "tornando                  1\n",
       "fightfade                 1\n",
       "sanitaryhygiene           1\n",
       "reviewers1                1\n",
       "phenoxyethnolive          1\n",
       "quicklycolors             1\n",
       "dosthe                    1\n",
       "quicker2                  1\n",
       "thingsproslight           1\n",
       "2014omagazee              1\n",
       "shapingsmoothing          1\n",
       "receoived                 1\n",
       "7tube                     1\n",
       "bottlenormally            1\n",
       "sexymen                   1\n",
       "60dont                    1\n",
       "familyman                 1\n",
       "stinging3                 1\n",
       "productrichard            1\n",
       "34decongestant            1\n",
       "nerides                   1\n",
       "cleanserssystems          1\n",
       "naturallong               1\n",
       "openef                    1\n",
       "diez                      1\n",
       "outsie                    1\n",
       "soonerlater               1\n",
       "dexact                    1\n",
       "definidas                 1\n",
       "limptoo                   1\n",
       "immedititly               1\n",
       "dtype: int64"
      ]
     },
     "execution_count": 24,
     "metadata": {},
     "output_type": "execute_result"
    }
   ],
   "source": [
    "freq = pd.Series(' '.join(reviews_new['review']).split()).value_counts()[-50:]\n",
    "freq"
   ]
  },
  {
   "cell_type": "code",
   "execution_count": 25,
   "metadata": {},
   "outputs": [
    {
     "data": {
      "text/plain": [
       "0    bioactive antiaging serum love moisturizer wou...\n",
       "1    product ok im use baby kabuki moment received ...\n",
       "2    love set love set great buy price dont wear ma...\n",
       "3    nice moisturizer nice moisturizer natural ingr...\n",
       "4    fake mac please research mac hello kitty colle...\n",
       "Name: review, dtype: object"
      ]
     },
     "execution_count": 25,
     "metadata": {},
     "output_type": "execute_result"
    }
   ],
   "source": [
    "freq = list(freq.index)\n",
    "reviews_new['review'] = reviews_new['review'].apply(lambda x: \" \".join(x for x in x.split() if x not in freq))\n",
    "reviews_new['review'].head()"
   ]
  },
  {
   "cell_type": "code",
   "execution_count": 26,
   "metadata": {},
   "outputs": [],
   "source": [
    "from textblob import TextBlob"
   ]
  },
  {
   "cell_type": "code",
   "execution_count": 27,
   "metadata": {},
   "outputs": [
    {
     "data": {
      "text/plain": [
       "0    inactive antiaging serum love moisturizer woul...\n",
       "1    product ok in use baby kabuki moment received ...\n",
       "2    love set love set great buy price dont wear ma...\n",
       "3    nice moisturizer nice moisturizer natural ingr...\n",
       "4    face mac please research mac hello kitty colle...\n",
       "5    cut girl compact mirror single sided mirror co...\n",
       "6    id say one best lip pencil give tried id say o...\n",
       "7    real product bought mac store mac lip care lip...\n",
       "8    benefit automatic eyeliner pen far easiest eye...\n",
       "9    really like stuff dark circles eyes runs famil...\n",
       "Name: review, dtype: object"
      ]
     },
     "execution_count": 27,
     "metadata": {},
     "output_type": "execute_result"
    }
   ],
   "source": [
    "reviews_new['review'][:10].apply(lambda x: str(TextBlob(x).correct()))"
   ]
  },
  {
   "cell_type": "code",
   "execution_count": 28,
   "metadata": {},
   "outputs": [
    {
     "data": {
      "text/html": [
       "<div>\n",
       "<style scoped>\n",
       "    .dataframe tbody tr th:only-of-type {\n",
       "        vertical-align: middle;\n",
       "    }\n",
       "\n",
       "    .dataframe tbody tr th {\n",
       "        vertical-align: top;\n",
       "    }\n",
       "\n",
       "    .dataframe thead th {\n",
       "        text-align: right;\n",
       "    }\n",
       "</style>\n",
       "<table border=\"1\" class=\"dataframe\">\n",
       "  <thead>\n",
       "    <tr style=\"text-align: right;\">\n",
       "      <th></th>\n",
       "      <th>overall</th>\n",
       "      <th>review</th>\n",
       "      <th>polarity</th>\n",
       "    </tr>\n",
       "  </thead>\n",
       "  <tbody>\n",
       "    <tr>\n",
       "      <th>780090</th>\n",
       "      <td>4</td>\n",
       "      <td>lather lather lather seems shaving creams work...</td>\n",
       "      <td>0.383333</td>\n",
       "    </tr>\n",
       "    <tr>\n",
       "      <th>949552</th>\n",
       "      <td>1</td>\n",
       "      <td>dont waste money old production perfumes fendi...</td>\n",
       "      <td>0.150000</td>\n",
       "    </tr>\n",
       "    <tr>\n",
       "      <th>723</th>\n",
       "      <td>5</td>\n",
       "      <td>nice love scent perfume old granny scent clean...</td>\n",
       "      <td>0.346667</td>\n",
       "    </tr>\n",
       "    <tr>\n",
       "      <th>1615251</th>\n",
       "      <td>5</td>\n",
       "      <td>natural much better great moisturizing lasts d...</td>\n",
       "      <td>0.466667</td>\n",
       "    </tr>\n",
       "    <tr>\n",
       "      <th>1470465</th>\n",
       "      <td>4</td>\n",
       "      <td>decent price problem found brushes packaging c...</td>\n",
       "      <td>0.000000</td>\n",
       "    </tr>\n",
       "  </tbody>\n",
       "</table>\n",
       "</div>"
      ],
      "text/plain": [
       "         overall                                             review  polarity\n",
       "780090         4  lather lather lather seems shaving creams work...  0.383333\n",
       "949552         1  dont waste money old production perfumes fendi...  0.150000\n",
       "723            5  nice love scent perfume old granny scent clean...  0.346667\n",
       "1615251        5  natural much better great moisturizing lasts d...  0.466667\n",
       "1470465        4  decent price problem found brushes packaging c...  0.000000"
      ]
     },
     "execution_count": 28,
     "metadata": {},
     "output_type": "execute_result"
    }
   ],
   "source": [
    "sample_reviews = reviews_new[['overall', 'review']].sample(10000)\n",
    "def detect_polarity(text):\n",
    "    return TextBlob(text).sentiment.polarity\n",
    "sample_reviews['polarity'] = sample_reviews.review.apply(detect_polarity)\n",
    "sample_reviews.head()"
   ]
  },
  {
   "cell_type": "code",
   "execution_count": 29,
   "metadata": {},
   "outputs": [
    {
     "name": "stdout",
     "output_type": "stream",
     "text": [
      "2008-08-22 00:00:00\n"
     ]
    }
   ],
   "source": [
    "print(reviews.iloc[381639,3])"
   ]
  },
  {
   "cell_type": "code",
   "execution_count": 30,
   "metadata": {},
   "outputs": [
    {
     "data": {
      "text/html": [
       "<div>\n",
       "<style scoped>\n",
       "    .dataframe tbody tr th:only-of-type {\n",
       "        vertical-align: middle;\n",
       "    }\n",
       "\n",
       "    .dataframe tbody tr th {\n",
       "        vertical-align: top;\n",
       "    }\n",
       "\n",
       "    .dataframe thead th {\n",
       "        text-align: right;\n",
       "    }\n",
       "</style>\n",
       "<table border=\"1\" class=\"dataframe\">\n",
       "  <thead>\n",
       "    <tr style=\"text-align: right;\">\n",
       "      <th></th>\n",
       "      <th>reviewerID</th>\n",
       "      <th>asin</th>\n",
       "      <th>overall</th>\n",
       "      <th>reviewTime</th>\n",
       "      <th>review</th>\n",
       "      <th>upvotes</th>\n",
       "      <th>downvotes</th>\n",
       "      <th>word_count</th>\n",
       "      <th>polarity</th>\n",
       "    </tr>\n",
       "  </thead>\n",
       "  <tbody>\n",
       "    <tr>\n",
       "      <th>0</th>\n",
       "      <td>A39HTATAQ9V7YF</td>\n",
       "      <td>0205616461</td>\n",
       "      <td>5</td>\n",
       "      <td>2013-05-28</td>\n",
       "      <td>bioactive antiaging serum love moisturizer wou...</td>\n",
       "      <td>0</td>\n",
       "      <td>0</td>\n",
       "      <td>34</td>\n",
       "      <td>0.283333</td>\n",
       "    </tr>\n",
       "    <tr>\n",
       "      <th>1</th>\n",
       "      <td>A3JM6GV9MNOF9X</td>\n",
       "      <td>0558925278</td>\n",
       "      <td>3</td>\n",
       "      <td>2012-12-14</td>\n",
       "      <td>product ok im use baby kabuki moment received ...</td>\n",
       "      <td>0</td>\n",
       "      <td>1</td>\n",
       "      <td>44</td>\n",
       "      <td>0.520000</td>\n",
       "    </tr>\n",
       "    <tr>\n",
       "      <th>2</th>\n",
       "      <td>A1Z513UWSAAO0F</td>\n",
       "      <td>0558925278</td>\n",
       "      <td>5</td>\n",
       "      <td>2014-07-07</td>\n",
       "      <td>love set love set great buy price dont wear ma...</td>\n",
       "      <td>0</td>\n",
       "      <td>0</td>\n",
       "      <td>31</td>\n",
       "      <td>0.575000</td>\n",
       "    </tr>\n",
       "    <tr>\n",
       "      <th>3</th>\n",
       "      <td>A1WMRR494NWEWV</td>\n",
       "      <td>0733001998</td>\n",
       "      <td>4</td>\n",
       "      <td>2013-10-24</td>\n",
       "      <td>nice moisturizer nice moisturizer natural ingr...</td>\n",
       "      <td>0</td>\n",
       "      <td>0</td>\n",
       "      <td>35</td>\n",
       "      <td>0.375000</td>\n",
       "    </tr>\n",
       "    <tr>\n",
       "      <th>4</th>\n",
       "      <td>A3IAAVS479H7M7</td>\n",
       "      <td>0737104473</td>\n",
       "      <td>1</td>\n",
       "      <td>2010-05-19</td>\n",
       "      <td>fake mac please research mac hello kitty colle...</td>\n",
       "      <td>2</td>\n",
       "      <td>2</td>\n",
       "      <td>45</td>\n",
       "      <td>-0.125000</td>\n",
       "    </tr>\n",
       "  </tbody>\n",
       "</table>\n",
       "</div>"
      ],
      "text/plain": [
       "       reviewerID        asin  overall reviewTime  \\\n",
       "0  A39HTATAQ9V7YF  0205616461        5 2013-05-28   \n",
       "1  A3JM6GV9MNOF9X  0558925278        3 2012-12-14   \n",
       "2  A1Z513UWSAAO0F  0558925278        5 2014-07-07   \n",
       "3  A1WMRR494NWEWV  0733001998        4 2013-10-24   \n",
       "4  A3IAAVS479H7M7  0737104473        1 2010-05-19   \n",
       "\n",
       "                                              review upvotes downvotes  \\\n",
       "0  bioactive antiaging serum love moisturizer wou...       0         0   \n",
       "1  product ok im use baby kabuki moment received ...       0         1   \n",
       "2  love set love set great buy price dont wear ma...       0         0   \n",
       "3  nice moisturizer nice moisturizer natural ingr...       0         0   \n",
       "4  fake mac please research mac hello kitty colle...       2         2   \n",
       "\n",
       "   word_count  polarity  \n",
       "0          34  0.283333  \n",
       "1          44  0.520000  \n",
       "2          31  0.575000  \n",
       "3          35  0.375000  \n",
       "4          45 -0.125000  "
      ]
     },
     "execution_count": 30,
     "metadata": {},
     "output_type": "execute_result"
    }
   ],
   "source": [
    "reviews_new['polarity'] = reviews_new.review.apply(detect_polarity)\n",
    "reviews_new.head()"
   ]
  },
  {
   "cell_type": "code",
   "execution_count": 31,
   "metadata": {},
   "outputs": [],
   "source": [
    "reviews_new.to_csv('cleaned_reviews.csv')"
   ]
  },
  {
   "cell_type": "code",
   "execution_count": null,
   "metadata": {},
   "outputs": [],
   "source": []
  }
 ],
 "metadata": {
  "kernelspec": {
   "display_name": "Python 3",
   "language": "python",
   "name": "python3"
  },
  "language_info": {
   "codemirror_mode": {
    "name": "ipython",
    "version": 3
   },
   "file_extension": ".py",
   "mimetype": "text/x-python",
   "name": "python",
   "nbconvert_exporter": "python",
   "pygments_lexer": "ipython3",
   "version": "3.7.3"
  }
 },
 "nbformat": 4,
 "nbformat_minor": 2
}
