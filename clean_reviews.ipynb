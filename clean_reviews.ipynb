{
 "cells": [
  {
   "cell_type": "markdown",
   "metadata": {},
   "source": [
    "<h1><center>Data Wrangling - Reviews File</center></h1>"
   ]
  },
  {
   "cell_type": "code",
   "execution_count": 1,
   "metadata": {},
   "outputs": [],
   "source": [
    "import pandas as pd\n",
    "import numpy as np"
   ]
  },
  {
   "cell_type": "markdown",
   "metadata": {},
   "source": [
    "Read the product reviews file into a dataframe"
   ]
  },
  {
   "cell_type": "code",
   "execution_count": 2,
   "metadata": {},
   "outputs": [
    {
     "name": "stderr",
     "output_type": "stream",
     "text": [
      "C:\\Users\\vatri\\Anaconda3\\lib\\site-packages\\numpy\\lib\\arraysetops.py:569: FutureWarning: elementwise comparison failed; returning scalar instead, but in the future will perform elementwise comparison\n",
      "  mask |= (ar1 == a)\n"
     ]
    },
    {
     "data": {
      "text/html": [
       "<div>\n",
       "<style scoped>\n",
       "    .dataframe tbody tr th:only-of-type {\n",
       "        vertical-align: middle;\n",
       "    }\n",
       "\n",
       "    .dataframe tbody tr th {\n",
       "        vertical-align: top;\n",
       "    }\n",
       "\n",
       "    .dataframe thead th {\n",
       "        text-align: right;\n",
       "    }\n",
       "</style>\n",
       "<table border=\"1\" class=\"dataframe\">\n",
       "  <thead>\n",
       "    <tr style=\"text-align: right;\">\n",
       "      <th></th>\n",
       "      <th>reviewerID</th>\n",
       "      <th>asin</th>\n",
       "      <th>reviewerName</th>\n",
       "      <th>helpful</th>\n",
       "      <th>reviewText</th>\n",
       "      <th>overall</th>\n",
       "      <th>summary</th>\n",
       "      <th>unixReviewTime</th>\n",
       "      <th>reviewTime</th>\n",
       "    </tr>\n",
       "  </thead>\n",
       "  <tbody>\n",
       "    <tr>\n",
       "      <th>0</th>\n",
       "      <td>A39HTATAQ9V7YF</td>\n",
       "      <td>0205616461</td>\n",
       "      <td>cheryl roberts</td>\n",
       "      <td>[0, 0]</td>\n",
       "      <td>i do love this moisturizer and would recommend...</td>\n",
       "      <td>5.0</td>\n",
       "      <td>bio-active anti-aging serum</td>\n",
       "      <td>1369699200</td>\n",
       "      <td>05 28, 2013</td>\n",
       "    </tr>\n",
       "    <tr>\n",
       "      <th>1</th>\n",
       "      <td>A3JM6GV9MNOF9X</td>\n",
       "      <td>0558925278</td>\n",
       "      <td>Patty</td>\n",
       "      <td>[0, 1]</td>\n",
       "      <td>I received this product before the deadline.I ...</td>\n",
       "      <td>3.0</td>\n",
       "      <td>This product is ok, I'm use Baby Kabuki in moment</td>\n",
       "      <td>1355443200</td>\n",
       "      <td>12 14, 2012</td>\n",
       "    </tr>\n",
       "  </tbody>\n",
       "</table>\n",
       "</div>"
      ],
      "text/plain": [
       "       reviewerID        asin    reviewerName helpful  \\\n",
       "0  A39HTATAQ9V7YF  0205616461  cheryl roberts  [0, 0]   \n",
       "1  A3JM6GV9MNOF9X  0558925278           Patty  [0, 1]   \n",
       "\n",
       "                                          reviewText  overall  \\\n",
       "0  i do love this moisturizer and would recommend...      5.0   \n",
       "1  I received this product before the deadline.I ...      3.0   \n",
       "\n",
       "                                             summary  unixReviewTime  \\\n",
       "0                        bio-active anti-aging serum      1369699200   \n",
       "1  This product is ok, I'm use Baby Kabuki in moment      1355443200   \n",
       "\n",
       "    reviewTime  \n",
       "0  05 28, 2013  \n",
       "1  12 14, 2012  "
      ]
     },
     "execution_count": 2,
     "metadata": {},
     "output_type": "execute_result"
    }
   ],
   "source": [
    "reviews = pd.read_csv('reviews_beauty.csv',index_col=0)\n",
    "reviews.head(2)"
   ]
  },
  {
   "cell_type": "code",
   "execution_count": 3,
   "metadata": {},
   "outputs": [
    {
     "name": "stdout",
     "output_type": "stream",
     "text": [
      "<class 'pandas.core.frame.DataFrame'>\n",
      "Int64Index: 2023070 entries, 0 to 2023069\n",
      "Data columns (total 9 columns):\n",
      "reviewerID        2023070 non-null object\n",
      "asin              2023070 non-null object\n",
      "reviewerName      2010822 non-null object\n",
      "helpful           2023070 non-null object\n",
      "reviewText        2022815 non-null object\n",
      "overall           2023070 non-null float64\n",
      "summary           2023056 non-null object\n",
      "unixReviewTime    2023070 non-null int64\n",
      "reviewTime        2023070 non-null object\n",
      "dtypes: float64(1), int64(1), object(7)\n",
      "memory usage: 154.3+ MB\n"
     ]
    }
   ],
   "source": [
    "reviews.info(null_counts=True)"
   ]
  },
  {
   "cell_type": "code",
   "execution_count": 4,
   "metadata": {},
   "outputs": [
    {
     "name": "stdout",
     "output_type": "stream",
     "text": [
      "(2023070, 9)\n",
      "reviewerID         object\n",
      "asin               object\n",
      "reviewerName       object\n",
      "helpful            object\n",
      "reviewText         object\n",
      "overall           float64\n",
      "summary            object\n",
      "unixReviewTime      int64\n",
      "reviewTime         object\n",
      "dtype: object\n"
     ]
    }
   ],
   "source": [
    "print(reviews.shape)\n",
    "\n",
    "print(reviews.dtypes)"
   ]
  },
  {
   "cell_type": "code",
   "execution_count": 5,
   "metadata": {},
   "outputs": [
    {
     "data": {
      "text/plain": [
       "reviewerID            0\n",
       "asin                  0\n",
       "reviewerName      12248\n",
       "helpful               0\n",
       "reviewText          255\n",
       "overall               0\n",
       "summary              14\n",
       "unixReviewTime        0\n",
       "reviewTime            0\n",
       "dtype: int64"
      ]
     },
     "execution_count": 5,
     "metadata": {},
     "output_type": "execute_result"
    }
   ],
   "source": [
    "reviews.isnull().sum()"
   ]
  },
  {
   "cell_type": "markdown",
   "metadata": {},
   "source": [
    "12248 observations are missing the reviewerName values. Since we have the reviewerID, the name of reviewer will not be very helpful. Review time columns are also unimportant.\n",
    "\n",
    "Merge the reviewText and summary columns into review and then drop the individual columns. Fill the missing values with a space before merging the columns."
   ]
  },
  {
   "cell_type": "code",
   "execution_count": 6,
   "metadata": {},
   "outputs": [],
   "source": [
    "reviews['review'] = reviews['summary'].fillna('') + ' ' + reviews['reviewText'].fillna('')"
   ]
  },
  {
   "cell_type": "code",
   "execution_count": 12,
   "metadata": {},
   "outputs": [
    {
     "data": {
      "text/plain": [
       "reviewerID\n",
       "A2DG63DN704LOI    3\n",
       "A3X6BLPGK2ANW     2\n",
       "A2E8GMHH04T9JI    2\n",
       "A1RTSVWEXMKAR1    2\n",
       "A10YO33BWWWMFK    2\n",
       "Name: reviewerName, dtype: int64"
      ]
     },
     "execution_count": 12,
     "metadata": {},
     "output_type": "execute_result"
    }
   ],
   "source": [
    "##beauty.groupby(['reviewerID','reviewerName']).count()\n",
    "\n",
    "df = reviews.groupby('reviewerID')['reviewerName'].nunique()\n",
    "df.sort_values(ascending=False).head(5)"
   ]
  },
  {
   "cell_type": "markdown",
   "metadata": {},
   "source": [
    "Some of the reviewerID have multiple reviewerName associated to them. Since we have the ID column, the name will not be very helpful. Review time columns are also unimportant. So let's drop all the irrelevant columns."
   ]
  },
  {
   "cell_type": "code",
   "execution_count": 13,
   "metadata": {},
   "outputs": [
    {
     "name": "stdout",
     "output_type": "stream",
     "text": [
      "Empty DataFrame\n",
      "Columns: [reviewerID, asin, reviewerName, helpful, reviewText, overall, summary, unixReviewTime, reviewTime, review]\n",
      "Index: []\n"
     ]
    }
   ],
   "source": [
    "print(reviews[reviews['review'].isnull()])"
   ]
  },
  {
   "cell_type": "code",
   "execution_count": 14,
   "metadata": {},
   "outputs": [
    {
     "data": {
      "text/plain": [
       "array([5., 3., 4., 1., 2.])"
      ]
     },
     "execution_count": 14,
     "metadata": {},
     "output_type": "execute_result"
    }
   ],
   "source": [
    "reviews.overall.unique()"
   ]
  },
  {
   "cell_type": "markdown",
   "metadata": {},
   "source": [
    "Convert the overall column from float to int"
   ]
  },
  {
   "cell_type": "code",
   "execution_count": 15,
   "metadata": {},
   "outputs": [],
   "source": [
    "reviews['overall'] = reviews['overall'].apply(lambda x: int(x) if x == x else \"\")"
   ]
  },
  {
   "cell_type": "markdown",
   "metadata": {},
   "source": [
    "Split the helpful column into upvotes and downvotes"
   ]
  },
  {
   "cell_type": "code",
   "execution_count": 16,
   "metadata": {},
   "outputs": [],
   "source": [
    "reviews['votes'] = reviews['helpful'].str.strip('[]')\n",
    "\n",
    "reviews['upvotes'] = reviews.votes.str.split(',').str[0]\n",
    "reviews['downvotes'] = reviews.votes.str.split(',').str[1]"
   ]
  },
  {
   "cell_type": "markdown",
   "metadata": {},
   "source": [
    "Drop the irrelevant columns from the dataframe"
   ]
  },
  {
   "cell_type": "code",
   "execution_count": 17,
   "metadata": {},
   "outputs": [],
   "source": [
    "columns = ['reviewerName', 'reviewText', 'summary', 'unixReviewTime', 'reviewTime', 'helpful', 'votes']\n",
    "reviews.drop(columns, inplace=True, axis=1)"
   ]
  },
  {
   "cell_type": "code",
   "execution_count": 18,
   "metadata": {},
   "outputs": [
    {
     "data": {
      "text/plain": [
       "('0', '99', ' 0', ' 99')"
      ]
     },
     "execution_count": 18,
     "metadata": {},
     "output_type": "execute_result"
    }
   ],
   "source": [
    "reviews['upvotes'].min(),reviews['upvotes'].max(),reviews['downvotes'].min(),reviews['downvotes'].max()"
   ]
  },
  {
   "cell_type": "code",
   "execution_count": 19,
   "metadata": {},
   "outputs": [
    {
     "data": {
      "text/html": [
       "<div>\n",
       "<style scoped>\n",
       "    .dataframe tbody tr th:only-of-type {\n",
       "        vertical-align: middle;\n",
       "    }\n",
       "\n",
       "    .dataframe tbody tr th {\n",
       "        vertical-align: top;\n",
       "    }\n",
       "\n",
       "    .dataframe thead th {\n",
       "        text-align: right;\n",
       "    }\n",
       "</style>\n",
       "<table border=\"1\" class=\"dataframe\">\n",
       "  <thead>\n",
       "    <tr style=\"text-align: right;\">\n",
       "      <th></th>\n",
       "      <th>reviewerID</th>\n",
       "      <th>asin</th>\n",
       "      <th>overall</th>\n",
       "      <th>review</th>\n",
       "      <th>upvotes</th>\n",
       "      <th>downvotes</th>\n",
       "    </tr>\n",
       "  </thead>\n",
       "  <tbody>\n",
       "    <tr>\n",
       "      <th>0</th>\n",
       "      <td>A39HTATAQ9V7YF</td>\n",
       "      <td>0205616461</td>\n",
       "      <td>5</td>\n",
       "      <td>bio-active anti-aging serum i do love this moi...</td>\n",
       "      <td>0</td>\n",
       "      <td>0</td>\n",
       "    </tr>\n",
       "    <tr>\n",
       "      <th>1</th>\n",
       "      <td>A3JM6GV9MNOF9X</td>\n",
       "      <td>0558925278</td>\n",
       "      <td>3</td>\n",
       "      <td>This product is ok, I'm use Baby Kabuki in mom...</td>\n",
       "      <td>0</td>\n",
       "      <td>1</td>\n",
       "    </tr>\n",
       "  </tbody>\n",
       "</table>\n",
       "</div>"
      ],
      "text/plain": [
       "       reviewerID        asin  overall  \\\n",
       "0  A39HTATAQ9V7YF  0205616461        5   \n",
       "1  A3JM6GV9MNOF9X  0558925278        3   \n",
       "\n",
       "                                              review upvotes downvotes  \n",
       "0  bio-active anti-aging serum i do love this moi...       0         0  \n",
       "1  This product is ok, I'm use Baby Kabuki in mom...       0         1  "
      ]
     },
     "execution_count": 19,
     "metadata": {},
     "output_type": "execute_result"
    }
   ],
   "source": [
    "reviews.head(2)"
   ]
  },
  {
   "cell_type": "code",
   "execution_count": 20,
   "metadata": {},
   "outputs": [],
   "source": [
    "import re\n",
    "import nltk"
   ]
  },
  {
   "cell_type": "code",
   "execution_count": 21,
   "metadata": {},
   "outputs": [
    {
     "data": {
      "text/html": [
       "<div>\n",
       "<style scoped>\n",
       "    .dataframe tbody tr th:only-of-type {\n",
       "        vertical-align: middle;\n",
       "    }\n",
       "\n",
       "    .dataframe tbody tr th {\n",
       "        vertical-align: top;\n",
       "    }\n",
       "\n",
       "    .dataframe thead th {\n",
       "        text-align: right;\n",
       "    }\n",
       "</style>\n",
       "<table border=\"1\" class=\"dataframe\">\n",
       "  <thead>\n",
       "    <tr style=\"text-align: right;\">\n",
       "      <th></th>\n",
       "      <th>review</th>\n",
       "      <th>word_count</th>\n",
       "    </tr>\n",
       "  </thead>\n",
       "  <tbody>\n",
       "    <tr>\n",
       "      <th>0</th>\n",
       "      <td>bio-active anti-aging serum i do love this moi...</td>\n",
       "      <td>34</td>\n",
       "    </tr>\n",
       "    <tr>\n",
       "      <th>1</th>\n",
       "      <td>This product is ok, I'm use Baby Kabuki in mom...</td>\n",
       "      <td>44</td>\n",
       "    </tr>\n",
       "    <tr>\n",
       "      <th>2</th>\n",
       "      <td>I love this set I love this set. Great buy for...</td>\n",
       "      <td>31</td>\n",
       "    </tr>\n",
       "    <tr>\n",
       "      <th>3</th>\n",
       "      <td>Nice Moisturizer A nice moisturizer, all natur...</td>\n",
       "      <td>35</td>\n",
       "    </tr>\n",
       "    <tr>\n",
       "      <th>4</th>\n",
       "      <td>Fake MAC Please research the MAC Hello Kitty c...</td>\n",
       "      <td>45</td>\n",
       "    </tr>\n",
       "  </tbody>\n",
       "</table>\n",
       "</div>"
      ],
      "text/plain": [
       "                                              review  word_count\n",
       "0  bio-active anti-aging serum i do love this moi...          34\n",
       "1  This product is ok, I'm use Baby Kabuki in mom...          44\n",
       "2  I love this set I love this set. Great buy for...          31\n",
       "3  Nice Moisturizer A nice moisturizer, all natur...          35\n",
       "4  Fake MAC Please research the MAC Hello Kitty c...          45"
      ]
     },
     "execution_count": 21,
     "metadata": {},
     "output_type": "execute_result"
    }
   ],
   "source": [
    "reviews['word_count'] = reviews['review'].apply(lambda x: len(str(x).split(\" \")))\n",
    "reviews[['review','word_count']].head()"
   ]
  },
  {
   "cell_type": "markdown",
   "metadata": {},
   "source": [
    "Transform review text to lowercase to avoid having multiple versions of the same word"
   ]
  },
  {
   "cell_type": "code",
   "execution_count": 22,
   "metadata": {},
   "outputs": [
    {
     "data": {
      "text/plain": [
       "(2023070, 7)"
      ]
     },
     "execution_count": 22,
     "metadata": {},
     "output_type": "execute_result"
    }
   ],
   "source": [
    "reviews_new = reviews.dropna(subset=['review']) \n",
    "reviews_new.shape"
   ]
  },
  {
   "cell_type": "code",
   "execution_count": 19,
   "metadata": {},
   "outputs": [],
   "source": [
    "reviews_new['review'] = reviews_new['review'].apply(lambda x: \" \".join(x.lower() for x in x.split()))\n",
    "##reviews_new.head()"
   ]
  },
  {
   "cell_type": "code",
   "execution_count": 20,
   "metadata": {},
   "outputs": [
    {
     "name": "stdout",
     "output_type": "stream",
     "text": [
      "<class 'pandas.core.frame.DataFrame'>\n",
      "Int64Index: 2023070 entries, 0 to 2023069\n",
      "Data columns (total 7 columns):\n",
      "reviewerID    2023070 non-null object\n",
      "asin          2023070 non-null object\n",
      "overall       2023070 non-null int64\n",
      "review        2023070 non-null object\n",
      "upvotes       2023070 non-null object\n",
      "downvotes     2023070 non-null object\n",
      "word_count    2023070 non-null int64\n",
      "dtypes: int64(2), object(5)\n",
      "memory usage: 123.5+ MB\n"
     ]
    }
   ],
   "source": [
    "reviews_new.info(null_counts=True)"
   ]
  },
  {
   "cell_type": "markdown",
   "metadata": {},
   "source": [
    "Remove punctuation as it doesn't add any extra value to process text data"
   ]
  },
  {
   "cell_type": "code",
   "execution_count": 21,
   "metadata": {},
   "outputs": [
    {
     "data": {
      "text/plain": [
       "0    bioactive antiaging serum i do love this moist...\n",
       "1    this product is ok im use baby kabuki in momen...\n",
       "2    i love this set i love this set great buy for ...\n",
       "3    nice moisturizer a nice moisturizer all natura...\n",
       "4    fake mac please research the mac hello kitty c...\n",
       "Name: review, dtype: object"
      ]
     },
     "execution_count": 21,
     "metadata": {},
     "output_type": "execute_result"
    }
   ],
   "source": [
    "reviews_new['review'] = reviews_new['review'].str.replace('[^\\w\\s]','')\n",
    "reviews_new['review'].head()"
   ]
  },
  {
   "cell_type": "markdown",
   "metadata": {},
   "source": [
    "Remove the stopwords"
   ]
  },
  {
   "cell_type": "code",
   "execution_count": 22,
   "metadata": {},
   "outputs": [
    {
     "data": {
      "text/plain": [
       "0    bioactive antiaging serum love moisturizer wou...\n",
       "1    product ok im use baby kabuki moment received ...\n",
       "2    love set love set great buy price dont wear ma...\n",
       "3    nice moisturizer nice moisturizer natural ingr...\n",
       "4    fake mac please research mac hello kitty colle...\n",
       "Name: review, dtype: object"
      ]
     },
     "execution_count": 22,
     "metadata": {},
     "output_type": "execute_result"
    }
   ],
   "source": [
    "from nltk.corpus import stopwords\n",
    "stop = stopwords.words('english')\n",
    "reviews_new['review'] = reviews_new['review'].apply(lambda x: \" \".join(x for x in x.split() if x not in stop))\n",
    "reviews_new['review'].head()"
   ]
  },
  {
   "cell_type": "markdown",
   "metadata": {},
   "source": [
    "Remove the 10 most common words"
   ]
  },
  {
   "cell_type": "code",
   "execution_count": null,
   "metadata": {},
   "outputs": [],
   "source": [
    "##freq = pd.Series(' '.join(reviews_new['reviewText']).split()).value_counts()[:10]\n",
    "##freq"
   ]
  },
  {
   "cell_type": "code",
   "execution_count": null,
   "metadata": {},
   "outputs": [],
   "source": [
    "##freq = list(freq.index)\n",
    "##reviews_new['reviewText'] = reviews_new['reviewText'].apply(lambda x: \" \".join(x for x in x.split() if x not in freq))\n",
    "##reviews_new['reviewText'].head()"
   ]
  },
  {
   "cell_type": "markdown",
   "metadata": {},
   "source": [
    "Remove the 50 most rare words"
   ]
  },
  {
   "cell_type": "code",
   "execution_count": 23,
   "metadata": {},
   "outputs": [
    {
     "data": {
      "text/plain": [
       "nothrills                    1\n",
       "34spiruilna34                1\n",
       "tubeparticles                1\n",
       "crustylikeat                 1\n",
       "wwnt                         1\n",
       "unabsorbent                  1\n",
       "colorinexpensiveeasy         1\n",
       "1175l                        1\n",
       "skinconswhen                 1\n",
       "firmergranted                1\n",
       "mafrketplac                  1\n",
       "wrinkleseh                   1\n",
       "backingstands                1\n",
       "soothesour                   1\n",
       "belowactually                1\n",
       "productslesson               1\n",
       "buckscan                     1\n",
       "skintom                      1\n",
       "excitedapplication           1\n",
       "beginner5                    1\n",
       "reesewitherspooncirca2001    1\n",
       "historymessage               1\n",
       "gotomy                       1\n",
       "amazonjill                   1\n",
       "ponky                        1\n",
       "deviceugh                    1\n",
       "scentsmake                   1\n",
       "ecolovely                    1\n",
       "skindissolves                1\n",
       "differencr                   1\n",
       "presentthey                  1\n",
       "legshavingfool               1\n",
       "holeon                       1\n",
       "34clack34                    1\n",
       "beautytube                   1\n",
       "hammermill28                 1\n",
       "feedbackas                   1\n",
       "easilylongevity              1\n",
       "sniffhmmmmmmm                1\n",
       "continuedall                 1\n",
       "softpositives                1\n",
       "shapereally                  1\n",
       "oz19                         1\n",
       "essai                        1\n",
       "orderedfree                  1\n",
       "9madison                     1\n",
       "leastill                     1\n",
       "mivable                      1\n",
       "cherries4                    1\n",
       "157316041609                 1\n",
       "dtype: int64"
      ]
     },
     "execution_count": 23,
     "metadata": {},
     "output_type": "execute_result"
    }
   ],
   "source": [
    "freq = pd.Series(' '.join(reviews_new['review']).split()).value_counts()[-50:]\n",
    "freq"
   ]
  },
  {
   "cell_type": "code",
   "execution_count": 24,
   "metadata": {},
   "outputs": [
    {
     "data": {
      "text/plain": [
       "0    bioactive antiaging serum love moisturizer wou...\n",
       "1    product ok im use baby kabuki moment received ...\n",
       "2    love set love set great buy price dont wear ma...\n",
       "3    nice moisturizer nice moisturizer natural ingr...\n",
       "4    fake mac please research mac hello kitty colle...\n",
       "Name: review, dtype: object"
      ]
     },
     "execution_count": 24,
     "metadata": {},
     "output_type": "execute_result"
    }
   ],
   "source": [
    "freq = list(freq.index)\n",
    "reviews_new['review'] = reviews_new['review'].apply(lambda x: \" \".join(x for x in x.split() if x not in freq))\n",
    "reviews_new['review'].head()"
   ]
  },
  {
   "cell_type": "code",
   "execution_count": 23,
   "metadata": {},
   "outputs": [],
   "source": [
    "from textblob import TextBlob"
   ]
  },
  {
   "cell_type": "code",
   "execution_count": 24,
   "metadata": {},
   "outputs": [
    {
     "data": {
      "text/plain": [
       "0    big-active anti-raging serum i do love this mo...\n",
       "1    His product is ok, I'm use Baby Kabuki in mome...\n",
       "2    I love this set I love this set. Great buy for...\n",
       "3    Vice Moisturizer A nice moisturizer, all natur...\n",
       "4    Take MAC Please research the MAC Hello Witty c...\n",
       "5    Mute girl compact mirror Single sided mirror. ...\n",
       "6    I'd say one of the best lip pencil I've tried....\n",
       "7    real product, same i bought in a mac store MAC...\n",
       "8    Benefit Automatic Eyeliner Men His is by far t...\n",
       "9    I really like this stuff. Dark circles under t...\n",
       "Name: review, dtype: object"
      ]
     },
     "execution_count": 24,
     "metadata": {},
     "output_type": "execute_result"
    }
   ],
   "source": [
    "reviews_new['review'][:10].apply(lambda x: str(TextBlob(x).correct()))"
   ]
  },
  {
   "cell_type": "code",
   "execution_count": 28,
   "metadata": {},
   "outputs": [
    {
     "data": {
      "text/html": [
       "<div>\n",
       "<style scoped>\n",
       "    .dataframe tbody tr th:only-of-type {\n",
       "        vertical-align: middle;\n",
       "    }\n",
       "\n",
       "    .dataframe tbody tr th {\n",
       "        vertical-align: top;\n",
       "    }\n",
       "\n",
       "    .dataframe thead th {\n",
       "        text-align: right;\n",
       "    }\n",
       "</style>\n",
       "<table border=\"1\" class=\"dataframe\">\n",
       "  <thead>\n",
       "    <tr style=\"text-align: right;\">\n",
       "      <th></th>\n",
       "      <th>overall</th>\n",
       "      <th>review</th>\n",
       "      <th>polarity</th>\n",
       "    </tr>\n",
       "  </thead>\n",
       "  <tbody>\n",
       "    <tr>\n",
       "      <th>32019</th>\n",
       "      <td>4</td>\n",
       "      <td>good good reason 5 sorta oily put takes little...</td>\n",
       "      <td>0.404167</td>\n",
       "    </tr>\n",
       "    <tr>\n",
       "      <th>1965600</th>\n",
       "      <td>5</td>\n",
       "      <td>skin barrier used another bran many years ship...</td>\n",
       "      <td>0.261111</td>\n",
       "    </tr>\n",
       "    <tr>\n",
       "      <th>381639</th>\n",
       "      <td>5</td>\n",
       "      <td>love stuff got free sample styling cream love ...</td>\n",
       "      <td>0.282870</td>\n",
       "    </tr>\n",
       "    <tr>\n",
       "      <th>610983</th>\n",
       "      <td>5</td>\n",
       "      <td>far good really impressed exfoliator leaves sk...</td>\n",
       "      <td>0.358712</td>\n",
       "    </tr>\n",
       "    <tr>\n",
       "      <th>643924</th>\n",
       "      <td>2</td>\n",
       "      <td>good product poor delivery product works wonde...</td>\n",
       "      <td>0.186667</td>\n",
       "    </tr>\n",
       "  </tbody>\n",
       "</table>\n",
       "</div>"
      ],
      "text/plain": [
       "         overall                                             review  polarity\n",
       "32019          4  good good reason 5 sorta oily put takes little...  0.404167\n",
       "1965600        5  skin barrier used another bran many years ship...  0.261111\n",
       "381639         5  love stuff got free sample styling cream love ...  0.282870\n",
       "610983         5  far good really impressed exfoliator leaves sk...  0.358712\n",
       "643924         2  good product poor delivery product works wonde...  0.186667"
      ]
     },
     "execution_count": 28,
     "metadata": {},
     "output_type": "execute_result"
    }
   ],
   "source": [
    "sample_reviews = reviews_new[['overall', 'review']].sample(10000)\n",
    "def detect_polarity(text):\n",
    "    return TextBlob(text).sentiment.polarity\n",
    "sample_reviews['polarity'] = sample_reviews.review.apply(detect_polarity)\n",
    "sample_reviews.head()"
   ]
  },
  {
   "cell_type": "code",
   "execution_count": 30,
   "metadata": {},
   "outputs": [
    {
     "name": "stdout",
     "output_type": "stream",
     "text": [
      "I love this stuff I got a free sample of the styling cream and I LOVE it. I've been shopping around for it and Amazon has the best prices.My hair is so soft and smooth. I apply it when mey hair is wet and give it a little blow dry.\n"
     ]
    }
   ],
   "source": [
    "print(reviews.iloc[381639,3])"
   ]
  },
  {
   "cell_type": "code",
   "execution_count": 31,
   "metadata": {},
   "outputs": [
    {
     "data": {
      "text/html": [
       "<div>\n",
       "<style scoped>\n",
       "    .dataframe tbody tr th:only-of-type {\n",
       "        vertical-align: middle;\n",
       "    }\n",
       "\n",
       "    .dataframe tbody tr th {\n",
       "        vertical-align: top;\n",
       "    }\n",
       "\n",
       "    .dataframe thead th {\n",
       "        text-align: right;\n",
       "    }\n",
       "</style>\n",
       "<table border=\"1\" class=\"dataframe\">\n",
       "  <thead>\n",
       "    <tr style=\"text-align: right;\">\n",
       "      <th></th>\n",
       "      <th>reviewerID</th>\n",
       "      <th>asin</th>\n",
       "      <th>overall</th>\n",
       "      <th>review</th>\n",
       "      <th>upvotes</th>\n",
       "      <th>downvotes</th>\n",
       "      <th>word_count</th>\n",
       "      <th>polarity</th>\n",
       "    </tr>\n",
       "  </thead>\n",
       "  <tbody>\n",
       "    <tr>\n",
       "      <th>0</th>\n",
       "      <td>A39HTATAQ9V7YF</td>\n",
       "      <td>0205616461</td>\n",
       "      <td>5</td>\n",
       "      <td>bioactive antiaging serum love moisturizer wou...</td>\n",
       "      <td>0</td>\n",
       "      <td>0</td>\n",
       "      <td>34</td>\n",
       "      <td>0.283333</td>\n",
       "    </tr>\n",
       "    <tr>\n",
       "      <th>1</th>\n",
       "      <td>A3JM6GV9MNOF9X</td>\n",
       "      <td>0558925278</td>\n",
       "      <td>3</td>\n",
       "      <td>product ok im use baby kabuki moment received ...</td>\n",
       "      <td>0</td>\n",
       "      <td>1</td>\n",
       "      <td>44</td>\n",
       "      <td>0.520000</td>\n",
       "    </tr>\n",
       "    <tr>\n",
       "      <th>2</th>\n",
       "      <td>A1Z513UWSAAO0F</td>\n",
       "      <td>0558925278</td>\n",
       "      <td>5</td>\n",
       "      <td>love set love set great buy price dont wear ma...</td>\n",
       "      <td>0</td>\n",
       "      <td>0</td>\n",
       "      <td>31</td>\n",
       "      <td>0.575000</td>\n",
       "    </tr>\n",
       "    <tr>\n",
       "      <th>3</th>\n",
       "      <td>A1WMRR494NWEWV</td>\n",
       "      <td>0733001998</td>\n",
       "      <td>4</td>\n",
       "      <td>nice moisturizer nice moisturizer natural ingr...</td>\n",
       "      <td>0</td>\n",
       "      <td>0</td>\n",
       "      <td>35</td>\n",
       "      <td>0.375000</td>\n",
       "    </tr>\n",
       "    <tr>\n",
       "      <th>4</th>\n",
       "      <td>A3IAAVS479H7M7</td>\n",
       "      <td>0737104473</td>\n",
       "      <td>1</td>\n",
       "      <td>fake mac please research mac hello kitty colle...</td>\n",
       "      <td>2</td>\n",
       "      <td>2</td>\n",
       "      <td>45</td>\n",
       "      <td>-0.125000</td>\n",
       "    </tr>\n",
       "  </tbody>\n",
       "</table>\n",
       "</div>"
      ],
      "text/plain": [
       "       reviewerID        asin  overall  \\\n",
       "0  A39HTATAQ9V7YF  0205616461        5   \n",
       "1  A3JM6GV9MNOF9X  0558925278        3   \n",
       "2  A1Z513UWSAAO0F  0558925278        5   \n",
       "3  A1WMRR494NWEWV  0733001998        4   \n",
       "4  A3IAAVS479H7M7  0737104473        1   \n",
       "\n",
       "                                              review upvotes downvotes  \\\n",
       "0  bioactive antiaging serum love moisturizer wou...       0         0   \n",
       "1  product ok im use baby kabuki moment received ...       0         1   \n",
       "2  love set love set great buy price dont wear ma...       0         0   \n",
       "3  nice moisturizer nice moisturizer natural ingr...       0         0   \n",
       "4  fake mac please research mac hello kitty colle...       2         2   \n",
       "\n",
       "   word_count  polarity  \n",
       "0          34  0.283333  \n",
       "1          44  0.520000  \n",
       "2          31  0.575000  \n",
       "3          35  0.375000  \n",
       "4          45 -0.125000  "
      ]
     },
     "execution_count": 31,
     "metadata": {},
     "output_type": "execute_result"
    }
   ],
   "source": [
    "reviews_new['polarity'] = reviews_new.review.apply(detect_polarity)\n",
    "reviews_new.head()"
   ]
  },
  {
   "cell_type": "code",
   "execution_count": 32,
   "metadata": {},
   "outputs": [],
   "source": [
    "reviews_new.to_csv('cleaned_reviews.csv',index=False)"
   ]
  },
  {
   "cell_type": "code",
   "execution_count": null,
   "metadata": {},
   "outputs": [],
   "source": []
  }
 ],
 "metadata": {
  "kernelspec": {
   "display_name": "Python 3",
   "language": "python",
   "name": "python3"
  },
  "language_info": {
   "codemirror_mode": {
    "name": "ipython",
    "version": 3
   },
   "file_extension": ".py",
   "mimetype": "text/x-python",
   "name": "python",
   "nbconvert_exporter": "python",
   "pygments_lexer": "ipython3",
   "version": "3.7.3"
  }
 },
 "nbformat": 4,
 "nbformat_minor": 2
}
