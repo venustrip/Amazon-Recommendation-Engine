{
 "cells": [
  {
   "cell_type": "markdown",
   "metadata": {},
   "source": [
    "<h1><center>Machine Learning - Amazon Beauty Products</center></h1>"
   ]
  },
  {
   "cell_type": "markdown",
   "metadata": {},
   "source": [
    "## Collaborative Filtering"
   ]
  },
  {
   "cell_type": "code",
   "execution_count": 1,
   "metadata": {},
   "outputs": [],
   "source": [
    "import pandas as pd\n",
    "import numpy as np\n",
    "\n",
    "pd.set_option('display.max_columns', None)  \n",
    "pd.set_option('display.expand_frame_repr', False)\n",
    "pd.set_option('max_colwidth', -1)\n",
    "\n",
    "%matplotlib inline\n",
    "import matplotlib.pyplot as plt\n",
    "import warnings \n",
    "warnings.filterwarnings('ignore')\n",
    "\n",
    "import gc"
   ]
  },
  {
   "cell_type": "code",
   "execution_count": 2,
   "metadata": {},
   "outputs": [],
   "source": [
    "from sklearn.model_selection import train_test_split\n",
    "\n",
    "from surprise import Reader, Dataset, accuracy\n",
    "\n",
    "from surprise import SVD, SVDpp, SlopeOne, NMF, NormalPredictor\n",
    "from surprise import KNNBaseline, KNNBasic, KNNWithMeans, KNNWithZScore\n",
    "from surprise import BaselineOnly, CoClustering\n",
    "from surprise.model_selection import cross_validate, train_test_split"
   ]
  },
  {
   "cell_type": "markdown",
   "metadata": {},
   "source": [
    "Read the cleaned file into dataframes."
   ]
  },
  {
   "cell_type": "code",
   "execution_count": 3,
   "metadata": {},
   "outputs": [],
   "source": [
    "meta = pd.read_csv('cleaned_metadata.csv',index_col=0)\n",
    "reviews = pd.read_csv('cleaned_reviews.csv',index_col=0)"
   ]
  },
  {
   "cell_type": "code",
   "execution_count": 4,
   "metadata": {},
   "outputs": [
    {
     "data": {
      "text/html": [
       "<div>\n",
       "<style scoped>\n",
       "    .dataframe tbody tr th:only-of-type {\n",
       "        vertical-align: middle;\n",
       "    }\n",
       "\n",
       "    .dataframe tbody tr th {\n",
       "        vertical-align: top;\n",
       "    }\n",
       "\n",
       "    .dataframe thead th {\n",
       "        text-align: right;\n",
       "    }\n",
       "</style>\n",
       "<table border=\"1\" class=\"dataframe\">\n",
       "  <thead>\n",
       "    <tr style=\"text-align: right;\">\n",
       "      <th></th>\n",
       "      <th>reviewerID</th>\n",
       "      <th>asin</th>\n",
       "      <th>overall</th>\n",
       "      <th>reviewTime</th>\n",
       "      <th>review</th>\n",
       "      <th>upvotes</th>\n",
       "      <th>downvotes</th>\n",
       "      <th>word_count</th>\n",
       "      <th>polarity</th>\n",
       "    </tr>\n",
       "  </thead>\n",
       "  <tbody>\n",
       "    <tr>\n",
       "      <th>1360701</th>\n",
       "      <td>A1LF7KGH427GYC</td>\n",
       "      <td>B00552467Q</td>\n",
       "      <td>5</td>\n",
       "      <td>2014-07-08</td>\n",
       "      <td>NaN</td>\n",
       "      <td>0</td>\n",
       "      <td>0</td>\n",
       "      <td>2</td>\n",
       "      <td>0.0</td>\n",
       "    </tr>\n",
       "    <tr>\n",
       "      <th>1467181</th>\n",
       "      <td>AUII249W6FBZY</td>\n",
       "      <td>B00604MV0C</td>\n",
       "      <td>3</td>\n",
       "      <td>2013-01-11</td>\n",
       "      <td>NaN</td>\n",
       "      <td>0</td>\n",
       "      <td>0</td>\n",
       "      <td>2</td>\n",
       "      <td>0.0</td>\n",
       "    </tr>\n",
       "    <tr>\n",
       "      <th>1784718</th>\n",
       "      <td>A3BX2SSKN9SFRV</td>\n",
       "      <td>B00ADXZ9LY</td>\n",
       "      <td>1</td>\n",
       "      <td>2014-07-03</td>\n",
       "      <td>NaN</td>\n",
       "      <td>0</td>\n",
       "      <td>0</td>\n",
       "      <td>4</td>\n",
       "      <td>0.0</td>\n",
       "    </tr>\n",
       "  </tbody>\n",
       "</table>\n",
       "</div>"
      ],
      "text/plain": [
       "             reviewerID        asin  overall  reviewTime review  upvotes  downvotes  word_count  polarity\n",
       "1360701  A1LF7KGH427GYC  B00552467Q  5        2014-07-08  NaN    0        0          2           0.0     \n",
       "1467181  AUII249W6FBZY   B00604MV0C  3        2013-01-11  NaN    0        0          2           0.0     \n",
       "1784718  A3BX2SSKN9SFRV  B00ADXZ9LY  1        2014-07-03  NaN    0        0          4           0.0     "
      ]
     },
     "execution_count": 4,
     "metadata": {},
     "output_type": "execute_result"
    }
   ],
   "source": [
    "reviews[reviews['review'].isnull()]"
   ]
  },
  {
   "cell_type": "code",
   "execution_count": 5,
   "metadata": {},
   "outputs": [],
   "source": [
    "d = {5: \"Excellent\", 4:\"Very Good\", 3: \"Good\", 2:\"Not Good\", 1: \"Bad\"}\n",
    "s = reviews.overall.map(d)\n",
    "reviews['review'] = reviews['review'].combine_first(s)"
   ]
  },
  {
   "cell_type": "code",
   "execution_count": 6,
   "metadata": {},
   "outputs": [],
   "source": [
    "d=None\n",
    "s=None"
   ]
  },
  {
   "cell_type": "code",
   "execution_count": 7,
   "metadata": {},
   "outputs": [],
   "source": [
    "reviews['review'] = reviews['review'].str.strip()"
   ]
  },
  {
   "cell_type": "code",
   "execution_count": 8,
   "metadata": {},
   "outputs": [],
   "source": [
    "meta['description'] = meta['description'].fillna(meta['main_cat'])\n",
    "meta['brand_title'] = meta['brand_title'].fillna(meta['main_cat'])\n",
    "meta['price'] = meta['price'].fillna(0)"
   ]
  },
  {
   "cell_type": "code",
   "execution_count": 9,
   "metadata": {},
   "outputs": [
    {
     "data": {
      "text/html": [
       "<div>\n",
       "<style scoped>\n",
       "    .dataframe tbody tr th:only-of-type {\n",
       "        vertical-align: middle;\n",
       "    }\n",
       "\n",
       "    .dataframe tbody tr th {\n",
       "        vertical-align: top;\n",
       "    }\n",
       "\n",
       "    .dataframe thead th {\n",
       "        text-align: right;\n",
       "    }\n",
       "</style>\n",
       "<table border=\"1\" class=\"dataframe\">\n",
       "  <thead>\n",
       "    <tr style=\"text-align: right;\">\n",
       "      <th></th>\n",
       "      <th>reviewerID</th>\n",
       "      <th>asin</th>\n",
       "      <th>overall</th>\n",
       "      <th>reviewTime</th>\n",
       "      <th>review</th>\n",
       "      <th>upvotes</th>\n",
       "      <th>downvotes</th>\n",
       "      <th>word_count</th>\n",
       "      <th>polarity</th>\n",
       "    </tr>\n",
       "  </thead>\n",
       "  <tbody>\n",
       "    <tr>\n",
       "      <th>0</th>\n",
       "      <td>A39HTATAQ9V7YF</td>\n",
       "      <td>0205616461</td>\n",
       "      <td>5</td>\n",
       "      <td>2013-05-28</td>\n",
       "      <td>bioactive antiaging serum love moisturizer would recommend someone dry skin fine lines wrinkles using brand day night serum</td>\n",
       "      <td>0</td>\n",
       "      <td>0</td>\n",
       "      <td>34</td>\n",
       "      <td>0.283333</td>\n",
       "    </tr>\n",
       "    <tr>\n",
       "      <th>1</th>\n",
       "      <td>A3JM6GV9MNOF9X</td>\n",
       "      <td>0558925278</td>\n",
       "      <td>3</td>\n",
       "      <td>2012-12-14</td>\n",
       "      <td>product ok im use baby kabuki moment received product deadlinei tested baby kabuki quality material best packaging cute love itthe fibers smell soft</td>\n",
       "      <td>0</td>\n",
       "      <td>1</td>\n",
       "      <td>44</td>\n",
       "      <td>0.520000</td>\n",
       "    </tr>\n",
       "  </tbody>\n",
       "</table>\n",
       "</div>"
      ],
      "text/plain": [
       "       reviewerID        asin  overall  reviewTime                                                                                                                                                review  upvotes  downvotes  word_count  polarity\n",
       "0  A39HTATAQ9V7YF  0205616461  5        2013-05-28  bioactive antiaging serum love moisturizer would recommend someone dry skin fine lines wrinkles using brand day night serum                           0        0          34          0.283333\n",
       "1  A3JM6GV9MNOF9X  0558925278  3        2012-12-14  product ok im use baby kabuki moment received product deadlinei tested baby kabuki quality material best packaging cute love itthe fibers smell soft  0        1          44          0.520000"
      ]
     },
     "execution_count": 9,
     "metadata": {},
     "output_type": "execute_result"
    }
   ],
   "source": [
    "reviews.head(2)"
   ]
  },
  {
   "cell_type": "code",
   "execution_count": 10,
   "metadata": {},
   "outputs": [],
   "source": [
    "usersperasin = reviews['asin'].value_counts()\n",
    "asinsperuser = reviews['reviewerID'].value_counts()"
   ]
  },
  {
   "cell_type": "code",
   "execution_count": 11,
   "metadata": {},
   "outputs": [],
   "source": [
    "sample = reviews[reviews['asin'].isin(usersperasin[usersperasin>5].index) & reviews['reviewerID'].isin(asinsperuser[asinsperuser>5].index)]\n",
    "\n",
    "#sample = reviews[reviews['asin'].isin(usersperasin[usersperasin>10].index)]"
   ]
  },
  {
   "cell_type": "code",
   "execution_count": 12,
   "metadata": {},
   "outputs": [
    {
     "data": {
      "text/html": [
       "<div>\n",
       "<style scoped>\n",
       "    .dataframe tbody tr th:only-of-type {\n",
       "        vertical-align: middle;\n",
       "    }\n",
       "\n",
       "    .dataframe tbody tr th {\n",
       "        vertical-align: top;\n",
       "    }\n",
       "\n",
       "    .dataframe thead th {\n",
       "        text-align: right;\n",
       "    }\n",
       "</style>\n",
       "<table border=\"1\" class=\"dataframe\">\n",
       "  <thead>\n",
       "    <tr style=\"text-align: right;\">\n",
       "      <th></th>\n",
       "      <th>index</th>\n",
       "      <th>reviewerID</th>\n",
       "      <th>asin</th>\n",
       "      <th>overall</th>\n",
       "      <th>reviewTime</th>\n",
       "      <th>review</th>\n",
       "      <th>upvotes</th>\n",
       "      <th>downvotes</th>\n",
       "      <th>word_count</th>\n",
       "      <th>polarity</th>\n",
       "    </tr>\n",
       "  </thead>\n",
       "  <tbody>\n",
       "    <tr>\n",
       "      <th>0</th>\n",
       "      <td>36</td>\n",
       "      <td>A274NIJWOQWE30</td>\n",
       "      <td>1304351475</td>\n",
       "      <td>5</td>\n",
       "      <td>2013-11-24</td>\n",
       "      <td>thank best price ever love pallet buying natural eye faced year love colors one use best price ever seen listed pallet kind comes mirror awesome buy</td>\n",
       "      <td>2</td>\n",
       "      <td>3</td>\n",
       "      <td>67</td>\n",
       "      <td>0.671429</td>\n",
       "    </tr>\n",
       "    <tr>\n",
       "      <th>1</th>\n",
       "      <td>40</td>\n",
       "      <td>AN33X95J5460X</td>\n",
       "      <td>1304351475</td>\n",
       "      <td>4</td>\n",
       "      <td>2014-03-19</td>\n",
       "      <td>sparkly colors lovely yet would dare say sparkly pigmented enough least comparison urbandecay skin stone rather tan maybe palette wont show clearly skin tone brighter must perfect romantic palette</td>\n",
       "      <td>1</td>\n",
       "      <td>2</td>\n",
       "      <td>56</td>\n",
       "      <td>0.216667</td>\n",
       "    </tr>\n",
       "    <tr>\n",
       "      <th>2</th>\n",
       "      <td>45</td>\n",
       "      <td>A169NC0ZW6XKRD</td>\n",
       "      <td>1304482685</td>\n",
       "      <td>3</td>\n",
       "      <td>2014-02-05</td>\n",
       "      <td>boring kinda disappointingthe colors light although colors appear darknot thrilled</td>\n",
       "      <td>0</td>\n",
       "      <td>0</td>\n",
       "      <td>19</td>\n",
       "      <td>0.000000</td>\n",
       "    </tr>\n",
       "    <tr>\n",
       "      <th>3</th>\n",
       "      <td>47</td>\n",
       "      <td>A22ZFXQE8AWPEP</td>\n",
       "      <td>1304482685</td>\n",
       "      <td>1</td>\n",
       "      <td>2013-10-31</td>\n",
       "      <td>fake mac seriously doubt reviewers tell fake mac took store thought could exchange another item said mac doesnt make shocked amazon allows happen fake mac fake reviews</td>\n",
       "      <td>6</td>\n",
       "      <td>6</td>\n",
       "      <td>49</td>\n",
       "      <td>-0.505556</td>\n",
       "    </tr>\n",
       "    <tr>\n",
       "      <th>4</th>\n",
       "      <td>50</td>\n",
       "      <td>A22VW0P4VZHDE3</td>\n",
       "      <td>1304482685</td>\n",
       "      <td>5</td>\n",
       "      <td>2013-11-11</td>\n",
       "      <td>good money conscious bought multitude colors cheap price shadows may small nicely pigmented used primer great good money conscious makeup lover colorful college student</td>\n",
       "      <td>0</td>\n",
       "      <td>0</td>\n",
       "      <td>52</td>\n",
       "      <td>0.383333</td>\n",
       "    </tr>\n",
       "    <tr>\n",
       "      <th>...</th>\n",
       "      <td>...</td>\n",
       "      <td>...</td>\n",
       "      <td>...</td>\n",
       "      <td>...</td>\n",
       "      <td>...</td>\n",
       "      <td>...</td>\n",
       "      <td>...</td>\n",
       "      <td>...</td>\n",
       "      <td>...</td>\n",
       "      <td>...</td>\n",
       "    </tr>\n",
       "    <tr>\n",
       "      <th>318153</th>\n",
       "      <td>2023043</td>\n",
       "      <td>ASKZO80Z1RKTR</td>\n",
       "      <td>B00LLPT4HI</td>\n",
       "      <td>5</td>\n",
       "      <td>2014-07-13</td>\n",
       "      <td>wonderful soothing moisturizer 100 organic raw unrefined african shea butter grade arrived quickly little soft heat outsidei followed instructions placed 1 lb brick refrigerator 3060 minsafter hour took brick solid againfor regular use need cut little dime size brick apply anywhere wantit light nutty scentit moisturizing soothing sunburn products aloe vera gel otc comes ingredients fragrances lidocainepure organic shea butter natural vitamin e creamshea butter shown superb moisturizer exceptional healing properties skinit used healthy skin dry skin sunburns wrinkles use 46 weeks eczema insect bites itching relieved immediately dermatitis stretch mark prevention pregnancy shaving cream silky smooth skin skin allergies poison ivy poison oakjust much morethis best shea butter used yet shea butter comes oil reach seed african shea tree fda classifies tree nut allergic shea buttersample provided review honest opinion</td>\n",
       "      <td>1</td>\n",
       "      <td>1</td>\n",
       "      <td>228</td>\n",
       "      <td>0.278644</td>\n",
       "    </tr>\n",
       "    <tr>\n",
       "      <th>318154</th>\n",
       "      <td>2023046</td>\n",
       "      <td>A3UJRNI8UR4871</td>\n",
       "      <td>B00LLPT4HI</td>\n",
       "      <td>5</td>\n",
       "      <td>2014-07-22</td>\n",
       "      <td>real stuff 100 pure shea butter mistake 34shea butter34 products may contain little shea lots ingredients including chemicals stuff might wantthis real stuff34good news block last long time bad news even tho called 34butter cant eat itguys try shaving instead shaving cream</td>\n",
       "      <td>0</td>\n",
       "      <td>1</td>\n",
       "      <td>75</td>\n",
       "      <td>-0.046173</td>\n",
       "    </tr>\n",
       "    <tr>\n",
       "      <th>318155</th>\n",
       "      <td>2023057</td>\n",
       "      <td>A1IO9HRIA7ZJGU</td>\n",
       "      <td>B00LNOKBYW</td>\n",
       "      <td>5</td>\n",
       "      <td>2014-07-17</td>\n",
       "      <td>child friendly used curl niece8217s hair weeks ago wedding kid majorly hyper can8217t sit still minutes time worked fast enough didnt time get bored give little snack bribe machine didnt get hot great wiggly little kid kept telling like princess cute curls stayed nice even put dress stayed nice kept playing running around kids reception everyone including sister law asking got hair look wonderful got many compliments would recommend anyone kids also works really well decent price</td>\n",
       "      <td>0</td>\n",
       "      <td>0</td>\n",
       "      <td>161</td>\n",
       "      <td>0.273698</td>\n",
       "    </tr>\n",
       "    <tr>\n",
       "      <th>318156</th>\n",
       "      <td>2023060</td>\n",
       "      <td>A3EN0JCMEML724</td>\n",
       "      <td>B00LNOKBYW</td>\n",
       "      <td>5</td>\n",
       "      <td>2014-07-18</td>\n",
       "      <td>absolutely complaints product hair thanking ever since purchased curling iron harsh hair old curling iron old curling iron would potent stench burning hair hair product new curling iron smell potent actually dont really notice compared last curling iron reason adjust curling irons temperature meaning deal curling iron getting hot great news everyone</td>\n",
       "      <td>0</td>\n",
       "      <td>0</td>\n",
       "      <td>105</td>\n",
       "      <td>0.215530</td>\n",
       "    </tr>\n",
       "    <tr>\n",
       "      <th>318157</th>\n",
       "      <td>2023064</td>\n",
       "      <td>A1YSYUGR6XRMIW</td>\n",
       "      <td>B00LNOKBYW</td>\n",
       "      <td>5</td>\n",
       "      <td>2014-07-15</td>\n",
       "      <td>fun long lasting curl day boyfriends family invited go famous oyster place grab fresh oysters picnic beach past weekend wanted look nice family outing got curling device last friday figured use curled hair wow works really fast super easy use less 15mins full set curls waited boyfriends family come pick us mother really adored curls asked curled hair often told curl hair since automatic curler didnt used curl hair much even boyfriend cant stop telling cute looked kept playing curls would playfully swat away since afraid hed mess sprung back original shape</td>\n",
       "      <td>0</td>\n",
       "      <td>0</td>\n",
       "      <td>183</td>\n",
       "      <td>0.150000</td>\n",
       "    </tr>\n",
       "  </tbody>\n",
       "</table>\n",
       "<p>318158 rows × 10 columns</p>\n",
       "</div>"
      ],
      "text/plain": [
       "          index      reviewerID        asin  overall  reviewTime                                                                                                                                                                                                                                                                                                                                                                                                                                                                                                                                                                                                                                                                                                                                                                                                                                                                                                                                                         review  upvotes  downvotes  word_count  polarity\n",
       "0       36       A274NIJWOQWE30  1304351475  5        2013-11-24  thank best price ever love pallet buying natural eye faced year love colors one use best price ever seen listed pallet kind comes mirror awesome buy                                                                                                                                                                                                                                                                                                                                                                                                                                                                                                                                                                                                                                                                                                                                                                                                           2        3          67          0.671429\n",
       "1       40       AN33X95J5460X   1304351475  4        2014-03-19  sparkly colors lovely yet would dare say sparkly pigmented enough least comparison urbandecay skin stone rather tan maybe palette wont show clearly skin tone brighter must perfect romantic palette                                                                                                                                                                                                                                                                                                                                                                                                                                                                                                                                                                                                                                                                                                                                                           1        2          56          0.216667\n",
       "2       45       A169NC0ZW6XKRD  1304482685  3        2014-02-05  boring kinda disappointingthe colors light although colors appear darknot thrilled                                                                                                                                                                                                                                                                                                                                                                                                                                                                                                                                                                                                                                                                                                                                                                                                                                                                             0        0          19          0.000000\n",
       "3       47       A22ZFXQE8AWPEP  1304482685  1        2013-10-31  fake mac seriously doubt reviewers tell fake mac took store thought could exchange another item said mac doesnt make shocked amazon allows happen fake mac fake reviews                                                                                                                                                                                                                                                                                                                                                                                                                                                                                                                                                                                                                                                                                                                                                                                        6        6          49         -0.505556\n",
       "4       50       A22VW0P4VZHDE3  1304482685  5        2013-11-11  good money conscious bought multitude colors cheap price shadows may small nicely pigmented used primer great good money conscious makeup lover colorful college student                                                                                                                                                                                                                                                                                                                                                                                                                                                                                                                                                                                                                                                                                                                                                                                       0        0          52          0.383333\n",
       "...     ..                  ...         ... ..               ...                                                                                                                                                                       ...                                                                                                                                                                                                                                                                                                                                                                                                                                                                                                                                                                                                                                                                                                                                                                                      ..       ..          ..               ...\n",
       "318153  2023043  ASKZO80Z1RKTR   B00LLPT4HI  5        2014-07-13  wonderful soothing moisturizer 100 organic raw unrefined african shea butter grade arrived quickly little soft heat outsidei followed instructions placed 1 lb brick refrigerator 3060 minsafter hour took brick solid againfor regular use need cut little dime size brick apply anywhere wantit light nutty scentit moisturizing soothing sunburn products aloe vera gel otc comes ingredients fragrances lidocainepure organic shea butter natural vitamin e creamshea butter shown superb moisturizer exceptional healing properties skinit used healthy skin dry skin sunburns wrinkles use 46 weeks eczema insect bites itching relieved immediately dermatitis stretch mark prevention pregnancy shaving cream silky smooth skin skin allergies poison ivy poison oakjust much morethis best shea butter used yet shea butter comes oil reach seed african shea tree fda classifies tree nut allergic shea buttersample provided review honest opinion  1        1          228         0.278644\n",
       "318154  2023046  A3UJRNI8UR4871  B00LLPT4HI  5        2014-07-22  real stuff 100 pure shea butter mistake 34shea butter34 products may contain little shea lots ingredients including chemicals stuff might wantthis real stuff34good news block last long time bad news even tho called 34butter cant eat itguys try shaving instead shaving cream                                                                                                                                                                                                                                                                                                                                                                                                                                                                                                                                                                                                                                                                              0        1          75         -0.046173\n",
       "318155  2023057  A1IO9HRIA7ZJGU  B00LNOKBYW  5        2014-07-17  child friendly used curl niece8217s hair weeks ago wedding kid majorly hyper can8217t sit still minutes time worked fast enough didnt time get bored give little snack bribe machine didnt get hot great wiggly little kid kept telling like princess cute curls stayed nice even put dress stayed nice kept playing running around kids reception everyone including sister law asking got hair look wonderful got many compliments would recommend anyone kids also works really well decent price                                                                                                                                                                                                                                                                                                                                                                                                                                                           0        0          161         0.273698\n",
       "318156  2023060  A3EN0JCMEML724  B00LNOKBYW  5        2014-07-18  absolutely complaints product hair thanking ever since purchased curling iron harsh hair old curling iron old curling iron would potent stench burning hair hair product new curling iron smell potent actually dont really notice compared last curling iron reason adjust curling irons temperature meaning deal curling iron getting hot great news everyone                                                                                                                                                                                                                                                                                                                                                                                                                                                                                                                                                                                                0        0          105         0.215530\n",
       "318157  2023064  A1YSYUGR6XRMIW  B00LNOKBYW  5        2014-07-15  fun long lasting curl day boyfriends family invited go famous oyster place grab fresh oysters picnic beach past weekend wanted look nice family outing got curling device last friday figured use curled hair wow works really fast super easy use less 15mins full set curls waited boyfriends family come pick us mother really adored curls asked curled hair often told curl hair since automatic curler didnt used curl hair much even boyfriend cant stop telling cute looked kept playing curls would playfully swat away since afraid hed mess sprung back original shape                                                                                                                                                                                                                                                                                                                                                                              0        0          183         0.150000\n",
       "\n",
       "[318158 rows x 10 columns]"
      ]
     },
     "execution_count": 12,
     "metadata": {},
     "output_type": "execute_result"
    }
   ],
   "source": [
    "sample.reset_index()"
   ]
  },
  {
   "cell_type": "code",
   "execution_count": 13,
   "metadata": {},
   "outputs": [
    {
     "data": {
      "text/plain": [
       "48267"
      ]
     },
     "execution_count": 13,
     "metadata": {},
     "output_type": "execute_result"
    }
   ],
   "source": [
    "sample['asin'].nunique()"
   ]
  },
  {
   "cell_type": "code",
   "execution_count": 14,
   "metadata": {},
   "outputs": [
    {
     "data": {
      "text/plain": [
       "36065"
      ]
     },
     "execution_count": 14,
     "metadata": {},
     "output_type": "execute_result"
    }
   ],
   "source": [
    "sample['reviewerID'].nunique()   ## 2023070 total"
   ]
  },
  {
   "cell_type": "code",
   "execution_count": 15,
   "metadata": {},
   "outputs": [
    {
     "data": {
      "text/plain": [
       "(318158, 9)"
      ]
     },
     "execution_count": 15,
     "metadata": {},
     "output_type": "execute_result"
    }
   ],
   "source": [
    "sample.shape"
   ]
  },
  {
   "cell_type": "code",
   "execution_count": 16,
   "metadata": {},
   "outputs": [
    {
     "data": {
      "text/html": [
       "<div>\n",
       "<style scoped>\n",
       "    .dataframe tbody tr th:only-of-type {\n",
       "        vertical-align: middle;\n",
       "    }\n",
       "\n",
       "    .dataframe tbody tr th {\n",
       "        vertical-align: top;\n",
       "    }\n",
       "\n",
       "    .dataframe thead th {\n",
       "        text-align: right;\n",
       "    }\n",
       "</style>\n",
       "<table border=\"1\" class=\"dataframe\">\n",
       "  <thead>\n",
       "    <tr style=\"text-align: right;\">\n",
       "      <th></th>\n",
       "      <th>reviewerID</th>\n",
       "      <th>asin</th>\n",
       "      <th>overall</th>\n",
       "      <th>reviewTime</th>\n",
       "      <th>review</th>\n",
       "      <th>upvotes</th>\n",
       "      <th>downvotes</th>\n",
       "      <th>word_count</th>\n",
       "      <th>polarity</th>\n",
       "    </tr>\n",
       "  </thead>\n",
       "  <tbody>\n",
       "    <tr>\n",
       "      <th>36</th>\n",
       "      <td>A274NIJWOQWE30</td>\n",
       "      <td>1304351475</td>\n",
       "      <td>5</td>\n",
       "      <td>2013-11-24</td>\n",
       "      <td>thank best price ever love pallet buying natural eye faced year love colors one use best price ever seen listed pallet kind comes mirror awesome buy</td>\n",
       "      <td>2</td>\n",
       "      <td>3</td>\n",
       "      <td>67</td>\n",
       "      <td>0.671429</td>\n",
       "    </tr>\n",
       "    <tr>\n",
       "      <th>40</th>\n",
       "      <td>AN33X95J5460X</td>\n",
       "      <td>1304351475</td>\n",
       "      <td>4</td>\n",
       "      <td>2014-03-19</td>\n",
       "      <td>sparkly colors lovely yet would dare say sparkly pigmented enough least comparison urbandecay skin stone rather tan maybe palette wont show clearly skin tone brighter must perfect romantic palette</td>\n",
       "      <td>1</td>\n",
       "      <td>2</td>\n",
       "      <td>56</td>\n",
       "      <td>0.216667</td>\n",
       "    </tr>\n",
       "    <tr>\n",
       "      <th>45</th>\n",
       "      <td>A169NC0ZW6XKRD</td>\n",
       "      <td>1304482685</td>\n",
       "      <td>3</td>\n",
       "      <td>2014-02-05</td>\n",
       "      <td>boring kinda disappointingthe colors light although colors appear darknot thrilled</td>\n",
       "      <td>0</td>\n",
       "      <td>0</td>\n",
       "      <td>19</td>\n",
       "      <td>0.000000</td>\n",
       "    </tr>\n",
       "    <tr>\n",
       "      <th>47</th>\n",
       "      <td>A22ZFXQE8AWPEP</td>\n",
       "      <td>1304482685</td>\n",
       "      <td>1</td>\n",
       "      <td>2013-10-31</td>\n",
       "      <td>fake mac seriously doubt reviewers tell fake mac took store thought could exchange another item said mac doesnt make shocked amazon allows happen fake mac fake reviews</td>\n",
       "      <td>6</td>\n",
       "      <td>6</td>\n",
       "      <td>49</td>\n",
       "      <td>-0.505556</td>\n",
       "    </tr>\n",
       "    <tr>\n",
       "      <th>50</th>\n",
       "      <td>A22VW0P4VZHDE3</td>\n",
       "      <td>1304482685</td>\n",
       "      <td>5</td>\n",
       "      <td>2013-11-11</td>\n",
       "      <td>good money conscious bought multitude colors cheap price shadows may small nicely pigmented used primer great good money conscious makeup lover colorful college student</td>\n",
       "      <td>0</td>\n",
       "      <td>0</td>\n",
       "      <td>52</td>\n",
       "      <td>0.383333</td>\n",
       "    </tr>\n",
       "  </tbody>\n",
       "</table>\n",
       "</div>"
      ],
      "text/plain": [
       "        reviewerID        asin  overall  reviewTime                                                                                                                                                                                                review  upvotes  downvotes  word_count  polarity\n",
       "36  A274NIJWOQWE30  1304351475  5        2013-11-24  thank best price ever love pallet buying natural eye faced year love colors one use best price ever seen listed pallet kind comes mirror awesome buy                                                  2        3          67          0.671429\n",
       "40  AN33X95J5460X   1304351475  4        2014-03-19  sparkly colors lovely yet would dare say sparkly pigmented enough least comparison urbandecay skin stone rather tan maybe palette wont show clearly skin tone brighter must perfect romantic palette  1        2          56          0.216667\n",
       "45  A169NC0ZW6XKRD  1304482685  3        2014-02-05  boring kinda disappointingthe colors light although colors appear darknot thrilled                                                                                                                    0        0          19          0.000000\n",
       "47  A22ZFXQE8AWPEP  1304482685  1        2013-10-31  fake mac seriously doubt reviewers tell fake mac took store thought could exchange another item said mac doesnt make shocked amazon allows happen fake mac fake reviews                               6        6          49         -0.505556\n",
       "50  A22VW0P4VZHDE3  1304482685  5        2013-11-11  good money conscious bought multitude colors cheap price shadows may small nicely pigmented used primer great good money conscious makeup lover colorful college student                              0        0          52          0.383333"
      ]
     },
     "execution_count": 16,
     "metadata": {},
     "output_type": "execute_result"
    }
   ],
   "source": [
    "sample.head()"
   ]
  },
  {
   "cell_type": "markdown",
   "metadata": {},
   "source": [
    "Surprise library has a set of built-in algorithms to perform collaborative filtering on explicit ratings."
   ]
  },
  {
   "cell_type": "code",
   "execution_count": 17,
   "metadata": {},
   "outputs": [],
   "source": [
    "reader=Reader(rating_scale=(0,5))"
   ]
  },
  {
   "cell_type": "code",
   "execution_count": 18,
   "metadata": {},
   "outputs": [],
   "source": [
    "data = Dataset.load_from_df(sample[['reviewerID', 'asin', 'overall']], reader)"
   ]
  },
  {
   "cell_type": "code",
   "execution_count": 19,
   "metadata": {},
   "outputs": [
    {
     "data": {
      "text/plain": [
       "<surprise.dataset.DatasetAutoFolds at 0x2668a023c88>"
      ]
     },
     "execution_count": 19,
     "metadata": {},
     "output_type": "execute_result"
    }
   ],
   "source": [
    "data"
   ]
  },
  {
   "cell_type": "code",
   "execution_count": 20,
   "metadata": {},
   "outputs": [],
   "source": [
    "benchmark = []"
   ]
  },
  {
   "cell_type": "markdown",
   "metadata": {},
   "source": [
    "We will use various algorithms to compute the RMSE"
   ]
  },
  {
   "cell_type": "code",
   "execution_count": 21,
   "metadata": {},
   "outputs": [],
   "source": [
    "algorithm = SVD(n_factors=20, n_epochs = 30, biased=False)\n",
    "results = cross_validate(algorithm, data, measures=['RMSE'], cv=3, verbose=False)\n",
    "    \n",
    "# Get results & append algorithm name\n",
    "tmp = pd.DataFrame.from_dict(results).mean(axis=0)\n",
    "tmp = tmp.append(pd.Series([str(algorithm).split(' ')[0].split('.')[-1]], index=['Algorithm']))\n",
    "benchmark.append(tmp)"
   ]
  },
  {
   "cell_type": "code",
   "execution_count": 22,
   "metadata": {},
   "outputs": [],
   "source": [
    "algorithm = SVD(n_factors=20, n_epochs = 30, biased=True)\n",
    "results = cross_validate(algorithm, data, measures=['RMSE'], cv=3, verbose=False)\n",
    "    \n",
    "# Get results & append algorithm name\n",
    "tmp = pd.DataFrame.from_dict(results).mean(axis=0)\n",
    "tmp = tmp.append(pd.Series([str(algorithm).split(' ')[0].split('.')[-1]], index=['Algorithm']))\n",
    "benchmark.append(tmp)"
   ]
  },
  {
   "cell_type": "code",
   "execution_count": 23,
   "metadata": {},
   "outputs": [],
   "source": [
    "algorithm = SVDpp(n_factors=20, n_epochs = 30)\n",
    "results = cross_validate(algorithm, data, measures=['RMSE'], cv=3, verbose=False)\n",
    "    \n",
    "# Get results & append algorithm name\n",
    "tmp = pd.DataFrame.from_dict(results).mean(axis=0)\n",
    "tmp = tmp.append(pd.Series([str(algorithm).split(' ')[0].split('.')[-1]], index=['Algorithm']))\n",
    "benchmark.append(tmp)"
   ]
  },
  {
   "cell_type": "code",
   "execution_count": 24,
   "metadata": {},
   "outputs": [],
   "source": [
    "algorithm = SlopeOne()  ### Gives MemoryError\n",
    "results = cross_validate(algorithm, data, measures=['RMSE'], cv=3, verbose=False)\n",
    "    \n",
    "# Get results & append algorithm name\n",
    "tmp = pd.DataFrame.from_dict(results).mean(axis=0)\n",
    "tmp = tmp.append(pd.Series([str(algorithm).split(' ')[0].split('.')[-1]], index=['Algorithm']))\n",
    "benchmark.append(tmp)"
   ]
  },
  {
   "cell_type": "code",
   "execution_count": 25,
   "metadata": {},
   "outputs": [],
   "source": [
    "algorithm = NMF(n_factors=20, n_epochs = 30, biased=False)\n",
    "results = cross_validate(algorithm, data, measures=['RMSE'], cv=3, verbose=False)\n",
    "    \n",
    "# Get results & append algorithm name\n",
    "tmp = pd.DataFrame.from_dict(results).mean(axis=0)\n",
    "tmp = tmp.append(pd.Series([str(algorithm).split(' ')[0].split('.')[-1]], index=['Algorithm']))\n",
    "benchmark.append(tmp)"
   ]
  },
  {
   "cell_type": "code",
   "execution_count": 26,
   "metadata": {},
   "outputs": [],
   "source": [
    "algorithm = NMF(n_factors=20, n_epochs = 30, biased=True)\n",
    "results = cross_validate(algorithm, data, measures=['RMSE'], cv=3, verbose=False)\n",
    "    \n",
    "# Get results & append algorithm name\n",
    "tmp = pd.DataFrame.from_dict(results).mean(axis=0)\n",
    "tmp = tmp.append(pd.Series([str(algorithm).split(' ')[0].split('.')[-1]], index=['Algorithm']))\n",
    "benchmark.append(tmp)"
   ]
  },
  {
   "cell_type": "code",
   "execution_count": 27,
   "metadata": {},
   "outputs": [
    {
     "name": "stdout",
     "output_type": "stream",
     "text": [
      "Estimating biases using als...\n",
      "Computing the msd similarity matrix...\n",
      "Done computing similarity matrix.\n",
      "Estimating biases using als...\n",
      "Computing the msd similarity matrix...\n",
      "Done computing similarity matrix.\n",
      "Estimating biases using als...\n",
      "Computing the msd similarity matrix...\n",
      "Done computing similarity matrix.\n"
     ]
    }
   ],
   "source": [
    "algorithm = KNNBaseline(n_factors=20, n_epochs = 30, biased=False)\n",
    "results = cross_validate(algorithm, data, measures=['RMSE'], cv=3, verbose=False)\n",
    "    \n",
    "# Get results & append algorithm name\n",
    "tmp = pd.DataFrame.from_dict(results).mean(axis=0)\n",
    "tmp = tmp.append(pd.Series([str(algorithm).split(' ')[0].split('.')[-1]], index=['Algorithm']))\n",
    "benchmark.append(tmp)"
   ]
  },
  {
   "cell_type": "code",
   "execution_count": 28,
   "metadata": {},
   "outputs": [
    {
     "name": "stdout",
     "output_type": "stream",
     "text": [
      "Estimating biases using als...\n",
      "Computing the msd similarity matrix...\n",
      "Done computing similarity matrix.\n",
      "Estimating biases using als...\n",
      "Computing the msd similarity matrix...\n",
      "Done computing similarity matrix.\n",
      "Estimating biases using als...\n",
      "Computing the msd similarity matrix...\n",
      "Done computing similarity matrix.\n"
     ]
    }
   ],
   "source": [
    "algorithm = KNNBaseline(n_factors=20, n_epochs = 30, biased=True)\n",
    "results = cross_validate(algorithm, data, measures=['RMSE'], cv=3, verbose=False)\n",
    "    \n",
    "# Get results & append algorithm name\n",
    "tmp = pd.DataFrame.from_dict(results).mean(axis=0)\n",
    "tmp = tmp.append(pd.Series([str(algorithm).split(' ')[0].split('.')[-1]], index=['Algorithm']))\n",
    "benchmark.append(tmp)"
   ]
  },
  {
   "cell_type": "code",
   "execution_count": 29,
   "metadata": {},
   "outputs": [
    {
     "data": {
      "text/plain": [
       "[test_rmse    3.33    \n",
       " fit_time     7.64195 \n",
       " test_time    0.695053\n",
       " Algorithm    SVD     \n",
       " dtype: object, test_rmse    1.12403 \n",
       " fit_time     7.69381 \n",
       " test_time    0.820784\n",
       " Algorithm    SVD     \n",
       " dtype: object, test_rmse    1.13816\n",
       " fit_time     69.0879\n",
       " test_time    2.52819\n",
       " Algorithm    SVDpp  \n",
       " dtype: object, test_rmse    1.25428 \n",
       " fit_time     93.3048 \n",
       " test_time    9.83037 \n",
       " Algorithm    SlopeOne\n",
       " dtype: object, test_rmse    1.29403\n",
       " fit_time     89.1783\n",
       " test_time    5.57509\n",
       " Algorithm    NMF    \n",
       " dtype: object, test_rmse    1.15603\n",
       " fit_time     72.8777\n",
       " test_time    4.30724\n",
       " Algorithm    NMF    \n",
       " dtype: object, test_rmse    1.18329    \n",
       " fit_time     130.214    \n",
       " test_time    9.02692    \n",
       " Algorithm    KNNBaseline\n",
       " dtype: object, test_rmse    1.18292    \n",
       " fit_time     111.764    \n",
       " test_time    7.60629    \n",
       " Algorithm    KNNBaseline\n",
       " dtype: object]"
      ]
     },
     "execution_count": 29,
     "metadata": {},
     "output_type": "execute_result"
    }
   ],
   "source": [
    "benchmark"
   ]
  },
  {
   "cell_type": "code",
   "execution_count": 30,
   "metadata": {},
   "outputs": [
    {
     "data": {
      "text/html": [
       "<div>\n",
       "<style scoped>\n",
       "    .dataframe tbody tr th:only-of-type {\n",
       "        vertical-align: middle;\n",
       "    }\n",
       "\n",
       "    .dataframe tbody tr th {\n",
       "        vertical-align: top;\n",
       "    }\n",
       "\n",
       "    .dataframe thead th {\n",
       "        text-align: right;\n",
       "    }\n",
       "</style>\n",
       "<table border=\"1\" class=\"dataframe\">\n",
       "  <thead>\n",
       "    <tr style=\"text-align: right;\">\n",
       "      <th></th>\n",
       "      <th>test_rmse</th>\n",
       "      <th>fit_time</th>\n",
       "      <th>test_time</th>\n",
       "    </tr>\n",
       "    <tr>\n",
       "      <th>Algorithm</th>\n",
       "      <th></th>\n",
       "      <th></th>\n",
       "      <th></th>\n",
       "    </tr>\n",
       "  </thead>\n",
       "  <tbody>\n",
       "    <tr>\n",
       "      <th>SVD</th>\n",
       "      <td>1.124032</td>\n",
       "      <td>7.693815</td>\n",
       "      <td>0.820784</td>\n",
       "    </tr>\n",
       "    <tr>\n",
       "      <th>SVDpp</th>\n",
       "      <td>1.138161</td>\n",
       "      <td>69.087880</td>\n",
       "      <td>2.528187</td>\n",
       "    </tr>\n",
       "    <tr>\n",
       "      <th>NMF</th>\n",
       "      <td>1.156026</td>\n",
       "      <td>72.877697</td>\n",
       "      <td>4.307238</td>\n",
       "    </tr>\n",
       "    <tr>\n",
       "      <th>KNNBaseline</th>\n",
       "      <td>1.182920</td>\n",
       "      <td>111.764026</td>\n",
       "      <td>7.606291</td>\n",
       "    </tr>\n",
       "    <tr>\n",
       "      <th>KNNBaseline</th>\n",
       "      <td>1.183290</td>\n",
       "      <td>130.213831</td>\n",
       "      <td>9.026922</td>\n",
       "    </tr>\n",
       "    <tr>\n",
       "      <th>SlopeOne</th>\n",
       "      <td>1.254283</td>\n",
       "      <td>93.304755</td>\n",
       "      <td>9.830369</td>\n",
       "    </tr>\n",
       "    <tr>\n",
       "      <th>NMF</th>\n",
       "      <td>1.294032</td>\n",
       "      <td>89.178326</td>\n",
       "      <td>5.575087</td>\n",
       "    </tr>\n",
       "    <tr>\n",
       "      <th>SVD</th>\n",
       "      <td>3.329999</td>\n",
       "      <td>7.641953</td>\n",
       "      <td>0.695053</td>\n",
       "    </tr>\n",
       "  </tbody>\n",
       "</table>\n",
       "</div>"
      ],
      "text/plain": [
       "             test_rmse    fit_time  test_time\n",
       "Algorithm                                    \n",
       "SVD          1.124032   7.693815    0.820784 \n",
       "SVDpp        1.138161   69.087880   2.528187 \n",
       "NMF          1.156026   72.877697   4.307238 \n",
       "KNNBaseline  1.182920   111.764026  7.606291 \n",
       "KNNBaseline  1.183290   130.213831  9.026922 \n",
       "SlopeOne     1.254283   93.304755   9.830369 \n",
       "NMF          1.294032   89.178326   5.575087 \n",
       "SVD          3.329999   7.641953    0.695053 "
      ]
     },
     "execution_count": 30,
     "metadata": {},
     "output_type": "execute_result"
    }
   ],
   "source": [
    "pd.DataFrame(benchmark).set_index('Algorithm').sort_values('test_rmse')    "
   ]
  },
  {
   "cell_type": "markdown",
   "metadata": {},
   "source": [
    "SVD with biased factor = True has the least RMSE so let's determine it's MAE also"
   ]
  },
  {
   "cell_type": "code",
   "execution_count": 31,
   "metadata": {},
   "outputs": [
    {
     "data": {
      "text/plain": [
       "{'test_rmse': array([1.12817591, 1.1215936 , 1.12293098]),\n",
       " 'test_mae': array([0.85968867, 0.85843451, 0.85671202]),\n",
       " 'fit_time': (11.261110305786133, 9.519094228744507, 9.36190128326416),\n",
       " 'test_time': (0.9808320999145508, 1.065335750579834, 1.040271282196045)}"
      ]
     },
     "execution_count": 31,
     "metadata": {},
     "output_type": "execute_result"
    }
   ],
   "source": [
    "algo = SVD(n_factors=20, n_epochs = 30, biased=True)\n",
    "cross_validate(algo, data, measures=['RMSE','MAE'], cv=3, verbose=False)"
   ]
  },
  {
   "cell_type": "markdown",
   "metadata": {},
   "source": [
    "Let's split the dataset into train and test and check for accuracy"
   ]
  },
  {
   "cell_type": "code",
   "execution_count": 32,
   "metadata": {},
   "outputs": [
    {
     "name": "stdout",
     "output_type": "stream",
     "text": [
      "RMSE: 1.1198\n"
     ]
    },
    {
     "data": {
      "text/plain": [
       "1.1198468624893345"
      ]
     },
     "execution_count": 32,
     "metadata": {},
     "output_type": "execute_result"
    }
   ],
   "source": [
    "trainset, testset = train_test_split(data, test_size=0.25)\n",
    "algo = SVD(n_factors=20, n_epochs = 30, biased=True)\n",
    "predictions = algo.fit(trainset).test(testset)\n",
    "accuracy.rmse(predictions)"
   ]
  },
  {
   "cell_type": "code",
   "execution_count": 33,
   "metadata": {},
   "outputs": [
    {
     "name": "stdout",
     "output_type": "stream",
     "text": [
      "MAE:  0.8517\n"
     ]
    },
    {
     "data": {
      "text/plain": [
       "0.8516680940555704"
      ]
     },
     "execution_count": 33,
     "metadata": {},
     "output_type": "execute_result"
    }
   ],
   "source": [
    "accuracy.mae(predictions)"
   ]
  },
  {
   "cell_type": "markdown",
   "metadata": {},
   "source": [
    "The MAE is even lower for the SVD algorithm"
   ]
  },
  {
   "cell_type": "code",
   "execution_count": 34,
   "metadata": {},
   "outputs": [],
   "source": [
    "def get_Iu(uid):\n",
    "    \"\"\" return the number of items rated by given user\n",
    "    args: \n",
    "      uid: the id of the user\n",
    "    returns: \n",
    "      the number of items rated by the user\n",
    "    \"\"\"\n",
    "    try:\n",
    "        return len(trainset.ur[trainset.to_inner_uid(uid)])\n",
    "    except ValueError: # user was not part of the trainset\n",
    "        return 0\n",
    "    \n",
    "def get_Ui(iid):\n",
    "    \"\"\" return number of users that have rated given item\n",
    "    args:\n",
    "      iid: the raw id of the item\n",
    "    returns:\n",
    "      the number of users that have rated the item.\n",
    "    \"\"\"\n",
    "    try: \n",
    "        return len(trainset.ir[trainset.to_inner_iid(iid)])\n",
    "    except ValueError:\n",
    "        return 0\n",
    "    \n",
    "df = pd.DataFrame(predictions, columns=['uid', 'iid', 'rui', 'est', 'details'])\n",
    "df['Iu'] = df.uid.apply(get_Iu)\n",
    "df['Ui'] = df.iid.apply(get_Ui)\n",
    "df['err'] = abs(df.est - df.rui)\n",
    "best_predictions = df.sort_values(by='err')[:10]\n",
    "worst_predictions = df.sort_values(by='err')[-10:]\n"
   ]
  },
  {
   "cell_type": "code",
   "execution_count": 35,
   "metadata": {},
   "outputs": [
    {
     "data": {
      "text/html": [
       "<div>\n",
       "<style scoped>\n",
       "    .dataframe tbody tr th:only-of-type {\n",
       "        vertical-align: middle;\n",
       "    }\n",
       "\n",
       "    .dataframe tbody tr th {\n",
       "        vertical-align: top;\n",
       "    }\n",
       "\n",
       "    .dataframe thead th {\n",
       "        text-align: right;\n",
       "    }\n",
       "</style>\n",
       "<table border=\"1\" class=\"dataframe\">\n",
       "  <thead>\n",
       "    <tr style=\"text-align: right;\">\n",
       "      <th></th>\n",
       "      <th>uid</th>\n",
       "      <th>iid</th>\n",
       "      <th>rui</th>\n",
       "      <th>est</th>\n",
       "      <th>details</th>\n",
       "      <th>Iu</th>\n",
       "      <th>Ui</th>\n",
       "      <th>err</th>\n",
       "    </tr>\n",
       "  </thead>\n",
       "  <tbody>\n",
       "    <tr>\n",
       "      <th>38635</th>\n",
       "      <td>A21T5C3KL41REL</td>\n",
       "      <td>B00GPWYF94</td>\n",
       "      <td>5.0</td>\n",
       "      <td>5.0</td>\n",
       "      <td>{'was_impossible': False}</td>\n",
       "      <td>23</td>\n",
       "      <td>37</td>\n",
       "      <td>0.0</td>\n",
       "    </tr>\n",
       "    <tr>\n",
       "      <th>73204</th>\n",
       "      <td>ABW1LGKF1KIE2</td>\n",
       "      <td>B008Q0E714</td>\n",
       "      <td>5.0</td>\n",
       "      <td>5.0</td>\n",
       "      <td>{'was_impossible': False}</td>\n",
       "      <td>11</td>\n",
       "      <td>63</td>\n",
       "      <td>0.0</td>\n",
       "    </tr>\n",
       "    <tr>\n",
       "      <th>42775</th>\n",
       "      <td>A3QX1PKDEDGIEW</td>\n",
       "      <td>B006GTKSHY</td>\n",
       "      <td>5.0</td>\n",
       "      <td>5.0</td>\n",
       "      <td>{'was_impossible': False}</td>\n",
       "      <td>8</td>\n",
       "      <td>34</td>\n",
       "      <td>0.0</td>\n",
       "    </tr>\n",
       "    <tr>\n",
       "      <th>24549</th>\n",
       "      <td>A8C69Q1OOVFZW</td>\n",
       "      <td>B0063UN7PQ</td>\n",
       "      <td>5.0</td>\n",
       "      <td>5.0</td>\n",
       "      <td>{'was_impossible': False}</td>\n",
       "      <td>7</td>\n",
       "      <td>2</td>\n",
       "      <td>0.0</td>\n",
       "    </tr>\n",
       "    <tr>\n",
       "      <th>53809</th>\n",
       "      <td>A390XPHE9J7DBO</td>\n",
       "      <td>B00JQP1SP6</td>\n",
       "      <td>5.0</td>\n",
       "      <td>5.0</td>\n",
       "      <td>{'was_impossible': False}</td>\n",
       "      <td>46</td>\n",
       "      <td>33</td>\n",
       "      <td>0.0</td>\n",
       "    </tr>\n",
       "    <tr>\n",
       "      <th>53821</th>\n",
       "      <td>AC3HTUCNI2I04</td>\n",
       "      <td>B0046MZNH8</td>\n",
       "      <td>5.0</td>\n",
       "      <td>5.0</td>\n",
       "      <td>{'was_impossible': False}</td>\n",
       "      <td>8</td>\n",
       "      <td>8</td>\n",
       "      <td>0.0</td>\n",
       "    </tr>\n",
       "    <tr>\n",
       "      <th>53826</th>\n",
       "      <td>A2KJWZ7I24GMQC</td>\n",
       "      <td>B00JL2TURM</td>\n",
       "      <td>5.0</td>\n",
       "      <td>5.0</td>\n",
       "      <td>{'was_impossible': False}</td>\n",
       "      <td>15</td>\n",
       "      <td>53</td>\n",
       "      <td>0.0</td>\n",
       "    </tr>\n",
       "    <tr>\n",
       "      <th>77773</th>\n",
       "      <td>A1SSXXAPHDYWNP</td>\n",
       "      <td>B008Q0E714</td>\n",
       "      <td>5.0</td>\n",
       "      <td>5.0</td>\n",
       "      <td>{'was_impossible': False}</td>\n",
       "      <td>6</td>\n",
       "      <td>63</td>\n",
       "      <td>0.0</td>\n",
       "    </tr>\n",
       "    <tr>\n",
       "      <th>53836</th>\n",
       "      <td>AD526SECC3I9D</td>\n",
       "      <td>B001CPM03C</td>\n",
       "      <td>5.0</td>\n",
       "      <td>5.0</td>\n",
       "      <td>{'was_impossible': False}</td>\n",
       "      <td>7</td>\n",
       "      <td>27</td>\n",
       "      <td>0.0</td>\n",
       "    </tr>\n",
       "    <tr>\n",
       "      <th>53846</th>\n",
       "      <td>A2F9MEJHHUU9M2</td>\n",
       "      <td>B00FW6ELDY</td>\n",
       "      <td>5.0</td>\n",
       "      <td>5.0</td>\n",
       "      <td>{'was_impossible': False}</td>\n",
       "      <td>9</td>\n",
       "      <td>11</td>\n",
       "      <td>0.0</td>\n",
       "    </tr>\n",
       "  </tbody>\n",
       "</table>\n",
       "</div>"
      ],
      "text/plain": [
       "                  uid         iid  rui  est                    details  Iu  Ui  err\n",
       "38635  A21T5C3KL41REL  B00GPWYF94  5.0  5.0  {'was_impossible': False}  23  37  0.0\n",
       "73204  ABW1LGKF1KIE2   B008Q0E714  5.0  5.0  {'was_impossible': False}  11  63  0.0\n",
       "42775  A3QX1PKDEDGIEW  B006GTKSHY  5.0  5.0  {'was_impossible': False}  8   34  0.0\n",
       "24549  A8C69Q1OOVFZW   B0063UN7PQ  5.0  5.0  {'was_impossible': False}  7   2   0.0\n",
       "53809  A390XPHE9J7DBO  B00JQP1SP6  5.0  5.0  {'was_impossible': False}  46  33  0.0\n",
       "53821  AC3HTUCNI2I04   B0046MZNH8  5.0  5.0  {'was_impossible': False}  8   8   0.0\n",
       "53826  A2KJWZ7I24GMQC  B00JL2TURM  5.0  5.0  {'was_impossible': False}  15  53  0.0\n",
       "77773  A1SSXXAPHDYWNP  B008Q0E714  5.0  5.0  {'was_impossible': False}  6   63  0.0\n",
       "53836  AD526SECC3I9D   B001CPM03C  5.0  5.0  {'was_impossible': False}  7   27  0.0\n",
       "53846  A2F9MEJHHUU9M2  B00FW6ELDY  5.0  5.0  {'was_impossible': False}  9   11  0.0"
      ]
     },
     "execution_count": 35,
     "metadata": {},
     "output_type": "execute_result"
    }
   ],
   "source": [
    "best_predictions"
   ]
  },
  {
   "cell_type": "code",
   "execution_count": 36,
   "metadata": {},
   "outputs": [
    {
     "data": {
      "text/html": [
       "<div>\n",
       "<style scoped>\n",
       "    .dataframe tbody tr th:only-of-type {\n",
       "        vertical-align: middle;\n",
       "    }\n",
       "\n",
       "    .dataframe tbody tr th {\n",
       "        vertical-align: top;\n",
       "    }\n",
       "\n",
       "    .dataframe thead th {\n",
       "        text-align: right;\n",
       "    }\n",
       "</style>\n",
       "<table border=\"1\" class=\"dataframe\">\n",
       "  <thead>\n",
       "    <tr style=\"text-align: right;\">\n",
       "      <th></th>\n",
       "      <th>uid</th>\n",
       "      <th>iid</th>\n",
       "      <th>rui</th>\n",
       "      <th>est</th>\n",
       "      <th>details</th>\n",
       "      <th>Iu</th>\n",
       "      <th>Ui</th>\n",
       "      <th>err</th>\n",
       "    </tr>\n",
       "  </thead>\n",
       "  <tbody>\n",
       "    <tr>\n",
       "      <th>41606</th>\n",
       "      <td>A2JQHSICQ2LVF4</td>\n",
       "      <td>B004R7R8G6</td>\n",
       "      <td>1.0</td>\n",
       "      <td>5.0</td>\n",
       "      <td>{'was_impossible': False}</td>\n",
       "      <td>14</td>\n",
       "      <td>7</td>\n",
       "      <td>4.0</td>\n",
       "    </tr>\n",
       "    <tr>\n",
       "      <th>24494</th>\n",
       "      <td>A1G3RLG5R6YJH8</td>\n",
       "      <td>B004VB48LQ</td>\n",
       "      <td>1.0</td>\n",
       "      <td>5.0</td>\n",
       "      <td>{'was_impossible': False}</td>\n",
       "      <td>13</td>\n",
       "      <td>4</td>\n",
       "      <td>4.0</td>\n",
       "    </tr>\n",
       "    <tr>\n",
       "      <th>16988</th>\n",
       "      <td>ALJ1S9LOYB08X</td>\n",
       "      <td>B000ZMBSPE</td>\n",
       "      <td>1.0</td>\n",
       "      <td>5.0</td>\n",
       "      <td>{'was_impossible': False}</td>\n",
       "      <td>9</td>\n",
       "      <td>322</td>\n",
       "      <td>4.0</td>\n",
       "    </tr>\n",
       "    <tr>\n",
       "      <th>50113</th>\n",
       "      <td>A6KTMD1302DH3</td>\n",
       "      <td>B005GQ6F4I</td>\n",
       "      <td>1.0</td>\n",
       "      <td>5.0</td>\n",
       "      <td>{'was_impossible': False}</td>\n",
       "      <td>12</td>\n",
       "      <td>17</td>\n",
       "      <td>4.0</td>\n",
       "    </tr>\n",
       "    <tr>\n",
       "      <th>67189</th>\n",
       "      <td>A31QEIE49EC2R8</td>\n",
       "      <td>B003E23I96</td>\n",
       "      <td>1.0</td>\n",
       "      <td>5.0</td>\n",
       "      <td>{'was_impossible': False}</td>\n",
       "      <td>9</td>\n",
       "      <td>3</td>\n",
       "      <td>4.0</td>\n",
       "    </tr>\n",
       "    <tr>\n",
       "      <th>57403</th>\n",
       "      <td>AEMV9IMH665B9</td>\n",
       "      <td>B003HG4GQI</td>\n",
       "      <td>1.0</td>\n",
       "      <td>5.0</td>\n",
       "      <td>{'was_impossible': False}</td>\n",
       "      <td>17</td>\n",
       "      <td>37</td>\n",
       "      <td>4.0</td>\n",
       "    </tr>\n",
       "    <tr>\n",
       "      <th>5687</th>\n",
       "      <td>A1F5KKZRXJWKIT</td>\n",
       "      <td>B00429BV3K</td>\n",
       "      <td>1.0</td>\n",
       "      <td>5.0</td>\n",
       "      <td>{'was_impossible': False}</td>\n",
       "      <td>14</td>\n",
       "      <td>27</td>\n",
       "      <td>4.0</td>\n",
       "    </tr>\n",
       "    <tr>\n",
       "      <th>17123</th>\n",
       "      <td>A1F5KKZRXJWKIT</td>\n",
       "      <td>B00AXL7YH8</td>\n",
       "      <td>1.0</td>\n",
       "      <td>5.0</td>\n",
       "      <td>{'was_impossible': False}</td>\n",
       "      <td>14</td>\n",
       "      <td>5</td>\n",
       "      <td>4.0</td>\n",
       "    </tr>\n",
       "    <tr>\n",
       "      <th>36072</th>\n",
       "      <td>A3A7Y3TSPPZU9T</td>\n",
       "      <td>B0006Q3NTS</td>\n",
       "      <td>1.0</td>\n",
       "      <td>5.0</td>\n",
       "      <td>{'was_impossible': False}</td>\n",
       "      <td>32</td>\n",
       "      <td>43</td>\n",
       "      <td>4.0</td>\n",
       "    </tr>\n",
       "    <tr>\n",
       "      <th>8671</th>\n",
       "      <td>A9X08IY6Y9FL3</td>\n",
       "      <td>B003S516XO</td>\n",
       "      <td>1.0</td>\n",
       "      <td>5.0</td>\n",
       "      <td>{'was_impossible': False}</td>\n",
       "      <td>6</td>\n",
       "      <td>103</td>\n",
       "      <td>4.0</td>\n",
       "    </tr>\n",
       "  </tbody>\n",
       "</table>\n",
       "</div>"
      ],
      "text/plain": [
       "                  uid         iid  rui  est                    details  Iu   Ui  err\n",
       "41606  A2JQHSICQ2LVF4  B004R7R8G6  1.0  5.0  {'was_impossible': False}  14  7    4.0\n",
       "24494  A1G3RLG5R6YJH8  B004VB48LQ  1.0  5.0  {'was_impossible': False}  13  4    4.0\n",
       "16988  ALJ1S9LOYB08X   B000ZMBSPE  1.0  5.0  {'was_impossible': False}  9   322  4.0\n",
       "50113  A6KTMD1302DH3   B005GQ6F4I  1.0  5.0  {'was_impossible': False}  12  17   4.0\n",
       "67189  A31QEIE49EC2R8  B003E23I96  1.0  5.0  {'was_impossible': False}  9   3    4.0\n",
       "57403  AEMV9IMH665B9   B003HG4GQI  1.0  5.0  {'was_impossible': False}  17  37   4.0\n",
       "5687   A1F5KKZRXJWKIT  B00429BV3K  1.0  5.0  {'was_impossible': False}  14  27   4.0\n",
       "17123  A1F5KKZRXJWKIT  B00AXL7YH8  1.0  5.0  {'was_impossible': False}  14  5    4.0\n",
       "36072  A3A7Y3TSPPZU9T  B0006Q3NTS  1.0  5.0  {'was_impossible': False}  32  43   4.0\n",
       "8671   A9X08IY6Y9FL3   B003S516XO  1.0  5.0  {'was_impossible': False}  6   103  4.0"
      ]
     },
     "execution_count": 36,
     "metadata": {},
     "output_type": "execute_result"
    }
   ],
   "source": [
    "worst_predictions"
   ]
  },
  {
   "cell_type": "markdown",
   "metadata": {},
   "source": [
    "Let's take a look at one of the products that received worst predictions"
   ]
  },
  {
   "cell_type": "code",
   "execution_count": 37,
   "metadata": {},
   "outputs": [
    {
     "data": {
      "application/javascript": [
       "/* Put everything inside the global mpl namespace */\n",
       "window.mpl = {};\n",
       "\n",
       "\n",
       "mpl.get_websocket_type = function() {\n",
       "    if (typeof(WebSocket) !== 'undefined') {\n",
       "        return WebSocket;\n",
       "    } else if (typeof(MozWebSocket) !== 'undefined') {\n",
       "        return MozWebSocket;\n",
       "    } else {\n",
       "        alert('Your browser does not have WebSocket support.' +\n",
       "              'Please try Chrome, Safari or Firefox ≥ 6. ' +\n",
       "              'Firefox 4 and 5 are also supported but you ' +\n",
       "              'have to enable WebSockets in about:config.');\n",
       "    };\n",
       "}\n",
       "\n",
       "mpl.figure = function(figure_id, websocket, ondownload, parent_element) {\n",
       "    this.id = figure_id;\n",
       "\n",
       "    this.ws = websocket;\n",
       "\n",
       "    this.supports_binary = (this.ws.binaryType != undefined);\n",
       "\n",
       "    if (!this.supports_binary) {\n",
       "        var warnings = document.getElementById(\"mpl-warnings\");\n",
       "        if (warnings) {\n",
       "            warnings.style.display = 'block';\n",
       "            warnings.textContent = (\n",
       "                \"This browser does not support binary websocket messages. \" +\n",
       "                    \"Performance may be slow.\");\n",
       "        }\n",
       "    }\n",
       "\n",
       "    this.imageObj = new Image();\n",
       "\n",
       "    this.context = undefined;\n",
       "    this.message = undefined;\n",
       "    this.canvas = undefined;\n",
       "    this.rubberband_canvas = undefined;\n",
       "    this.rubberband_context = undefined;\n",
       "    this.format_dropdown = undefined;\n",
       "\n",
       "    this.image_mode = 'full';\n",
       "\n",
       "    this.root = $('<div/>');\n",
       "    this._root_extra_style(this.root)\n",
       "    this.root.attr('style', 'display: inline-block');\n",
       "\n",
       "    $(parent_element).append(this.root);\n",
       "\n",
       "    this._init_header(this);\n",
       "    this._init_canvas(this);\n",
       "    this._init_toolbar(this);\n",
       "\n",
       "    var fig = this;\n",
       "\n",
       "    this.waiting = false;\n",
       "\n",
       "    this.ws.onopen =  function () {\n",
       "            fig.send_message(\"supports_binary\", {value: fig.supports_binary});\n",
       "            fig.send_message(\"send_image_mode\", {});\n",
       "            if (mpl.ratio != 1) {\n",
       "                fig.send_message(\"set_dpi_ratio\", {'dpi_ratio': mpl.ratio});\n",
       "            }\n",
       "            fig.send_message(\"refresh\", {});\n",
       "        }\n",
       "\n",
       "    this.imageObj.onload = function() {\n",
       "            if (fig.image_mode == 'full') {\n",
       "                // Full images could contain transparency (where diff images\n",
       "                // almost always do), so we need to clear the canvas so that\n",
       "                // there is no ghosting.\n",
       "                fig.context.clearRect(0, 0, fig.canvas.width, fig.canvas.height);\n",
       "            }\n",
       "            fig.context.drawImage(fig.imageObj, 0, 0);\n",
       "        };\n",
       "\n",
       "    this.imageObj.onunload = function() {\n",
       "        fig.ws.close();\n",
       "    }\n",
       "\n",
       "    this.ws.onmessage = this._make_on_message_function(this);\n",
       "\n",
       "    this.ondownload = ondownload;\n",
       "}\n",
       "\n",
       "mpl.figure.prototype._init_header = function() {\n",
       "    var titlebar = $(\n",
       "        '<div class=\"ui-dialog-titlebar ui-widget-header ui-corner-all ' +\n",
       "        'ui-helper-clearfix\"/>');\n",
       "    var titletext = $(\n",
       "        '<div class=\"ui-dialog-title\" style=\"width: 100%; ' +\n",
       "        'text-align: center; padding: 3px;\"/>');\n",
       "    titlebar.append(titletext)\n",
       "    this.root.append(titlebar);\n",
       "    this.header = titletext[0];\n",
       "}\n",
       "\n",
       "\n",
       "\n",
       "mpl.figure.prototype._canvas_extra_style = function(canvas_div) {\n",
       "\n",
       "}\n",
       "\n",
       "\n",
       "mpl.figure.prototype._root_extra_style = function(canvas_div) {\n",
       "\n",
       "}\n",
       "\n",
       "mpl.figure.prototype._init_canvas = function() {\n",
       "    var fig = this;\n",
       "\n",
       "    var canvas_div = $('<div/>');\n",
       "\n",
       "    canvas_div.attr('style', 'position: relative; clear: both; outline: 0');\n",
       "\n",
       "    function canvas_keyboard_event(event) {\n",
       "        return fig.key_event(event, event['data']);\n",
       "    }\n",
       "\n",
       "    canvas_div.keydown('key_press', canvas_keyboard_event);\n",
       "    canvas_div.keyup('key_release', canvas_keyboard_event);\n",
       "    this.canvas_div = canvas_div\n",
       "    this._canvas_extra_style(canvas_div)\n",
       "    this.root.append(canvas_div);\n",
       "\n",
       "    var canvas = $('<canvas/>');\n",
       "    canvas.addClass('mpl-canvas');\n",
       "    canvas.attr('style', \"left: 0; top: 0; z-index: 0; outline: 0\")\n",
       "\n",
       "    this.canvas = canvas[0];\n",
       "    this.context = canvas[0].getContext(\"2d\");\n",
       "\n",
       "    var backingStore = this.context.backingStorePixelRatio ||\n",
       "\tthis.context.webkitBackingStorePixelRatio ||\n",
       "\tthis.context.mozBackingStorePixelRatio ||\n",
       "\tthis.context.msBackingStorePixelRatio ||\n",
       "\tthis.context.oBackingStorePixelRatio ||\n",
       "\tthis.context.backingStorePixelRatio || 1;\n",
       "\n",
       "    mpl.ratio = (window.devicePixelRatio || 1) / backingStore;\n",
       "\n",
       "    var rubberband = $('<canvas/>');\n",
       "    rubberband.attr('style', \"position: absolute; left: 0; top: 0; z-index: 1;\")\n",
       "\n",
       "    var pass_mouse_events = true;\n",
       "\n",
       "    canvas_div.resizable({\n",
       "        start: function(event, ui) {\n",
       "            pass_mouse_events = false;\n",
       "        },\n",
       "        resize: function(event, ui) {\n",
       "            fig.request_resize(ui.size.width, ui.size.height);\n",
       "        },\n",
       "        stop: function(event, ui) {\n",
       "            pass_mouse_events = true;\n",
       "            fig.request_resize(ui.size.width, ui.size.height);\n",
       "        },\n",
       "    });\n",
       "\n",
       "    function mouse_event_fn(event) {\n",
       "        if (pass_mouse_events)\n",
       "            return fig.mouse_event(event, event['data']);\n",
       "    }\n",
       "\n",
       "    rubberband.mousedown('button_press', mouse_event_fn);\n",
       "    rubberband.mouseup('button_release', mouse_event_fn);\n",
       "    // Throttle sequential mouse events to 1 every 20ms.\n",
       "    rubberband.mousemove('motion_notify', mouse_event_fn);\n",
       "\n",
       "    rubberband.mouseenter('figure_enter', mouse_event_fn);\n",
       "    rubberband.mouseleave('figure_leave', mouse_event_fn);\n",
       "\n",
       "    canvas_div.on(\"wheel\", function (event) {\n",
       "        event = event.originalEvent;\n",
       "        event['data'] = 'scroll'\n",
       "        if (event.deltaY < 0) {\n",
       "            event.step = 1;\n",
       "        } else {\n",
       "            event.step = -1;\n",
       "        }\n",
       "        mouse_event_fn(event);\n",
       "    });\n",
       "\n",
       "    canvas_div.append(canvas);\n",
       "    canvas_div.append(rubberband);\n",
       "\n",
       "    this.rubberband = rubberband;\n",
       "    this.rubberband_canvas = rubberband[0];\n",
       "    this.rubberband_context = rubberband[0].getContext(\"2d\");\n",
       "    this.rubberband_context.strokeStyle = \"#000000\";\n",
       "\n",
       "    this._resize_canvas = function(width, height) {\n",
       "        // Keep the size of the canvas, canvas container, and rubber band\n",
       "        // canvas in synch.\n",
       "        canvas_div.css('width', width)\n",
       "        canvas_div.css('height', height)\n",
       "\n",
       "        canvas.attr('width', width * mpl.ratio);\n",
       "        canvas.attr('height', height * mpl.ratio);\n",
       "        canvas.attr('style', 'width: ' + width + 'px; height: ' + height + 'px;');\n",
       "\n",
       "        rubberband.attr('width', width);\n",
       "        rubberband.attr('height', height);\n",
       "    }\n",
       "\n",
       "    // Set the figure to an initial 600x600px, this will subsequently be updated\n",
       "    // upon first draw.\n",
       "    this._resize_canvas(600, 600);\n",
       "\n",
       "    // Disable right mouse context menu.\n",
       "    $(this.rubberband_canvas).bind(\"contextmenu\",function(e){\n",
       "        return false;\n",
       "    });\n",
       "\n",
       "    function set_focus () {\n",
       "        canvas.focus();\n",
       "        canvas_div.focus();\n",
       "    }\n",
       "\n",
       "    window.setTimeout(set_focus, 100);\n",
       "}\n",
       "\n",
       "mpl.figure.prototype._init_toolbar = function() {\n",
       "    var fig = this;\n",
       "\n",
       "    var nav_element = $('<div/>')\n",
       "    nav_element.attr('style', 'width: 100%');\n",
       "    this.root.append(nav_element);\n",
       "\n",
       "    // Define a callback function for later on.\n",
       "    function toolbar_event(event) {\n",
       "        return fig.toolbar_button_onclick(event['data']);\n",
       "    }\n",
       "    function toolbar_mouse_event(event) {\n",
       "        return fig.toolbar_button_onmouseover(event['data']);\n",
       "    }\n",
       "\n",
       "    for(var toolbar_ind in mpl.toolbar_items) {\n",
       "        var name = mpl.toolbar_items[toolbar_ind][0];\n",
       "        var tooltip = mpl.toolbar_items[toolbar_ind][1];\n",
       "        var image = mpl.toolbar_items[toolbar_ind][2];\n",
       "        var method_name = mpl.toolbar_items[toolbar_ind][3];\n",
       "\n",
       "        if (!name) {\n",
       "            // put a spacer in here.\n",
       "            continue;\n",
       "        }\n",
       "        var button = $('<button/>');\n",
       "        button.addClass('ui-button ui-widget ui-state-default ui-corner-all ' +\n",
       "                        'ui-button-icon-only');\n",
       "        button.attr('role', 'button');\n",
       "        button.attr('aria-disabled', 'false');\n",
       "        button.click(method_name, toolbar_event);\n",
       "        button.mouseover(tooltip, toolbar_mouse_event);\n",
       "\n",
       "        var icon_img = $('<span/>');\n",
       "        icon_img.addClass('ui-button-icon-primary ui-icon');\n",
       "        icon_img.addClass(image);\n",
       "        icon_img.addClass('ui-corner-all');\n",
       "\n",
       "        var tooltip_span = $('<span/>');\n",
       "        tooltip_span.addClass('ui-button-text');\n",
       "        tooltip_span.html(tooltip);\n",
       "\n",
       "        button.append(icon_img);\n",
       "        button.append(tooltip_span);\n",
       "\n",
       "        nav_element.append(button);\n",
       "    }\n",
       "\n",
       "    var fmt_picker_span = $('<span/>');\n",
       "\n",
       "    var fmt_picker = $('<select/>');\n",
       "    fmt_picker.addClass('mpl-toolbar-option ui-widget ui-widget-content');\n",
       "    fmt_picker_span.append(fmt_picker);\n",
       "    nav_element.append(fmt_picker_span);\n",
       "    this.format_dropdown = fmt_picker[0];\n",
       "\n",
       "    for (var ind in mpl.extensions) {\n",
       "        var fmt = mpl.extensions[ind];\n",
       "        var option = $(\n",
       "            '<option/>', {selected: fmt === mpl.default_extension}).html(fmt);\n",
       "        fmt_picker.append(option)\n",
       "    }\n",
       "\n",
       "    // Add hover states to the ui-buttons\n",
       "    $( \".ui-button\" ).hover(\n",
       "        function() { $(this).addClass(\"ui-state-hover\");},\n",
       "        function() { $(this).removeClass(\"ui-state-hover\");}\n",
       "    );\n",
       "\n",
       "    var status_bar = $('<span class=\"mpl-message\"/>');\n",
       "    nav_element.append(status_bar);\n",
       "    this.message = status_bar[0];\n",
       "}\n",
       "\n",
       "mpl.figure.prototype.request_resize = function(x_pixels, y_pixels) {\n",
       "    // Request matplotlib to resize the figure. Matplotlib will then trigger a resize in the client,\n",
       "    // which will in turn request a refresh of the image.\n",
       "    this.send_message('resize', {'width': x_pixels, 'height': y_pixels});\n",
       "}\n",
       "\n",
       "mpl.figure.prototype.send_message = function(type, properties) {\n",
       "    properties['type'] = type;\n",
       "    properties['figure_id'] = this.id;\n",
       "    this.ws.send(JSON.stringify(properties));\n",
       "}\n",
       "\n",
       "mpl.figure.prototype.send_draw_message = function() {\n",
       "    if (!this.waiting) {\n",
       "        this.waiting = true;\n",
       "        this.ws.send(JSON.stringify({type: \"draw\", figure_id: this.id}));\n",
       "    }\n",
       "}\n",
       "\n",
       "\n",
       "mpl.figure.prototype.handle_save = function(fig, msg) {\n",
       "    var format_dropdown = fig.format_dropdown;\n",
       "    var format = format_dropdown.options[format_dropdown.selectedIndex].value;\n",
       "    fig.ondownload(fig, format);\n",
       "}\n",
       "\n",
       "\n",
       "mpl.figure.prototype.handle_resize = function(fig, msg) {\n",
       "    var size = msg['size'];\n",
       "    if (size[0] != fig.canvas.width || size[1] != fig.canvas.height) {\n",
       "        fig._resize_canvas(size[0], size[1]);\n",
       "        fig.send_message(\"refresh\", {});\n",
       "    };\n",
       "}\n",
       "\n",
       "mpl.figure.prototype.handle_rubberband = function(fig, msg) {\n",
       "    var x0 = msg['x0'] / mpl.ratio;\n",
       "    var y0 = (fig.canvas.height - msg['y0']) / mpl.ratio;\n",
       "    var x1 = msg['x1'] / mpl.ratio;\n",
       "    var y1 = (fig.canvas.height - msg['y1']) / mpl.ratio;\n",
       "    x0 = Math.floor(x0) + 0.5;\n",
       "    y0 = Math.floor(y0) + 0.5;\n",
       "    x1 = Math.floor(x1) + 0.5;\n",
       "    y1 = Math.floor(y1) + 0.5;\n",
       "    var min_x = Math.min(x0, x1);\n",
       "    var min_y = Math.min(y0, y1);\n",
       "    var width = Math.abs(x1 - x0);\n",
       "    var height = Math.abs(y1 - y0);\n",
       "\n",
       "    fig.rubberband_context.clearRect(\n",
       "        0, 0, fig.canvas.width, fig.canvas.height);\n",
       "\n",
       "    fig.rubberband_context.strokeRect(min_x, min_y, width, height);\n",
       "}\n",
       "\n",
       "mpl.figure.prototype.handle_figure_label = function(fig, msg) {\n",
       "    // Updates the figure title.\n",
       "    fig.header.textContent = msg['label'];\n",
       "}\n",
       "\n",
       "mpl.figure.prototype.handle_cursor = function(fig, msg) {\n",
       "    var cursor = msg['cursor'];\n",
       "    switch(cursor)\n",
       "    {\n",
       "    case 0:\n",
       "        cursor = 'pointer';\n",
       "        break;\n",
       "    case 1:\n",
       "        cursor = 'default';\n",
       "        break;\n",
       "    case 2:\n",
       "        cursor = 'crosshair';\n",
       "        break;\n",
       "    case 3:\n",
       "        cursor = 'move';\n",
       "        break;\n",
       "    }\n",
       "    fig.rubberband_canvas.style.cursor = cursor;\n",
       "}\n",
       "\n",
       "mpl.figure.prototype.handle_message = function(fig, msg) {\n",
       "    fig.message.textContent = msg['message'];\n",
       "}\n",
       "\n",
       "mpl.figure.prototype.handle_draw = function(fig, msg) {\n",
       "    // Request the server to send over a new figure.\n",
       "    fig.send_draw_message();\n",
       "}\n",
       "\n",
       "mpl.figure.prototype.handle_image_mode = function(fig, msg) {\n",
       "    fig.image_mode = msg['mode'];\n",
       "}\n",
       "\n",
       "mpl.figure.prototype.updated_canvas_event = function() {\n",
       "    // Called whenever the canvas gets updated.\n",
       "    this.send_message(\"ack\", {});\n",
       "}\n",
       "\n",
       "// A function to construct a web socket function for onmessage handling.\n",
       "// Called in the figure constructor.\n",
       "mpl.figure.prototype._make_on_message_function = function(fig) {\n",
       "    return function socket_on_message(evt) {\n",
       "        if (evt.data instanceof Blob) {\n",
       "            /* FIXME: We get \"Resource interpreted as Image but\n",
       "             * transferred with MIME type text/plain:\" errors on\n",
       "             * Chrome.  But how to set the MIME type?  It doesn't seem\n",
       "             * to be part of the websocket stream */\n",
       "            evt.data.type = \"image/png\";\n",
       "\n",
       "            /* Free the memory for the previous frames */\n",
       "            if (fig.imageObj.src) {\n",
       "                (window.URL || window.webkitURL).revokeObjectURL(\n",
       "                    fig.imageObj.src);\n",
       "            }\n",
       "\n",
       "            fig.imageObj.src = (window.URL || window.webkitURL).createObjectURL(\n",
       "                evt.data);\n",
       "            fig.updated_canvas_event();\n",
       "            fig.waiting = false;\n",
       "            return;\n",
       "        }\n",
       "        else if (typeof evt.data === 'string' && evt.data.slice(0, 21) == \"data:image/png;base64\") {\n",
       "            fig.imageObj.src = evt.data;\n",
       "            fig.updated_canvas_event();\n",
       "            fig.waiting = false;\n",
       "            return;\n",
       "        }\n",
       "\n",
       "        var msg = JSON.parse(evt.data);\n",
       "        var msg_type = msg['type'];\n",
       "\n",
       "        // Call the  \"handle_{type}\" callback, which takes\n",
       "        // the figure and JSON message as its only arguments.\n",
       "        try {\n",
       "            var callback = fig[\"handle_\" + msg_type];\n",
       "        } catch (e) {\n",
       "            console.log(\"No handler for the '\" + msg_type + \"' message type: \", msg);\n",
       "            return;\n",
       "        }\n",
       "\n",
       "        if (callback) {\n",
       "            try {\n",
       "                // console.log(\"Handling '\" + msg_type + \"' message: \", msg);\n",
       "                callback(fig, msg);\n",
       "            } catch (e) {\n",
       "                console.log(\"Exception inside the 'handler_\" + msg_type + \"' callback:\", e, e.stack, msg);\n",
       "            }\n",
       "        }\n",
       "    };\n",
       "}\n",
       "\n",
       "// from http://stackoverflow.com/questions/1114465/getting-mouse-location-in-canvas\n",
       "mpl.findpos = function(e) {\n",
       "    //this section is from http://www.quirksmode.org/js/events_properties.html\n",
       "    var targ;\n",
       "    if (!e)\n",
       "        e = window.event;\n",
       "    if (e.target)\n",
       "        targ = e.target;\n",
       "    else if (e.srcElement)\n",
       "        targ = e.srcElement;\n",
       "    if (targ.nodeType == 3) // defeat Safari bug\n",
       "        targ = targ.parentNode;\n",
       "\n",
       "    // jQuery normalizes the pageX and pageY\n",
       "    // pageX,Y are the mouse positions relative to the document\n",
       "    // offset() returns the position of the element relative to the document\n",
       "    var x = e.pageX - $(targ).offset().left;\n",
       "    var y = e.pageY - $(targ).offset().top;\n",
       "\n",
       "    return {\"x\": x, \"y\": y};\n",
       "};\n",
       "\n",
       "/*\n",
       " * return a copy of an object with only non-object keys\n",
       " * we need this to avoid circular references\n",
       " * http://stackoverflow.com/a/24161582/3208463\n",
       " */\n",
       "function simpleKeys (original) {\n",
       "  return Object.keys(original).reduce(function (obj, key) {\n",
       "    if (typeof original[key] !== 'object')\n",
       "        obj[key] = original[key]\n",
       "    return obj;\n",
       "  }, {});\n",
       "}\n",
       "\n",
       "mpl.figure.prototype.mouse_event = function(event, name) {\n",
       "    var canvas_pos = mpl.findpos(event)\n",
       "\n",
       "    if (name === 'button_press')\n",
       "    {\n",
       "        this.canvas.focus();\n",
       "        this.canvas_div.focus();\n",
       "    }\n",
       "\n",
       "    var x = canvas_pos.x * mpl.ratio;\n",
       "    var y = canvas_pos.y * mpl.ratio;\n",
       "\n",
       "    this.send_message(name, {x: x, y: y, button: event.button,\n",
       "                             step: event.step,\n",
       "                             guiEvent: simpleKeys(event)});\n",
       "\n",
       "    /* This prevents the web browser from automatically changing to\n",
       "     * the text insertion cursor when the button is pressed.  We want\n",
       "     * to control all of the cursor setting manually through the\n",
       "     * 'cursor' event from matplotlib */\n",
       "    event.preventDefault();\n",
       "    return false;\n",
       "}\n",
       "\n",
       "mpl.figure.prototype._key_event_extra = function(event, name) {\n",
       "    // Handle any extra behaviour associated with a key event\n",
       "}\n",
       "\n",
       "mpl.figure.prototype.key_event = function(event, name) {\n",
       "\n",
       "    // Prevent repeat events\n",
       "    if (name == 'key_press')\n",
       "    {\n",
       "        if (event.which === this._key)\n",
       "            return;\n",
       "        else\n",
       "            this._key = event.which;\n",
       "    }\n",
       "    if (name == 'key_release')\n",
       "        this._key = null;\n",
       "\n",
       "    var value = '';\n",
       "    if (event.ctrlKey && event.which != 17)\n",
       "        value += \"ctrl+\";\n",
       "    if (event.altKey && event.which != 18)\n",
       "        value += \"alt+\";\n",
       "    if (event.shiftKey && event.which != 16)\n",
       "        value += \"shift+\";\n",
       "\n",
       "    value += 'k';\n",
       "    value += event.which.toString();\n",
       "\n",
       "    this._key_event_extra(event, name);\n",
       "\n",
       "    this.send_message(name, {key: value,\n",
       "                             guiEvent: simpleKeys(event)});\n",
       "    return false;\n",
       "}\n",
       "\n",
       "mpl.figure.prototype.toolbar_button_onclick = function(name) {\n",
       "    if (name == 'download') {\n",
       "        this.handle_save(this, null);\n",
       "    } else {\n",
       "        this.send_message(\"toolbar_button\", {name: name});\n",
       "    }\n",
       "};\n",
       "\n",
       "mpl.figure.prototype.toolbar_button_onmouseover = function(tooltip) {\n",
       "    this.message.textContent = tooltip;\n",
       "};\n",
       "mpl.toolbar_items = [[\"Home\", \"Reset original view\", \"fa fa-home icon-home\", \"home\"], [\"Back\", \"Back to previous view\", \"fa fa-arrow-left icon-arrow-left\", \"back\"], [\"Forward\", \"Forward to next view\", \"fa fa-arrow-right icon-arrow-right\", \"forward\"], [\"\", \"\", \"\", \"\"], [\"Pan\", \"Pan axes with left mouse, zoom with right\", \"fa fa-arrows icon-move\", \"pan\"], [\"Zoom\", \"Zoom to rectangle\", \"fa fa-square-o icon-check-empty\", \"zoom\"], [\"\", \"\", \"\", \"\"], [\"Download\", \"Download plot\", \"fa fa-floppy-o icon-save\", \"download\"]];\n",
       "\n",
       "mpl.extensions = [\"eps\", \"jpeg\", \"pdf\", \"png\", \"ps\", \"raw\", \"svg\", \"tif\"];\n",
       "\n",
       "mpl.default_extension = \"png\";var comm_websocket_adapter = function(comm) {\n",
       "    // Create a \"websocket\"-like object which calls the given IPython comm\n",
       "    // object with the appropriate methods. Currently this is a non binary\n",
       "    // socket, so there is still some room for performance tuning.\n",
       "    var ws = {};\n",
       "\n",
       "    ws.close = function() {\n",
       "        comm.close()\n",
       "    };\n",
       "    ws.send = function(m) {\n",
       "        //console.log('sending', m);\n",
       "        comm.send(m);\n",
       "    };\n",
       "    // Register the callback with on_msg.\n",
       "    comm.on_msg(function(msg) {\n",
       "        //console.log('receiving', msg['content']['data'], msg);\n",
       "        // Pass the mpl event to the overridden (by mpl) onmessage function.\n",
       "        ws.onmessage(msg['content']['data'])\n",
       "    });\n",
       "    return ws;\n",
       "}\n",
       "\n",
       "mpl.mpl_figure_comm = function(comm, msg) {\n",
       "    // This is the function which gets called when the mpl process\n",
       "    // starts-up an IPython Comm through the \"matplotlib\" channel.\n",
       "\n",
       "    var id = msg.content.data.id;\n",
       "    // Get hold of the div created by the display call when the Comm\n",
       "    // socket was opened in Python.\n",
       "    var element = $(\"#\" + id);\n",
       "    var ws_proxy = comm_websocket_adapter(comm)\n",
       "\n",
       "    function ondownload(figure, format) {\n",
       "        window.open(figure.imageObj.src);\n",
       "    }\n",
       "\n",
       "    var fig = new mpl.figure(id, ws_proxy,\n",
       "                           ondownload,\n",
       "                           element.get(0));\n",
       "\n",
       "    // Call onopen now - mpl needs it, as it is assuming we've passed it a real\n",
       "    // web socket which is closed, not our websocket->open comm proxy.\n",
       "    ws_proxy.onopen();\n",
       "\n",
       "    fig.parent_element = element.get(0);\n",
       "    fig.cell_info = mpl.find_output_cell(\"<div id='\" + id + \"'></div>\");\n",
       "    if (!fig.cell_info) {\n",
       "        console.error(\"Failed to find cell for figure\", id, fig);\n",
       "        return;\n",
       "    }\n",
       "\n",
       "    var output_index = fig.cell_info[2]\n",
       "    var cell = fig.cell_info[0];\n",
       "\n",
       "};\n",
       "\n",
       "mpl.figure.prototype.handle_close = function(fig, msg) {\n",
       "    var width = fig.canvas.width/mpl.ratio\n",
       "    fig.root.unbind('remove')\n",
       "\n",
       "    // Update the output cell to use the data from the current canvas.\n",
       "    fig.push_to_output();\n",
       "    var dataURL = fig.canvas.toDataURL();\n",
       "    // Re-enable the keyboard manager in IPython - without this line, in FF,\n",
       "    // the notebook keyboard shortcuts fail.\n",
       "    IPython.keyboard_manager.enable()\n",
       "    $(fig.parent_element).html('<img src=\"' + dataURL + '\" width=\"' + width + '\">');\n",
       "    fig.close_ws(fig, msg);\n",
       "}\n",
       "\n",
       "mpl.figure.prototype.close_ws = function(fig, msg){\n",
       "    fig.send_message('closing', msg);\n",
       "    // fig.ws.close()\n",
       "}\n",
       "\n",
       "mpl.figure.prototype.push_to_output = function(remove_interactive) {\n",
       "    // Turn the data on the canvas into data in the output cell.\n",
       "    var width = this.canvas.width/mpl.ratio\n",
       "    var dataURL = this.canvas.toDataURL();\n",
       "    this.cell_info[1]['text/html'] = '<img src=\"' + dataURL + '\" width=\"' + width + '\">';\n",
       "}\n",
       "\n",
       "mpl.figure.prototype.updated_canvas_event = function() {\n",
       "    // Tell IPython that the notebook contents must change.\n",
       "    IPython.notebook.set_dirty(true);\n",
       "    this.send_message(\"ack\", {});\n",
       "    var fig = this;\n",
       "    // Wait a second, then push the new image to the DOM so\n",
       "    // that it is saved nicely (might be nice to debounce this).\n",
       "    setTimeout(function () { fig.push_to_output() }, 1000);\n",
       "}\n",
       "\n",
       "mpl.figure.prototype._init_toolbar = function() {\n",
       "    var fig = this;\n",
       "\n",
       "    var nav_element = $('<div/>')\n",
       "    nav_element.attr('style', 'width: 100%');\n",
       "    this.root.append(nav_element);\n",
       "\n",
       "    // Define a callback function for later on.\n",
       "    function toolbar_event(event) {\n",
       "        return fig.toolbar_button_onclick(event['data']);\n",
       "    }\n",
       "    function toolbar_mouse_event(event) {\n",
       "        return fig.toolbar_button_onmouseover(event['data']);\n",
       "    }\n",
       "\n",
       "    for(var toolbar_ind in mpl.toolbar_items){\n",
       "        var name = mpl.toolbar_items[toolbar_ind][0];\n",
       "        var tooltip = mpl.toolbar_items[toolbar_ind][1];\n",
       "        var image = mpl.toolbar_items[toolbar_ind][2];\n",
       "        var method_name = mpl.toolbar_items[toolbar_ind][3];\n",
       "\n",
       "        if (!name) { continue; };\n",
       "\n",
       "        var button = $('<button class=\"btn btn-default\" href=\"#\" title=\"' + name + '\"><i class=\"fa ' + image + ' fa-lg\"></i></button>');\n",
       "        button.click(method_name, toolbar_event);\n",
       "        button.mouseover(tooltip, toolbar_mouse_event);\n",
       "        nav_element.append(button);\n",
       "    }\n",
       "\n",
       "    // Add the status bar.\n",
       "    var status_bar = $('<span class=\"mpl-message\" style=\"text-align:right; float: right;\"/>');\n",
       "    nav_element.append(status_bar);\n",
       "    this.message = status_bar[0];\n",
       "\n",
       "    // Add the close button to the window.\n",
       "    var buttongrp = $('<div class=\"btn-group inline pull-right\"></div>');\n",
       "    var button = $('<button class=\"btn btn-mini btn-primary\" href=\"#\" title=\"Stop Interaction\"><i class=\"fa fa-power-off icon-remove icon-large\"></i></button>');\n",
       "    button.click(function (evt) { fig.handle_close(fig, {}); } );\n",
       "    button.mouseover('Stop Interaction', toolbar_mouse_event);\n",
       "    buttongrp.append(button);\n",
       "    var titlebar = this.root.find($('.ui-dialog-titlebar'));\n",
       "    titlebar.prepend(buttongrp);\n",
       "}\n",
       "\n",
       "mpl.figure.prototype._root_extra_style = function(el){\n",
       "    var fig = this\n",
       "    el.on(\"remove\", function(){\n",
       "\tfig.close_ws(fig, {});\n",
       "    });\n",
       "}\n",
       "\n",
       "mpl.figure.prototype._canvas_extra_style = function(el){\n",
       "    // this is important to make the div 'focusable\n",
       "    el.attr('tabindex', 0)\n",
       "    // reach out to IPython and tell the keyboard manager to turn it's self\n",
       "    // off when our div gets focus\n",
       "\n",
       "    // location in version 3\n",
       "    if (IPython.notebook.keyboard_manager) {\n",
       "        IPython.notebook.keyboard_manager.register_events(el);\n",
       "    }\n",
       "    else {\n",
       "        // location in version 2\n",
       "        IPython.keyboard_manager.register_events(el);\n",
       "    }\n",
       "\n",
       "}\n",
       "\n",
       "mpl.figure.prototype._key_event_extra = function(event, name) {\n",
       "    var manager = IPython.notebook.keyboard_manager;\n",
       "    if (!manager)\n",
       "        manager = IPython.keyboard_manager;\n",
       "\n",
       "    // Check for shift+enter\n",
       "    if (event.shiftKey && event.which == 13) {\n",
       "        this.canvas_div.blur();\n",
       "        event.shiftKey = false;\n",
       "        // Send a \"J\" for go to next cell\n",
       "        event.which = 74;\n",
       "        event.keyCode = 74;\n",
       "        manager.command_mode();\n",
       "        manager.handle_keydown(event);\n",
       "    }\n",
       "}\n",
       "\n",
       "mpl.figure.prototype.handle_save = function(fig, msg) {\n",
       "    fig.ondownload(fig, null);\n",
       "}\n",
       "\n",
       "\n",
       "mpl.find_output_cell = function(html_output) {\n",
       "    // Return the cell and output element which can be found *uniquely* in the notebook.\n",
       "    // Note - this is a bit hacky, but it is done because the \"notebook_saving.Notebook\"\n",
       "    // IPython event is triggered only after the cells have been serialised, which for\n",
       "    // our purposes (turning an active figure into a static one), is too late.\n",
       "    var cells = IPython.notebook.get_cells();\n",
       "    var ncells = cells.length;\n",
       "    for (var i=0; i<ncells; i++) {\n",
       "        var cell = cells[i];\n",
       "        if (cell.cell_type === 'code'){\n",
       "            for (var j=0; j<cell.output_area.outputs.length; j++) {\n",
       "                var data = cell.output_area.outputs[j];\n",
       "                if (data.data) {\n",
       "                    // IPython >= 3 moved mimebundle to data attribute of output\n",
       "                    data = data.data;\n",
       "                }\n",
       "                if (data['text/html'] == html_output) {\n",
       "                    return [cell, data, j];\n",
       "                }\n",
       "            }\n",
       "        }\n",
       "    }\n",
       "}\n",
       "\n",
       "// Register the function which deals with the matplotlib target/channel.\n",
       "// The kernel may be null if the page has been refreshed.\n",
       "if (IPython.notebook.kernel != null) {\n",
       "    IPython.notebook.kernel.comm_manager.register_target('matplotlib', mpl.mpl_figure_comm);\n",
       "}\n"
      ],
      "text/plain": [
       "<IPython.core.display.Javascript object>"
      ]
     },
     "metadata": {},
     "output_type": "display_data"
    },
    {
     "data": {
      "text/html": [
       "<img src=\"data:image/png;base64,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\" width=\"432\">"
      ],
      "text/plain": [
       "<IPython.core.display.HTML object>"
      ]
     },
     "metadata": {},
     "output_type": "display_data"
    }
   ],
   "source": [
    "import matplotlib.pyplot as plt\n",
    "%matplotlib notebook\n",
    "sample.loc[sample['asin'] == 'B0080GV0Z0']['overall'].hist()\n",
    "plt.xlabel('rating')\n",
    "plt.ylabel('Number of ratings')\n",
    "plt.title('Number of ratings the item B0080GV0Z0 has received')\n",
    "plt.show();"
   ]
  },
  {
   "cell_type": "markdown",
   "metadata": {},
   "source": [
    "Cross validation for Item-item collaborative filtering"
   ]
  },
  {
   "cell_type": "code",
   "execution_count": 38,
   "metadata": {},
   "outputs": [
    {
     "name": "stdout",
     "output_type": "stream",
     "text": [
      "Estimating biases using als...\n",
      "Computing the msd similarity matrix...\n",
      "Done computing similarity matrix.\n",
      "Estimating biases using als...\n",
      "Computing the msd similarity matrix...\n",
      "Done computing similarity matrix.\n",
      "Estimating biases using als...\n",
      "Computing the msd similarity matrix...\n",
      "Done computing similarity matrix.\n"
     ]
    },
    {
     "data": {
      "text/plain": [
       "{'test_rmse': array([1.18406095, 1.18159015, 1.17942461]),\n",
       " 'test_mae': array([0.89576793, 0.89338561, 0.8928422 ]),\n",
       " 'fit_time': (106.42981910705566, 136.84375143051147, 117.78566384315491),\n",
       " 'test_time': (7.923354864120483, 8.764350652694702, 7.8265461921691895)}"
      ]
     },
     "execution_count": 38,
     "metadata": {},
     "output_type": "execute_result"
    }
   ],
   "source": [
    "sim_options1 = {'method': 'als',\n",
    "               'n_epochs': 5,\n",
    "               'reg_u': 12,\n",
    "               'reg_i': 5,\n",
    "               'user_based': [False]\n",
    "               }\n",
    "algo = KNNBaseline(sim_options=sim_options1)\n",
    "cross_validate(algo, data, measures=['RMSE','MAE'], cv=3, verbose=False)"
   ]
  },
  {
   "cell_type": "code",
   "execution_count": 39,
   "metadata": {},
   "outputs": [
    {
     "name": "stdout",
     "output_type": "stream",
     "text": [
      "Estimating biases using als...\n",
      "Computing the msd similarity matrix...\n",
      "Done computing similarity matrix.\n",
      "RMSE: 1.1865\n",
      "MAE:  0.8927\n"
     ]
    },
    {
     "data": {
      "text/plain": [
       "0.8926613822041234"
      ]
     },
     "execution_count": 39,
     "metadata": {},
     "output_type": "execute_result"
    }
   ],
   "source": [
    "algo = KNNBaseline(sim_options=sim_options1)\n",
    "predictions = algo.fit(trainset).test(testset)\n",
    "accuracy.rmse(predictions)\n",
    "accuracy.mae(predictions)"
   ]
  },
  {
   "cell_type": "markdown",
   "metadata": {},
   "source": [
    "Cross validation for User-User collaborative filtering"
   ]
  },
  {
   "cell_type": "code",
   "execution_count": 40,
   "metadata": {},
   "outputs": [
    {
     "name": "stdout",
     "output_type": "stream",
     "text": [
      "Estimating biases using als...\n",
      "Computing the msd similarity matrix...\n",
      "Done computing similarity matrix.\n",
      "Estimating biases using als...\n",
      "Computing the msd similarity matrix...\n",
      "Done computing similarity matrix.\n",
      "Estimating biases using als...\n",
      "Computing the msd similarity matrix...\n",
      "Done computing similarity matrix.\n"
     ]
    },
    {
     "data": {
      "text/plain": [
       "{'test_rmse': array([1.18379978, 1.18429416, 1.18196273]),\n",
       " 'test_mae': array([0.89632631, 0.89613961, 0.89356182]),\n",
       " 'fit_time': (85.51116824150085, 108.66783308982849, 107.83713150024414),\n",
       " 'test_time': (7.296968698501587, 7.1727375984191895, 7.937410831451416)}"
      ]
     },
     "execution_count": 40,
     "metadata": {},
     "output_type": "execute_result"
    }
   ],
   "source": [
    "sim_options2 = {'method': 'als',\n",
    "               'n_epochs': 5,\n",
    "               'reg_u': 12,\n",
    "               'reg_i': 5,\n",
    "               'user_based': [True]\n",
    "               }\n",
    "algo = KNNBaseline(sim_options=sim_options2)\n",
    "cross_validate(algo, data, measures=['RMSE','MAE'], cv=3, verbose=False)"
   ]
  },
  {
   "cell_type": "code",
   "execution_count": 41,
   "metadata": {},
   "outputs": [
    {
     "name": "stdout",
     "output_type": "stream",
     "text": [
      "Estimating biases using als...\n",
      "Computing the msd similarity matrix...\n",
      "Done computing similarity matrix.\n",
      "RMSE: 1.1865\n",
      "MAE:  0.8927\n"
     ]
    },
    {
     "data": {
      "text/plain": [
       "0.8926613822041234"
      ]
     },
     "execution_count": 41,
     "metadata": {},
     "output_type": "execute_result"
    }
   ],
   "source": [
    "#trainset, testset = train_test_split(data, test_size=0.25)\n",
    "algo = KNNBaseline(sim_options=sim_options2)\n",
    "predictions = algo.fit(trainset).test(testset)\n",
    "accuracy.rmse(predictions)\n",
    "accuracy.mae(predictions)"
   ]
  },
  {
   "cell_type": "code",
   "execution_count": 42,
   "metadata": {},
   "outputs": [],
   "source": [
    "#reviews[reviews['asin'] == '0205616461']"
   ]
  },
  {
   "cell_type": "code",
   "execution_count": 43,
   "metadata": {},
   "outputs": [],
   "source": [
    "# Training recommendation model steps: 1\n",
    "def getSimModel(sim_options):\n",
    "    algo = KNNBaseline(sim_options=sim_options)\n",
    "    algo.fit(trainset)\n",
    "    return algo"
   ]
  },
  {
   "cell_type": "code",
   "execution_count": 44,
   "metadata": {},
   "outputs": [],
   "source": [
    "# Recommendation steps for related products based on the previous training model\n",
    "def showSimilarItems(algo, item):\n",
    "    # Convert raw_id of an item to the internal ID of the model\n",
    "    item_inner_id = algo.trainset.to_inner_iid(item)\n",
    "    # Get Top-10 Recommended Items from Model\n",
    "    item_neighbors = algo.get_neighbors(item_inner_id, 10)\n",
    "\n",
    "    # The internal id of the model is converted to the actual item id\n",
    "    neighbors_items = [algo.trainset.to_raw_iid(inner_id) for inner_id in item_neighbors]\n",
    "\n",
    "    print('The 10 nearest neighbors of this item are:')\n",
    "    for nitems in neighbors_items:\n",
    "        print(nitems)\n"
   ]
  },
  {
   "cell_type": "code",
   "execution_count": 45,
   "metadata": {},
   "outputs": [
    {
     "name": "stdout",
     "output_type": "stream",
     "text": [
      "Estimating biases using als...\n",
      "Computing the msd similarity matrix...\n",
      "Done computing similarity matrix.\n",
      "The 10 nearest neighbors of this item are:\n",
      "B005OZTE7Q\n",
      "B001U0OQN6\n",
      "B000C1UFHU\n",
      "B00C41DH8U\n",
      "B001CZE8HI\n",
      "B000N2MPLW\n",
      "B004510MT4\n",
      "B0062VQRU8\n",
      "B005KL8BG4\n",
      "B008HBMRIC\n"
     ]
    }
   ],
   "source": [
    "# Training Recommendation Model Item-based\n",
    "algo = getSimModel(sim_options1)\n",
    "\n",
    "# Display related products\n",
    "showSimilarItems(algo, 'B004HAMIJA')"
   ]
  },
  {
   "cell_type": "code",
   "execution_count": 46,
   "metadata": {},
   "outputs": [
    {
     "name": "stdout",
     "output_type": "stream",
     "text": [
      "Estimating biases using als...\n",
      "Computing the msd similarity matrix...\n",
      "Done computing similarity matrix.\n",
      "The 10 nearest neighbors of this item are:\n",
      "B005OZTE7Q\n",
      "B001U0OQN6\n",
      "B000C1UFHU\n",
      "B00C41DH8U\n",
      "B001CZE8HI\n",
      "B000N2MPLW\n",
      "B004510MT4\n",
      "B0062VQRU8\n",
      "B005KL8BG4\n",
      "B008HBMRIC\n"
     ]
    }
   ],
   "source": [
    "# Training Recommendation Model User-based\n",
    "algo = getSimModel(sim_options2)\n",
    "\n",
    "# Display related products\n",
    "showSimilarItems(algo, 'B004HAMIJA')"
   ]
  },
  {
   "cell_type": "code",
   "execution_count": 47,
   "metadata": {},
   "outputs": [
    {
     "data": {
      "text/html": [
       "<div>\n",
       "<style scoped>\n",
       "    .dataframe tbody tr th:only-of-type {\n",
       "        vertical-align: middle;\n",
       "    }\n",
       "\n",
       "    .dataframe tbody tr th {\n",
       "        vertical-align: top;\n",
       "    }\n",
       "\n",
       "    .dataframe thead th {\n",
       "        text-align: right;\n",
       "    }\n",
       "</style>\n",
       "<table border=\"1\" class=\"dataframe\">\n",
       "  <thead>\n",
       "    <tr style=\"text-align: right;\">\n",
       "      <th></th>\n",
       "      <th>asin</th>\n",
       "      <th>brand_title</th>\n",
       "      <th>main_cat</th>\n",
       "    </tr>\n",
       "  </thead>\n",
       "  <tbody>\n",
       "    <tr>\n",
       "      <th>0</th>\n",
       "      <td>B000N94R66</td>\n",
       "      <td>Make Up For Ever MAKE UP FOR EVER Mat Velvet + Mat</td>\n",
       "      <td>Makeup</td>\n",
       "    </tr>\n",
       "    <tr>\n",
       "      <th>1</th>\n",
       "      <td>B000VPPUEA</td>\n",
       "      <td>Bio Bio-Oil, 2-Ounce Bottle</td>\n",
       "      <td>Skin Care</td>\n",
       "    </tr>\n",
       "    <tr>\n",
       "      <th>2</th>\n",
       "      <td>B0018X1WLY</td>\n",
       "      <td>DL Professional DL Professional Acrylics Nail Gel</td>\n",
       "      <td>Tools &amp; Accessories</td>\n",
       "    </tr>\n",
       "    <tr>\n",
       "      <th>3</th>\n",
       "      <td>B001ECQ4HQ</td>\n",
       "      <td>Dove Dove White Beauty Bar,  14 Count (Pack of 2)</td>\n",
       "      <td>Bath &amp; Body</td>\n",
       "    </tr>\n",
       "    <tr>\n",
       "      <th>4</th>\n",
       "      <td>B002BWPXGQ</td>\n",
       "      <td>RoC Multi-Correxion Skin Renewing Serum, 1 Ounce</td>\n",
       "      <td>Skin Care</td>\n",
       "    </tr>\n",
       "    <tr>\n",
       "      <th>5</th>\n",
       "      <td>B000RG2YFQ</td>\n",
       "      <td>Ardell Ardell LashGrip Adhesive for Strip Lashes -</td>\n",
       "      <td>Tools &amp; Accessories</td>\n",
       "    </tr>\n",
       "    <tr>\n",
       "      <th>6</th>\n",
       "      <td>B004C1VIPY</td>\n",
       "      <td>Biotique Botanicals Biotique Botanicals Bhringraj</td>\n",
       "      <td>Hair Care</td>\n",
       "    </tr>\n",
       "    <tr>\n",
       "      <th>7</th>\n",
       "      <td>B004Q8GYES</td>\n",
       "      <td>Neutrogena Neutrogena Wave Sonic Power Cleanser wi</td>\n",
       "      <td>Skin Care</td>\n",
       "    </tr>\n",
       "    <tr>\n",
       "      <th>8</th>\n",
       "      <td>B0074MTNDM</td>\n",
       "      <td>Thermafuse ThermaFuse HeatSmart Serum Condition 10</td>\n",
       "      <td>Hair Care</td>\n",
       "    </tr>\n",
       "    <tr>\n",
       "      <th>9</th>\n",
       "      <td>B004Y9GVZG</td>\n",
       "      <td>Maybelline Maybelline New York Instant Age Rewind</td>\n",
       "      <td>Skin Care</td>\n",
       "    </tr>\n",
       "  </tbody>\n",
       "</table>\n",
       "</div>"
      ],
      "text/plain": [
       "         asin                                         brand_title             main_cat\n",
       "0  B000N94R66  Make Up For Ever MAKE UP FOR EVER Mat Velvet + Mat  Makeup             \n",
       "1  B000VPPUEA  Bio Bio-Oil, 2-Ounce Bottle                         Skin Care          \n",
       "2  B0018X1WLY  DL Professional DL Professional Acrylics Nail Gel   Tools & Accessories\n",
       "3  B001ECQ4HQ  Dove Dove White Beauty Bar,  14 Count (Pack of 2)   Bath & Body        \n",
       "4  B002BWPXGQ  RoC Multi-Correxion Skin Renewing Serum, 1 Ounce    Skin Care          \n",
       "5  B000RG2YFQ  Ardell Ardell LashGrip Adhesive for Strip Lashes -  Tools & Accessories\n",
       "6  B004C1VIPY  Biotique Botanicals Biotique Botanicals Bhringraj   Hair Care          \n",
       "7  B004Q8GYES  Neutrogena Neutrogena Wave Sonic Power Cleanser wi  Skin Care          \n",
       "8  B0074MTNDM  Thermafuse ThermaFuse HeatSmart Serum Condition 10  Hair Care          \n",
       "9  B004Y9GVZG  Maybelline Maybelline New York Instant Age Rewind   Skin Care          "
      ]
     },
     "execution_count": 47,
     "metadata": {},
     "output_type": "execute_result"
    }
   ],
   "source": [
    "top10knn = pd.DataFrame(['B000N94R66', 'B000VPPUEA', 'B0018X1WLY', 'B001ECQ4HQ', 'B002BWPXGQ', 'B000RG2YFQ', 'B004C1VIPY','B004Q8GYES','B0074MTNDM','B004Y9GVZG'], index=np.arange(10), columns=['asin'])\n",
    "summary = pd.merge(top10knn, meta, on='asin')\n",
    "summary[['asin','brand_title','main_cat']].head(10)"
   ]
  },
  {
   "cell_type": "code",
   "execution_count": 48,
   "metadata": {},
   "outputs": [],
   "source": [
    "algo=None\n",
    "df=None\n",
    "tmp=None\n",
    "predictions=None\n",
    "benchmark=None"
   ]
  },
  {
   "cell_type": "markdown",
   "metadata": {},
   "source": [
    "### Correlation based recommendations\n",
    "\n",
    "Pearson's r correlation is used to recommend an item that is most similar to an item chosen by the user.\n",
    "\n",
    "Item-based similarity: How correlated are two items based on user ratings? Recommend an item based on how well it correlates with other items with respect to user ratings.\n",
    "\n",
    "r=1: Strong positive linear correlation\n",
    "r=0: No correlation\n",
    "r=-1: Strong negative linear correlation"
   ]
  },
  {
   "cell_type": "code",
   "execution_count": 49,
   "metadata": {},
   "outputs": [],
   "source": [
    "data = meta.merge(reviews, on='asin')\n",
    "#data.head(2)"
   ]
  },
  {
   "cell_type": "code",
   "execution_count": 50,
   "metadata": {},
   "outputs": [
    {
     "data": {
      "text/plain": [
       "249274"
      ]
     },
     "execution_count": 50,
     "metadata": {},
     "output_type": "execute_result"
    }
   ],
   "source": [
    "data['asin'].nunique()"
   ]
  },
  {
   "cell_type": "code",
   "execution_count": 51,
   "metadata": {},
   "outputs": [
    {
     "data": {
      "text/plain": [
       "(2023070, 17)"
      ]
     },
     "execution_count": 51,
     "metadata": {},
     "output_type": "execute_result"
    }
   ],
   "source": [
    "data.shape"
   ]
  },
  {
   "cell_type": "code",
   "execution_count": 52,
   "metadata": {},
   "outputs": [
    {
     "name": "stdout",
     "output_type": "stream",
     "text": [
      "<class 'pandas.core.frame.DataFrame'>\n",
      "Int64Index: 2023070 entries, 0 to 2023069\n",
      "Data columns (total 17 columns):\n",
      "asin                    2023070 non-null object\n",
      "description             2023070 non-null object\n",
      "price                   2023070 non-null float64\n",
      "brand_title             2023070 non-null object\n",
      "health_personal_care    2023070 non-null float64\n",
      "beauty                  2023070 non-null float64\n",
      "main_cat                2023070 non-null object\n",
      "sub_cat                 2023070 non-null object\n",
      "related_count           2023070 non-null float64\n",
      "reviewerID              2023070 non-null object\n",
      "overall                 2023070 non-null int64\n",
      "reviewTime              2023070 non-null object\n",
      "review                  2023070 non-null object\n",
      "upvotes                 2023070 non-null int64\n",
      "downvotes               2023070 non-null int64\n",
      "word_count              2023070 non-null int64\n",
      "polarity                2023070 non-null float64\n",
      "dtypes: float64(5), int64(4), object(8)\n",
      "memory usage: 277.8+ MB\n"
     ]
    }
   ],
   "source": [
    "data.info(null_counts=True)"
   ]
  },
  {
   "cell_type": "code",
   "execution_count": 53,
   "metadata": {},
   "outputs": [
    {
     "data": {
      "text/html": [
       "<div>\n",
       "<style scoped>\n",
       "    .dataframe tbody tr th:only-of-type {\n",
       "        vertical-align: middle;\n",
       "    }\n",
       "\n",
       "    .dataframe tbody tr th {\n",
       "        vertical-align: top;\n",
       "    }\n",
       "\n",
       "    .dataframe thead th {\n",
       "        text-align: right;\n",
       "    }\n",
       "</style>\n",
       "<table border=\"1\" class=\"dataframe\">\n",
       "  <thead>\n",
       "    <tr style=\"text-align: right;\">\n",
       "      <th></th>\n",
       "      <th>overall</th>\n",
       "    </tr>\n",
       "    <tr>\n",
       "      <th>asin</th>\n",
       "      <th></th>\n",
       "    </tr>\n",
       "  </thead>\n",
       "  <tbody>\n",
       "    <tr>\n",
       "      <th>0205616461</th>\n",
       "      <td>5.0</td>\n",
       "    </tr>\n",
       "    <tr>\n",
       "      <th>0558925278</th>\n",
       "      <td>4.0</td>\n",
       "    </tr>\n",
       "    <tr>\n",
       "      <th>0733001998</th>\n",
       "      <td>4.0</td>\n",
       "    </tr>\n",
       "    <tr>\n",
       "      <th>0737104473</th>\n",
       "      <td>1.0</td>\n",
       "    </tr>\n",
       "    <tr>\n",
       "      <th>0762451459</th>\n",
       "      <td>5.0</td>\n",
       "    </tr>\n",
       "  </tbody>\n",
       "</table>\n",
       "</div>"
      ],
      "text/plain": [
       "            overall\n",
       "asin               \n",
       "0205616461  5.0    \n",
       "0558925278  4.0    \n",
       "0733001998  4.0    \n",
       "0737104473  1.0    \n",
       "0762451459  5.0    "
      ]
     },
     "execution_count": 53,
     "metadata": {},
     "output_type": "execute_result"
    }
   ],
   "source": [
    "rating = pd.DataFrame(data.groupby('asin')['overall'].mean())\n",
    "rating.head()"
   ]
  },
  {
   "cell_type": "markdown",
   "metadata": {},
   "source": []
  },
  {
   "cell_type": "code",
   "execution_count": 54,
   "metadata": {},
   "outputs": [
    {
     "data": {
      "text/html": [
       "<div>\n",
       "<style scoped>\n",
       "    .dataframe tbody tr th:only-of-type {\n",
       "        vertical-align: middle;\n",
       "    }\n",
       "\n",
       "    .dataframe tbody tr th {\n",
       "        vertical-align: top;\n",
       "    }\n",
       "\n",
       "    .dataframe thead th {\n",
       "        text-align: right;\n",
       "    }\n",
       "</style>\n",
       "<table border=\"1\" class=\"dataframe\">\n",
       "  <thead>\n",
       "    <tr style=\"text-align: right;\">\n",
       "      <th></th>\n",
       "      <th>overall</th>\n",
       "      <th>rating_count</th>\n",
       "    </tr>\n",
       "    <tr>\n",
       "      <th>asin</th>\n",
       "      <th></th>\n",
       "      <th></th>\n",
       "    </tr>\n",
       "  </thead>\n",
       "  <tbody>\n",
       "    <tr>\n",
       "      <th>0205616461</th>\n",
       "      <td>5.0</td>\n",
       "      <td>1</td>\n",
       "    </tr>\n",
       "    <tr>\n",
       "      <th>0558925278</th>\n",
       "      <td>4.0</td>\n",
       "      <td>2</td>\n",
       "    </tr>\n",
       "    <tr>\n",
       "      <th>0733001998</th>\n",
       "      <td>4.0</td>\n",
       "      <td>1</td>\n",
       "    </tr>\n",
       "    <tr>\n",
       "      <th>0737104473</th>\n",
       "      <td>1.0</td>\n",
       "      <td>1</td>\n",
       "    </tr>\n",
       "    <tr>\n",
       "      <th>0762451459</th>\n",
       "      <td>5.0</td>\n",
       "      <td>1</td>\n",
       "    </tr>\n",
       "  </tbody>\n",
       "</table>\n",
       "</div>"
      ],
      "text/plain": [
       "            overall  rating_count\n",
       "asin                             \n",
       "0205616461  5.0      1           \n",
       "0558925278  4.0      2           \n",
       "0733001998  4.0      1           \n",
       "0737104473  1.0      1           \n",
       "0762451459  5.0      1           "
      ]
     },
     "execution_count": 54,
     "metadata": {},
     "output_type": "execute_result"
    }
   ],
   "source": [
    "rating['rating_count'] = pd.DataFrame(data.groupby('asin')['overall'].count())\n",
    "rating.head()"
   ]
  },
  {
   "cell_type": "code",
   "execution_count": 55,
   "metadata": {},
   "outputs": [
    {
     "data": {
      "text/html": [
       "<div>\n",
       "<style scoped>\n",
       "    .dataframe tbody tr th:only-of-type {\n",
       "        vertical-align: middle;\n",
       "    }\n",
       "\n",
       "    .dataframe tbody tr th {\n",
       "        vertical-align: top;\n",
       "    }\n",
       "\n",
       "    .dataframe thead th {\n",
       "        text-align: right;\n",
       "    }\n",
       "</style>\n",
       "<table border=\"1\" class=\"dataframe\">\n",
       "  <thead>\n",
       "    <tr style=\"text-align: right;\">\n",
       "      <th></th>\n",
       "      <th>overall</th>\n",
       "      <th>rating_count</th>\n",
       "    </tr>\n",
       "  </thead>\n",
       "  <tbody>\n",
       "    <tr>\n",
       "      <th>count</th>\n",
       "      <td>249274.000000</td>\n",
       "      <td>249274.000000</td>\n",
       "    </tr>\n",
       "    <tr>\n",
       "      <th>mean</th>\n",
       "      <td>4.149251</td>\n",
       "      <td>8.115848</td>\n",
       "    </tr>\n",
       "    <tr>\n",
       "      <th>std</th>\n",
       "      <td>1.047265</td>\n",
       "      <td>36.064113</td>\n",
       "    </tr>\n",
       "    <tr>\n",
       "      <th>min</th>\n",
       "      <td>1.000000</td>\n",
       "      <td>1.000000</td>\n",
       "    </tr>\n",
       "    <tr>\n",
       "      <th>25%</th>\n",
       "      <td>3.750000</td>\n",
       "      <td>1.000000</td>\n",
       "    </tr>\n",
       "    <tr>\n",
       "      <th>50%</th>\n",
       "      <td>4.500000</td>\n",
       "      <td>2.000000</td>\n",
       "    </tr>\n",
       "    <tr>\n",
       "      <th>75%</th>\n",
       "      <td>5.000000</td>\n",
       "      <td>5.000000</td>\n",
       "    </tr>\n",
       "    <tr>\n",
       "      <th>max</th>\n",
       "      <td>5.000000</td>\n",
       "      <td>7533.000000</td>\n",
       "    </tr>\n",
       "  </tbody>\n",
       "</table>\n",
       "</div>"
      ],
      "text/plain": [
       "             overall   rating_count\n",
       "count  249274.000000  249274.000000\n",
       "mean   4.149251       8.115848     \n",
       "std    1.047265       36.064113    \n",
       "min    1.000000       1.000000     \n",
       "25%    3.750000       1.000000     \n",
       "50%    4.500000       2.000000     \n",
       "75%    5.000000       5.000000     \n",
       "max    5.000000       7533.000000  "
      ]
     },
     "execution_count": 55,
     "metadata": {},
     "output_type": "execute_result"
    }
   ],
   "source": [
    "rating.describe()"
   ]
  },
  {
   "cell_type": "markdown",
   "metadata": {},
   "source": []
  },
  {
   "cell_type": "code",
   "execution_count": 56,
   "metadata": {},
   "outputs": [
    {
     "data": {
      "text/html": [
       "<div>\n",
       "<style scoped>\n",
       "    .dataframe tbody tr th:only-of-type {\n",
       "        vertical-align: middle;\n",
       "    }\n",
       "\n",
       "    .dataframe tbody tr th {\n",
       "        vertical-align: top;\n",
       "    }\n",
       "\n",
       "    .dataframe thead th {\n",
       "        text-align: right;\n",
       "    }\n",
       "</style>\n",
       "<table border=\"1\" class=\"dataframe\">\n",
       "  <thead>\n",
       "    <tr style=\"text-align: right;\">\n",
       "      <th></th>\n",
       "      <th>overall</th>\n",
       "      <th>rating_count</th>\n",
       "    </tr>\n",
       "    <tr>\n",
       "      <th>asin</th>\n",
       "      <th></th>\n",
       "      <th></th>\n",
       "    </tr>\n",
       "  </thead>\n",
       "  <tbody>\n",
       "    <tr>\n",
       "      <th>B001MA0QY2</th>\n",
       "      <td>4.321386</td>\n",
       "      <td>7533</td>\n",
       "    </tr>\n",
       "    <tr>\n",
       "      <th>B0009V1YR8</th>\n",
       "      <td>3.568839</td>\n",
       "      <td>2869</td>\n",
       "    </tr>\n",
       "    <tr>\n",
       "      <th>B0043OYFKU</th>\n",
       "      <td>4.310456</td>\n",
       "      <td>2477</td>\n",
       "    </tr>\n",
       "    <tr>\n",
       "      <th>B0000YUXI0</th>\n",
       "      <td>4.405040</td>\n",
       "      <td>2143</td>\n",
       "    </tr>\n",
       "    <tr>\n",
       "      <th>B003V265QW</th>\n",
       "      <td>4.365421</td>\n",
       "      <td>2088</td>\n",
       "    </tr>\n",
       "  </tbody>\n",
       "</table>\n",
       "</div>"
      ],
      "text/plain": [
       "             overall  rating_count\n",
       "asin                              \n",
       "B001MA0QY2  4.321386  7533        \n",
       "B0009V1YR8  3.568839  2869        \n",
       "B0043OYFKU  4.310456  2477        \n",
       "B0000YUXI0  4.405040  2143        \n",
       "B003V265QW  4.365421  2088        "
      ]
     },
     "execution_count": 56,
     "metadata": {},
     "output_type": "execute_result"
    }
   ],
   "source": [
    "rating.sort_values('rating_count', ascending=False).head()"
   ]
  },
  {
   "cell_type": "code",
   "execution_count": 57,
   "metadata": {},
   "outputs": [],
   "source": [
    "#data[data['asin']=='0558925278']"
   ]
  },
  {
   "cell_type": "code",
   "execution_count": 58,
   "metadata": {},
   "outputs": [],
   "source": [
    "#data.loc[data['asin'] == 'B0055MYJ0U', 'reviewerID'].unique()"
   ]
  },
  {
   "cell_type": "markdown",
   "metadata": {},
   "source": [
    "Sparsity of item-user matrix. Lot of null values because not everyone reviews every item. Few people review few items that they bought and either liked or disliked.\n",
    "\n",
    "Check correlation using pearsonr method. If correlation with an item is high but that item doesn't have many ratings, then it isn't very popular and relation will not be significant. So keep rating_count column in mind. Create filter where no of ratings more than a threshold value and Sort values in pearson correlation descending."
   ]
  },
  {
   "cell_type": "code",
   "execution_count": 59,
   "metadata": {},
   "outputs": [],
   "source": [
    "usersperasin = data['asin'].value_counts()\n",
    "asinsperuser = data['reviewerID'].value_counts()\n",
    "\n",
    "data_s = data[data['asin'].isin(usersperasin[usersperasin>5].index) & data['reviewerID'].isin(asinsperuser[asinsperuser>5].index)]"
   ]
  },
  {
   "cell_type": "code",
   "execution_count": 60,
   "metadata": {},
   "outputs": [
    {
     "data": {
      "text/plain": [
       "120"
      ]
     },
     "execution_count": 60,
     "metadata": {},
     "output_type": "execute_result"
    }
   ],
   "source": [
    "data=None\n",
    "gc.collect()"
   ]
  },
  {
   "cell_type": "code",
   "execution_count": 61,
   "metadata": {},
   "outputs": [
    {
     "data": {
      "text/plain": [
       "(318158, 17)"
      ]
     },
     "execution_count": 61,
     "metadata": {},
     "output_type": "execute_result"
    }
   ],
   "source": [
    "data_s.shape"
   ]
  },
  {
   "cell_type": "code",
   "execution_count": 62,
   "metadata": {},
   "outputs": [
    {
     "data": {
      "text/plain": [
       "array(['HSI PROFESSIONAL HSI PROFESSIONAL 1 CERAMIC TOURMA'], dtype=object)"
      ]
     },
     "execution_count": 62,
     "metadata": {},
     "output_type": "execute_result"
    }
   ],
   "source": [
    "data_s.loc[data_s['asin'] == 'B001MA0QY2', 'brand_title'].unique()  "
   ]
  },
  {
   "cell_type": "code",
   "execution_count": 63,
   "metadata": {},
   "outputs": [],
   "source": [
    "asin_crosstab = pd.pivot_table(data=data_s, values='overall', index='reviewerID', columns='asin')"
   ]
  },
  {
   "cell_type": "code",
   "execution_count": 64,
   "metadata": {},
   "outputs": [],
   "source": [
    "#asin_crosstab.head(2)"
   ]
  },
  {
   "cell_type": "code",
   "execution_count": 65,
   "metadata": {},
   "outputs": [
    {
     "data": {
      "text/plain": [
       "reviewerID\n",
       "A03236882LUP4ARMDDMXU    5.0\n",
       "A10S8JTRCL7BR            5.0\n",
       "A10SQR3U7RMY8C           5.0\n",
       "A10XKNOCVRDXHG           4.0\n",
       "A10Z57SSF7FEAN           5.0\n",
       "                        ... \n",
       "AWBGHDHH7E51F            5.0\n",
       "AWVLT2L5AP873            5.0\n",
       "AYHX5DR7FM16U            1.0\n",
       "AYYKQ776T8DKG            1.0\n",
       "AZ405VGOJ2SDV            5.0\n",
       "Name: B001MA0QY2, Length: 300, dtype: float64"
      ]
     },
     "execution_count": 65,
     "metadata": {},
     "output_type": "execute_result"
    }
   ],
   "source": [
    "hsiprof_ratings = asin_crosstab['B001MA0QY2']\n",
    "hsiprof_ratings[hsiprof_ratings>=0]"
   ]
  },
  {
   "cell_type": "markdown",
   "metadata": {},
   "source": [
    "#### Evaluating Similarity based on Correlation"
   ]
  },
  {
   "cell_type": "code",
   "execution_count": 66,
   "metadata": {},
   "outputs": [],
   "source": [
    "sim_hsiprof = asin_crosstab.corrwith(hsiprof_ratings)\n",
    "corr_hsiprof = pd.DataFrame(sim_hsiprof, columns=['PearsonR'])"
   ]
  },
  {
   "cell_type": "code",
   "execution_count": 67,
   "metadata": {},
   "outputs": [
    {
     "data": {
      "text/html": [
       "<div>\n",
       "<style scoped>\n",
       "    .dataframe tbody tr th:only-of-type {\n",
       "        vertical-align: middle;\n",
       "    }\n",
       "\n",
       "    .dataframe tbody tr th {\n",
       "        vertical-align: top;\n",
       "    }\n",
       "\n",
       "    .dataframe thead th {\n",
       "        text-align: right;\n",
       "    }\n",
       "</style>\n",
       "<table border=\"1\" class=\"dataframe\">\n",
       "  <thead>\n",
       "    <tr style=\"text-align: right;\">\n",
       "      <th></th>\n",
       "      <th>PearsonR</th>\n",
       "    </tr>\n",
       "    <tr>\n",
       "      <th>asin</th>\n",
       "      <th></th>\n",
       "    </tr>\n",
       "  </thead>\n",
       "  <tbody>\n",
       "    <tr>\n",
       "      <th>B000052YM7</th>\n",
       "      <td>0.904534</td>\n",
       "    </tr>\n",
       "    <tr>\n",
       "      <th>B0000XMQTA</th>\n",
       "      <td>1.000000</td>\n",
       "    </tr>\n",
       "    <tr>\n",
       "      <th>B0000Y3GF2</th>\n",
       "      <td>-1.000000</td>\n",
       "    </tr>\n",
       "    <tr>\n",
       "      <th>B0001Y74VS</th>\n",
       "      <td>-1.000000</td>\n",
       "    </tr>\n",
       "    <tr>\n",
       "      <th>B00021DJ32</th>\n",
       "      <td>1.000000</td>\n",
       "    </tr>\n",
       "  </tbody>\n",
       "</table>\n",
       "</div>"
      ],
      "text/plain": [
       "            PearsonR\n",
       "asin                \n",
       "B000052YM7  0.904534\n",
       "B0000XMQTA  1.000000\n",
       "B0000Y3GF2 -1.000000\n",
       "B0001Y74VS -1.000000\n",
       "B00021DJ32  1.000000"
      ]
     },
     "execution_count": 67,
     "metadata": {},
     "output_type": "execute_result"
    }
   ],
   "source": [
    "corr_hsiprof.dropna(inplace=True)\n",
    "corr_hsiprof.head()"
   ]
  },
  {
   "cell_type": "code",
   "execution_count": 68,
   "metadata": {},
   "outputs": [],
   "source": [
    "hsiprof_corr_summary = corr_hsiprof.join(rating['rating_count'])"
   ]
  },
  {
   "cell_type": "code",
   "execution_count": 69,
   "metadata": {},
   "outputs": [
    {
     "data": {
      "text/html": [
       "<div>\n",
       "<style scoped>\n",
       "    .dataframe tbody tr th:only-of-type {\n",
       "        vertical-align: middle;\n",
       "    }\n",
       "\n",
       "    .dataframe tbody tr th {\n",
       "        vertical-align: top;\n",
       "    }\n",
       "\n",
       "    .dataframe thead th {\n",
       "        text-align: right;\n",
       "    }\n",
       "</style>\n",
       "<table border=\"1\" class=\"dataframe\">\n",
       "  <thead>\n",
       "    <tr style=\"text-align: right;\">\n",
       "      <th></th>\n",
       "      <th>PearsonR</th>\n",
       "      <th>rating_count</th>\n",
       "    </tr>\n",
       "    <tr>\n",
       "      <th>asin</th>\n",
       "      <th></th>\n",
       "      <th></th>\n",
       "    </tr>\n",
       "  </thead>\n",
       "  <tbody>\n",
       "    <tr>\n",
       "      <th>B004TSFE28</th>\n",
       "      <td>1.0</td>\n",
       "      <td>414</td>\n",
       "    </tr>\n",
       "    <tr>\n",
       "      <th>B000IOFQWK</th>\n",
       "      <td>1.0</td>\n",
       "      <td>479</td>\n",
       "    </tr>\n",
       "    <tr>\n",
       "      <th>B001ABLKK2</th>\n",
       "      <td>1.0</td>\n",
       "      <td>377</td>\n",
       "    </tr>\n",
       "    <tr>\n",
       "      <th>B002LB75AO</th>\n",
       "      <td>1.0</td>\n",
       "      <td>1079</td>\n",
       "    </tr>\n",
       "    <tr>\n",
       "      <th>B001824J5G</th>\n",
       "      <td>1.0</td>\n",
       "      <td>89</td>\n",
       "    </tr>\n",
       "    <tr>\n",
       "      <th>B002WTC37A</th>\n",
       "      <td>1.0</td>\n",
       "      <td>773</td>\n",
       "    </tr>\n",
       "    <tr>\n",
       "      <th>B0000XMQTA</th>\n",
       "      <td>1.0</td>\n",
       "      <td>63</td>\n",
       "    </tr>\n",
       "    <tr>\n",
       "      <th>B00121UVU0</th>\n",
       "      <td>1.0</td>\n",
       "      <td>1838</td>\n",
       "    </tr>\n",
       "    <tr>\n",
       "      <th>B0036I8BPE</th>\n",
       "      <td>1.0</td>\n",
       "      <td>169</td>\n",
       "    </tr>\n",
       "    <tr>\n",
       "      <th>B000W9WZ34</th>\n",
       "      <td>1.0</td>\n",
       "      <td>51</td>\n",
       "    </tr>\n",
       "  </tbody>\n",
       "</table>\n",
       "</div>"
      ],
      "text/plain": [
       "            PearsonR  rating_count\n",
       "asin                              \n",
       "B004TSFE28  1.0       414         \n",
       "B000IOFQWK  1.0       479         \n",
       "B001ABLKK2  1.0       377         \n",
       "B002LB75AO  1.0       1079        \n",
       "B001824J5G  1.0       89          \n",
       "B002WTC37A  1.0       773         \n",
       "B0000XMQTA  1.0       63          \n",
       "B00121UVU0  1.0       1838        \n",
       "B0036I8BPE  1.0       169         \n",
       "B000W9WZ34  1.0       51          "
      ]
     },
     "execution_count": 69,
     "metadata": {},
     "output_type": "execute_result"
    }
   ],
   "source": [
    "hsiprof_corr_summary[hsiprof_corr_summary['rating_count']>=10].sort_values('PearsonR', ascending=False).head(10)"
   ]
  },
  {
   "cell_type": "markdown",
   "metadata": {},
   "source": [
    "Higher the PearsonR value, more similar the items are. "
   ]
  },
  {
   "cell_type": "code",
   "execution_count": 70,
   "metadata": {},
   "outputs": [
    {
     "data": {
      "text/html": [
       "<div>\n",
       "<style scoped>\n",
       "    .dataframe tbody tr th:only-of-type {\n",
       "        vertical-align: middle;\n",
       "    }\n",
       "\n",
       "    .dataframe tbody tr th {\n",
       "        vertical-align: top;\n",
       "    }\n",
       "\n",
       "    .dataframe thead th {\n",
       "        text-align: right;\n",
       "    }\n",
       "</style>\n",
       "<table border=\"1\" class=\"dataframe\">\n",
       "  <thead>\n",
       "    <tr style=\"text-align: right;\">\n",
       "      <th></th>\n",
       "      <th>asin</th>\n",
       "      <th>brand_title</th>\n",
       "      <th>main_cat</th>\n",
       "    </tr>\n",
       "  </thead>\n",
       "  <tbody>\n",
       "    <tr>\n",
       "      <th>0</th>\n",
       "      <td>B004TSFE28</td>\n",
       "      <td>Real Techniques real Techniques Starter Set</td>\n",
       "      <td>Tools &amp; Accessories</td>\n",
       "    </tr>\n",
       "    <tr>\n",
       "      <th>1</th>\n",
       "      <td>B000IOFQWK</td>\n",
       "      <td>Sun Laboratories Sun Laboratories Tan Overnight Se</td>\n",
       "      <td>Skin Care</td>\n",
       "    </tr>\n",
       "    <tr>\n",
       "      <th>2</th>\n",
       "      <td>B001ABLKK2</td>\n",
       "      <td>Toyo Life Service Cure Natural Aqua Gel 250ml - Be</td>\n",
       "      <td>Skin Care</td>\n",
       "    </tr>\n",
       "    <tr>\n",
       "      <th>3</th>\n",
       "      <td>B002LB75AO</td>\n",
       "      <td>Clarisonic Mia Sonic Skin Cleansing System - Blue</td>\n",
       "      <td>Tools &amp; Accessories</td>\n",
       "    </tr>\n",
       "    <tr>\n",
       "      <th>4</th>\n",
       "      <td>B001824J5G</td>\n",
       "      <td>GOT 2B got2b Smooth Operator Smoothing Lustre Loti</td>\n",
       "      <td>Hair Care</td>\n",
       "    </tr>\n",
       "    <tr>\n",
       "      <th>5</th>\n",
       "      <td>B002WTC37A</td>\n",
       "      <td>Macadamia Oil Macadamia Oil Deep Repair Mask, 8.5</td>\n",
       "      <td>Hair Care</td>\n",
       "    </tr>\n",
       "    <tr>\n",
       "      <th>6</th>\n",
       "      <td>B0000XMQTA</td>\n",
       "      <td>Irene Gari Irene Gari Cover Your Grey for Women To</td>\n",
       "      <td>Hair Care</td>\n",
       "    </tr>\n",
       "    <tr>\n",
       "      <th>7</th>\n",
       "      <td>B00121UVU0</td>\n",
       "      <td>O&amp;#39;Keeffe&amp;#39;s Company O'Keeffe's Working Hand</td>\n",
       "      <td>Skin Care</td>\n",
       "    </tr>\n",
       "    <tr>\n",
       "      <th>8</th>\n",
       "      <td>B0036I8BPE</td>\n",
       "      <td>Kanechom Brazilian Hair Treatment Goat's Milk - (L</td>\n",
       "      <td>Hair Care</td>\n",
       "    </tr>\n",
       "    <tr>\n",
       "      <th>9</th>\n",
       "      <td>B000W9WZ34</td>\n",
       "      <td>Maybelline Maybelline New York Define-A-Lash Lengt</td>\n",
       "      <td>Makeup</td>\n",
       "    </tr>\n",
       "  </tbody>\n",
       "</table>\n",
       "</div>"
      ],
      "text/plain": [
       "         asin                                         brand_title             main_cat\n",
       "0  B004TSFE28  Real Techniques real Techniques Starter Set         Tools & Accessories\n",
       "1  B000IOFQWK  Sun Laboratories Sun Laboratories Tan Overnight Se  Skin Care          \n",
       "2  B001ABLKK2  Toyo Life Service Cure Natural Aqua Gel 250ml - Be  Skin Care          \n",
       "3  B002LB75AO  Clarisonic Mia Sonic Skin Cleansing System - Blue   Tools & Accessories\n",
       "4  B001824J5G  GOT 2B got2b Smooth Operator Smoothing Lustre Loti  Hair Care          \n",
       "5  B002WTC37A  Macadamia Oil Macadamia Oil Deep Repair Mask, 8.5   Hair Care          \n",
       "6  B0000XMQTA  Irene Gari Irene Gari Cover Your Grey for Women To  Hair Care          \n",
       "7  B00121UVU0  O&#39;Keeffe&#39;s Company O'Keeffe's Working Hand  Skin Care          \n",
       "8  B0036I8BPE  Kanechom Brazilian Hair Treatment Goat's Milk - (L  Hair Care          \n",
       "9  B000W9WZ34  Maybelline Maybelline New York Define-A-Lash Lengt  Makeup             "
      ]
     },
     "execution_count": 70,
     "metadata": {},
     "output_type": "execute_result"
    }
   ],
   "source": [
    "asin_corr_hsiprof = pd.DataFrame(['B004TSFE28','B000IOFQWK','B001ABLKK2','B002LB75AO','B001824J5G','B002WTC37A','B0000XMQTA','B00121UVU0','B0036I8BPE','B000W9WZ34'], index=np.arange(10),columns=['asin'])\n",
    "summary=pd.merge(asin_corr_hsiprof, meta, on='asin')\n",
    "summary[['asin','brand_title','main_cat']].head(10)"
   ]
  },
  {
   "cell_type": "code",
   "execution_count": 71,
   "metadata": {},
   "outputs": [],
   "source": [
    "#data_s[data_s['asin'] == '9746427962']"
   ]
  },
  {
   "cell_type": "code",
   "execution_count": 72,
   "metadata": {},
   "outputs": [],
   "source": [
    "#data_s.head(2)\n",
    "#data_s[(data_s.reviewerID == 'A18M9192WX98HP') & (data_s.overall == 5)]"
   ]
  },
  {
   "cell_type": "code",
   "execution_count": 73,
   "metadata": {},
   "outputs": [],
   "source": [
    "from scipy.spatial.distance import hamming\n",
    "\n",
    "def distance(user1,user2):\n",
    "        try:\n",
    "            user1Ratings = asin_crosstab.transpose()[str(user1)]\n",
    "            user2Ratings = asin_crosstab.transpose()[str(user2)]\n",
    "            distance = hamming(user1Ratings,user2Ratings)\n",
    "        except: \n",
    "            distance = np.NaN\n",
    "        return distance \n",
    "#%%\n",
    "def nearestNeighbors(user,K=10):\n",
    "    allUsers = pd.DataFrame(asin_crosstab.index)\n",
    "    allUsers = allUsers[allUsers.reviewerID!=user]\n",
    "    allUsers[\"distance\"] = allUsers[\"reviewerID\"].apply(lambda x: distance(user,x))\n",
    "    KnearestUsers = allUsers.sort_values([\"distance\"],ascending=True)[\"reviewerID\"][:K]\n",
    "    return KnearestUsers"
   ]
  },
  {
   "cell_type": "code",
   "execution_count": 74,
   "metadata": {},
   "outputs": [],
   "source": [
    "meta_s = meta.copy()"
   ]
  },
  {
   "cell_type": "code",
   "execution_count": 75,
   "metadata": {},
   "outputs": [],
   "source": [
    "def asinmeta(asin):\n",
    "    brand = meta_s.at[asin,\"brand_title\"]\n",
    "    mcat = meta_s.at[asin,\"main_cat\"]\n",
    "    return brand, mcat\n",
    "\n",
    "def faveasin(user,N):\n",
    "    userRatings = data_s[data_s[\"reviewerID\"]==user]\n",
    "    sortedRatings = pd.DataFrame.sort_values(userRatings,['overall'],ascending=[0])[:N] \n",
    "    #sortedRatings[\"brand_title\"] = sortedRatings[\"asin\"].apply(asinmeta)\n",
    "    return sortedRatings['brand_title']\n",
    "\n",
    "def topN(user,N=3):\n",
    "    KnearestUsers = nearestNeighbors(user)\n",
    "    NNRatings = asin_crosstab[asin_crosstab.index.isin(KnearestUsers)]\n",
    "    avgRating = NNRatings.apply(np.nanmean).dropna()\n",
    "    asinrated = asin_crosstab.transpose()[user].dropna().index\n",
    "    avgRating = avgRating[~avgRating.index.isin(asinrated)]\n",
    "    topNISBNs = avgRating.sort_values(ascending=False).index[:N]\n",
    "    return pd.Series(topNISBNs).apply(asinmeta)"
   ]
  },
  {
   "cell_type": "code",
   "execution_count": 76,
   "metadata": {},
   "outputs": [],
   "source": [
    "meta_s.set_index('asin', inplace=True)"
   ]
  },
  {
   "cell_type": "code",
   "execution_count": 77,
   "metadata": {},
   "outputs": [
    {
     "data": {
      "text/plain": [
       "Index(['0205616461', '0558925278', '0733001998', '0737104473', '0762451459',\n",
       "       '1304139212', '130414674X', '130414089X', '1304196062', '1304146537',\n",
       "       ...\n",
       "       'B00LMOT7X4', 'B00LMXHR1Y', 'B00LMWUR9O', 'B00LNOKBYW', 'B00LORWRJA',\n",
       "       'B00LP2YB8E', 'B00LOS7MEE', 'B00LPVG6V0', 'B00LTDUHJQ', 'B00LU0LTOU'],\n",
       "      dtype='object', name='asin', length=259204)"
      ]
     },
     "execution_count": 77,
     "metadata": {},
     "output_type": "execute_result"
    }
   ],
   "source": [
    "meta_s.index"
   ]
  },
  {
   "cell_type": "code",
   "execution_count": 78,
   "metadata": {},
   "outputs": [
    {
     "data": {
      "text/plain": [
       "('Nivea Nivea Visage Q10 Plus Anti Wrinkle Night Car', 'Skin Care')"
      ]
     },
     "execution_count": 78,
     "metadata": {},
     "output_type": "execute_result"
    }
   ],
   "source": [
    "asinmeta('9746427962')"
   ]
  },
  {
   "cell_type": "code",
   "execution_count": 79,
   "metadata": {},
   "outputs": [
    {
     "data": {
      "text/plain": [
       "488        Nivea Nivea Visage Q10 Plus Anti Wrinkle Night Car\n",
       "385262     Crabtree &amp; Evelyn Evelyn Rose - Body Lotion   \n",
       "1905924    Mountain Fresh Soaps ~ FOUR PACK ~ Natural &amp; O\n",
       "1840224    Acure Organics Acure Organics - Marula Oil Treatme\n",
       "1776926    Rasta Locks &amp; Twist Jamaican Mango &amp; Lime \n",
       "Name: brand_title, dtype: object"
      ]
     },
     "execution_count": 79,
     "metadata": {},
     "output_type": "execute_result"
    }
   ],
   "source": [
    "faveasin('A18M9192WX98HP', 5)"
   ]
  },
  {
   "cell_type": "code",
   "execution_count": 80,
   "metadata": {},
   "outputs": [
    {
     "data": {
      "text/plain": [
       "0    (Jumbl&trade; Portable Lighted 5x Cosmetic Mirror w, Tools & Accessories)\n",
       "1    (Real Purity Real Purity Foundation - Honey Beige, Makeup)               \n",
       "2    (Anti-aging Cream - Perfective Ceuticals Divine Age, Skin Care)          \n",
       "3    (Minera Minera Dead Sea Salt 20 Lbs Fine Grain, Bath & Body)             \n",
       "4    (Dr. Denese Dr. Denese Advanced Firming Facial Pads, Skin Care)          \n",
       "Name: asin, dtype: object"
      ]
     },
     "execution_count": 80,
     "metadata": {},
     "output_type": "execute_result"
    }
   ],
   "source": [
    "topN('A18M9192WX98HP', 5)"
   ]
  },
  {
   "cell_type": "markdown",
   "metadata": {},
   "source": [
    "### Model based collaborative filtering systems\n",
    "\n",
    "A user-item matrix is mostly empty (also called sparse). Reducing the dimensions can improve the performance of the algorithm in terms of both space and time. Methods such as matrix factorization or autoencoders can be used to accomplish this.\n",
    "\n",
    "Matrix factorization is an algorithm which decomposes a sparse utility matrix into two or more matrices, such that their dot product results back into the original matrix. In a recommendation system, we start with an utility matrix between users and items and matrix factorization will decompose this matrix into user and item feature matrices, also known as embeddings. \n",
    "\n",
    "Typically user/item embeddings capture latent features about attributes of users and item respectively. Latent features represent users and items in an arbitrary space which represents how a user rate an item."
   ]
  },
  {
   "cell_type": "code",
   "execution_count": 81,
   "metadata": {},
   "outputs": [],
   "source": [
    "from sklearn.decomposition import TruncatedSVD"
   ]
  },
  {
   "cell_type": "code",
   "execution_count": 82,
   "metadata": {},
   "outputs": [
    {
     "data": {
      "text/plain": [
       "asin\n",
       "B0043OYFKU    433\n",
       "B000ZMBSPE    428\n",
       "B004OHQR1Q    425\n",
       "B000142FVW    392\n",
       "B0069FDR96    368\n",
       "             ... \n",
       "B000VEN44E    1  \n",
       "B000VEN444    1  \n",
       "B00869PO4O    1  \n",
       "B0086AWC7U    1  \n",
       "B003F62G3U    1  \n",
       "Name: overall, Length: 48267, dtype: int64"
      ]
     },
     "execution_count": 82,
     "metadata": {},
     "output_type": "execute_result"
    }
   ],
   "source": [
    "data_s.groupby('asin')['overall'].count().sort_values(ascending=False)"
   ]
  },
  {
   "cell_type": "code",
   "execution_count": 83,
   "metadata": {},
   "outputs": [
    {
     "data": {
      "text/plain": [
       "array(['Olay Olay Pro-X Advanced Cleansing System 0.68 Fl '], dtype=object)"
      ]
     },
     "execution_count": 83,
     "metadata": {},
     "output_type": "execute_result"
    }
   ],
   "source": [
    "filter = data_s['asin']=='B0043OYFKU'\n",
    "data_s[filter]['brand_title'].unique()"
   ]
  },
  {
   "cell_type": "markdown",
   "metadata": {},
   "source": [
    "#### Building a utility matrix"
   ]
  },
  {
   "cell_type": "code",
   "execution_count": 84,
   "metadata": {},
   "outputs": [
    {
     "data": {
      "text/plain": [
       "reviewerID             asin      \n",
       "A00414041RD0BXM6WK0GX  B007IY97U0    3\n",
       "                       B00870XLDS    2\n",
       "                       B008MIRO88    1\n",
       "                       B00BQYYMN0    3\n",
       "                       B00GRTQBTM    5\n",
       "                                    ..\n",
       "AZZZLM1E5JJ8C          B000QE5GU4    5\n",
       "                       B004CQ710U    1\n",
       "                       B005RFI1YK    5\n",
       "                       B005XP4YNQ    3\n",
       "                       B006ZUEMSA    1\n",
       "Name: overall, Length: 318158, dtype: int64"
      ]
     },
     "execution_count": 84,
     "metadata": {},
     "output_type": "execute_result"
    }
   ],
   "source": [
    "data_s.groupby(['reviewerID','asin'])['overall'].sum()"
   ]
  },
  {
   "cell_type": "code",
   "execution_count": 85,
   "metadata": {},
   "outputs": [
    {
     "data": {
      "text/plain": [
       "(318158, 17)"
      ]
     },
     "execution_count": 85,
     "metadata": {},
     "output_type": "execute_result"
    }
   ],
   "source": [
    "data_s.shape"
   ]
  },
  {
   "cell_type": "code",
   "execution_count": 86,
   "metadata": {},
   "outputs": [],
   "source": [
    "sample_df = data_s[:50000].copy()\n",
    "rating_crosstab = pd.pivot_table(sample_df, values='overall', index='reviewerID', columns='asin', fill_value=0)"
   ]
  },
  {
   "cell_type": "code",
   "execution_count": 87,
   "metadata": {},
   "outputs": [],
   "source": [
    "#rating_crosstab.head(2)"
   ]
  },
  {
   "cell_type": "markdown",
   "metadata": {},
   "source": [
    "#### Transposing the matrix"
   ]
  },
  {
   "cell_type": "code",
   "execution_count": 88,
   "metadata": {},
   "outputs": [
    {
     "data": {
      "text/plain": [
       "(22900, 7736)"
      ]
     },
     "execution_count": 88,
     "metadata": {},
     "output_type": "execute_result"
    }
   ],
   "source": [
    "rating_crosstab.shape"
   ]
  },
  {
   "cell_type": "code",
   "execution_count": 89,
   "metadata": {},
   "outputs": [
    {
     "data": {
      "text/plain": [
       "(7736, 22900)"
      ]
     },
     "execution_count": 89,
     "metadata": {},
     "output_type": "execute_result"
    }
   ],
   "source": [
    "X = rating_crosstab.values.T\n",
    "X.shape"
   ]
  },
  {
   "cell_type": "markdown",
   "metadata": {},
   "source": [
    "#### Decomposing the matrix"
   ]
  },
  {
   "cell_type": "code",
   "execution_count": 90,
   "metadata": {},
   "outputs": [
    {
     "data": {
      "text/plain": [
       "(7736, 12)"
      ]
     },
     "execution_count": 90,
     "metadata": {},
     "output_type": "execute_result"
    }
   ],
   "source": [
    "SVD = TruncatedSVD(n_components=12, random_state=17)\n",
    "\n",
    "resultant_matrix = SVD.fit_transform(X)\n",
    "\n",
    "resultant_matrix.shape"
   ]
  },
  {
   "cell_type": "code",
   "execution_count": 91,
   "metadata": {},
   "outputs": [
    {
     "data": {
      "text/plain": [
       "array([[ 9.78291261e-03,  6.31594114e-03,  1.26659224e-02, ...,\n",
       "        -2.20280408e-02,  1.94143464e-02, -1.78322695e-02],\n",
       "       [ 1.34552577e-04,  4.48728952e-04,  5.70669234e-04, ...,\n",
       "         1.68704640e-04, -1.48487766e-04, -4.20989285e-04],\n",
       "       [-1.18893564e-14, -1.12693263e-11,  9.57989995e-12, ...,\n",
       "        -2.09770305e-10, -9.19617760e-10,  1.32548093e-09],\n",
       "       ...,\n",
       "       [ 3.25260569e-04,  1.74912312e-03,  1.75995018e-03, ...,\n",
       "        -2.83550896e-06,  6.15325622e-03,  1.32149447e-02],\n",
       "       [ 2.27009431e-02,  1.24355225e-01,  1.04591059e-01, ...,\n",
       "        -2.29018564e-01,  4.57525640e-01,  7.89258021e-02],\n",
       "       [ 7.32311200e-04,  4.25128113e-04,  4.72239919e-04, ...,\n",
       "        -1.24935711e-03, -7.19606226e-05,  2.60048649e-03]])"
      ]
     },
     "execution_count": 91,
     "metadata": {},
     "output_type": "execute_result"
    }
   ],
   "source": [
    "resultant_matrix"
   ]
  },
  {
   "cell_type": "markdown",
   "metadata": {},
   "source": [
    "#### Generating a Correlation matrix"
   ]
  },
  {
   "cell_type": "markdown",
   "metadata": {},
   "source": [
    "To make the best recommendation, recommend the item that correlates the most with the user's item of interest, based on the generalized user tastes. Goal is to recommend the item that has highest correlation with the item of user's interest."
   ]
  },
  {
   "cell_type": "code",
   "execution_count": 92,
   "metadata": {},
   "outputs": [
    {
     "data": {
      "text/plain": [
       "(7736, 7736)"
      ]
     },
     "execution_count": 92,
     "metadata": {},
     "output_type": "execute_result"
    }
   ],
   "source": [
    "corr_matrix = np.corrcoef(resultant_matrix)\n",
    "corr_matrix.shape"
   ]
  },
  {
   "cell_type": "code",
   "execution_count": 93,
   "metadata": {},
   "outputs": [],
   "source": [
    "item_names = rating_crosstab.columns\n",
    "item_list = list(item_names)"
   ]
  },
  {
   "cell_type": "code",
   "execution_count": 94,
   "metadata": {},
   "outputs": [],
   "source": [
    "#item_list"
   ]
  },
  {
   "cell_type": "code",
   "execution_count": 95,
   "metadata": {},
   "outputs": [],
   "source": [
    "my_item = item_list.index('9746427962')"
   ]
  },
  {
   "cell_type": "code",
   "execution_count": 96,
   "metadata": {},
   "outputs": [
    {
     "name": "stdout",
     "output_type": "stream",
     "text": [
      "18\n"
     ]
    }
   ],
   "source": [
    "print(my_item)"
   ]
  },
  {
   "cell_type": "code",
   "execution_count": 97,
   "metadata": {},
   "outputs": [
    {
     "data": {
      "text/plain": [
       "(7736,)"
      ]
     },
     "execution_count": 97,
     "metadata": {},
     "output_type": "execute_result"
    }
   ],
   "source": [
    "corr_my_item = corr_matrix[my_item]\n",
    "corr_my_item.shape"
   ]
  },
  {
   "cell_type": "markdown",
   "metadata": {},
   "source": [
    "#### Recommending a highly correlated item"
   ]
  },
  {
   "cell_type": "code",
   "execution_count": 98,
   "metadata": {},
   "outputs": [
    {
     "data": {
      "text/plain": [
       "['9790778309',\n",
       " 'B00028LV4Y',\n",
       " 'B00099E8ZA',\n",
       " 'B0009RFAOK',\n",
       " 'B000BTAVIQ',\n",
       " 'B000BTQKYA',\n",
       " 'B000EGIF9S',\n",
       " 'B000EM7962',\n",
       " 'B000F371GS',\n",
       " 'B000FQBBZ2',\n",
       " 'B000GCR104',\n",
       " 'B000H30FGY',\n",
       " 'B000HS6O64',\n",
       " 'B000KUAKTG',\n",
       " 'B000OO7L1S']"
      ]
     },
     "execution_count": 98,
     "metadata": {},
     "output_type": "execute_result"
    }
   ],
   "source": [
    "list(item_names[(corr_my_item < 1.0) & (corr_my_item > 0.9)])"
   ]
  },
  {
   "cell_type": "code",
   "execution_count": 99,
   "metadata": {},
   "outputs": [
    {
     "data": {
      "text/plain": [
       "('Nivea Nivea Visage Q10 Plus Anti Wrinkle Night Car', 'Skin Care')"
      ]
     },
     "execution_count": 99,
     "metadata": {},
     "output_type": "execute_result"
    }
   ],
   "source": [
    "asinmeta('9746427962')"
   ]
  },
  {
   "cell_type": "code",
   "execution_count": 100,
   "metadata": {},
   "outputs": [
    {
     "name": "stdout",
     "output_type": "stream",
     "text": [
      "('HUGO BOSS Hugo Boss Cologne for Men, Green, 5.0 Fl', 'Fragrance')\n",
      "('Aubrey Organics Natural Missst Herbal Hairspray Mi', 'Hair Care')\n",
      "('Neutrogena Neutrogena Shampoo, Anti-Residue Formul', 'Hair Care')\n",
      "('Clean &amp; Clear Clean &amp; Clear Deep Cleaning ', 'Skin Care')\n",
      "('Folicure Folicure Shampoo, 12 Ounce', 'Hair Care')\n",
      "('Folicure Folicure Moisturizing Conditioner, 12 Oun', 'Hair Care')\n",
      "('Organic Root Stimulator Organic Root Stimulator Fe', 'Skin Care')\n",
      "('Matrix Matrix Vavoom Freezing Spray , 12 oz (340 g', 'Hair Care')\n",
      "('Neutrogena Relaxing Overnight Body Cream, Lavender', 'Skin Care')\n",
      "('Kiss My Face Kiss My Face - Olive &amp; Green Tea ', 'Bath & Body')\n",
      "('John Frieda John Frieda Brilliant Brunette Shine R', 'Hair Care')\n",
      "('AMERICAN CREW American Crew D:fi D:struct Pliable ', 'Hair Care')\n",
      "(\"Swissco Oakwood Men's Military Boar Bristle Club B\", 'Hair Care')\n",
      "('Nivea Nivea Visage Q10 Plus Anti-Wrinkle Day Cream', 'Skin Care')\n",
      "('Naturtint Hair Color-7C/Terracotta Blonde Naturtin', 'Hair Care')\n"
     ]
    }
   ],
   "source": [
    "for l_item in list(item_names[(corr_my_item < 1.0) & (corr_my_item > 0.9)]):\n",
    "    print(asinmeta(l_item))"
   ]
  },
  {
   "cell_type": "markdown",
   "metadata": {},
   "source": [
    "#### Pros:\n",
    "\n",
    "1. Collaborative filtering method is context independent and easy to implement.\n",
    "\n",
    "2. It can be more accurate than content-based filtering.\n",
    "\n",
    "#### Cons:\n",
    "\n",
    "1. The cost of computing nearest K-neighbors increases dramatically with the number of users. \n",
    "\n",
    "2. Cold start problem is unavoidable for new users with little or no interaction history."
   ]
  },
  {
   "cell_type": "code",
   "execution_count": null,
   "metadata": {},
   "outputs": [],
   "source": []
  }
 ],
 "metadata": {
  "kernelspec": {
   "display_name": "Python 3",
   "language": "python",
   "name": "python3"
  },
  "language_info": {
   "codemirror_mode": {
    "name": "ipython",
    "version": 3
   },
   "file_extension": ".py",
   "mimetype": "text/x-python",
   "name": "python",
   "nbconvert_exporter": "python",
   "pygments_lexer": "ipython3",
   "version": "3.7.3"
  }
 },
 "nbformat": 4,
 "nbformat_minor": 2
}
