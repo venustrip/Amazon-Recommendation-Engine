{
 "cells": [
  {
   "cell_type": "markdown",
   "metadata": {},
   "source": [
    "<h1><center>Amazon Beauty Products - Recommender System</center></h1>\n",
    "<h2><center>Second Milestone Report</center></h2>\n",
    "<h3><center>Machine Learning Techniques</center></h3>"
   ]
  },
  {
   "cell_type": "markdown",
   "metadata": {},
   "source": [
    "## 1. Introduction"
   ]
  },
  {
   "cell_type": "markdown",
   "metadata": {},
   "source": [
    "### 1.1 Problem\n",
    "\n",
    "In this project, I plan to build an intelligent recommendation engine for beauty products that are sold on Amazon.com. By providing recommendations, Amazon.com will give its customers the ability to take their brand experiences into their hands and make informed decisions. This level of personalization will support higher customer retention and reinforce brand loyalty."
   ]
  },
  {
   "cell_type": "markdown",
   "metadata": {},
   "source": [
    "### 1.2 Approach\n",
    "\n",
    "#### Data Wrangling:\n",
    "\n",
    "After loading the json files into pandas dataframe, the raw data will be cleaned, structured and enriched into a cleaner format. Clean data will allow quicker and better analysis, producing more accurate results. The identification and removal of error and duplicity in datasets will create a reliable dataset, enabling an outcome of better quality. This step was completed in the first milestone.\n",
    "\n",
    "#### EDA:\n",
    "\n",
    "EDA (Exploratory Data Analysis) is the initial basic exploration of the dataset in a systematic manner using visual methods. This step will include identification and elimination of outliers as well as checking for correlations between the independent variables. This step was also completed in the first milestone.\n",
    "\n",
    "#### Machine Learning:\n",
    "\n",
    "Different types of recommender systems will be built using Machine learning algorithms. \n",
    "The algorithms can be classified into two categories: Content-based filtering and Collaborative filtering. Modern recommenders use a hybrid approach which is a combination of these two.\n",
    "Recommender systems are applied where many users interact with many items. We have a rich dataset with item attributes and historical user reviews for these items, that will be used to train and test the models. \n",
    "\n",
    "#### Performance Evaluation:\n",
    "\n",
    "A variety of offline and online evaluation metrics are available to measure the accuracy of recommender systems. Each model will be evaluated using these metrics and the scores will be compared to determine the best performance. Strong recommender systems can have positive effects on user experience. They can result into higher customer satisfaction and retention, and in turn boost revenues."
   ]
  },
  {
   "cell_type": "markdown",
   "metadata": {},
   "source": [
    "## 2. Data Collection"
   ]
  },
  {
   "cell_type": "markdown",
   "metadata": {},
   "source": [
    "The dataset has been downloaded from the website: http://jmcauley.ucsd.edu/data/amazon/links.html\n",
    "(Citation:\n",
    "Ups and downs: Modeling the visual evolution of fashion trends with one-class collaborative filtering\n",
    "R. He, J. McAuley\n",
    "WWW, 2016)\n",
    "\n",
    "There are 2 individual json files containing the beauty product reviews and metadata from Amazon. The reviews file has ~2 million reviews spanning May 1996 - July 2014. The metadata file contains the details of ~260K beauty products sold at Amazon.\n",
    "\n",
    "Reviews includes product ratings, text of the review and helpfulness votes.  \n",
    "\n",
    "\n",
    "| Column        | Description                     |\n",
    "|---------------|---------------------------------|\n",
    "|reviewerID     | Reviewer ID                     |\n",
    "|asin           | Product ID                      |\n",
    "|reviewerName   | Name of reviewer                |\n",
    "|helpful        | Helpfulness rating of the review|\n",
    "|reviewText     | Text of the review              |\n",
    "|overall        | Rating of the product           |\n",
    "|summary        | Summary of the review           |\n",
    "|unixReviewTime | Unix time of the review         | \n",
    "|reviewTime     | Raw time of the review          |   \n",
    "\n",
    "Metadata includes descriptions, category information, price, sales-rank, brand info and image features.  \n",
    "  \n",
    "\n",
    "| Column     | Description                           |\n",
    "|------------|---------------------------------------|\n",
    "|asin        | Product ID                            |\n",
    "|description | Product description                   |\n",
    "|title       | Name of the product                   |\n",
    "|imUrl       | URL of the product image              |\n",
    "|salesRank   | Sales rank information                |\n",
    "|categories  | List of categories product belongs to |\n",
    "|price       | Price in US Dollars                   | \n",
    "|related     | Related products                      |\n",
    "|brand       | Brand name                            | \n",
    "\n",
    "The json files were retrieved in compressed format. They were parsed line by line and loaded into pandas dataframes reviews and meta. Then these dataframes were written to .csv files for analysis and modeling."
   ]
  },
  {
   "cell_type": "markdown",
   "metadata": {},
   "source": [
    "## 3. Data Wrangling"
   ]
  },
  {
   "cell_type": "markdown",
   "metadata": {},
   "source": [
    "### 3.1 Metadata file"
   ]
  },
  {
   "cell_type": "markdown",
   "metadata": {},
   "source": [
    "The metadata file contains the details of ~260K beauty products sold at Amazon. There are 9 columns in the file including asin, description, title, brand, categories, related, price, sales rank and image url. No duplicate values were found in the asin column. \n",
    "\n",
    "51% of the items were missing \"brand\" information. Since this is a large percentage, the column could not be dropped. 444 items were missing the \"title\" information. So \"brand\" and \"title\" columns were merged into a single column and the individual columns were then dropped. \n",
    "\n",
    "The image url column does not seem to have much meaning, so it was also dropped from the dataframe.\n",
    "\n",
    "The \"salesRank\" column had values in dict format (key-value pairs). So this column was split into multiple columns where each key became the column name and the value became the column value. Some of these new columns were not related to Beauty and Personal care so they were dropped. Only the new columns \"Beauty\" and \"Health & Personal Care\" were retained.\n",
    "\n",
    "At this point, the resulting dataframe was written to a .csv file (cleaned_meta.csv).\n",
    "\n",
    "It includes the columns:\n",
    "asin, description, categories, price, related, brand_title, Health & Personal Care, Beauty\n",
    "\n",
    "Next came the most challenging column for cleaning. \n",
    "\n",
    "This is the \"related\" column which had data in the following format:\n",
    "\n",
    "{'also_bought': ['B002J2KOXK', 'B008TCVZ6Y'], 'also_viewed': ['B002J2KOXK'], 'bought_together': ['B002J2KOXK'], 'buy_after_viewing': ['B002J2KOXK']}\n",
    "\n",
    "It made most sense to count the number of times an asin occurred in any of these 4 key-value pairs and use that count as an identification of popular and unpopular item. This required creation of a new column called \"related_count\".\n",
    "\n",
    "The \"asin\" and \"related\" columns were first copied to a separate dataframe. The \"related\" column was then split into 4 new columns \"also_bought\", \"also_viewed\", \"bought_together\" and \"buy_after_viewing\". Then the values in these 4 columns were concatenated into a large string. Using iterrows, each asin in the dataframe was checked against the string and the number of occurrences of this asin in the string was captured in the \"related_count\" column. This particular operation took 20 hours to complete and the resulting dataframe was immediately captured into a .csv file (cleaned_related.csv).\n",
    "\n",
    "The code for data wrangling of metadata file can be found at:\n",
    "https://github.com/venustrip/Amazon-Recommendation-Engine/blob/master/clean_meta.ipynb"
   ]
  },
  {
   "cell_type": "markdown",
   "metadata": {},
   "source": [
    "### 3.2 Reviews File\n",
    "\n",
    "The reviews file has ~2 million reviews collected between May-1996 and July-2014. There are 9 columns in the file including: reviewerID, reviewerName, asin, helpful, reviewText, overall, summary, unixReviewTime and reviewTime.\n",
    "\n",
    "12248 rows were missing the \"reviewerName\" information. Also there were some \"reviewerID\" with multiple values under \"reviewerName\". Since we can build our model just with the ID, the \"reviewerName\" column was dropped from the dataframe.\n",
    "\n",
    "The \"summary\" and \"reviewText\" columns have similar information. 14 rows were missing the \"summary\" information. The 2 columns were merged into \"review\" column and the individual columns were dropped.\n",
    "\n",
    "The column \"reviewTime\" was in text format, so it was converted to datetime and the column \"unixReviewTime\" was dropped.\n",
    "\n",
    "The \"helpful\" column had values in list format, where the first element indicated the number of upvotes and second element indicated the number of downvotes for the review. This column was split into two: \"upvotes\" and \"downvotes\" and the original \"helpful\" column was dropped.\n",
    "\n",
    "Since the \"review\" column is most significant for this project and comprises of large text values, it can be used for natural language processing.\n",
    "\n",
    "First the wordcount of each review was stored into a new column \"word_count\". \n",
    "\n",
    "Next, the text was converted to lowercase to avoid having multiple versions of one word.  \n",
    "\n",
    "All punctuation marks were removed since they do not add any extra value while processing text data.\n",
    "\n",
    "Finally, the stop words and 50 most rare words were removed.\n",
    "\n",
    "Once these steps completed, sentiment analysis was performed on all the reviews and polarity was calculated. This value was stored for each review in the newly created \"polarity\" column.\n",
    "\n",
    "After the cleaning, the following columns existed in the dataframe:\n",
    "reviewerID, asin, overall, review, upvotes, downvotes, word_count, polarity\n",
    "\n",
    "The dataframe was written to a .csv file for further analysis (cleaned_reviews.csv).\n",
    "\n",
    "The code for data wrangling of reviews file can be found at: https://github.com/venustrip/Amazon-Recommendation-Engine/blob/master/clean_reviews.ipynb"
   ]
  },
  {
   "cell_type": "markdown",
   "metadata": {},
   "source": [
    "### 3.3 Cleaned Datasets"
   ]
  },
  {
   "cell_type": "markdown",
   "metadata": {},
   "source": [
    "All the cleaned datasets were written to .csv files. The first file has the metadata, the second one has the related_count information for the products and the third file has all the reviews for these products.\n",
    "\n",
    "The \"meta\" file includes:\n",
    "1. asin\n",
    "2. description\n",
    "3. categories\n",
    "4. price\n",
    "5. related\n",
    "6. brand_title\n",
    "7. health_and_personal_care\n",
    "8. beauty\n",
    "\n",
    "The \"related\" file includes:\n",
    "1. asin\n",
    "2. related_count\n",
    "\n",
    "The \"reviews\" file includes:\n",
    "1. reviewerID\n",
    "2. asin\n",
    "3. overall\n",
    "4. review\n",
    "5. upvotes\n",
    "6. downvotes\n",
    "7. word_count\n",
    "8. polarity"
   ]
  },
  {
   "cell_type": "markdown",
   "metadata": {},
   "source": [
    "First let's import the required packages"
   ]
  },
  {
   "cell_type": "code",
   "execution_count": 1,
   "metadata": {},
   "outputs": [],
   "source": [
    "import pandas as pd\n",
    "import numpy as np\n",
    "%matplotlib inline\n",
    "import matplotlib.pyplot as plt\n",
    "import gc\n",
    "\n",
    "pd.set_option('display.max_columns', None)  \n",
    "pd.set_option('display.expand_frame_repr', False)\n",
    "pd.set_option('max_colwidth', -1)\n",
    "\n",
    "import warnings \n",
    "warnings.filterwarnings('ignore')"
   ]
  },
  {
   "cell_type": "markdown",
   "metadata": {},
   "source": [
    "The related and meta dataframes obtained from Data wrangling step were merged into one and written to a new .csv file. \n",
    "Read the cleaned files into dataframes. "
   ]
  },
  {
   "cell_type": "code",
   "execution_count": 2,
   "metadata": {},
   "outputs": [],
   "source": [
    "meta = pd.read_csv('cleaned_metadata.csv',index_col=0)\n",
    "reviews = pd.read_csv('cleaned_reviews.csv',index_col=0)"
   ]
  },
  {
   "cell_type": "code",
   "execution_count": 3,
   "metadata": {},
   "outputs": [
    {
     "data": {
      "text/html": [
       "<div>\n",
       "<style scoped>\n",
       "    .dataframe tbody tr th:only-of-type {\n",
       "        vertical-align: middle;\n",
       "    }\n",
       "\n",
       "    .dataframe tbody tr th {\n",
       "        vertical-align: top;\n",
       "    }\n",
       "\n",
       "    .dataframe thead th {\n",
       "        text-align: right;\n",
       "    }\n",
       "</style>\n",
       "<table border=\"1\" class=\"dataframe\">\n",
       "  <thead>\n",
       "    <tr style=\"text-align: right;\">\n",
       "      <th></th>\n",
       "      <th>reviewerID</th>\n",
       "      <th>asin</th>\n",
       "      <th>overall</th>\n",
       "      <th>reviewTime</th>\n",
       "      <th>review</th>\n",
       "      <th>upvotes</th>\n",
       "      <th>downvotes</th>\n",
       "      <th>word_count</th>\n",
       "      <th>polarity</th>\n",
       "    </tr>\n",
       "  </thead>\n",
       "  <tbody>\n",
       "    <tr>\n",
       "      <th>0</th>\n",
       "      <td>A39HTATAQ9V7YF</td>\n",
       "      <td>0205616461</td>\n",
       "      <td>5</td>\n",
       "      <td>2013-05-28</td>\n",
       "      <td>bioactive antiaging serum love moisturizer would recommend someone dry skin fine lines wrinkles using brand day night serum</td>\n",
       "      <td>0</td>\n",
       "      <td>0</td>\n",
       "      <td>34</td>\n",
       "      <td>0.283333</td>\n",
       "    </tr>\n",
       "    <tr>\n",
       "      <th>1</th>\n",
       "      <td>A3JM6GV9MNOF9X</td>\n",
       "      <td>0558925278</td>\n",
       "      <td>3</td>\n",
       "      <td>2012-12-14</td>\n",
       "      <td>product ok im use baby kabuki moment received product deadlinei tested baby kabuki quality material best packaging cute love itthe fibers smell soft</td>\n",
       "      <td>0</td>\n",
       "      <td>1</td>\n",
       "      <td>44</td>\n",
       "      <td>0.520000</td>\n",
       "    </tr>\n",
       "  </tbody>\n",
       "</table>\n",
       "</div>"
      ],
      "text/plain": [
       "       reviewerID        asin  overall  reviewTime                                                                                                                                                review  upvotes  downvotes  word_count  polarity\n",
       "0  A39HTATAQ9V7YF  0205616461  5        2013-05-28  bioactive antiaging serum love moisturizer would recommend someone dry skin fine lines wrinkles using brand day night serum                           0        0          34          0.283333\n",
       "1  A3JM6GV9MNOF9X  0558925278  3        2012-12-14  product ok im use baby kabuki moment received product deadlinei tested baby kabuki quality material best packaging cute love itthe fibers smell soft  0        1          44          0.520000"
      ]
     },
     "execution_count": 3,
     "metadata": {},
     "output_type": "execute_result"
    }
   ],
   "source": [
    "reviews.head(2)"
   ]
  },
  {
   "cell_type": "code",
   "execution_count": 4,
   "metadata": {},
   "outputs": [
    {
     "data": {
      "text/html": [
       "<div>\n",
       "<style scoped>\n",
       "    .dataframe tbody tr th:only-of-type {\n",
       "        vertical-align: middle;\n",
       "    }\n",
       "\n",
       "    .dataframe tbody tr th {\n",
       "        vertical-align: top;\n",
       "    }\n",
       "\n",
       "    .dataframe thead th {\n",
       "        text-align: right;\n",
       "    }\n",
       "</style>\n",
       "<table border=\"1\" class=\"dataframe\">\n",
       "  <thead>\n",
       "    <tr style=\"text-align: right;\">\n",
       "      <th></th>\n",
       "      <th>asin</th>\n",
       "      <th>description</th>\n",
       "      <th>price</th>\n",
       "      <th>brand_title</th>\n",
       "      <th>health_personal_care</th>\n",
       "      <th>beauty</th>\n",
       "      <th>main_cat</th>\n",
       "      <th>sub_cat</th>\n",
       "      <th>related_count</th>\n",
       "    </tr>\n",
       "  </thead>\n",
       "  <tbody>\n",
       "    <tr>\n",
       "      <th>0</th>\n",
       "      <td>0205616461</td>\n",
       "      <td>as age youthful healthy skin succumbs enzymatic imbalance wears away cellular network resulting skin thinning aging combining best nature cosmetic biotechnology bioactive products formulated enzymes gently exfoliate skin stimulate regeneration youthful glow benefiting fertile orchards italian countryside bioactive formulas rich phytohormones flavonoids fatty acids active extracts apple pear seeds enzymatically modified developed especially care aging skin this repairing fluid helps nourish firm accelerating penetration delivery active principles skin giving youthful appearance advanced probiotic complex nourishing milk proteins regains skins natural equilibrium boosts immunities protects environmental biological stress peptides ceramides help firm regenerate skin stimulating collagen production strengthening epidermis a calming botanical complex hyaluronic acid wheat germ extract hydrates restores skins protective barriers a nutritive vitamin complex moisturizes protects skin damaging environmental factors paracress extract natural alternative cosmetic injections limits relaxes microcontractions create facial lines producing immediate longterm smoothing skin to use apply pumps apply pumps clean dried face neck dcollet</td>\n",
       "      <td>NaN</td>\n",
       "      <td>Bio-Active Anti-Aging Serum (Firming Ultra-Hydrati</td>\n",
       "      <td>461765.0</td>\n",
       "      <td>-1.0</td>\n",
       "      <td>Skin Care</td>\n",
       "      <td>Face</td>\n",
       "      <td>0.0</td>\n",
       "    </tr>\n",
       "    <tr>\n",
       "      <th>1</th>\n",
       "      <td>0558925278</td>\n",
       "      <td>mineral powder brushapply powder mineral foundation face circular buffing motion work inward towards nose concealer brushuse liquid mineral powder concealer coverage blemishes eyes eye shading brush expertly cut apply blend powder eye shadows baby kabuki buff powder areas need coverage cosmetic brush bag 55 hemp linen 45 cotton</td>\n",
       "      <td>NaN</td>\n",
       "      <td>Eco Friendly Ecotools Quality Natural Bamboo Cosme</td>\n",
       "      <td>-1.0</td>\n",
       "      <td>402875.0</td>\n",
       "      <td>Tools &amp; Accessories</td>\n",
       "      <td>Makeup Brushes &amp; Tools</td>\n",
       "      <td>0.0</td>\n",
       "    </tr>\n",
       "  </tbody>\n",
       "</table>\n",
       "</div>"
      ],
      "text/plain": [
       "         asin                                                                                                                                                                                                                                                                                                                                                                                                                                                                                                                                                                                                                                                                                                                                                                                                                                                                                                                                                                                                                                                                                                                                                                                                                                                                            description  price                                         brand_title  health_personal_care    beauty             main_cat                 sub_cat  related_count\n",
       "0  0205616461  as age youthful healthy skin succumbs enzymatic imbalance wears away cellular network resulting skin thinning aging combining best nature cosmetic biotechnology bioactive products formulated enzymes gently exfoliate skin stimulate regeneration youthful glow benefiting fertile orchards italian countryside bioactive formulas rich phytohormones flavonoids fatty acids active extracts apple pear seeds enzymatically modified developed especially care aging skin this repairing fluid helps nourish firm accelerating penetration delivery active principles skin giving youthful appearance advanced probiotic complex nourishing milk proteins regains skins natural equilibrium boosts immunities protects environmental biological stress peptides ceramides help firm regenerate skin stimulating collagen production strengthening epidermis a calming botanical complex hyaluronic acid wheat germ extract hydrates restores skins protective barriers a nutritive vitamin complex moisturizes protects skin damaging environmental factors paracress extract natural alternative cosmetic injections limits relaxes microcontractions create facial lines producing immediate longterm smoothing skin to use apply pumps apply pumps clean dried face neck dcollet NaN     Bio-Active Anti-Aging Serum (Firming Ultra-Hydrati  461765.0             -1.0       Skin Care            Face                    0.0          \n",
       "1  0558925278  mineral powder brushapply powder mineral foundation face circular buffing motion work inward towards nose concealer brushuse liquid mineral powder concealer coverage blemishes eyes eye shading brush expertly cut apply blend powder eye shadows baby kabuki buff powder areas need coverage cosmetic brush bag 55 hemp linen 45 cotton                                                                                                                                                                                                                                                                                                                                                                                                                                                                                                                                                                                                                                                                                                                                                                                                                                                                                                                                             NaN     Eco Friendly Ecotools Quality Natural Bamboo Cosme -1.0                   402875.0  Tools & Accessories  Makeup Brushes & Tools  0.0          "
      ]
     },
     "execution_count": 4,
     "metadata": {},
     "output_type": "execute_result"
    }
   ],
   "source": [
    "meta.head(2)"
   ]
  },
  {
   "cell_type": "code",
   "execution_count": 5,
   "metadata": {},
   "outputs": [
    {
     "name": "stdout",
     "output_type": "stream",
     "text": [
      "<class 'pandas.core.frame.DataFrame'>\n",
      "Int64Index: 259204 entries, 0 to 259203\n",
      "Data columns (total 9 columns):\n",
      "asin                    259204 non-null object\n",
      "description             259137 non-null object\n",
      "price                   189930 non-null float64\n",
      "brand_title             258760 non-null object\n",
      "health_personal_care    259204 non-null float64\n",
      "beauty                  259204 non-null float64\n",
      "main_cat                259204 non-null object\n",
      "sub_cat                 259204 non-null object\n",
      "related_count           259204 non-null float64\n",
      "dtypes: float64(4), object(5)\n",
      "memory usage: 19.8+ MB\n"
     ]
    }
   ],
   "source": [
    "meta.info(null_counts=True)"
   ]
  },
  {
   "cell_type": "code",
   "execution_count": 6,
   "metadata": {},
   "outputs": [
    {
     "name": "stdout",
     "output_type": "stream",
     "text": [
      "<class 'pandas.core.frame.DataFrame'>\n",
      "Int64Index: 2023070 entries, 0 to 2023069\n",
      "Data columns (total 9 columns):\n",
      "reviewerID    2023070 non-null object\n",
      "asin          2023070 non-null object\n",
      "overall       2023070 non-null int64\n",
      "reviewTime    2023070 non-null object\n",
      "review        2023067 non-null object\n",
      "upvotes       2023070 non-null int64\n",
      "downvotes     2023070 non-null int64\n",
      "word_count    2023070 non-null int64\n",
      "polarity      2023070 non-null float64\n",
      "dtypes: float64(1), int64(4), object(4)\n",
      "memory usage: 154.3+ MB\n"
     ]
    }
   ],
   "source": [
    "reviews.info(null_counts=True)"
   ]
  },
  {
   "cell_type": "code",
   "execution_count": 7,
   "metadata": {},
   "outputs": [
    {
     "data": {
      "text/html": [
       "<div>\n",
       "<style scoped>\n",
       "    .dataframe tbody tr th:only-of-type {\n",
       "        vertical-align: middle;\n",
       "    }\n",
       "\n",
       "    .dataframe tbody tr th {\n",
       "        vertical-align: top;\n",
       "    }\n",
       "\n",
       "    .dataframe thead th {\n",
       "        text-align: right;\n",
       "    }\n",
       "</style>\n",
       "<table border=\"1\" class=\"dataframe\">\n",
       "  <thead>\n",
       "    <tr style=\"text-align: right;\">\n",
       "      <th></th>\n",
       "      <th>reviewerID</th>\n",
       "      <th>asin</th>\n",
       "      <th>overall</th>\n",
       "      <th>reviewTime</th>\n",
       "      <th>review</th>\n",
       "      <th>upvotes</th>\n",
       "      <th>downvotes</th>\n",
       "      <th>word_count</th>\n",
       "      <th>polarity</th>\n",
       "    </tr>\n",
       "  </thead>\n",
       "  <tbody>\n",
       "    <tr>\n",
       "      <th>1360701</th>\n",
       "      <td>A1LF7KGH427GYC</td>\n",
       "      <td>B00552467Q</td>\n",
       "      <td>5</td>\n",
       "      <td>2014-07-08</td>\n",
       "      <td>NaN</td>\n",
       "      <td>0</td>\n",
       "      <td>0</td>\n",
       "      <td>2</td>\n",
       "      <td>0.0</td>\n",
       "    </tr>\n",
       "    <tr>\n",
       "      <th>1467181</th>\n",
       "      <td>AUII249W6FBZY</td>\n",
       "      <td>B00604MV0C</td>\n",
       "      <td>3</td>\n",
       "      <td>2013-01-11</td>\n",
       "      <td>NaN</td>\n",
       "      <td>0</td>\n",
       "      <td>0</td>\n",
       "      <td>2</td>\n",
       "      <td>0.0</td>\n",
       "    </tr>\n",
       "    <tr>\n",
       "      <th>1784718</th>\n",
       "      <td>A3BX2SSKN9SFRV</td>\n",
       "      <td>B00ADXZ9LY</td>\n",
       "      <td>1</td>\n",
       "      <td>2014-07-03</td>\n",
       "      <td>NaN</td>\n",
       "      <td>0</td>\n",
       "      <td>0</td>\n",
       "      <td>4</td>\n",
       "      <td>0.0</td>\n",
       "    </tr>\n",
       "  </tbody>\n",
       "</table>\n",
       "</div>"
      ],
      "text/plain": [
       "             reviewerID        asin  overall  reviewTime review  upvotes  downvotes  word_count  polarity\n",
       "1360701  A1LF7KGH427GYC  B00552467Q  5        2014-07-08  NaN    0        0          2           0.0     \n",
       "1467181  AUII249W6FBZY   B00604MV0C  3        2013-01-11  NaN    0        0          2           0.0     \n",
       "1784718  A3BX2SSKN9SFRV  B00ADXZ9LY  1        2014-07-03  NaN    0        0          4           0.0     "
      ]
     },
     "execution_count": 7,
     "metadata": {},
     "output_type": "execute_result"
    }
   ],
   "source": [
    "reviews[reviews['review'].isnull()]"
   ]
  },
  {
   "cell_type": "markdown",
   "metadata": {},
   "source": [
    "Missing values can lead to weak or biased analysis. \n",
    "\n",
    "It can be handled in 3 ways: \n",
    "1. Delete the rows with missing values using dropna - note that this can cause information loss\n",
    "2. Impute the missing values using fillna\n",
    "3. Predictive filling using the interpolate method\n",
    "\n",
    "There are a bunch of reviews that have missing value in the review field. We will impute this field using the overall rating, where 5 will be mapped as Excellent and 1 as Bad. Ratings 2,3,4 fall in between."
   ]
  },
  {
   "cell_type": "code",
   "execution_count": 8,
   "metadata": {},
   "outputs": [],
   "source": [
    "d = {5: \"Excellent\", 4:\"Very Good\", 3: \"Good\", 2:\"Not Good\", 1: \"Bad\"}\n",
    "s = reviews.overall.map(d)\n",
    "reviews['review'] = reviews['review'].combine_first(s)"
   ]
  },
  {
   "cell_type": "code",
   "execution_count": 9,
   "metadata": {},
   "outputs": [
    {
     "data": {
      "text/html": [
       "<div>\n",
       "<style scoped>\n",
       "    .dataframe tbody tr th:only-of-type {\n",
       "        vertical-align: middle;\n",
       "    }\n",
       "\n",
       "    .dataframe tbody tr th {\n",
       "        vertical-align: top;\n",
       "    }\n",
       "\n",
       "    .dataframe thead th {\n",
       "        text-align: right;\n",
       "    }\n",
       "</style>\n",
       "<table border=\"1\" class=\"dataframe\">\n",
       "  <thead>\n",
       "    <tr style=\"text-align: right;\">\n",
       "      <th></th>\n",
       "      <th>reviewerID</th>\n",
       "      <th>asin</th>\n",
       "      <th>overall</th>\n",
       "      <th>reviewTime</th>\n",
       "      <th>review</th>\n",
       "      <th>upvotes</th>\n",
       "      <th>downvotes</th>\n",
       "      <th>word_count</th>\n",
       "      <th>polarity</th>\n",
       "    </tr>\n",
       "  </thead>\n",
       "  <tbody>\n",
       "    <tr>\n",
       "      <th>1360701</th>\n",
       "      <td>A1LF7KGH427GYC</td>\n",
       "      <td>B00552467Q</td>\n",
       "      <td>5</td>\n",
       "      <td>2014-07-08</td>\n",
       "      <td>Excellent</td>\n",
       "      <td>0</td>\n",
       "      <td>0</td>\n",
       "      <td>2</td>\n",
       "      <td>0.0</td>\n",
       "    </tr>\n",
       "  </tbody>\n",
       "</table>\n",
       "</div>"
      ],
      "text/plain": [
       "             reviewerID        asin  overall  reviewTime     review  upvotes  downvotes  word_count  polarity\n",
       "1360701  A1LF7KGH427GYC  B00552467Q  5        2014-07-08  Excellent  0        0          2           0.0     "
      ]
     },
     "execution_count": 9,
     "metadata": {},
     "output_type": "execute_result"
    }
   ],
   "source": [
    "reviews[reviews['review']=='Excellent']"
   ]
  },
  {
   "cell_type": "markdown",
   "metadata": {},
   "source": [
    "In the meta dataframe, there are 3 columns that still have missing values: description, brand_title and price. Let's try to impute these values. The best way to estimate the price is by looking for the price of similar items. But for now, we will simply replace the missing price with 0.\n",
    "Since there is no perfect way to determine the description and brand_title of an item, we will use main_cat to populate these 2 columns because main category is somewhere related to them."
   ]
  },
  {
   "cell_type": "code",
   "execution_count": 10,
   "metadata": {},
   "outputs": [],
   "source": [
    "meta['main_cat'] = meta['main_cat'].str.replace(']','')"
   ]
  },
  {
   "cell_type": "code",
   "execution_count": 11,
   "metadata": {},
   "outputs": [
    {
     "data": {
      "text/plain": [
       "array(['Bio-Active Anti-Aging Serum (Firming Ultra-Hydrati',\n",
       "       'Eco Friendly Ecotools Quality Natural Bamboo Cosme',\n",
       "       'Mastiha Body Lotion', ...,\n",
       "       'ResQ Organics Face &amp; Body Wash - Aloe Vera Man',\n",
       "       '2 Tier Tulle Elbow Wedding Veil with Ribbon Edge F',\n",
       "       '*ECOCRAFTWORLD* GENUINE BUFFALO LEATHER TRAVEL BAG'], dtype=object)"
      ]
     },
     "execution_count": 11,
     "metadata": {},
     "output_type": "execute_result"
    }
   ],
   "source": [
    "meta['brand_title'].unique()"
   ]
  },
  {
   "cell_type": "code",
   "execution_count": 12,
   "metadata": {},
   "outputs": [],
   "source": [
    "meta['description'] = meta['description'].fillna(meta['main_cat'])\n",
    "meta['brand_title'] = meta['brand_title'].fillna(meta['main_cat'])\n",
    "meta['price'] = meta['price'].fillna(0)"
   ]
  },
  {
   "cell_type": "markdown",
   "metadata": {},
   "source": [
    "Rename the 2 columns that were extracted from sales_price since they are inconsistent with the remaining columns"
   ]
  },
  {
   "cell_type": "code",
   "execution_count": 13,
   "metadata": {},
   "outputs": [],
   "source": [
    "meta.rename(columns={'Health & Personal Care': 'health_personal_care', 'Beauty': 'beauty'}, inplace=True)"
   ]
  },
  {
   "cell_type": "code",
   "execution_count": 14,
   "metadata": {},
   "outputs": [],
   "source": [
    "data = pd.merge(reviews, meta, on='asin')"
   ]
  },
  {
   "cell_type": "code",
   "execution_count": 15,
   "metadata": {},
   "outputs": [
    {
     "data": {
      "text/plain": [
       "(2023070, 17)"
      ]
     },
     "execution_count": 15,
     "metadata": {},
     "output_type": "execute_result"
    }
   ],
   "source": [
    "data.shape"
   ]
  },
  {
   "cell_type": "markdown",
   "metadata": {},
   "source": [
    "The brand_title field will be useful for building the recommender system. Since it is text data, we will have to process it so it can be read by the algorithm. This processing includes converting all text to lowercase and removing punctuation."
   ]
  },
  {
   "cell_type": "code",
   "execution_count": 16,
   "metadata": {},
   "outputs": [],
   "source": [
    "meta['brand_title'] = meta['brand_title'].apply(lambda x: \" \".join(x.lower() for x in x.split()))"
   ]
  },
  {
   "cell_type": "code",
   "execution_count": 17,
   "metadata": {},
   "outputs": [],
   "source": [
    "meta['brand_title'] = meta['brand_title'].str.replace('[^\\w\\s]','')"
   ]
  },
  {
   "cell_type": "markdown",
   "metadata": {},
   "source": [
    "Now that all our collected data is fully cleaned, we have to filter it so that relevant information can be extracted and used to make the final recommendations."
   ]
  },
  {
   "cell_type": "markdown",
   "metadata": {},
   "source": [
    "## 4. Machine Learning"
   ]
  },
  {
   "cell_type": "markdown",
   "metadata": {},
   "source": [
    "There are 4 common ways to build a recommender engine. \n",
    "1. Popularity based\n",
    "2. Content based\n",
    "3. Collaborative\n",
    "4. Hybrid \n",
    "\n",
    "\n",
    "Each will be explored more in detail as we build them one by one."
   ]
  },
  {
   "cell_type": "code",
   "execution_count": 18,
   "metadata": {},
   "outputs": [],
   "source": [
    "import sklearn\n",
    "from sklearn.model_selection import StratifiedShuffleSplit, train_test_split\n",
    "from sklearn.feature_extraction.text import TfidfVectorizer, CountVectorizer\n",
    "from sklearn.preprocessing import FunctionTransformer\n",
    "from sklearn.pipeline import FeatureUnion, Pipeline\n",
    "from sklearn.metrics.pairwise import cosine_similarity\n",
    "from sklearn.metrics.pairwise import linear_kernel\n",
    "from sklearn.neighbors import NearestNeighbors"
   ]
  },
  {
   "cell_type": "markdown",
   "metadata": {},
   "source": [
    "### 4.1 Popularity-based Recommender\n",
    "\n",
    "This is the simplest recommendation system. As is obvious from the name, it simply recommends the popular and highly rated items to all the users. The bigest drawback of this system is that it is non-personalized and recommends the same items to everyone. Since users' have different tastes and preferences, this is not a very useful filtering method."
   ]
  },
  {
   "cell_type": "markdown",
   "metadata": {},
   "source": [
    "One way of measuring popularity is by counting the number of times an item was rated. Higher the rating count, more popular the item is."
   ]
  },
  {
   "cell_type": "code",
   "execution_count": 19,
   "metadata": {},
   "outputs": [
    {
     "data": {
      "text/html": [
       "<div>\n",
       "<style scoped>\n",
       "    .dataframe tbody tr th:only-of-type {\n",
       "        vertical-align: middle;\n",
       "    }\n",
       "\n",
       "    .dataframe tbody tr th {\n",
       "        vertical-align: top;\n",
       "    }\n",
       "\n",
       "    .dataframe thead th {\n",
       "        text-align: right;\n",
       "    }\n",
       "</style>\n",
       "<table border=\"1\" class=\"dataframe\">\n",
       "  <thead>\n",
       "    <tr style=\"text-align: right;\">\n",
       "      <th></th>\n",
       "      <th>overall</th>\n",
       "    </tr>\n",
       "    <tr>\n",
       "      <th>asin</th>\n",
       "      <th></th>\n",
       "    </tr>\n",
       "  </thead>\n",
       "  <tbody>\n",
       "    <tr>\n",
       "      <th>B001MA0QY2</th>\n",
       "      <td>7533</td>\n",
       "    </tr>\n",
       "    <tr>\n",
       "      <th>B0009V1YR8</th>\n",
       "      <td>2869</td>\n",
       "    </tr>\n",
       "    <tr>\n",
       "      <th>B0043OYFKU</th>\n",
       "      <td>2477</td>\n",
       "    </tr>\n",
       "    <tr>\n",
       "      <th>B0000YUXI0</th>\n",
       "      <td>2143</td>\n",
       "    </tr>\n",
       "    <tr>\n",
       "      <th>B003V265QW</th>\n",
       "      <td>2088</td>\n",
       "    </tr>\n",
       "  </tbody>\n",
       "</table>\n",
       "</div>"
      ],
      "text/plain": [
       "            overall\n",
       "asin               \n",
       "B001MA0QY2  7533   \n",
       "B0009V1YR8  2869   \n",
       "B0043OYFKU  2477   \n",
       "B0000YUXI0  2143   \n",
       "B003V265QW  2088   "
      ]
     },
     "execution_count": 19,
     "metadata": {},
     "output_type": "execute_result"
    }
   ],
   "source": [
    "rating_count = pd.DataFrame(reviews.groupby('asin')['overall'].count())\n",
    "\n",
    "rating_count.sort_values('overall', ascending=False).head()"
   ]
  },
  {
   "cell_type": "code",
   "execution_count": 20,
   "metadata": {},
   "outputs": [
    {
     "data": {
      "text/html": [
       "<div>\n",
       "<style scoped>\n",
       "    .dataframe tbody tr th:only-of-type {\n",
       "        vertical-align: middle;\n",
       "    }\n",
       "\n",
       "    .dataframe tbody tr th {\n",
       "        vertical-align: top;\n",
       "    }\n",
       "\n",
       "    .dataframe thead th {\n",
       "        text-align: right;\n",
       "    }\n",
       "</style>\n",
       "<table border=\"1\" class=\"dataframe\">\n",
       "  <thead>\n",
       "    <tr style=\"text-align: right;\">\n",
       "      <th></th>\n",
       "      <th>asin</th>\n",
       "      <th>description</th>\n",
       "      <th>price</th>\n",
       "      <th>brand_title</th>\n",
       "      <th>health_personal_care</th>\n",
       "      <th>beauty</th>\n",
       "      <th>main_cat</th>\n",
       "      <th>sub_cat</th>\n",
       "      <th>related_count</th>\n",
       "    </tr>\n",
       "  </thead>\n",
       "  <tbody>\n",
       "    <tr>\n",
       "      <th>0</th>\n",
       "      <td>B001MA0QY2</td>\n",
       "      <td>the proffesional hsi flat iron great transforming frizzy dull hair gorgeously straight sleek locks aside straightening proffesional hsi flat iron curls flips hair beautifully 1 plates giving maximum control hair types with flash quick heating swivel cord iron provides great style without making mess taking much time featuring new easier grip ergonomic design easier hold styler flat iron also versatile heat settings provide total control hairstyling needs moist ceramic heat solid ceramic plates coils maintain even temperature</td>\n",
       "      <td>53.59</td>\n",
       "      <td>hsi professional hsi professional 1 ceramic tourma</td>\n",
       "      <td>-1.0</td>\n",
       "      <td>1.0</td>\n",
       "      <td>Hair Care</td>\n",
       "      <td>Styling Tools</td>\n",
       "      <td>0.0</td>\n",
       "    </tr>\n",
       "    <tr>\n",
       "      <th>1</th>\n",
       "      <td>B0009V1YR8</td>\n",
       "      <td>farouk chi gf1001 original 1 ceramic ionic flat iron hair straightener warranty offer all chi products purchased direct amazoncom covered 30 day amazon warranty this item covered manufacture warranty applies products sold amazoncom does apply products sold site thirdparty merchants thirdparty areas amazoncom marketplace auctions</td>\n",
       "      <td>89.09</td>\n",
       "      <td>farouk chi 1 inch ceramic flat hairstyling iron</td>\n",
       "      <td>-1.0</td>\n",
       "      <td>3128.0</td>\n",
       "      <td>Hair Care</td>\n",
       "      <td>Styling Tools</td>\n",
       "      <td>90.0</td>\n",
       "    </tr>\n",
       "    <tr>\n",
       "      <th>2</th>\n",
       "      <td>B0043OYFKU</td>\n",
       "      <td>no description</td>\n",
       "      <td>26.99</td>\n",
       "      <td>olay olay prox advanced cleansing system 068 fl</td>\n",
       "      <td>-1.0</td>\n",
       "      <td>6.0</td>\n",
       "      <td>Skin Care</td>\n",
       "      <td>Face</td>\n",
       "      <td>0.0</td>\n",
       "    </tr>\n",
       "    <tr>\n",
       "      <th>3</th>\n",
       "      <td>B0000YUXI0</td>\n",
       "      <td>a transparent formula distinct bitter taste discourage nail biting putting fingers mouth</td>\n",
       "      <td>10.59</td>\n",
       "      <td>mavala mavala stop  helps cure nail biting and th</td>\n",
       "      <td>-1.0</td>\n",
       "      <td>16.0</td>\n",
       "      <td>Skin Care</td>\n",
       "      <td>Hands &amp; Nails</td>\n",
       "      <td>0.0</td>\n",
       "    </tr>\n",
       "    <tr>\n",
       "      <th>4</th>\n",
       "      <td>B003V265QW</td>\n",
       "      <td>no description</td>\n",
       "      <td>27.77</td>\n",
       "      <td>remington remington ci95ac2 tstudio salon collect</td>\n",
       "      <td>-1.0</td>\n",
       "      <td>73.0</td>\n",
       "      <td>Hair Care</td>\n",
       "      <td>Styling Tools</td>\n",
       "      <td>0.0</td>\n",
       "    </tr>\n",
       "  </tbody>\n",
       "</table>\n",
       "</div>"
      ],
      "text/plain": [
       "         asin                                                                                                                                                                                                                                                                                                                                                                                                                                                                                                                                         description  price                                         brand_title  health_personal_care  beauty   main_cat        sub_cat  related_count\n",
       "0  B001MA0QY2  the proffesional hsi flat iron great transforming frizzy dull hair gorgeously straight sleek locks aside straightening proffesional hsi flat iron curls flips hair beautifully 1 plates giving maximum control hair types with flash quick heating swivel cord iron provides great style without making mess taking much time featuring new easier grip ergonomic design easier hold styler flat iron also versatile heat settings provide total control hairstyling needs moist ceramic heat solid ceramic plates coils maintain even temperature  53.59  hsi professional hsi professional 1 ceramic tourma -1.0                   1.0     Hair Care  Styling Tools  0.0          \n",
       "1  B0009V1YR8  farouk chi gf1001 original 1 ceramic ionic flat iron hair straightener warranty offer all chi products purchased direct amazoncom covered 30 day amazon warranty this item covered manufacture warranty applies products sold amazoncom does apply products sold site thirdparty merchants thirdparty areas amazoncom marketplace auctions                                                                                                                                                                                                          89.09  farouk chi 1 inch ceramic flat hairstyling iron    -1.0                   3128.0  Hair Care  Styling Tools  90.0         \n",
       "2  B0043OYFKU  no description                                                                                                                                                                                                                                                                                                                                                                                                                                                                                                                                      26.99  olay olay prox advanced cleansing system 068 fl    -1.0                   6.0     Skin Care  Face           0.0          \n",
       "3  B0000YUXI0  a transparent formula distinct bitter taste discourage nail biting putting fingers mouth                                                                                                                                                                                                                                                                                                                                                                                                                                                            10.59  mavala mavala stop  helps cure nail biting and th  -1.0                   16.0    Skin Care  Hands & Nails  0.0          \n",
       "4  B003V265QW  no description                                                                                                                                                                                                                                                                                                                                                                                                                                                                                                                                      27.77  remington remington ci95ac2 tstudio salon collect  -1.0                   73.0    Hair Care  Styling Tools  0.0          "
      ]
     },
     "execution_count": 20,
     "metadata": {},
     "output_type": "execute_result"
    }
   ],
   "source": [
    "most_rated_items = pd.DataFrame(['B001MA0QY2', 'B0009V1YR8', 'B0043OYFKU', 'B0000YUXI0', 'B003V265QW'], index=np.arange(5), columns=['asin'])\n",
    "\n",
    "summary = pd.merge(most_rated_items, meta, on='asin')\n",
    "summary"
   ]
  },
  {
   "cell_type": "markdown",
   "metadata": {},
   "source": [
    "Another way to measure the popularity of an item is by checking it's related_count. This count was extracted by adding the number of times an item was clicked or viewed or bought after viewing or together with another item. The higher the related_count, the more popular the item should be."
   ]
  },
  {
   "cell_type": "code",
   "execution_count": 21,
   "metadata": {},
   "outputs": [
    {
     "data": {
      "text/html": [
       "<div>\n",
       "<style scoped>\n",
       "    .dataframe tbody tr th:only-of-type {\n",
       "        vertical-align: middle;\n",
       "    }\n",
       "\n",
       "    .dataframe tbody tr th {\n",
       "        vertical-align: top;\n",
       "    }\n",
       "\n",
       "    .dataframe thead th {\n",
       "        text-align: right;\n",
       "    }\n",
       "</style>\n",
       "<table border=\"1\" class=\"dataframe\">\n",
       "  <thead>\n",
       "    <tr style=\"text-align: right;\">\n",
       "      <th></th>\n",
       "      <th>asin</th>\n",
       "      <th>related_count</th>\n",
       "    </tr>\n",
       "  </thead>\n",
       "  <tbody>\n",
       "    <tr>\n",
       "      <th>138437</th>\n",
       "      <td>B005BF1M10</td>\n",
       "      <td>3937.0</td>\n",
       "    </tr>\n",
       "    <tr>\n",
       "      <th>128160</th>\n",
       "      <td>B004TSFBNK</td>\n",
       "      <td>3727.0</td>\n",
       "    </tr>\n",
       "    <tr>\n",
       "      <th>47157</th>\n",
       "      <td>B00150LT40</td>\n",
       "      <td>3603.0</td>\n",
       "    </tr>\n",
       "    <tr>\n",
       "      <th>178896</th>\n",
       "      <td>B008GOR6O0</td>\n",
       "      <td>3398.0</td>\n",
       "    </tr>\n",
       "    <tr>\n",
       "      <th>104577</th>\n",
       "      <td>B003UH0528</td>\n",
       "      <td>3196.0</td>\n",
       "    </tr>\n",
       "  </tbody>\n",
       "</table>\n",
       "</div>"
      ],
      "text/plain": [
       "              asin  related_count\n",
       "138437  B005BF1M10  3937.0       \n",
       "128160  B004TSFBNK  3727.0       \n",
       "47157   B00150LT40  3603.0       \n",
       "178896  B008GOR6O0  3398.0       \n",
       "104577  B003UH0528  3196.0       "
      ]
     },
     "execution_count": 21,
     "metadata": {},
     "output_type": "execute_result"
    }
   ],
   "source": [
    "related = data.groupby(['asin']).agg({'related_count': 'max'}).reset_index()\n",
    "related.sort_values('related_count',ascending = 0).head()"
   ]
  },
  {
   "cell_type": "markdown",
   "metadata": {},
   "source": [
    "We also have sales ranking for the items either under beauty or under health_personal_care categories. Another way of determining popular items is by looking for their sales rank under either of these columns."
   ]
  },
  {
   "cell_type": "code",
   "execution_count": 22,
   "metadata": {},
   "outputs": [
    {
     "data": {
      "text/html": [
       "<div>\n",
       "<style scoped>\n",
       "    .dataframe tbody tr th:only-of-type {\n",
       "        vertical-align: middle;\n",
       "    }\n",
       "\n",
       "    .dataframe tbody tr th {\n",
       "        vertical-align: top;\n",
       "    }\n",
       "\n",
       "    .dataframe thead th {\n",
       "        text-align: right;\n",
       "    }\n",
       "</style>\n",
       "<table border=\"1\" class=\"dataframe\">\n",
       "  <thead>\n",
       "    <tr style=\"text-align: right;\">\n",
       "      <th></th>\n",
       "      <th>beauty</th>\n",
       "    </tr>\n",
       "    <tr>\n",
       "      <th>asin</th>\n",
       "      <th></th>\n",
       "    </tr>\n",
       "  </thead>\n",
       "  <tbody>\n",
       "    <tr>\n",
       "      <th>B001MA0QY2</th>\n",
       "      <td>1.0</td>\n",
       "    </tr>\n",
       "    <tr>\n",
       "      <th>B0012BNVE8</th>\n",
       "      <td>2.0</td>\n",
       "    </tr>\n",
       "    <tr>\n",
       "      <th>B00I46E8DC</th>\n",
       "      <td>5.0</td>\n",
       "    </tr>\n",
       "    <tr>\n",
       "      <th>B0043OYFKU</th>\n",
       "      <td>6.0</td>\n",
       "    </tr>\n",
       "    <tr>\n",
       "      <th>B000FS05VG</th>\n",
       "      <td>6.0</td>\n",
       "    </tr>\n",
       "  </tbody>\n",
       "</table>\n",
       "</div>"
      ],
      "text/plain": [
       "            beauty\n",
       "asin              \n",
       "B001MA0QY2  1.0   \n",
       "B0012BNVE8  2.0   \n",
       "B00I46E8DC  5.0   \n",
       "B0043OYFKU  6.0   \n",
       "B000FS05VG  6.0   "
      ]
     },
     "execution_count": 22,
     "metadata": {},
     "output_type": "execute_result"
    }
   ],
   "source": [
    "beauty_rank = pd.DataFrame(meta.groupby('asin')['beauty'].max())\n",
    "beauty_rank[beauty_rank['beauty'] > 0].sort_values('beauty').head()"
   ]
  },
  {
   "cell_type": "code",
   "execution_count": 23,
   "metadata": {},
   "outputs": [
    {
     "data": {
      "text/html": [
       "<div>\n",
       "<style scoped>\n",
       "    .dataframe tbody tr th:only-of-type {\n",
       "        vertical-align: middle;\n",
       "    }\n",
       "\n",
       "    .dataframe tbody tr th {\n",
       "        vertical-align: top;\n",
       "    }\n",
       "\n",
       "    .dataframe thead th {\n",
       "        text-align: right;\n",
       "    }\n",
       "</style>\n",
       "<table border=\"1\" class=\"dataframe\">\n",
       "  <thead>\n",
       "    <tr style=\"text-align: right;\">\n",
       "      <th></th>\n",
       "      <th>health_personal_care</th>\n",
       "    </tr>\n",
       "    <tr>\n",
       "      <th>asin</th>\n",
       "      <th></th>\n",
       "    </tr>\n",
       "  </thead>\n",
       "  <tbody>\n",
       "    <tr>\n",
       "      <th>B00GP184WO</th>\n",
       "      <td>123.0</td>\n",
       "    </tr>\n",
       "    <tr>\n",
       "      <th>B0013TM9UQ</th>\n",
       "      <td>142.0</td>\n",
       "    </tr>\n",
       "    <tr>\n",
       "      <th>B00DHQCJTO</th>\n",
       "      <td>180.0</td>\n",
       "    </tr>\n",
       "    <tr>\n",
       "      <th>B00DM14TYC</th>\n",
       "      <td>187.0</td>\n",
       "    </tr>\n",
       "    <tr>\n",
       "      <th>B000ELP5KA</th>\n",
       "      <td>240.0</td>\n",
       "    </tr>\n",
       "  </tbody>\n",
       "</table>\n",
       "</div>"
      ],
      "text/plain": [
       "            health_personal_care\n",
       "asin                            \n",
       "B00GP184WO  123.0               \n",
       "B0013TM9UQ  142.0               \n",
       "B00DHQCJTO  180.0               \n",
       "B00DM14TYC  187.0               \n",
       "B000ELP5KA  240.0               "
      ]
     },
     "execution_count": 23,
     "metadata": {},
     "output_type": "execute_result"
    }
   ],
   "source": [
    "hpc_rank = pd.DataFrame(meta.groupby('asin')['health_personal_care'].max())\n",
    "hpc_rank[hpc_rank['health_personal_care'] > 0].sort_values('health_personal_care').head()"
   ]
  },
  {
   "cell_type": "markdown",
   "metadata": {},
   "source": [
    "So, the caveat to Popularity based recommenders is that they do not filter items based on personal preferences and recommend the same top-N items to every single user. The method is pretty simple, but not very effective."
   ]
  },
  {
   "cell_type": "markdown",
   "metadata": {},
   "source": [
    "### 4.2 Content-based Filtering\n",
    "\n",
    "This method recommends an item based on its features and how similar they are to features of other items in the data set. It is based on similarity of item attributes, which can be determined using cosine similarity or nearest neighbor algorithms.\n",
    "\n",
    "The past interactions of a given user with items is taken into account, ignoring all other users. Items are recommended based on comparison between contents of the items and a user profile. The content of each item could be represented as descriptor or terms. \n",
    "\n",
    "We will combine the brand_title, main_cat and description features of the items into a single feature and convert it into vector form so it can be effectively used for determining similarities between different items."
   ]
  },
  {
   "cell_type": "code",
   "execution_count": 24,
   "metadata": {},
   "outputs": [],
   "source": [
    "r_per_asin = reviews['asin'].value_counts()\n",
    "#r_per_asin"
   ]
  },
  {
   "cell_type": "markdown",
   "metadata": {},
   "source": [
    "For a fair analysis, we will include only those items from the dataset that have been reviewed more than 10 times and less then 7000 times. Less than 10 ratings means not many users have reviewed the item. More than 7000 ratings means the item is already quite popular and would show up as a recommendation, regardless."
   ]
  },
  {
   "cell_type": "code",
   "execution_count": 25,
   "metadata": {},
   "outputs": [
    {
     "data": {
      "text/plain": [
       "(33878, 9)"
      ]
     },
     "execution_count": 25,
     "metadata": {},
     "output_type": "execute_result"
    }
   ],
   "source": [
    "meta_5 = meta[meta['asin'].isin(r_per_asin[r_per_asin>10].index) & meta['asin'].isin(r_per_asin[r_per_asin<7000].index)]\n",
    "meta_5.shape"
   ]
  },
  {
   "cell_type": "code",
   "execution_count": 26,
   "metadata": {},
   "outputs": [],
   "source": [
    "meta_5 = meta_5.reset_index(drop=True)"
   ]
  },
  {
   "cell_type": "markdown",
   "metadata": {},
   "source": [
    "So we are now left with 33,878 items that we will use for filtering using their content.\n",
    "\n",
    "We will define a function to get the pairwise similarity scores of all items compared to a given item. The results will be sorted and top-5 similar items will be returned."
   ]
  },
  {
   "cell_type": "code",
   "execution_count": 27,
   "metadata": {},
   "outputs": [],
   "source": [
    "def recommend(index, method):\n",
    "    id = indices[index]\n",
    "\n",
    "    similarity_scores = list(enumerate(method[id]))\n",
    "    similarity_scores = sorted(similarity_scores, key=lambda x: x[1], reverse=True)\n",
    "    similarity_scores = similarity_scores[1:6]\n",
    "    \n",
    "    #Get the items index\n",
    "    asin_index = [i[0] for i in similarity_scores]\n",
    "    \n",
    "    #Return the top 5 most similar items\n",
    "    return meta_5['brand_title'].iloc[asin_index]"
   ]
  },
  {
   "cell_type": "markdown",
   "metadata": {},
   "source": [
    "In the first approach, we will use TfidfVectorizer function. TF-IDF is heavily used in Natural Language Processing and is used in information retrieval using feature extraction processes. It is a measure used to evaluate how important a word is to a document in document corpus. The three text columns will be combined into one and their text will be used to fit the model."
   ]
  },
  {
   "cell_type": "code",
   "execution_count": 29,
   "metadata": {},
   "outputs": [
    {
     "data": {
      "text/plain": [
       "(33878, 1000)"
      ]
     },
     "execution_count": 29,
     "metadata": {},
     "output_type": "execute_result"
    }
   ],
   "source": [
    "tv = TfidfVectorizer(analyzer='word', stop_words='english', ngram_range=(1, 2), max_features=1000)\n",
    "meta_5['all_content'] = meta_5['brand_title'] + meta_5['main_cat'] + meta_5['description'] + meta_5['sub_cat']\n",
    "tfidf_matrix = tv.fit_transform(meta_5['all_content'])\n",
    "#tfidf_feature_name = vectorizer.get_feature_names()\n",
    "tfidf_matrix.shape"
   ]
  },
  {
   "cell_type": "markdown",
   "metadata": {},
   "source": [
    "Next we will compute the similarity matrix using linear_kernel of sklearn"
   ]
  },
  {
   "cell_type": "code",
   "execution_count": 30,
   "metadata": {},
   "outputs": [],
   "source": [
    "cos_sim = linear_kernel(tfidf_matrix)"
   ]
  },
  {
   "cell_type": "code",
   "execution_count": 31,
   "metadata": {},
   "outputs": [],
   "source": [
    "indices = pd.Series(meta_5['asin'].index)"
   ]
  },
  {
   "cell_type": "markdown",
   "metadata": {},
   "source": [
    "Let's pick a random item in index location 2 and display it's categories and brand_title. Our assumption here is that a user has reviewed and liked this item and therefore we are identifying the top-N items that are most similar to it and recommending them to that user."
   ]
  },
  {
   "cell_type": "code",
   "execution_count": 32,
   "metadata": {},
   "outputs": [
    {
     "data": {
      "text/plain": [
       "('Hair Care', 'Shampoos', 'elemis aromazing shampoo  300 ml')"
      ]
     },
     "execution_count": 32,
     "metadata": {},
     "output_type": "execute_result"
    }
   ],
   "source": [
    "meta_5.iloc[2].main_cat, meta_5.iloc[2].sub_cat, meta_5.iloc[2].brand_title"
   ]
  },
  {
   "cell_type": "markdown",
   "metadata": {},
   "source": [
    "So we see that it is a hair care product/shampoo. \n",
    "\n",
    "Execute the recommend function on this item and find the top-5 items similar to it."
   ]
  },
  {
   "cell_type": "code",
   "execution_count": 33,
   "metadata": {},
   "outputs": [
    {
     "data": {
      "text/plain": [
       "2078     nexxus nexxus shampoo therappe 338oz             \n",
       "16036    suave suave professionals shampoo rosemary mint f\n",
       "17781    pantene pantene prov antibreakage shampoo 254 f  \n",
       "28200    nexxus promend shampoo 338oz                     \n",
       "32687    fekkai fekkai apple cider shampoo 236ml8oz       \n",
       "Name: brand_title, dtype: object"
      ]
     },
     "execution_count": 33,
     "metadata": {},
     "output_type": "execute_result"
    }
   ],
   "source": [
    "recommend(2, cos_sim)"
   ]
  },
  {
   "cell_type": "code",
   "execution_count": 34,
   "metadata": {},
   "outputs": [],
   "source": [
    "tv = None\n",
    "tfidf_matrix = None\n",
    "cos_sim = None"
   ]
  },
  {
   "cell_type": "markdown",
   "metadata": {},
   "source": [
    "The other approach is to use the CountVectorizer, which counts the number of times a token shows up in the document and uses this value as its weight. It is simpler than TfidfVectorizer. We will then compute the similarity matrix using cosine_similarity of sklearn."
   ]
  },
  {
   "cell_type": "code",
   "execution_count": 35,
   "metadata": {},
   "outputs": [],
   "source": [
    "cv = CountVectorizer()\n",
    "count_matrix = cv.fit_transform(meta_5['all_content'])\n",
    "cos_sim = cosine_similarity(count_matrix)"
   ]
  },
  {
   "cell_type": "code",
   "execution_count": 36,
   "metadata": {},
   "outputs": [
    {
     "data": {
      "text/plain": [
       "9625     sbr sports triswim shampoo 8 fl oz  236 ml \n",
       "28200    nexxus promend shampoo 338oz               \n",
       "1073     the blonde solid shampoo by lush           \n",
       "10999    herstyler shampoo 4ounce pack of 4         \n",
       "11389    nexxus color assure shampoo 338ounce bottle\n",
       "Name: brand_title, dtype: object"
      ]
     },
     "execution_count": 36,
     "metadata": {},
     "output_type": "execute_result"
    }
   ],
   "source": [
    "recommend(2, cos_sim)"
   ]
  },
  {
   "cell_type": "code",
   "execution_count": 37,
   "metadata": {},
   "outputs": [],
   "source": [
    "cv = None\n",
    "count_matrix = None\n",
    "cos_sim = None"
   ]
  },
  {
   "cell_type": "markdown",
   "metadata": {},
   "source": [
    "The above two approaches returned only 1 common item - nexxus promend shampoo 338oz.\n",
    "\n",
    "#### Pros and Cons of Content-based Filtering\n",
    "\n",
    "##### Pros:\n",
    "The recommendations are specific to one user, therefore the model does not need any data about other users. This makes it easier to scale to a large number of users. It is very effective in recommending niche items, since it can capture the specific interests of a user. With sufficient description, the cold start problem can be eliminated.\n",
    "\n",
    "##### Cons:\n",
    "The feature representation of the items must be very rich because the model solely depends on that. The model can make recommendations based only on existing interests of the user. So it tends to over-specialize and will recommend items only similar to those already used and rated."
   ]
  },
  {
   "cell_type": "code",
   "execution_count": null,
   "metadata": {},
   "outputs": [],
   "source": []
  },
  {
   "cell_type": "code",
   "execution_count": null,
   "metadata": {},
   "outputs": [],
   "source": []
  },
  {
   "cell_type": "code",
   "execution_count": null,
   "metadata": {},
   "outputs": [],
   "source": []
  },
  {
   "cell_type": "code",
   "execution_count": null,
   "metadata": {},
   "outputs": [],
   "source": []
  },
  {
   "cell_type": "code",
   "execution_count": null,
   "metadata": {},
   "outputs": [],
   "source": []
  },
  {
   "cell_type": "code",
   "execution_count": null,
   "metadata": {},
   "outputs": [],
   "source": []
  },
  {
   "cell_type": "code",
   "execution_count": null,
   "metadata": {},
   "outputs": [],
   "source": []
  },
  {
   "cell_type": "code",
   "execution_count": null,
   "metadata": {},
   "outputs": [],
   "source": []
  },
  {
   "cell_type": "code",
   "execution_count": null,
   "metadata": {},
   "outputs": [],
   "source": []
  },
  {
   "cell_type": "markdown",
   "metadata": {},
   "source": [
    "## 4. Conclusion"
   ]
  },
  {
   "cell_type": "markdown",
   "metadata": {},
   "source": []
  }
 ],
 "metadata": {
  "kernelspec": {
   "display_name": "Python 3",
   "language": "python",
   "name": "python3"
  },
  "language_info": {
   "codemirror_mode": {
    "name": "ipython",
    "version": 3
   },
   "file_extension": ".py",
   "mimetype": "text/x-python",
   "name": "python",
   "nbconvert_exporter": "python",
   "pygments_lexer": "ipython3",
   "version": "3.7.3"
  }
 },
 "nbformat": 4,
 "nbformat_minor": 2
}
