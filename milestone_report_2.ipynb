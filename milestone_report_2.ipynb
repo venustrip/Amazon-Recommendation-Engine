{
 "cells": [
  {
   "cell_type": "markdown",
   "metadata": {},
   "source": [
    "<h1><center>Amazon Beauty Products - Recommender System</center></h1>\n",
    "<h2><center>Second Milestone Report</center></h2>\n",
    "<h3><center>Machine Learning Techniques</center></h3>"
   ]
  },
  {
   "cell_type": "markdown",
   "metadata": {},
   "source": [
    "## 1. Introduction"
   ]
  },
  {
   "cell_type": "markdown",
   "metadata": {},
   "source": [
    "### 1.1 Problem\n",
    "\n",
    "In this project, I plan to build an intelligent recommendation engine for beauty products that are sold on Amazon.com. By providing recommendations, Amazon.com will give its customers the ability to take their brand experiences into their hands and make informed decisions. This level of personalization will support higher customer retention and reinforce brand loyalty."
   ]
  },
  {
   "cell_type": "markdown",
   "metadata": {},
   "source": [
    "### 1.2 Approach\n",
    "\n",
    "#### Data Wrangling:\n",
    "\n",
    "After loading the json files into pandas dataframe, the raw data will be cleaned, structured and enriched into a cleaner format. Clean data will allow quicker and better analysis, producing more accurate results. The identification and removal of error and duplicity in datasets will create a reliable dataset, enabling an outcome of better quality. This step was completed in the first milestone.\n",
    "\n",
    "#### EDA:\n",
    "\n",
    "EDA (Exploratory Data Analysis) is the initial basic exploration of the dataset in a systematic manner using visual methods. This step will include identification and elimination of outliers as well as checking for correlations between the independent variables. This step was also completed in the first milestone.\n",
    "\n",
    "#### Machine Learning:\n",
    "\n",
    "Different types of recommender systems will be built using Machine learning algorithms. \n",
    "The algorithms can be classified into two categories: Content-based filtering and Collaborative filtering. Modern recommenders use a hybrid approach which is a combination of these two.\n",
    "Recommender systems are applied where many users interact with many items. We have a rich dataset with item attributes and historical user reviews for these items, that will be used to train and test the models. \n",
    "\n",
    "#### Performance Evaluation:\n",
    "\n",
    "A variety of offline and online evaluation metrics are available to measure the accuracy of recommender systems. Each model will be evaluated using these metrics and the scores will be compared to determine the best performance. Strong recommender systems can have positive effects on user experience. They can result into higher customer satisfaction and retention, and in turn boost revenues."
   ]
  },
  {
   "cell_type": "markdown",
   "metadata": {},
   "source": [
    "## 2. Data Collection"
   ]
  },
  {
   "cell_type": "markdown",
   "metadata": {},
   "source": [
    "The dataset has been downloaded from the website: http://jmcauley.ucsd.edu/data/amazon/links.html\n",
    "(Citation:\n",
    "Ups and downs: Modeling the visual evolution of fashion trends with one-class collaborative filtering\n",
    "R. He, J. McAuley\n",
    "WWW, 2016)\n",
    "\n",
    "There are 2 individual json files containing the beauty product reviews and metadata from Amazon. The reviews file has ~2 million reviews spanning May 1996 - July 2014. The metadata file contains the details of ~260K beauty products sold at Amazon.\n",
    "\n",
    "Reviews includes product ratings, text of the review and helpfulness votes.  \n",
    "\n",
    "\n",
    "| Column        | Description                     |\n",
    "|---------------|---------------------------------|\n",
    "|reviewerID     | Reviewer ID                     |\n",
    "|asin           | Product ID                      |\n",
    "|reviewerName   | Name of reviewer                |\n",
    "|helpful        | Helpfulness rating of the review|\n",
    "|reviewText     | Text of the review              |\n",
    "|overall        | Rating of the product           |\n",
    "|summary        | Summary of the review           |\n",
    "|unixReviewTime | Unix time of the review         | \n",
    "|reviewTime     | Raw time of the review          |   \n",
    "\n",
    "Metadata includes descriptions, category information, price, sales-rank, brand info and image features.  \n",
    "  \n",
    "\n",
    "| Column     | Description                           |\n",
    "|------------|---------------------------------------|\n",
    "|asin        | Product ID                            |\n",
    "|description | Product description                   |\n",
    "|title       | Name of the product                   |\n",
    "|imUrl       | URL of the product image              |\n",
    "|salesRank   | Sales rank information                |\n",
    "|categories  | List of categories product belongs to |\n",
    "|price       | Price in US Dollars                   | \n",
    "|related     | Related products                      |\n",
    "|brand       | Brand name                            | \n",
    "\n",
    "The json files were retrieved in compressed format. They were parsed line by line and loaded into pandas dataframes reviews and meta. Then these dataframes were written to .csv files for analysis and modeling."
   ]
  },
  {
   "cell_type": "markdown",
   "metadata": {},
   "source": [
    "## 3. Data Wrangling"
   ]
  },
  {
   "cell_type": "markdown",
   "metadata": {},
   "source": [
    "### 3.1 Metadata file"
   ]
  },
  {
   "cell_type": "markdown",
   "metadata": {},
   "source": [
    "The metadata file contains the details of ~260K beauty products sold at Amazon. There are 9 columns in the file including asin, description, title, brand, categories, related, price, sales rank and image url. No duplicate values were found in the asin column. \n",
    "\n",
    "51% of the items were missing \"brand\" information. Since this is a large percentage, the column could not be dropped. 444 items were missing the \"title\" information. So \"brand\" and \"title\" columns were merged into a single column and the individual columns were then dropped. \n",
    "\n",
    "The image url column does not seem to have much meaning, so it was also dropped from the dataframe.\n",
    "\n",
    "The \"salesRank\" column had values in dict format (key-value pairs). So this column was split into multiple columns where each key became the column name and the value became the column value. Some of these new columns were not related to Beauty and Personal care so they were dropped. Only the new columns \"Beauty\" and \"Health & Personal Care\" were retained.\n",
    "\n",
    "At this point, the resulting dataframe was written to a .csv file (cleaned_meta.csv).\n",
    "\n",
    "It includes the columns:\n",
    "asin, description, categories, price, related, brand_title, Health & Personal Care, Beauty\n",
    "\n",
    "Next came the most challenging column for cleaning. \n",
    "\n",
    "This is the \"related\" column which had data in the following format:\n",
    "\n",
    "{'also_bought': ['B002J2KOXK', 'B008TCVZ6Y'], 'also_viewed': ['B002J2KOXK'], 'bought_together': ['B002J2KOXK'], 'buy_after_viewing': ['B002J2KOXK']}\n",
    "\n",
    "It made most sense to count the number of times an asin occurred in any of these 4 key-value pairs and use that count as an identification of popular and unpopular item. This required creation of a new column called \"related_count\".\n",
    "\n",
    "The \"asin\" and \"related\" columns were first copied to a separate dataframe. The \"related\" column was then split into 4 new columns \"also_bought\", \"also_viewed\", \"bought_together\" and \"buy_after_viewing\". Then the values in these 4 columns were concatenated into a large string. Using iterrows, each asin in the dataframe was checked against the string and the number of occurrences of this asin in the string was captured in the \"related_count\" column. This particular operation took 20 hours to complete and the resulting dataframe was immediately captured into a .csv file (cleaned_related.csv).\n",
    "\n",
    "The code for data wrangling of metadata file can be found at:\n",
    "https://github.com/venustrip/Amazon-Recommendation-Engine/blob/master/clean_meta.ipynb"
   ]
  },
  {
   "cell_type": "markdown",
   "metadata": {},
   "source": [
    "### 3.2 Reviews File\n",
    "\n",
    "The reviews file has ~2 million reviews collected between May-1996 and July-2014. There are 9 columns in the file including: reviewerID, reviewerName, asin, helpful, reviewText, overall, summary, unixReviewTime and reviewTime.\n",
    "\n",
    "12248 rows were missing the \"reviewerName\" information. Also there were some \"reviewerID\" with multiple values under \"reviewerName\". Since we can build our model just with the ID, the \"reviewerName\" column was dropped from the dataframe.\n",
    "\n",
    "The \"summary\" and \"reviewText\" columns have similar information. 14 rows were missing the \"summary\" information. The 2 columns were merged into \"review\" column and the individual columns were dropped.\n",
    "\n",
    "The column \"reviewTime\" was in text format, so it was converted to datetime and the column \"unixReviewTime\" was dropped.\n",
    "\n",
    "The \"helpful\" column had values in list format, where the first element indicated the number of upvotes and second element indicated the number of downvotes for the review. This column was split into two: \"upvotes\" and \"downvotes\" and the original \"helpful\" column was dropped.\n",
    "\n",
    "Since the \"review\" column is most significant for this project and comprises of large text values, it can be used for natural language processing.\n",
    "\n",
    "First the wordcount of each review was stored into a new column \"word_count\". \n",
    "\n",
    "Next, the text was converted to lowercase to avoid having multiple versions of one word.  \n",
    "\n",
    "All punctuation marks were removed since they do not add any extra value while processing text data.\n",
    "\n",
    "Finally, the stop words and 50 most rare words were removed.\n",
    "\n",
    "Once these steps completed, sentiment analysis was performed on all the reviews and polarity was calculated. This value was stored for each review in the newly created \"polarity\" column.\n",
    "\n",
    "After the cleaning, the following columns existed in the dataframe:\n",
    "reviewerID, asin, overall, review, upvotes, downvotes, word_count, polarity\n",
    "\n",
    "The dataframe was written to a .csv file for further analysis (cleaned_reviews.csv).\n",
    "\n",
    "The code for data wrangling of reviews file can be found at: https://github.com/venustrip/Amazon-Recommendation-Engine/blob/master/clean_reviews.ipynb"
   ]
  },
  {
   "cell_type": "markdown",
   "metadata": {},
   "source": [
    "### 3.3 Cleaned Datasets"
   ]
  },
  {
   "cell_type": "markdown",
   "metadata": {},
   "source": [
    "All the cleaned datasets were written to .csv files. The first file has the metadata, the second one has the related_count information for the products and the third file has all the reviews for these products.\n",
    "\n",
    "The \"meta\" file includes:\n",
    "1. asin\n",
    "2. description\n",
    "3. categories\n",
    "4. price\n",
    "5. related\n",
    "6. brand_title\n",
    "7. health_and_personal_care\n",
    "8. beauty\n",
    "\n",
    "The \"related\" file includes:\n",
    "1. asin\n",
    "2. related_count\n",
    "\n",
    "The \"reviews\" file includes:\n",
    "1. reviewerID\n",
    "2. asin\n",
    "3. overall\n",
    "4. review\n",
    "5. upvotes\n",
    "6. downvotes\n",
    "7. word_count\n",
    "8. polarity"
   ]
  },
  {
   "cell_type": "markdown",
   "metadata": {},
   "source": [
    "First let's import the required packages"
   ]
  },
  {
   "cell_type": "code",
   "execution_count": 1,
   "metadata": {},
   "outputs": [],
   "source": [
    "import pandas as pd\n",
    "import numpy as np\n",
    "%matplotlib inline\n",
    "import matplotlib.pyplot as plt\n",
    "import gc\n",
    "\n",
    "pd.set_option('display.max_columns', None)  \n",
    "pd.set_option('display.expand_frame_repr', False)\n",
    "pd.set_option('max_colwidth', -1)\n",
    "\n",
    "import warnings \n",
    "warnings.filterwarnings('ignore')"
   ]
  },
  {
   "cell_type": "markdown",
   "metadata": {},
   "source": [
    "The related and meta dataframes obtained from Data wrangling step were merged into one and written to a new .csv file. \n",
    "Read the cleaned files into dataframes. "
   ]
  },
  {
   "cell_type": "code",
   "execution_count": 2,
   "metadata": {},
   "outputs": [],
   "source": [
    "meta = pd.read_csv('cleaned_metadata.csv',index_col=0)\n",
    "reviews = pd.read_csv('cleaned_reviews.csv',index_col=0)"
   ]
  },
  {
   "cell_type": "code",
   "execution_count": 3,
   "metadata": {},
   "outputs": [
    {
     "data": {
      "text/html": [
       "<div>\n",
       "<style scoped>\n",
       "    .dataframe tbody tr th:only-of-type {\n",
       "        vertical-align: middle;\n",
       "    }\n",
       "\n",
       "    .dataframe tbody tr th {\n",
       "        vertical-align: top;\n",
       "    }\n",
       "\n",
       "    .dataframe thead th {\n",
       "        text-align: right;\n",
       "    }\n",
       "</style>\n",
       "<table border=\"1\" class=\"dataframe\">\n",
       "  <thead>\n",
       "    <tr style=\"text-align: right;\">\n",
       "      <th></th>\n",
       "      <th>reviewerID</th>\n",
       "      <th>asin</th>\n",
       "      <th>overall</th>\n",
       "      <th>reviewTime</th>\n",
       "      <th>review</th>\n",
       "      <th>upvotes</th>\n",
       "      <th>downvotes</th>\n",
       "      <th>word_count</th>\n",
       "      <th>polarity</th>\n",
       "    </tr>\n",
       "  </thead>\n",
       "  <tbody>\n",
       "    <tr>\n",
       "      <th>0</th>\n",
       "      <td>A39HTATAQ9V7YF</td>\n",
       "      <td>0205616461</td>\n",
       "      <td>5</td>\n",
       "      <td>2013-05-28</td>\n",
       "      <td>bioactive antiaging serum love moisturizer would recommend someone dry skin fine lines wrinkles using brand day night serum</td>\n",
       "      <td>0</td>\n",
       "      <td>0</td>\n",
       "      <td>34</td>\n",
       "      <td>0.283333</td>\n",
       "    </tr>\n",
       "    <tr>\n",
       "      <th>1</th>\n",
       "      <td>A3JM6GV9MNOF9X</td>\n",
       "      <td>0558925278</td>\n",
       "      <td>3</td>\n",
       "      <td>2012-12-14</td>\n",
       "      <td>product ok im use baby kabuki moment received product deadlinei tested baby kabuki quality material best packaging cute love itthe fibers smell soft</td>\n",
       "      <td>0</td>\n",
       "      <td>1</td>\n",
       "      <td>44</td>\n",
       "      <td>0.520000</td>\n",
       "    </tr>\n",
       "  </tbody>\n",
       "</table>\n",
       "</div>"
      ],
      "text/plain": [
       "       reviewerID        asin  overall  reviewTime                                                                                                                                                review  upvotes  downvotes  word_count  polarity\n",
       "0  A39HTATAQ9V7YF  0205616461  5        2013-05-28  bioactive antiaging serum love moisturizer would recommend someone dry skin fine lines wrinkles using brand day night serum                           0        0          34          0.283333\n",
       "1  A3JM6GV9MNOF9X  0558925278  3        2012-12-14  product ok im use baby kabuki moment received product deadlinei tested baby kabuki quality material best packaging cute love itthe fibers smell soft  0        1          44          0.520000"
      ]
     },
     "execution_count": 3,
     "metadata": {},
     "output_type": "execute_result"
    }
   ],
   "source": [
    "reviews.head(2)"
   ]
  },
  {
   "cell_type": "code",
   "execution_count": 4,
   "metadata": {},
   "outputs": [
    {
     "data": {
      "text/html": [
       "<div>\n",
       "<style scoped>\n",
       "    .dataframe tbody tr th:only-of-type {\n",
       "        vertical-align: middle;\n",
       "    }\n",
       "\n",
       "    .dataframe tbody tr th {\n",
       "        vertical-align: top;\n",
       "    }\n",
       "\n",
       "    .dataframe thead th {\n",
       "        text-align: right;\n",
       "    }\n",
       "</style>\n",
       "<table border=\"1\" class=\"dataframe\">\n",
       "  <thead>\n",
       "    <tr style=\"text-align: right;\">\n",
       "      <th></th>\n",
       "      <th>asin</th>\n",
       "      <th>description</th>\n",
       "      <th>price</th>\n",
       "      <th>brand_title</th>\n",
       "      <th>health_personal_care</th>\n",
       "      <th>beauty</th>\n",
       "      <th>main_cat</th>\n",
       "      <th>sub_cat</th>\n",
       "      <th>related_count</th>\n",
       "    </tr>\n",
       "  </thead>\n",
       "  <tbody>\n",
       "    <tr>\n",
       "      <th>0</th>\n",
       "      <td>0205616461</td>\n",
       "      <td>as age youthful healthy skin succumbs enzymatic imbalance wears away cellular network resulting skin thinning aging combining best nature cosmetic biotechnology bioactive products formulated enzymes gently exfoliate skin stimulate regeneration youthful glow benefiting fertile orchards italian countryside bioactive formulas rich phytohormones flavonoids fatty acids active extracts apple pear seeds enzymatically modified developed especially care aging skin this repairing fluid helps nourish firm accelerating penetration delivery active principles skin giving youthful appearance advanced probiotic complex nourishing milk proteins regains skins natural equilibrium boosts immunities protects environmental biological stress peptides ceramides help firm regenerate skin stimulating collagen production strengthening epidermis a calming botanical complex hyaluronic acid wheat germ extract hydrates restores skins protective barriers a nutritive vitamin complex moisturizes protects skin damaging environmental factors paracress extract natural alternative cosmetic injections limits relaxes microcontractions create facial lines producing immediate longterm smoothing skin to use apply pumps apply pumps clean dried face neck dcollet</td>\n",
       "      <td>NaN</td>\n",
       "      <td>Bio-Active Anti-Aging Serum (Firming Ultra-Hydrati</td>\n",
       "      <td>461765.0</td>\n",
       "      <td>-1.0</td>\n",
       "      <td>Skin Care</td>\n",
       "      <td>Face</td>\n",
       "      <td>0.0</td>\n",
       "    </tr>\n",
       "    <tr>\n",
       "      <th>1</th>\n",
       "      <td>0558925278</td>\n",
       "      <td>mineral powder brushapply powder mineral foundation face circular buffing motion work inward towards nose concealer brushuse liquid mineral powder concealer coverage blemishes eyes eye shading brush expertly cut apply blend powder eye shadows baby kabuki buff powder areas need coverage cosmetic brush bag 55 hemp linen 45 cotton</td>\n",
       "      <td>NaN</td>\n",
       "      <td>Eco Friendly Ecotools Quality Natural Bamboo Cosme</td>\n",
       "      <td>-1.0</td>\n",
       "      <td>402875.0</td>\n",
       "      <td>Tools &amp; Accessories</td>\n",
       "      <td>Makeup Brushes &amp; Tools</td>\n",
       "      <td>0.0</td>\n",
       "    </tr>\n",
       "  </tbody>\n",
       "</table>\n",
       "</div>"
      ],
      "text/plain": [
       "         asin                                                                                                                                                                                                                                                                                                                                                                                                                                                                                                                                                                                                                                                                                                                                                                                                                                                                                                                                                                                                                                                                                                                                                                                                                                                                            description  price                                         brand_title  health_personal_care    beauty             main_cat                 sub_cat  related_count\n",
       "0  0205616461  as age youthful healthy skin succumbs enzymatic imbalance wears away cellular network resulting skin thinning aging combining best nature cosmetic biotechnology bioactive products formulated enzymes gently exfoliate skin stimulate regeneration youthful glow benefiting fertile orchards italian countryside bioactive formulas rich phytohormones flavonoids fatty acids active extracts apple pear seeds enzymatically modified developed especially care aging skin this repairing fluid helps nourish firm accelerating penetration delivery active principles skin giving youthful appearance advanced probiotic complex nourishing milk proteins regains skins natural equilibrium boosts immunities protects environmental biological stress peptides ceramides help firm regenerate skin stimulating collagen production strengthening epidermis a calming botanical complex hyaluronic acid wheat germ extract hydrates restores skins protective barriers a nutritive vitamin complex moisturizes protects skin damaging environmental factors paracress extract natural alternative cosmetic injections limits relaxes microcontractions create facial lines producing immediate longterm smoothing skin to use apply pumps apply pumps clean dried face neck dcollet NaN     Bio-Active Anti-Aging Serum (Firming Ultra-Hydrati  461765.0             -1.0       Skin Care            Face                    0.0          \n",
       "1  0558925278  mineral powder brushapply powder mineral foundation face circular buffing motion work inward towards nose concealer brushuse liquid mineral powder concealer coverage blemishes eyes eye shading brush expertly cut apply blend powder eye shadows baby kabuki buff powder areas need coverage cosmetic brush bag 55 hemp linen 45 cotton                                                                                                                                                                                                                                                                                                                                                                                                                                                                                                                                                                                                                                                                                                                                                                                                                                                                                                                                             NaN     Eco Friendly Ecotools Quality Natural Bamboo Cosme -1.0                   402875.0  Tools & Accessories  Makeup Brushes & Tools  0.0          "
      ]
     },
     "execution_count": 4,
     "metadata": {},
     "output_type": "execute_result"
    }
   ],
   "source": [
    "meta.head(2)"
   ]
  },
  {
   "cell_type": "code",
   "execution_count": 5,
   "metadata": {},
   "outputs": [
    {
     "name": "stdout",
     "output_type": "stream",
     "text": [
      "<class 'pandas.core.frame.DataFrame'>\n",
      "Int64Index: 259204 entries, 0 to 259203\n",
      "Data columns (total 9 columns):\n",
      "asin                    259204 non-null object\n",
      "description             259137 non-null object\n",
      "price                   189930 non-null float64\n",
      "brand_title             258760 non-null object\n",
      "health_personal_care    259204 non-null float64\n",
      "beauty                  259204 non-null float64\n",
      "main_cat                259204 non-null object\n",
      "sub_cat                 259204 non-null object\n",
      "related_count           259204 non-null float64\n",
      "dtypes: float64(4), object(5)\n",
      "memory usage: 19.8+ MB\n"
     ]
    }
   ],
   "source": [
    "meta.info(null_counts=True)"
   ]
  },
  {
   "cell_type": "code",
   "execution_count": 6,
   "metadata": {},
   "outputs": [
    {
     "name": "stdout",
     "output_type": "stream",
     "text": [
      "<class 'pandas.core.frame.DataFrame'>\n",
      "Int64Index: 2023070 entries, 0 to 2023069\n",
      "Data columns (total 9 columns):\n",
      "reviewerID    2023070 non-null object\n",
      "asin          2023070 non-null object\n",
      "overall       2023070 non-null int64\n",
      "reviewTime    2023070 non-null object\n",
      "review        2023067 non-null object\n",
      "upvotes       2023070 non-null int64\n",
      "downvotes     2023070 non-null int64\n",
      "word_count    2023070 non-null int64\n",
      "polarity      2023070 non-null float64\n",
      "dtypes: float64(1), int64(4), object(4)\n",
      "memory usage: 154.3+ MB\n"
     ]
    }
   ],
   "source": [
    "reviews.info(null_counts=True)"
   ]
  },
  {
   "cell_type": "code",
   "execution_count": 7,
   "metadata": {},
   "outputs": [
    {
     "data": {
      "text/html": [
       "<div>\n",
       "<style scoped>\n",
       "    .dataframe tbody tr th:only-of-type {\n",
       "        vertical-align: middle;\n",
       "    }\n",
       "\n",
       "    .dataframe tbody tr th {\n",
       "        vertical-align: top;\n",
       "    }\n",
       "\n",
       "    .dataframe thead th {\n",
       "        text-align: right;\n",
       "    }\n",
       "</style>\n",
       "<table border=\"1\" class=\"dataframe\">\n",
       "  <thead>\n",
       "    <tr style=\"text-align: right;\">\n",
       "      <th></th>\n",
       "      <th>reviewerID</th>\n",
       "      <th>asin</th>\n",
       "      <th>overall</th>\n",
       "      <th>reviewTime</th>\n",
       "      <th>review</th>\n",
       "      <th>upvotes</th>\n",
       "      <th>downvotes</th>\n",
       "      <th>word_count</th>\n",
       "      <th>polarity</th>\n",
       "    </tr>\n",
       "  </thead>\n",
       "  <tbody>\n",
       "    <tr>\n",
       "      <th>1360701</th>\n",
       "      <td>A1LF7KGH427GYC</td>\n",
       "      <td>B00552467Q</td>\n",
       "      <td>5</td>\n",
       "      <td>2014-07-08</td>\n",
       "      <td>NaN</td>\n",
       "      <td>0</td>\n",
       "      <td>0</td>\n",
       "      <td>2</td>\n",
       "      <td>0.0</td>\n",
       "    </tr>\n",
       "    <tr>\n",
       "      <th>1467181</th>\n",
       "      <td>AUII249W6FBZY</td>\n",
       "      <td>B00604MV0C</td>\n",
       "      <td>3</td>\n",
       "      <td>2013-01-11</td>\n",
       "      <td>NaN</td>\n",
       "      <td>0</td>\n",
       "      <td>0</td>\n",
       "      <td>2</td>\n",
       "      <td>0.0</td>\n",
       "    </tr>\n",
       "    <tr>\n",
       "      <th>1784718</th>\n",
       "      <td>A3BX2SSKN9SFRV</td>\n",
       "      <td>B00ADXZ9LY</td>\n",
       "      <td>1</td>\n",
       "      <td>2014-07-03</td>\n",
       "      <td>NaN</td>\n",
       "      <td>0</td>\n",
       "      <td>0</td>\n",
       "      <td>4</td>\n",
       "      <td>0.0</td>\n",
       "    </tr>\n",
       "  </tbody>\n",
       "</table>\n",
       "</div>"
      ],
      "text/plain": [
       "             reviewerID        asin  overall  reviewTime review  upvotes  downvotes  word_count  polarity\n",
       "1360701  A1LF7KGH427GYC  B00552467Q  5        2014-07-08  NaN    0        0          2           0.0     \n",
       "1467181  AUII249W6FBZY   B00604MV0C  3        2013-01-11  NaN    0        0          2           0.0     \n",
       "1784718  A3BX2SSKN9SFRV  B00ADXZ9LY  1        2014-07-03  NaN    0        0          4           0.0     "
      ]
     },
     "execution_count": 7,
     "metadata": {},
     "output_type": "execute_result"
    }
   ],
   "source": [
    "reviews[reviews['review'].isnull()]"
   ]
  },
  {
   "cell_type": "markdown",
   "metadata": {},
   "source": [
    "Missing values can lead to weak or biased analysis. \n",
    "\n",
    "It can be handled in 3 ways: \n",
    "1. Delete the rows with missing values using dropna - note that this can cause information loss\n",
    "2. Impute the missing values using fillna\n",
    "3. Predictive filling using the interpolate method\n",
    "\n",
    "There are a bunch of reviews that have missing value in the review field. We will impute this field using the overall rating, where 5 will be mapped as Excellent and 1 as Bad. Ratings 2,3,4 fall in between."
   ]
  },
  {
   "cell_type": "code",
   "execution_count": 8,
   "metadata": {},
   "outputs": [],
   "source": [
    "d = {5: \"Excellent\", 4:\"Very Good\", 3: \"Good\", 2:\"Not Good\", 1: \"Bad\"}\n",
    "s = reviews.overall.map(d)\n",
    "reviews['review'] = reviews['review'].combine_first(s)"
   ]
  },
  {
   "cell_type": "code",
   "execution_count": 9,
   "metadata": {},
   "outputs": [
    {
     "data": {
      "text/html": [
       "<div>\n",
       "<style scoped>\n",
       "    .dataframe tbody tr th:only-of-type {\n",
       "        vertical-align: middle;\n",
       "    }\n",
       "\n",
       "    .dataframe tbody tr th {\n",
       "        vertical-align: top;\n",
       "    }\n",
       "\n",
       "    .dataframe thead th {\n",
       "        text-align: right;\n",
       "    }\n",
       "</style>\n",
       "<table border=\"1\" class=\"dataframe\">\n",
       "  <thead>\n",
       "    <tr style=\"text-align: right;\">\n",
       "      <th></th>\n",
       "      <th>reviewerID</th>\n",
       "      <th>asin</th>\n",
       "      <th>overall</th>\n",
       "      <th>reviewTime</th>\n",
       "      <th>review</th>\n",
       "      <th>upvotes</th>\n",
       "      <th>downvotes</th>\n",
       "      <th>word_count</th>\n",
       "      <th>polarity</th>\n",
       "    </tr>\n",
       "  </thead>\n",
       "  <tbody>\n",
       "    <tr>\n",
       "      <th>1360701</th>\n",
       "      <td>A1LF7KGH427GYC</td>\n",
       "      <td>B00552467Q</td>\n",
       "      <td>5</td>\n",
       "      <td>2014-07-08</td>\n",
       "      <td>Excellent</td>\n",
       "      <td>0</td>\n",
       "      <td>0</td>\n",
       "      <td>2</td>\n",
       "      <td>0.0</td>\n",
       "    </tr>\n",
       "  </tbody>\n",
       "</table>\n",
       "</div>"
      ],
      "text/plain": [
       "             reviewerID        asin  overall  reviewTime     review  upvotes  downvotes  word_count  polarity\n",
       "1360701  A1LF7KGH427GYC  B00552467Q  5        2014-07-08  Excellent  0        0          2           0.0     "
      ]
     },
     "execution_count": 9,
     "metadata": {},
     "output_type": "execute_result"
    }
   ],
   "source": [
    "reviews[reviews['review']=='Excellent']"
   ]
  },
  {
   "cell_type": "markdown",
   "metadata": {},
   "source": [
    "In the meta dataframe, there are 3 columns that still have missing values: description, brand_title and price. Let's try to impute these values. The best way to estimate the price is by looking for the price of similar items. But for now, we will simply replace the missing price with 0.\n",
    "Since there is no perfect way to determine the description and brand_title of an item, we will use main_cat to populate these 2 columns because main category is somewhere related to them."
   ]
  },
  {
   "cell_type": "code",
   "execution_count": 10,
   "metadata": {},
   "outputs": [],
   "source": [
    "meta['main_cat'] = meta['main_cat'].str.replace(']','')"
   ]
  },
  {
   "cell_type": "code",
   "execution_count": 11,
   "metadata": {},
   "outputs": [
    {
     "data": {
      "text/plain": [
       "array(['Bio-Active Anti-Aging Serum (Firming Ultra-Hydrati',\n",
       "       'Eco Friendly Ecotools Quality Natural Bamboo Cosme',\n",
       "       'Mastiha Body Lotion', ...,\n",
       "       'ResQ Organics Face &amp; Body Wash - Aloe Vera Man',\n",
       "       '2 Tier Tulle Elbow Wedding Veil with Ribbon Edge F',\n",
       "       '*ECOCRAFTWORLD* GENUINE BUFFALO LEATHER TRAVEL BAG'], dtype=object)"
      ]
     },
     "execution_count": 11,
     "metadata": {},
     "output_type": "execute_result"
    }
   ],
   "source": [
    "meta['brand_title'].unique()"
   ]
  },
  {
   "cell_type": "code",
   "execution_count": 12,
   "metadata": {},
   "outputs": [],
   "source": [
    "meta['description'] = meta['description'].fillna(meta['main_cat'])\n",
    "meta['brand_title'] = meta['brand_title'].fillna(meta['main_cat'])\n",
    "meta['price'] = meta['price'].fillna(0)"
   ]
  },
  {
   "cell_type": "markdown",
   "metadata": {},
   "source": [
    "Rename the 2 columns that were extracted from sales_price since they are inconsistent with the remaining columns"
   ]
  },
  {
   "cell_type": "code",
   "execution_count": 13,
   "metadata": {},
   "outputs": [],
   "source": [
    "meta.rename(columns={'Health & Personal Care': 'health_personal_care', 'Beauty': 'beauty'}, inplace=True)"
   ]
  },
  {
   "cell_type": "code",
   "execution_count": 14,
   "metadata": {},
   "outputs": [],
   "source": [
    "data = pd.merge(reviews, meta, on='asin')"
   ]
  },
  {
   "cell_type": "code",
   "execution_count": 15,
   "metadata": {},
   "outputs": [
    {
     "data": {
      "text/plain": [
       "(2023070, 17)"
      ]
     },
     "execution_count": 15,
     "metadata": {},
     "output_type": "execute_result"
    }
   ],
   "source": [
    "data.shape"
   ]
  },
  {
   "cell_type": "markdown",
   "metadata": {},
   "source": [
    "The brand_title field will be useful for building the recommender system. Since it is text data, we will have to process it so it can be read by the algorithm. This processing includes converting all text to lowercase and removing punctuation."
   ]
  },
  {
   "cell_type": "code",
   "execution_count": 16,
   "metadata": {},
   "outputs": [],
   "source": [
    "meta['brand_title'] = meta['brand_title'].apply(lambda x: \" \".join(x.lower() for x in x.split()))"
   ]
  },
  {
   "cell_type": "code",
   "execution_count": 17,
   "metadata": {},
   "outputs": [],
   "source": [
    "meta['brand_title'] = meta['brand_title'].str.replace('[^\\w\\s]','')"
   ]
  },
  {
   "cell_type": "markdown",
   "metadata": {},
   "source": [
    "Now that all our collected data is fully cleaned, we have to filter it so that relevant information can be extracted and used to make the final recommendations."
   ]
  },
  {
   "cell_type": "markdown",
   "metadata": {},
   "source": [
    "## 4. Building the Recommendation Systems"
   ]
  },
  {
   "cell_type": "markdown",
   "metadata": {},
   "source": [
    "There are 4 common ways to build a recommender engine. \n",
    "1. Popularity based\n",
    "2. Content based\n",
    "3. Collaborative\n",
    "4. Hybrid \n",
    "\n",
    "\n",
    "Each will be explored more in detail as we build them one by one."
   ]
  },
  {
   "cell_type": "markdown",
   "metadata": {},
   "source": [
    "### 4.1 Popularity-based Recommender\n",
    "\n",
    "This is the simplest recommendation system. As is obvious from the name, it simply recommends the popular and highly rated items to all the users. The bigest drawback of this system is that it is non-personalized and recommends the same items to everyone. Since users' have different tastes and preferences, this is not a very useful filtering method.\n",
    "\n",
    "One way of measuring popularity is by counting the number of times an item was rated. Higher the rating count, more popular the item is.\n",
    "\n",
    "Similarly, the item with highest average ratings are also popular and can be recommended to all customers. We also calculated polarity of customer ratings using the review text. Items with higher mean polarity would be some great recommendations to customers as well.\n",
    "\n",
    "Another way to measure the popularity of an item is by checking it's related_count. This count was extracted by adding the number of times an item was clicked or viewed or bought after viewing or together with another item. The higher the related_count, the more popular the item should be.\n",
    "\n",
    "We also have sales ranking for the items either under beauty or under health_personal_care categories. Another way of determining popular items is by looking for their sales rank under either of these columns.\n",
    "\n",
    "The most popular items can also be determine using weighted average ratings. \n",
    "\n",
    "#### Pros and Cons of Popularity-based Filtering\n",
    "\n",
    "##### Pros:\n",
    "It is the simplest form of recommendation system.\n",
    "\n",
    "##### Cons:\n",
    "The caveat to Popularity based recommenders is that they do not filter items based on personal preferences and recommend the same top-N items to every single user. The method is pretty simple, but not very effective.\n",
    "\n",
    "For complete code on Popularity-based recommendation, please refer to: \n",
    "https://github.com/venustrip/Amazon-Recommendation-Engine/blob/master/recommender_popular.ipynb"
   ]
  },
  {
   "cell_type": "markdown",
   "metadata": {},
   "source": [
    "### 4.2 Content-based Filtering\n",
    "\n",
    "This method recommends an item based on its features and how similar they are to features of other items in the data set. It is based on similarity of item attributes, which can be determined using cosine similarity or nearest neighbor algorithms.\n",
    "\n",
    "The past interactions of a given user with items is taken into account, ignoring all other users. Items are recommended based on comparison between contents of the items and a user profile. The content of each item could be represented as descriptor or terms. \n",
    "\n",
    "We will combine the brand_title, main_cat and description features of the items into a single feature and convert it into vector form so it can be effectively used for determining similarities between different items.\n",
    "\n",
    "For a fair analysis, we will include only those items from the dataset that have been reviewed more than 10 times and less then 7000 times. Less than 10 ratings means not many users have reviewed the item. More than 7000 ratings means the item is already quite popular and would show up as a recommendation, regardless.\n",
    "\n",
    "So we will use 33,878 items filtering using their content/attributes.\n",
    "\n",
    "The item attributes are converted to vector form using TFIDF and Count vectorizers. \n",
    "\n",
    "TF-IDF is heavily used in Natural Language Processing and is used in information retrieval using feature extraction processes. It is a measure used to evaluate how important a word is to a document in document corpus. The text columns are combined into one and their text will be used to fit the model.\n",
    "\n",
    "The other approach is to use the CountVectorizer, which counts the number of times a token shows up in the document and uses this value as its weight. It is simpler than TfidfVectorizer. \n",
    "\n",
    "The pairwise similarity is computed using:\n",
    "1. Cosine Similarity \n",
    "2. Linear Kernel \n",
    "3. Euclidean distance\n",
    "4. Pearson Correlation\n",
    "\n",
    "#### Pros and Cons of Content-based Filtering\n",
    "\n",
    "##### Pros:\n",
    "The recommendations are specific to one user, therefore the model does not need any data about other users. This makes it easier to scale to a large number of users. It is very effective in recommending niche items, since it can capture the specific interests of a user. With sufficient description, the cold start problem can be eliminated.\n",
    "\n",
    "##### Cons:\n",
    "The feature representation of the items must be very rich because the model solely depends on that. The model can make recommendations based only on existing interests of the user. So it tends to over-specialize and will recommend items only similar to those already used and rated.\n",
    "\n",
    "For complete code on Content-based recommendation, please refer to: https://github.com/venustrip/Amazon-Recommendation-Engine/blob/master/recommender_content.ipynb"
   ]
  },
  {
   "cell_type": "markdown",
   "metadata": {},
   "source": [
    "### 4.3 Collaborative Filtering\n",
    "\n",
    "Collaborative Filtering method ignores User and Item attributes and instead focuses on User-Item Interactions. Recommendations are purely based on past behavior and not on the context. \n",
    "\n",
    "It is based on the similarity in preferences of two users. It determines similarities between 2 users or 2 items, using the historical ratings given to items by various users and makes recommendations on the basis of that.\n",
    "\n",
    "The concept here is to develop algorithms that operate independently of the characteristics of particular items being recommended. Patterns between users and items are identified and used to make recommendations.\n",
    "\n",
    "Using the customer rating for items, a utility matrix is built. These ratings can be explicit (rating on a scale of 1 to 5, likes or dislikes) or implicit (viewing an item, adding it to a wish list, the time spent on an article). In the matrix, each row contains the ratings given by a user and each column contains the ratings received by an item. The matrix is typically sparse as not every user uses every item nor do they rate every item they use.\n",
    "\n",
    "There are two types of collaborative filtering methods:\n",
    "1. Memory-based: Statistical techniques are applied to the entire dataset to calculate the predictions.\n",
    "2. Model-based: Involve a step to reduce or compress the large but sparse user-item matrix. Matrix factorization can be performed using the singular value decomposition (SVD) algorithm or principal component analysis (PCA).\n",
    "\n",
    "Memory based collaborative filtering methods can be further classified as:\n",
    "1. User-user collaborative filtering\n",
    "2. Item-item collaborative filtering\n",
    "\n",
    "#### 4.3.1 User-User collaborative filtering\n",
    "\n",
    "Recommendations are given to a user on the basis of the likes and dislikes of similar users. This method is useful when the number of users is less. Its not effective when there are a large number of users as it will take a lot of time to compute the similarity between all user pairs.\n",
    "\n",
    "#### 4.3.2 Item-Item collaborative filtering\n",
    "\n",
    "Item-based recommenders are faster than user-based for large datasets. They make the recommendations by computing the similarity between each pair of items.\n",
    "\n",
    "#### Pros and Cons of Collaborative Filtering\n",
    "\n",
    "##### Pros:\n",
    "This filtering method does not require any knowledge about features of users and items. Also, it can help recommenders to not overspecialize in a user’s profile and recommend items that are completely different from what they have seen before.\n",
    "\n",
    "##### Cons:\n",
    "There can be cold-start problem for new items that are added to the list. Until someone rates them, they don’t get recommended. Also complexity increases as the size of datasets increase. \n",
    "\n",
    "For complete code on Collaborative recommendation, please refer to: https://github.com/venustrip/Amazon-Recommendation-Engine/blob/master/recommender_collaborative.ipynb"
   ]
  },
  {
   "cell_type": "markdown",
   "metadata": {},
   "source": [
    "## 4.4 Hybrid Method\n",
    "\n",
    "All the recommender systems suffer from the cold-start problem in some form or another. Hybrid recommender systems combine two or more filtering methods to improve recommendation performance, usually to overcome this problem. \n",
    "\n",
    "There are 7 ways to apply the hybrid technique. \n",
    "1. Weighted\n",
    "2. Feature Combination\n",
    "3. Switching Method\n",
    "4. Mixed\n",
    "5. Feature Augmentation\n",
    "6. Cascade\n",
    "7. Meta-level\n",
    "\n",
    "In this project, we will focus on the first three approaches.\n",
    "\n",
    "For complete code on Hybrid recommendation, please refer to: https://github.com/venustrip/Amazon-Recommendation-Engine/blob/master/recommender_hybrid.ipynb\n"
   ]
  },
  {
   "cell_type": "raw",
   "metadata": {},
   "source": []
  },
  {
   "cell_type": "code",
   "execution_count": null,
   "metadata": {},
   "outputs": [],
   "source": []
  }
 ],
 "metadata": {
  "kernelspec": {
   "display_name": "Python 3",
   "language": "python",
   "name": "python3"
  },
  "language_info": {
   "codemirror_mode": {
    "name": "ipython",
    "version": 3
   },
   "file_extension": ".py",
   "mimetype": "text/x-python",
   "name": "python",
   "nbconvert_exporter": "python",
   "pygments_lexer": "ipython3",
   "version": "3.7.3"
  }
 },
 "nbformat": 4,
 "nbformat_minor": 2
}
